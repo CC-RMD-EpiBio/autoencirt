{
 "cells": [
  {
   "cell_type": "markdown",
   "metadata": {},
   "source": [
    "!pip install git+https://github.com/CC-RMD-EpiBio/autoencirt.git"
   ]
  },
  {
   "cell_type": "code",
   "execution_count": 1,
   "metadata": {},
   "outputs": [
    {
     "name": "stdout",
     "output_type": "stream",
     "text": [
      "%pylab is deprecated, use %matplotlib inline and import the required libraries.\n",
      "Populating the interactive namespace from numpy and matplotlib\n"
     ]
    }
   ],
   "source": [
    "%pylab inline\n",
    "import numpy as np\n",
    "import sys\n",
    "sys.path.append('../bayesianquilts')\n",
    "\n",
    "import matplotlib.pyplot as plt\n"
   ]
  },
  {
   "cell_type": "code",
   "execution_count": 2,
   "metadata": {},
   "outputs": [],
   "source": [
    "from factor_analyzer import FactorAnalyzer"
   ]
  },
  {
   "cell_type": "code",
   "execution_count": 3,
   "metadata": {},
   "outputs": [],
   "source": [
    "import tensorflow as tf\n",
    "import autoencirt\n",
    "from autoencirt.irt import GRModel, FactorizedGRModel\n",
    "from autoencirt.data.rwa import item_text, get_data\n",
    "\n",
    "dim = 2"
   ]
  },
  {
   "cell_type": "code",
   "execution_count": 4,
   "metadata": {},
   "outputs": [
    {
     "data": {
      "text/plain": [
       "(22, 2)"
      ]
     },
     "execution_count": 4,
     "metadata": {},
     "output_type": "execute_result"
    }
   ],
   "source": [
    "pd_data = get_data(reorient=True, pandas=True)\n",
    "responses = pd_data[0].iloc[:, :22]\n",
    "fa = FactorAnalyzer(n_factors=dim)\n",
    "fa.fit(responses)\n",
    "loadings = fa.loadings_\n",
    "loadings.shape\n"
   ]
  },
  {
   "cell_type": "code",
   "execution_count": 5,
   "metadata": {},
   "outputs": [],
   "source": [
    "tfdata, num_people = get_data(reorient=True)\n",
    "item_names = [f\"Q{j}\" for j in range(1, 23)]\n",
    "scale_indices = [\n",
    "    [1, 3, 5, 7, 8, 10, 12, 14, 15, 17, 19, 20],\n",
    "    [0, 2, 4, 6, 9, 11, 13, 16, 18, 21],\n",
    "]\n",
    "fgrm = FactorizedGRModel(\n",
    "    data=tfdata,\n",
    "    item_keys=item_names,\n",
    "    num_people=num_people,\n",
    "    dim=dim,\n",
    "    eta_scale=1e-3,\n",
    "    kappa_scale=1e-3,\n",
    "    weight_exponent=1,\n",
    "    response_cardinality=10,\n",
    "    scale_indices=scale_indices,\n",
    "    discrimination_guess=tf.cast(np.abs(loadings).T, tf.float64)[\n",
    "        tf.newaxis, :, :, tf.newaxis\n",
    "    ],\n",
    ")\n",
    "\n",
    "grm = GRModel(\n",
    "    data=tfdata,\n",
    "    item_keys=item_names,\n",
    "    num_people=num_people,\n",
    "    dim=dim,\n",
    "    eta_scale=1e-3,\n",
    "    kappa_scale=1e-3,\n",
    "    weight_exponent=1,\n",
    "    response_cardinality=10,\n",
    "    discrimination_guess=tf.cast(np.abs(loadings).T, tf.float64)[\n",
    "        tf.newaxis, :, :, tf.newaxis\n",
    "    ],\n",
    ")\n",
    "\n",
    "batch_size = 241\n",
    "\n",
    "\n",
    "def data_factory_factory(batch_size=batch_size, repeat=False, shuffle=False):\n",
    "    def data_factory(batch_size=batch_size):\n",
    "        if shuffle:\n",
    "            out = tfdata.shuffle(batch_size * 10)\n",
    "        else:\n",
    "            out = tfdata\n",
    "\n",
    "        if repeat:\n",
    "            out = out.repeat()\n",
    "        return out.batch(batch_size)\n",
    "\n",
    "    return data_factory"
   ]
  },
  {
   "cell_type": "code",
   "execution_count": 6,
   "metadata": {},
   "outputs": [
    {
     "name": "stdout",
     "output_type": "stream",
     "text": [
      "Running optimization for 3000 steps of 1 accumulated batches, checking every 41 steps\n",
      "Saved a checkpoint: /var/folders/6s/m6kbjxb16sl9cg9rg6mj5czrv6ht9f/T/tfcheckpoints/328dac9c-bd4c-4fd0-8739-5d2bf7ffd986/328dac9c-bd4c-4fd0-8739-5d2bf7ffd986-1\n"
     ]
    },
    {
     "name": "stderr",
     "output_type": "stream",
     "text": [
      "  1%|▏         | 40/3000 [00:10<08:05,  6.09it/s] "
     ]
    },
    {
     "name": "stdout",
     "output_type": "stream",
     "text": [
      "Step 41: average-batch loss:403466.2359400076 rel loss: 2.4785221436687765e+302\n",
      "Saved a checkpoint: /var/folders/6s/m6kbjxb16sl9cg9rg6mj5czrv6ht9f/T/tfcheckpoints/328dac9c-bd4c-4fd0-8739-5d2bf7ffd986/328dac9c-bd4c-4fd0-8739-5d2bf7ffd986-2\n"
     ]
    },
    {
     "name": "stderr",
     "output_type": "stream",
     "text": [
      "  3%|▎         | 81/3000 [00:16<06:32,  7.43it/s]"
     ]
    },
    {
     "name": "stdout",
     "output_type": "stream",
     "text": [
      "Step 82: average-batch loss:346283.51330005133 rel loss: 0.16513267436560863\n",
      "Saved a checkpoint: /var/folders/6s/m6kbjxb16sl9cg9rg6mj5czrv6ht9f/T/tfcheckpoints/328dac9c-bd4c-4fd0-8739-5d2bf7ffd986/328dac9c-bd4c-4fd0-8739-5d2bf7ffd986-3\n"
     ]
    },
    {
     "name": "stderr",
     "output_type": "stream",
     "text": [
      "  4%|▍         | 122/3000 [00:23<09:40,  4.96it/s]"
     ]
    },
    {
     "name": "stdout",
     "output_type": "stream",
     "text": [
      "Step 123: average-batch loss:362695.39895181125 rel loss: 0.04524977625630274\n",
      "New learning rate: 0.001485\n"
     ]
    },
    {
     "name": "stderr",
     "output_type": "stream",
     "text": [
      "  5%|▌         | 163/3000 [00:29<07:33,  6.25it/s]"
     ]
    },
    {
     "name": "stdout",
     "output_type": "stream",
     "text": [
      "Step 164: average-batch loss:341669.18697545724 rel loss: 0.013505245718647573\n",
      "Saved a checkpoint: /var/folders/6s/m6kbjxb16sl9cg9rg6mj5czrv6ht9f/T/tfcheckpoints/328dac9c-bd4c-4fd0-8739-5d2bf7ffd986/328dac9c-bd4c-4fd0-8739-5d2bf7ffd986-4\n"
     ]
    },
    {
     "name": "stderr",
     "output_type": "stream",
     "text": [
      "  7%|▋         | 204/3000 [00:36<07:07,  6.54it/s]"
     ]
    },
    {
     "name": "stdout",
     "output_type": "stream",
     "text": [
      "Step 205: average-batch loss:343985.1723771645 rel loss: 0.0067328059105055274\n",
      "New learning rate: 0.00147015\n"
     ]
    },
    {
     "name": "stderr",
     "output_type": "stream",
     "text": [
      "  8%|▊         | 245/3000 [00:42<07:00,  6.54it/s]"
     ]
    },
    {
     "name": "stdout",
     "output_type": "stream",
     "text": [
      "Step 246: average-batch loss:318151.06970486476 rel loss: 0.0739212264551216\n",
      "Saved a checkpoint: /var/folders/6s/m6kbjxb16sl9cg9rg6mj5czrv6ht9f/T/tfcheckpoints/328dac9c-bd4c-4fd0-8739-5d2bf7ffd986/328dac9c-bd4c-4fd0-8739-5d2bf7ffd986-5\n"
     ]
    },
    {
     "name": "stderr",
     "output_type": "stream",
     "text": [
      " 10%|▉         | 286/3000 [00:48<06:38,  6.80it/s]"
     ]
    },
    {
     "name": "stdout",
     "output_type": "stream",
     "text": [
      "Step 287: average-batch loss:287611.3768422144 rel loss: 0.10618388325926575\n",
      "Saved a checkpoint: /var/folders/6s/m6kbjxb16sl9cg9rg6mj5czrv6ht9f/T/tfcheckpoints/328dac9c-bd4c-4fd0-8739-5d2bf7ffd986/328dac9c-bd4c-4fd0-8739-5d2bf7ffd986-6\n"
     ]
    },
    {
     "name": "stderr",
     "output_type": "stream",
     "text": [
      " 11%|█         | 327/3000 [00:55<06:55,  6.43it/s]"
     ]
    },
    {
     "name": "stdout",
     "output_type": "stream",
     "text": [
      "Step 328: average-batch loss:323514.80360359384 rel loss: 0.11097923916140888\n",
      "New learning rate: 0.0014554485\n"
     ]
    },
    {
     "name": "stderr",
     "output_type": "stream",
     "text": [
      " 12%|█▏        | 368/3000 [01:01<06:45,  6.48it/s]"
     ]
    },
    {
     "name": "stdout",
     "output_type": "stream",
     "text": [
      "Step 369: average-batch loss:285935.94357581175 rel loss: 0.005859470640347855\n",
      "Saved a checkpoint: /var/folders/6s/m6kbjxb16sl9cg9rg6mj5czrv6ht9f/T/tfcheckpoints/328dac9c-bd4c-4fd0-8739-5d2bf7ffd986/328dac9c-bd4c-4fd0-8739-5d2bf7ffd986-7\n"
     ]
    },
    {
     "name": "stderr",
     "output_type": "stream",
     "text": [
      " 14%|█▎        | 409/3000 [01:07<07:20,  5.88it/s]"
     ]
    },
    {
     "name": "stdout",
     "output_type": "stream",
     "text": [
      "Step 410: average-batch loss:312856.8119693168 rel loss: 0.08604852879516427\n",
      "New learning rate: 0.001440894015\n"
     ]
    },
    {
     "name": "stderr",
     "output_type": "stream",
     "text": [
      " 15%|█▌        | 450/3000 [01:14<06:22,  6.66it/s]"
     ]
    },
    {
     "name": "stdout",
     "output_type": "stream",
     "text": [
      "Step 451: average-batch loss:282294.9636583587 rel loss: 0.012897785600806665\n",
      "Saved a checkpoint: /var/folders/6s/m6kbjxb16sl9cg9rg6mj5czrv6ht9f/T/tfcheckpoints/328dac9c-bd4c-4fd0-8739-5d2bf7ffd986/328dac9c-bd4c-4fd0-8739-5d2bf7ffd986-8\n"
     ]
    },
    {
     "name": "stderr",
     "output_type": "stream",
     "text": [
      " 16%|█▋        | 491/3000 [01:20<06:00,  6.96it/s]"
     ]
    },
    {
     "name": "stdout",
     "output_type": "stream",
     "text": [
      "Step 492: average-batch loss:253516.1740278509 rel loss: 0.11351855454928972\n",
      "Saved a checkpoint: /var/folders/6s/m6kbjxb16sl9cg9rg6mj5czrv6ht9f/T/tfcheckpoints/328dac9c-bd4c-4fd0-8739-5d2bf7ffd986/328dac9c-bd4c-4fd0-8739-5d2bf7ffd986-9\n"
     ]
    },
    {
     "name": "stderr",
     "output_type": "stream",
     "text": [
      " 18%|█▊        | 532/3000 [01:26<05:46,  7.12it/s]"
     ]
    },
    {
     "name": "stdout",
     "output_type": "stream",
     "text": [
      "Step 533: average-batch loss:238346.06603892945 rel loss: 0.0636474024557372\n",
      "Saved a checkpoint: /var/folders/6s/m6kbjxb16sl9cg9rg6mj5czrv6ht9f/T/tfcheckpoints/328dac9c-bd4c-4fd0-8739-5d2bf7ffd986/328dac9c-bd4c-4fd0-8739-5d2bf7ffd986-10\n"
     ]
    },
    {
     "name": "stderr",
     "output_type": "stream",
     "text": [
      " 19%|█▉        | 573/3000 [01:32<05:41,  7.10it/s]"
     ]
    },
    {
     "name": "stdout",
     "output_type": "stream",
     "text": [
      "Step 574: average-batch loss:224982.50656966382 rel loss: 0.059398215768067836\n",
      "Saved a checkpoint: /var/folders/6s/m6kbjxb16sl9cg9rg6mj5czrv6ht9f/T/tfcheckpoints/328dac9c-bd4c-4fd0-8739-5d2bf7ffd986/328dac9c-bd4c-4fd0-8739-5d2bf7ffd986-11\n"
     ]
    },
    {
     "name": "stderr",
     "output_type": "stream",
     "text": [
      " 20%|██        | 614/3000 [01:38<05:51,  6.79it/s]"
     ]
    },
    {
     "name": "stdout",
     "output_type": "stream",
     "text": [
      "Step 615: average-batch loss:228072.67336120218 rel loss: 0.01354904446024717\n",
      "New learning rate: 0.0014264850748499998\n"
     ]
    },
    {
     "name": "stderr",
     "output_type": "stream",
     "text": [
      " 22%|██▏       | 655/3000 [01:44<05:23,  7.26it/s]"
     ]
    },
    {
     "name": "stdout",
     "output_type": "stream",
     "text": [
      "Step 656: average-batch loss:243255.81420000072 rel loss: 0.07511971580384469\n",
      "New learning rate: 0.0014122202241015\n"
     ]
    },
    {
     "name": "stderr",
     "output_type": "stream",
     "text": [
      " 23%|██▎       | 696/3000 [01:49<05:19,  7.21it/s]"
     ]
    },
    {
     "name": "stdout",
     "output_type": "stream",
     "text": [
      "Step 697: average-batch loss:223781.28213725716 rel loss: 0.0053678503444710805\n",
      "Saved a checkpoint: /var/folders/6s/m6kbjxb16sl9cg9rg6mj5czrv6ht9f/T/tfcheckpoints/328dac9c-bd4c-4fd0-8739-5d2bf7ffd986/328dac9c-bd4c-4fd0-8739-5d2bf7ffd986-12\n"
     ]
    },
    {
     "name": "stderr",
     "output_type": "stream",
     "text": [
      " 25%|██▍       | 737/3000 [01:55<07:04,  5.33it/s]"
     ]
    },
    {
     "name": "stdout",
     "output_type": "stream",
     "text": [
      "Step 738: average-batch loss:232972.0710981199 rel loss: 0.03945017493960417\n",
      "New learning rate: 0.001398098021860485\n"
     ]
    },
    {
     "name": "stderr",
     "output_type": "stream",
     "text": [
      " 26%|██▌       | 778/3000 [02:02<06:11,  5.98it/s]"
     ]
    },
    {
     "name": "stdout",
     "output_type": "stream",
     "text": [
      "Step 779: average-batch loss:206897.97132563108 rel loss: 0.08160210901755968\n",
      "Saved a checkpoint: /var/folders/6s/m6kbjxb16sl9cg9rg6mj5czrv6ht9f/T/tfcheckpoints/328dac9c-bd4c-4fd0-8739-5d2bf7ffd986/328dac9c-bd4c-4fd0-8739-5d2bf7ffd986-13\n"
     ]
    },
    {
     "name": "stderr",
     "output_type": "stream",
     "text": [
      " 27%|██▋       | 819/3000 [02:08<05:30,  6.60it/s]"
     ]
    },
    {
     "name": "stdout",
     "output_type": "stream",
     "text": [
      "Step 820: average-batch loss:180023.7178471154 rel loss: 0.14928173798376151\n",
      "Saved a checkpoint: /var/folders/6s/m6kbjxb16sl9cg9rg6mj5czrv6ht9f/T/tfcheckpoints/328dac9c-bd4c-4fd0-8739-5d2bf7ffd986/328dac9c-bd4c-4fd0-8739-5d2bf7ffd986-14\n"
     ]
    },
    {
     "name": "stderr",
     "output_type": "stream",
     "text": [
      " 29%|██▊       | 860/3000 [02:15<05:16,  6.76it/s]"
     ]
    },
    {
     "name": "stdout",
     "output_type": "stream",
     "text": [
      "Step 861: average-batch loss:175501.73953583644 rel loss: 0.025766002794266222\n",
      "Saved a checkpoint: /var/folders/6s/m6kbjxb16sl9cg9rg6mj5czrv6ht9f/T/tfcheckpoints/328dac9c-bd4c-4fd0-8739-5d2bf7ffd986/328dac9c-bd4c-4fd0-8739-5d2bf7ffd986-15\n"
     ]
    },
    {
     "name": "stderr",
     "output_type": "stream",
     "text": [
      " 30%|███       | 901/3000 [02:21<05:16,  6.62it/s]"
     ]
    },
    {
     "name": "stdout",
     "output_type": "stream",
     "text": [
      "Step 902: average-batch loss:175044.44730311888 rel loss: 0.002612434954452932\n",
      "Saved a checkpoint: /var/folders/6s/m6kbjxb16sl9cg9rg6mj5czrv6ht9f/T/tfcheckpoints/328dac9c-bd4c-4fd0-8739-5d2bf7ffd986/328dac9c-bd4c-4fd0-8739-5d2bf7ffd986-16\n"
     ]
    },
    {
     "name": "stderr",
     "output_type": "stream",
     "text": [
      " 31%|███▏      | 942/3000 [02:27<05:41,  6.03it/s]"
     ]
    },
    {
     "name": "stdout",
     "output_type": "stream",
     "text": [
      "Step 943: average-batch loss:173872.77289685787 rel loss: 0.006738688218632433\n",
      "Saved a checkpoint: /var/folders/6s/m6kbjxb16sl9cg9rg6mj5czrv6ht9f/T/tfcheckpoints/328dac9c-bd4c-4fd0-8739-5d2bf7ffd986/328dac9c-bd4c-4fd0-8739-5d2bf7ffd986-17\n"
     ]
    },
    {
     "name": "stderr",
     "output_type": "stream",
     "text": [
      " 33%|███▎      | 983/3000 [02:33<04:47,  7.01it/s]"
     ]
    },
    {
     "name": "stdout",
     "output_type": "stream",
     "text": [
      "Step 984: average-batch loss:119937.63958446335 rel loss: 0.4496931363603494\n",
      "Saved a checkpoint: /var/folders/6s/m6kbjxb16sl9cg9rg6mj5czrv6ht9f/T/tfcheckpoints/328dac9c-bd4c-4fd0-8739-5d2bf7ffd986/328dac9c-bd4c-4fd0-8739-5d2bf7ffd986-18\n"
     ]
    },
    {
     "name": "stderr",
     "output_type": "stream",
     "text": [
      " 34%|███▍      | 1024/3000 [02:39<04:44,  6.96it/s]"
     ]
    },
    {
     "name": "stdout",
     "output_type": "stream",
     "text": [
      "Step 1025: average-batch loss:170652.24729049843 rel loss: 0.2971810129151388\n",
      "New learning rate: 0.00138411704164188\n"
     ]
    },
    {
     "name": "stderr",
     "output_type": "stream",
     "text": [
      " 36%|███▌      | 1065/3000 [02:45<04:26,  7.26it/s]"
     ]
    },
    {
     "name": "stdout",
     "output_type": "stream",
     "text": [
      "Step 1066: average-batch loss:148669.30273652554 rel loss: 0.19325888144495415\n",
      "New learning rate: 0.0013702758712254614\n"
     ]
    },
    {
     "name": "stderr",
     "output_type": "stream",
     "text": [
      " 37%|███▋      | 1106/3000 [02:51<04:38,  6.81it/s]"
     ]
    },
    {
     "name": "stdout",
     "output_type": "stream",
     "text": [
      "Step 1107: average-batch loss:136573.31540893496 rel loss: 0.12180765894611399\n",
      "New learning rate: 0.0013565731125132067\n"
     ]
    },
    {
     "name": "stderr",
     "output_type": "stream",
     "text": [
      " 38%|███▊      | 1147/3000 [02:57<04:23,  7.03it/s]"
     ]
    },
    {
     "name": "stdout",
     "output_type": "stream",
     "text": [
      "Step 1148: average-batch loss:131876.23452623223 rel loss: 0.09052878241980825\n",
      "New learning rate: 0.0013430073813880746\n"
     ]
    },
    {
     "name": "stderr",
     "output_type": "stream",
     "text": [
      " 40%|███▉      | 1188/3000 [03:03<04:18,  7.00it/s]"
     ]
    },
    {
     "name": "stdout",
     "output_type": "stream",
     "text": [
      "Step 1189: average-batch loss:89045.85386847971 rel loss: 0.3469199785720586\n",
      "Saved a checkpoint: /var/folders/6s/m6kbjxb16sl9cg9rg6mj5czrv6ht9f/T/tfcheckpoints/328dac9c-bd4c-4fd0-8739-5d2bf7ffd986/328dac9c-bd4c-4fd0-8739-5d2bf7ffd986-19\n"
     ]
    },
    {
     "name": "stderr",
     "output_type": "stream",
     "text": [
      " 41%|████      | 1229/3000 [03:08<04:15,  6.93it/s]"
     ]
    },
    {
     "name": "stdout",
     "output_type": "stream",
     "text": [
      "Step 1230: average-batch loss:115035.48680839168 rel loss: 0.22592709137834555\n",
      "New learning rate: 0.001329577307574194\n"
     ]
    },
    {
     "name": "stderr",
     "output_type": "stream",
     "text": [
      " 42%|████▏     | 1270/3000 [03:14<04:05,  7.05it/s]"
     ]
    },
    {
     "name": "stdout",
     "output_type": "stream",
     "text": [
      "Step 1271: average-batch loss:100328.81734241731 rel loss: 0.11245984725833462\n",
      "New learning rate: 0.0013162815344984519\n"
     ]
    },
    {
     "name": "stderr",
     "output_type": "stream",
     "text": [
      " 44%|████▎     | 1311/3000 [03:20<03:53,  7.24it/s]"
     ]
    },
    {
     "name": "stdout",
     "output_type": "stream",
     "text": [
      "Step 1312: average-batch loss:96463.06002169772 rel loss: 0.07689167388583397\n",
      "New learning rate: 0.0013031187191534673\n"
     ]
    },
    {
     "name": "stderr",
     "output_type": "stream",
     "text": [
      " 45%|████▌     | 1352/3000 [03:26<03:54,  7.04it/s]"
     ]
    },
    {
     "name": "stdout",
     "output_type": "stream",
     "text": [
      "Step 1353: average-batch loss:123924.45299115675 rel loss: 0.2814504989194181\n",
      "New learning rate: 0.0012900875319619327\n"
     ]
    },
    {
     "name": "stderr",
     "output_type": "stream",
     "text": [
      " 46%|████▋     | 1393/3000 [03:32<03:44,  7.15it/s]"
     ]
    },
    {
     "name": "stdout",
     "output_type": "stream",
     "text": [
      "Step 1394: average-batch loss:109970.36037846161 rel loss: 0.19027405600900532\n",
      "New learning rate: 0.0012771866566423133\n",
      "We are in a loss plateau\n",
      "Restoring from a checkpoint\n"
     ]
    },
    {
     "name": "stderr",
     "output_type": "stream",
     "text": [
      " 48%|████▊     | 1434/3000 [03:38<03:40,  7.09it/s]"
     ]
    },
    {
     "name": "stdout",
     "output_type": "stream",
     "text": [
      "Step 1435: average-batch loss:113958.5269917903 rel loss: 0.21861175096713326\n",
      "New learning rate: 0.00126441479007589\n",
      "We are in a loss plateau\n",
      "Restoring from a checkpoint\n"
     ]
    },
    {
     "name": "stderr",
     "output_type": "stream",
     "text": [
      " 49%|████▉     | 1475/3000 [03:44<03:31,  7.20it/s]"
     ]
    },
    {
     "name": "stdout",
     "output_type": "stream",
     "text": [
      "Step 1476: average-batch loss:77019.54680322361 rel loss: 0.15614616762134395\n",
      "Saved a checkpoint: /var/folders/6s/m6kbjxb16sl9cg9rg6mj5czrv6ht9f/T/tfcheckpoints/328dac9c-bd4c-4fd0-8739-5d2bf7ffd986/328dac9c-bd4c-4fd0-8739-5d2bf7ffd986-20\n"
     ]
    },
    {
     "name": "stderr",
     "output_type": "stream",
     "text": [
      " 51%|█████     | 1516/3000 [03:50<03:28,  7.11it/s]"
     ]
    },
    {
     "name": "stdout",
     "output_type": "stream",
     "text": [
      "Step 1517: average-batch loss:71414.31168960586 rel loss: 0.07848896083995403\n",
      "Saved a checkpoint: /var/folders/6s/m6kbjxb16sl9cg9rg6mj5czrv6ht9f/T/tfcheckpoints/328dac9c-bd4c-4fd0-8739-5d2bf7ffd986/328dac9c-bd4c-4fd0-8739-5d2bf7ffd986-21\n"
     ]
    },
    {
     "name": "stderr",
     "output_type": "stream",
     "text": [
      " 52%|█████▏    | 1557/3000 [03:56<03:22,  7.12it/s]"
     ]
    },
    {
     "name": "stdout",
     "output_type": "stream",
     "text": [
      "Step 1558: average-batch loss:81321.83207054352 rel loss: 0.12183100317198052\n",
      "New learning rate: 0.0012517706421751314\n"
     ]
    },
    {
     "name": "stderr",
     "output_type": "stream",
     "text": [
      " 53%|█████▎    | 1598/3000 [04:01<03:17,  7.10it/s]"
     ]
    },
    {
     "name": "stdout",
     "output_type": "stream",
     "text": [
      "Step 1599: average-batch loss:70070.92208742224 rel loss: 0.01917185563089322\n",
      "Saved a checkpoint: /var/folders/6s/m6kbjxb16sl9cg9rg6mj5czrv6ht9f/T/tfcheckpoints/328dac9c-bd4c-4fd0-8739-5d2bf7ffd986/328dac9c-bd4c-4fd0-8739-5d2bf7ffd986-22\n"
     ]
    },
    {
     "name": "stderr",
     "output_type": "stream",
     "text": [
      " 55%|█████▍    | 1639/3000 [04:07<03:20,  6.80it/s]"
     ]
    },
    {
     "name": "stdout",
     "output_type": "stream",
     "text": [
      "Step 1640: average-batch loss:95789.3141560234 rel loss: 0.268489155551428\n",
      "New learning rate: 0.00123925293575338\n"
     ]
    },
    {
     "name": "stderr",
     "output_type": "stream",
     "text": [
      " 56%|█████▌    | 1680/3000 [04:13<03:05,  7.12it/s]"
     ]
    },
    {
     "name": "stdout",
     "output_type": "stream",
     "text": [
      "Step 1681: average-batch loss:84678.29001811947 rel loss: 0.17250428566249446\n",
      "New learning rate: 0.0012268604063958462\n"
     ]
    },
    {
     "name": "stderr",
     "output_type": "stream",
     "text": [
      " 57%|█████▋    | 1721/3000 [04:19<02:59,  7.11it/s]"
     ]
    },
    {
     "name": "stdout",
     "output_type": "stream",
     "text": [
      "Step 1722: average-batch loss:61755.268254346614 rel loss: 0.13465497063062842\n",
      "Saved a checkpoint: /var/folders/6s/m6kbjxb16sl9cg9rg6mj5czrv6ht9f/T/tfcheckpoints/328dac9c-bd4c-4fd0-8739-5d2bf7ffd986/328dac9c-bd4c-4fd0-8739-5d2bf7ffd986-23\n"
     ]
    },
    {
     "name": "stderr",
     "output_type": "stream",
     "text": [
      " 59%|█████▊    | 1762/3000 [04:25<02:54,  7.11it/s]"
     ]
    },
    {
     "name": "stdout",
     "output_type": "stream",
     "text": [
      "Step 1763: average-batch loss:74078.09102438868 rel loss: 0.16634908647936172\n",
      "New learning rate: 0.0012145918023318877\n"
     ]
    },
    {
     "name": "stderr",
     "output_type": "stream",
     "text": [
      " 60%|██████    | 1803/3000 [04:31<02:49,  7.06it/s]"
     ]
    },
    {
     "name": "stdout",
     "output_type": "stream",
     "text": [
      "Step 1804: average-batch loss:54486.69066068195 rel loss: 0.1334009738071638\n",
      "Saved a checkpoint: /var/folders/6s/m6kbjxb16sl9cg9rg6mj5czrv6ht9f/T/tfcheckpoints/328dac9c-bd4c-4fd0-8739-5d2bf7ffd986/328dac9c-bd4c-4fd0-8739-5d2bf7ffd986-24\n"
     ]
    },
    {
     "name": "stderr",
     "output_type": "stream",
     "text": [
      " 61%|██████▏   | 1844/3000 [04:36<02:43,  7.08it/s]"
     ]
    },
    {
     "name": "stdout",
     "output_type": "stream",
     "text": [
      "Step 1845: average-batch loss:51662.607334893706 rel loss: 0.05466397209652274\n",
      "Saved a checkpoint: /var/folders/6s/m6kbjxb16sl9cg9rg6mj5czrv6ht9f/T/tfcheckpoints/328dac9c-bd4c-4fd0-8739-5d2bf7ffd986/328dac9c-bd4c-4fd0-8739-5d2bf7ffd986-25\n"
     ]
    },
    {
     "name": "stderr",
     "output_type": "stream",
     "text": [
      " 63%|██████▎   | 1885/3000 [04:42<02:38,  7.04it/s]"
     ]
    },
    {
     "name": "stdout",
     "output_type": "stream",
     "text": [
      "Step 1886: average-batch loss:68823.45719190546 rel loss: 0.249345943333839\n",
      "New learning rate: 0.0012024458843085688\n"
     ]
    },
    {
     "name": "stderr",
     "output_type": "stream",
     "text": [
      " 64%|██████▍   | 1926/3000 [04:48<02:38,  6.79it/s]"
     ]
    },
    {
     "name": "stdout",
     "output_type": "stream",
     "text": [
      "Step 1927: average-batch loss:72597.91538978783 rel loss: 0.28837340497298963\n",
      "New learning rate: 0.001190421425465483\n"
     ]
    },
    {
     "name": "stderr",
     "output_type": "stream",
     "text": [
      " 66%|██████▌   | 1967/3000 [04:54<02:36,  6.58it/s]"
     ]
    },
    {
     "name": "stdout",
     "output_type": "stream",
     "text": [
      "Step 1968: average-batch loss:39647.13039693587 rel loss: 0.3030604439126432\n",
      "Saved a checkpoint: /var/folders/6s/m6kbjxb16sl9cg9rg6mj5czrv6ht9f/T/tfcheckpoints/328dac9c-bd4c-4fd0-8739-5d2bf7ffd986/328dac9c-bd4c-4fd0-8739-5d2bf7ffd986-26\n"
     ]
    },
    {
     "name": "stderr",
     "output_type": "stream",
     "text": [
      " 67%|██████▋   | 2008/3000 [05:00<02:30,  6.59it/s]"
     ]
    },
    {
     "name": "stdout",
     "output_type": "stream",
     "text": [
      "Step 2009: average-batch loss:43117.34414236469 rel loss: 0.08048301245018427\n",
      "New learning rate: 0.0011785172112108281\n"
     ]
    },
    {
     "name": "stderr",
     "output_type": "stream",
     "text": [
      " 68%|██████▊   | 2049/3000 [05:06<02:15,  7.00it/s]"
     ]
    },
    {
     "name": "stdout",
     "output_type": "stream",
     "text": [
      "Step 2050: average-batch loss:23983.8547100213 rel loss: 0.653075824394896\n",
      "Saved a checkpoint: /var/folders/6s/m6kbjxb16sl9cg9rg6mj5czrv6ht9f/T/tfcheckpoints/328dac9c-bd4c-4fd0-8739-5d2bf7ffd986/328dac9c-bd4c-4fd0-8739-5d2bf7ffd986-27\n"
     ]
    },
    {
     "name": "stderr",
     "output_type": "stream",
     "text": [
      " 70%|██████▉   | 2090/3000 [05:12<02:12,  6.85it/s]"
     ]
    },
    {
     "name": "stdout",
     "output_type": "stream",
     "text": [
      "Step 2091: average-batch loss:30140.612841790746 rel loss: 0.2042678483044293\n",
      "New learning rate: 0.00116673203909872\n"
     ]
    },
    {
     "name": "stderr",
     "output_type": "stream",
     "text": [
      " 71%|███████   | 2131/3000 [05:18<02:27,  5.88it/s]"
     ]
    },
    {
     "name": "stdout",
     "output_type": "stream",
     "text": [
      "Step 2132: average-batch loss:63452.231564868736 rel loss: 0.6220171597037997\n",
      "New learning rate: 0.0011550647187077326\n"
     ]
    },
    {
     "name": "stderr",
     "output_type": "stream",
     "text": [
      " 72%|███████▏  | 2172/3000 [05:24<01:58,  7.00it/s]"
     ]
    },
    {
     "name": "stdout",
     "output_type": "stream",
     "text": [
      "Step 2173: average-batch loss:26587.980235625455 rel loss: 0.09794371375810132\n",
      "New learning rate: 0.0011435140715206553\n"
     ]
    },
    {
     "name": "stderr",
     "output_type": "stream",
     "text": [
      " 74%|███████▍  | 2213/3000 [05:30<01:54,  6.88it/s]"
     ]
    },
    {
     "name": "stdout",
     "output_type": "stream",
     "text": [
      "Step 2214: average-batch loss:34649.63956496916 rel loss: 0.30781806070303214\n",
      "New learning rate: 0.001132078930805449\n"
     ]
    },
    {
     "name": "stderr",
     "output_type": "stream",
     "text": [
      " 75%|███████▌  | 2254/3000 [05:36<02:01,  6.15it/s]"
     ]
    },
    {
     "name": "stdout",
     "output_type": "stream",
     "text": [
      "Step 2255: average-batch loss:61148.88917582954 rel loss: 0.6077793884193493\n",
      "New learning rate: 0.0011207581414973942\n",
      "We are in a loss plateau\n",
      "Restoring from a checkpoint\n"
     ]
    },
    {
     "name": "stderr",
     "output_type": "stream",
     "text": [
      " 76%|███████▋  | 2295/3000 [05:42<01:41,  6.96it/s]"
     ]
    },
    {
     "name": "stdout",
     "output_type": "stream",
     "text": [
      "Step 2296: average-batch loss:41909.48544423521 rel loss: 0.4277225201933287\n",
      "New learning rate: 0.0011095505600824203\n",
      "We are in a loss plateau\n",
      "Restoring from a checkpoint\n"
     ]
    },
    {
     "name": "stderr",
     "output_type": "stream",
     "text": [
      " 78%|███████▊  | 2336/3000 [05:47<01:35,  6.94it/s]"
     ]
    },
    {
     "name": "stdout",
     "output_type": "stream",
     "text": [
      "Step 2337: average-batch loss:42723.48574962981 rel loss: 0.4386259854691487\n",
      "New learning rate: 0.0010984550544815962\n",
      "We are in a loss plateau\n",
      "Restoring from a checkpoint\n"
     ]
    },
    {
     "name": "stderr",
     "output_type": "stream",
     "text": [
      " 79%|███████▉  | 2377/3000 [05:53<01:26,  7.16it/s]"
     ]
    },
    {
     "name": "stdout",
     "output_type": "stream",
     "text": [
      "Step 2378: average-batch loss:30266.7700744295 rel loss: 0.207584600172327\n",
      "New learning rate: 0.00108747050393678\n",
      "We are in a loss plateau\n",
      "Restoring from a checkpoint\n"
     ]
    },
    {
     "name": "stderr",
     "output_type": "stream",
     "text": [
      " 81%|████████  | 2418/3000 [05:59<01:20,  7.22it/s]"
     ]
    },
    {
     "name": "stdout",
     "output_type": "stream",
     "text": [
      "Step 2419: average-batch loss:36513.80591097169 rel loss: 0.3431565373245681\n",
      "New learning rate: 0.0010765957988974125\n",
      "We are in a loss plateau\n",
      "Restoring from a checkpoint\n"
     ]
    },
    {
     "name": "stderr",
     "output_type": "stream",
     "text": [
      " 82%|████████▏ | 2459/3000 [06:05<01:15,  7.13it/s]"
     ]
    },
    {
     "name": "stdout",
     "output_type": "stream",
     "text": [
      "Step 2460: average-batch loss:22311.036538104374 rel loss: 0.07497716070071278\n",
      "Saved a checkpoint: /var/folders/6s/m6kbjxb16sl9cg9rg6mj5czrv6ht9f/T/tfcheckpoints/328dac9c-bd4c-4fd0-8739-5d2bf7ffd986/328dac9c-bd4c-4fd0-8739-5d2bf7ffd986-28\n"
     ]
    },
    {
     "name": "stderr",
     "output_type": "stream",
     "text": [
      " 83%|████████▎ | 2500/3000 [06:11<01:09,  7.23it/s]"
     ]
    },
    {
     "name": "stdout",
     "output_type": "stream",
     "text": [
      "Step 2501: average-batch loss:26458.28237224241 rel loss: 0.15674660115083452\n",
      "New learning rate: 0.001065829840908438\n"
     ]
    },
    {
     "name": "stderr",
     "output_type": "stream",
     "text": [
      " 85%|████████▍ | 2541/3000 [06:17<01:04,  7.07it/s]"
     ]
    },
    {
     "name": "stdout",
     "output_type": "stream",
     "text": [
      "Step 2542: average-batch loss:36511.931434096296 rel loss: 0.38893847403346515\n",
      "New learning rate: 0.0010551715424993537\n"
     ]
    },
    {
     "name": "stderr",
     "output_type": "stream",
     "text": [
      " 86%|████████▌ | 2582/3000 [06:23<01:05,  6.43it/s]"
     ]
    },
    {
     "name": "stdout",
     "output_type": "stream",
     "text": [
      "Step 2583: average-batch loss:32864.922359616736 rel loss: 0.3211291877104997\n",
      "New learning rate: 0.0010446198270743603\n"
     ]
    },
    {
     "name": "stderr",
     "output_type": "stream",
     "text": [
      " 87%|████████▋ | 2623/3000 [06:28<00:54,  6.95it/s]"
     ]
    },
    {
     "name": "stdout",
     "output_type": "stream",
     "text": [
      "Step 2624: average-batch loss:29241.588638589143 rel loss: 0.2370101086552716\n",
      "New learning rate: 0.0010341736288036166\n"
     ]
    },
    {
     "name": "stderr",
     "output_type": "stream",
     "text": [
      " 89%|████████▉ | 2664/3000 [06:34<00:47,  7.14it/s]"
     ]
    },
    {
     "name": "stdout",
     "output_type": "stream",
     "text": [
      "Step 2665: average-batch loss:28927.700839555495 rel loss: 0.22873108160754863\n",
      "New learning rate: 0.0010238318925155805\n",
      "We are in a loss plateau\n",
      "Restoring from a checkpoint\n"
     ]
    },
    {
     "name": "stderr",
     "output_type": "stream",
     "text": [
      " 90%|█████████ | 2705/3000 [06:40<00:42,  6.90it/s]"
     ]
    },
    {
     "name": "stdout",
     "output_type": "stream",
     "text": [
      "Step 2706: average-batch loss:22171.44850028024 rel loss: 0.006295846562409766\n",
      "Saved a checkpoint: /var/folders/6s/m6kbjxb16sl9cg9rg6mj5czrv6ht9f/T/tfcheckpoints/328dac9c-bd4c-4fd0-8739-5d2bf7ffd986/328dac9c-bd4c-4fd0-8739-5d2bf7ffd986-29\n"
     ]
    },
    {
     "name": "stderr",
     "output_type": "stream",
     "text": [
      " 92%|█████████▏| 2746/3000 [06:46<00:37,  6.80it/s]"
     ]
    },
    {
     "name": "stdout",
     "output_type": "stream",
     "text": [
      "Step 2747: average-batch loss:20048.91488897136 rel loss: 0.10586775509114736\n",
      "Saved a checkpoint: /var/folders/6s/m6kbjxb16sl9cg9rg6mj5czrv6ht9f/T/tfcheckpoints/328dac9c-bd4c-4fd0-8739-5d2bf7ffd986/328dac9c-bd4c-4fd0-8739-5d2bf7ffd986-30\n"
     ]
    },
    {
     "name": "stderr",
     "output_type": "stream",
     "text": [
      " 93%|█████████▎| 2787/3000 [06:52<00:30,  6.98it/s]"
     ]
    },
    {
     "name": "stdout",
     "output_type": "stream",
     "text": [
      "Step 2788: average-batch loss:22418.72821146564 rel loss: 0.10570685812954736\n",
      "New learning rate: 0.0010135935735904246\n"
     ]
    },
    {
     "name": "stderr",
     "output_type": "stream",
     "text": [
      " 94%|█████████▍| 2828/3000 [06:58<00:24,  7.14it/s]"
     ]
    },
    {
     "name": "stdout",
     "output_type": "stream",
     "text": [
      "Step 2829: average-batch loss:24113.42193071051 rel loss: 0.168557870111444\n",
      "New learning rate: 0.0010034576378545204\n"
     ]
    },
    {
     "name": "stderr",
     "output_type": "stream",
     "text": [
      " 96%|█████████▌| 2869/3000 [07:04<00:18,  7.02it/s]"
     ]
    },
    {
     "name": "stdout",
     "output_type": "stream",
     "text": [
      "Step 2870: average-batch loss:23690.88710166679 rel loss: 0.15372882395945384\n",
      "New learning rate: 0.0009934230614759751\n"
     ]
    },
    {
     "name": "stderr",
     "output_type": "stream",
     "text": [
      " 97%|█████████▋| 2910/3000 [07:10<00:13,  6.86it/s]"
     ]
    },
    {
     "name": "stdout",
     "output_type": "stream",
     "text": [
      "Step 2911: average-batch loss:17705.494105199366 rel loss: 0.13235557109269433\n",
      "Saved a checkpoint: /var/folders/6s/m6kbjxb16sl9cg9rg6mj5czrv6ht9f/T/tfcheckpoints/328dac9c-bd4c-4fd0-8739-5d2bf7ffd986/328dac9c-bd4c-4fd0-8739-5d2bf7ffd986-31\n"
     ]
    },
    {
     "name": "stderr",
     "output_type": "stream",
     "text": [
      " 98%|█████████▊| 2951/3000 [07:16<00:06,  7.27it/s]"
     ]
    },
    {
     "name": "stdout",
     "output_type": "stream",
     "text": [
      "Step 2952: average-batch loss:20509.99958296844 rel loss: 0.13673844635754862\n",
      "New learning rate: 0.0009834888308612154\n"
     ]
    },
    {
     "name": "stderr",
     "output_type": "stream",
     "text": [
      "100%|█████████▉| 2992/3000 [07:22<00:01,  7.22it/s]"
     ]
    },
    {
     "name": "stdout",
     "output_type": "stream",
     "text": [
      "Step 2993: average-batch loss:23321.913020956 rel loss: 0.24082153598248895\n",
      "New learning rate: 0.0009736539425526032\n"
     ]
    },
    {
     "name": "stderr",
     "output_type": "stream",
     "text": [
      "100%|██████████| 3000/3000 [07:23<00:00,  7.25it/s]"
     ]
    },
    {
     "name": "stdout",
     "output_type": "stream",
     "text": [
      "Terminating because we are out of iterations\n"
     ]
    },
    {
     "name": "stderr",
     "output_type": "stream",
     "text": [
      "100%|██████████| 3000/3000 [07:23<00:00,  6.77it/s]\n"
     ]
    }
   ],
   "source": [
    "losses = grm.fit(\n",
    "            data_factory_factory(shuffle=True, repeat=True),\n",
    "            dataset_size=num_people,\n",
    "            batches_per_step=1,\n",
    "            check_every=int(num_people/batch_size),\n",
    "            batch_size=batch_size,\n",
    "            num_steps=3000,\n",
    "            max_decay_steps=100,\n",
    "            max_plateau_epochs=100,\n",
    "            sample_size=32, \n",
    "            learning_rate=0.0015)"
   ]
  },
  {
   "cell_type": "code",
   "execution_count": 7,
   "metadata": {},
   "outputs": [
    {
     "name": "stdout",
     "output_type": "stream",
     "text": [
      "Running optimization for 3000 steps of 1 accumulated batches, checking every 41 steps\n",
      "Saved a checkpoint: /var/folders/6s/m6kbjxb16sl9cg9rg6mj5czrv6ht9f/T/tfcheckpoints/23c1249c-4e89-4386-8bc8-c4df6e9d582d/23c1249c-4e89-4386-8bc8-c4df6e9d582d-1\n"
     ]
    },
    {
     "name": "stderr",
     "output_type": "stream",
     "text": [
      "  0%|          | 0/3000 [00:00<?, ?it/s]"
     ]
    },
    {
     "name": "stderr",
     "output_type": "stream",
     "text": [
      "  1%|▏         | 40/3000 [00:07<07:26,  6.63it/s] "
     ]
    },
    {
     "name": "stdout",
     "output_type": "stream",
     "text": [
      "Step 41: average-batch loss:14605.799882478432 rel loss: 6.846595243302155e+303\n",
      "Saved a checkpoint: /var/folders/6s/m6kbjxb16sl9cg9rg6mj5czrv6ht9f/T/tfcheckpoints/23c1249c-4e89-4386-8bc8-c4df6e9d582d/23c1249c-4e89-4386-8bc8-c4df6e9d582d-2\n"
     ]
    },
    {
     "name": "stderr",
     "output_type": "stream",
     "text": [
      "  3%|▎         | 81/3000 [00:13<07:21,  6.60it/s]"
     ]
    },
    {
     "name": "stdout",
     "output_type": "stream",
     "text": [
      "Step 82: average-batch loss:27656.553518306093 rel loss: 0.47188647808879236\n",
      "New learning rate: 0.000495\n"
     ]
    },
    {
     "name": "stderr",
     "output_type": "stream",
     "text": [
      "  4%|▍         | 122/3000 [00:18<06:57,  6.90it/s]"
     ]
    },
    {
     "name": "stdout",
     "output_type": "stream",
     "text": [
      "Step 123: average-batch loss:14614.90412330443 rel loss: 0.0006229422204337893\n",
      "New learning rate: 0.00049005\n"
     ]
    },
    {
     "name": "stderr",
     "output_type": "stream",
     "text": [
      "  5%|▌         | 163/3000 [00:24<07:02,  6.72it/s]"
     ]
    },
    {
     "name": "stdout",
     "output_type": "stream",
     "text": [
      "Step 164: average-batch loss:14941.739753865417 rel loss: 0.02248331699794715\n",
      "New learning rate: 0.00048514950000000005\n"
     ]
    },
    {
     "name": "stderr",
     "output_type": "stream",
     "text": [
      "  7%|▋         | 204/3000 [00:30<06:42,  6.95it/s]"
     ]
    },
    {
     "name": "stdout",
     "output_type": "stream",
     "text": [
      "Step 205: average-batch loss:24475.036848379154 rel loss: 0.40323685831567224\n",
      "New learning rate: 0.00048029800499999997\n"
     ]
    },
    {
     "name": "stderr",
     "output_type": "stream",
     "text": [
      "  8%|▊         | 245/3000 [00:36<06:38,  6.91it/s]"
     ]
    },
    {
     "name": "stdout",
     "output_type": "stream",
     "text": [
      "Step 246: average-batch loss:17476.600751344446 rel loss: 0.16426540319319063\n",
      "New learning rate: 0.00047549502494999995\n",
      "We are in a loss plateau\n",
      "Restoring from a checkpoint\n"
     ]
    },
    {
     "name": "stderr",
     "output_type": "stream",
     "text": [
      " 10%|▉         | 286/3000 [00:41<06:35,  6.86it/s]"
     ]
    },
    {
     "name": "stdout",
     "output_type": "stream",
     "text": [
      "Step 287: average-batch loss:33014.30923658461 rel loss: 0.5575918375934669\n",
      "New learning rate: 0.0004707400747005\n",
      "We are in a loss plateau\n",
      "Restoring from a checkpoint\n"
     ]
    },
    {
     "name": "stderr",
     "output_type": "stream",
     "text": [
      " 11%|█         | 327/3000 [00:47<06:22,  6.99it/s]"
     ]
    },
    {
     "name": "stdout",
     "output_type": "stream",
     "text": [
      "Step 328: average-batch loss:18181.651959947056 rel loss: 0.19667366229130243\n",
      "New learning rate: 0.00046603267395349497\n",
      "We are in a loss plateau\n",
      "Restoring from a checkpoint\n"
     ]
    },
    {
     "name": "stderr",
     "output_type": "stream",
     "text": [
      " 12%|█▏        | 368/3000 [00:53<06:18,  6.95it/s]"
     ]
    },
    {
     "name": "stdout",
     "output_type": "stream",
     "text": [
      "Step 369: average-batch loss:15177.031781520964 rel loss: 0.037637919407801756\n",
      "New learning rate: 0.00046137234721396004\n",
      "We are in a loss plateau\n",
      "Restoring from a checkpoint\n"
     ]
    },
    {
     "name": "stderr",
     "output_type": "stream",
     "text": [
      " 14%|█▎        | 409/3000 [00:58<06:21,  6.78it/s]"
     ]
    },
    {
     "name": "stdout",
     "output_type": "stream",
     "text": [
      "Step 410: average-batch loss:12471.558796176818 rel loss: 0.17112865530136218\n",
      "Saved a checkpoint: /var/folders/6s/m6kbjxb16sl9cg9rg6mj5czrv6ht9f/T/tfcheckpoints/23c1249c-4e89-4386-8bc8-c4df6e9d582d/23c1249c-4e89-4386-8bc8-c4df6e9d582d-3\n"
     ]
    },
    {
     "name": "stderr",
     "output_type": "stream",
     "text": [
      " 15%|█▌        | 450/3000 [01:04<06:10,  6.87it/s]"
     ]
    },
    {
     "name": "stdout",
     "output_type": "stream",
     "text": [
      "Step 451: average-batch loss:12292.743016794317 rel loss: 0.01454645062848898\n",
      "Saved a checkpoint: /var/folders/6s/m6kbjxb16sl9cg9rg6mj5czrv6ht9f/T/tfcheckpoints/23c1249c-4e89-4386-8bc8-c4df6e9d582d/23c1249c-4e89-4386-8bc8-c4df6e9d582d-4\n"
     ]
    },
    {
     "name": "stderr",
     "output_type": "stream",
     "text": [
      " 16%|█▋        | 491/3000 [01:10<06:04,  6.88it/s]"
     ]
    },
    {
     "name": "stdout",
     "output_type": "stream",
     "text": [
      "Step 492: average-batch loss:16819.840334692773 rel loss: 0.2691522171325741\n",
      "New learning rate: 0.00045675862374182043\n"
     ]
    },
    {
     "name": "stderr",
     "output_type": "stream",
     "text": [
      " 18%|█▊        | 532/3000 [01:16<06:07,  6.72it/s]"
     ]
    },
    {
     "name": "stdout",
     "output_type": "stream",
     "text": [
      "Step 533: average-batch loss:14893.600646998893 rel loss: 0.1746292043038402\n",
      "New learning rate: 0.0004521910375044022\n"
     ]
    },
    {
     "name": "stderr",
     "output_type": "stream",
     "text": [
      " 19%|█▉        | 573/3000 [01:22<05:40,  7.14it/s]"
     ]
    },
    {
     "name": "stdout",
     "output_type": "stream",
     "text": [
      "Step 574: average-batch loss:15433.191343585864 rel loss: 0.20348664491202195\n",
      "New learning rate: 0.0004476691271293582\n"
     ]
    },
    {
     "name": "stderr",
     "output_type": "stream",
     "text": [
      " 20%|██        | 614/3000 [01:28<05:54,  6.73it/s]"
     ]
    },
    {
     "name": "stdout",
     "output_type": "stream",
     "text": [
      "Step 615: average-batch loss:29827.342789146664 rel loss: 0.5878699921849122\n",
      "New learning rate: 0.0004431924358580646\n"
     ]
    },
    {
     "name": "stderr",
     "output_type": "stream",
     "text": [
      " 22%|██▏       | 655/3000 [01:34<05:52,  6.65it/s]"
     ]
    },
    {
     "name": "stdout",
     "output_type": "stream",
     "text": [
      "Step 656: average-batch loss:18088.591936771423 rel loss: 0.32041459834112385\n",
      "New learning rate: 0.00043876051149948394\n",
      "We are in a loss plateau\n",
      "Restoring from a checkpoint\n"
     ]
    },
    {
     "name": "stderr",
     "output_type": "stream",
     "text": [
      " 23%|██▎       | 696/3000 [01:40<05:30,  6.98it/s]"
     ]
    },
    {
     "name": "stdout",
     "output_type": "stream",
     "text": [
      "Step 697: average-batch loss:13924.747017152727 rel loss: 0.11720169841133071\n",
      "New learning rate: 0.00043437290638448915\n",
      "We are in a loss plateau\n",
      "Restoring from a checkpoint\n"
     ]
    },
    {
     "name": "stderr",
     "output_type": "stream",
     "text": [
      " 25%|██▍       | 737/3000 [01:45<05:30,  6.84it/s]"
     ]
    },
    {
     "name": "stdout",
     "output_type": "stream",
     "text": [
      "Step 738: average-batch loss:23833.947013148805 rel loss: 0.48423385308305805\n",
      "New learning rate: 0.00043002917732064424\n",
      "We are in a loss plateau\n",
      "Restoring from a checkpoint\n"
     ]
    },
    {
     "name": "stderr",
     "output_type": "stream",
     "text": [
      " 26%|██▌       | 778/3000 [01:51<05:27,  6.79it/s]"
     ]
    },
    {
     "name": "stdout",
     "output_type": "stream",
     "text": [
      "Step 779: average-batch loss:12877.022108785914 rel loss: 0.04537377408034012\n",
      "New learning rate: 0.0004257288855474378\n",
      "We are in a loss plateau\n",
      "Restoring from a checkpoint\n"
     ]
    },
    {
     "name": "stderr",
     "output_type": "stream",
     "text": [
      " 27%|██▋       | 819/3000 [01:57<05:14,  6.93it/s]"
     ]
    },
    {
     "name": "stdout",
     "output_type": "stream",
     "text": [
      "Step 820: average-batch loss:18706.67103765242 rel loss: 0.3428684883562808\n",
      "New learning rate: 0.0004214715966919634\n",
      "We are in a loss plateau\n",
      "Restoring from a checkpoint\n"
     ]
    },
    {
     "name": "stderr",
     "output_type": "stream",
     "text": [
      " 29%|██▊       | 860/3000 [02:03<05:12,  6.86it/s]"
     ]
    },
    {
     "name": "stdout",
     "output_type": "stream",
     "text": [
      "Step 861: average-batch loss:19848.09278752435 rel loss: 0.3806587288567594\n",
      "New learning rate: 0.00041725688072504375\n",
      "We are in a loss plateau\n",
      "Restoring from a checkpoint\n"
     ]
    },
    {
     "name": "stderr",
     "output_type": "stream",
     "text": [
      " 30%|███       | 901/3000 [02:09<05:06,  6.85it/s]"
     ]
    },
    {
     "name": "stdout",
     "output_type": "stream",
     "text": [
      "Step 902: average-batch loss:16486.455065834998 rel loss: 0.2543731828518638\n",
      "New learning rate: 0.00041308431191779333\n",
      "We are in a loss plateau\n",
      "Restoring from a checkpoint\n"
     ]
    },
    {
     "name": "stderr",
     "output_type": "stream",
     "text": [
      " 31%|███▏      | 942/3000 [02:15<05:01,  6.82it/s]"
     ]
    },
    {
     "name": "stdout",
     "output_type": "stream",
     "text": [
      "Step 943: average-batch loss:15255.156916429904 rel loss: 0.1941909818341526\n",
      "New learning rate: 0.00040895346879861536\n",
      "We are in a loss plateau\n",
      "Restoring from a checkpoint\n"
     ]
    },
    {
     "name": "stderr",
     "output_type": "stream",
     "text": [
      " 33%|███▎      | 983/3000 [02:20<04:52,  6.91it/s]"
     ]
    },
    {
     "name": "stdout",
     "output_type": "stream",
     "text": [
      "Step 984: average-batch loss:21787.4516150341 rel loss: 0.435787937295434\n",
      "New learning rate: 0.0004048639341106292\n",
      "We are in a loss plateau\n",
      "Restoring from a checkpoint\n"
     ]
    },
    {
     "name": "stderr",
     "output_type": "stream",
     "text": [
      " 34%|███▍      | 1024/3000 [02:26<04:48,  6.84it/s]"
     ]
    },
    {
     "name": "stdout",
     "output_type": "stream",
     "text": [
      "Step 1025: average-batch loss:12140.443823540703 rel loss: 0.012544779702229699\n",
      "Saved a checkpoint: /var/folders/6s/m6kbjxb16sl9cg9rg6mj5czrv6ht9f/T/tfcheckpoints/23c1249c-4e89-4386-8bc8-c4df6e9d582d/23c1249c-4e89-4386-8bc8-c4df6e9d582d-5\n"
     ]
    },
    {
     "name": "stderr",
     "output_type": "stream",
     "text": [
      " 36%|███▌      | 1065/3000 [02:32<04:45,  6.79it/s]"
     ]
    },
    {
     "name": "stdout",
     "output_type": "stream",
     "text": [
      "Step 1066: average-batch loss:14462.770153468657 rel loss: 0.16057271914612994\n",
      "New learning rate: 0.0004008152947695229\n"
     ]
    },
    {
     "name": "stderr",
     "output_type": "stream",
     "text": [
      " 37%|███▋      | 1106/3000 [02:38<04:32,  6.94it/s]"
     ]
    },
    {
     "name": "stdout",
     "output_type": "stream",
     "text": [
      "Step 1107: average-batch loss:11344.17763720515 rel loss: 0.07019161827333024\n",
      "Saved a checkpoint: /var/folders/6s/m6kbjxb16sl9cg9rg6mj5czrv6ht9f/T/tfcheckpoints/23c1249c-4e89-4386-8bc8-c4df6e9d582d/23c1249c-4e89-4386-8bc8-c4df6e9d582d-6\n"
     ]
    },
    {
     "name": "stderr",
     "output_type": "stream",
     "text": [
      " 38%|███▊      | 1147/3000 [02:44<04:28,  6.89it/s]"
     ]
    },
    {
     "name": "stdout",
     "output_type": "stream",
     "text": [
      "Step 1148: average-batch loss:12915.814316602313 rel loss: 0.12168312743370285\n",
      "New learning rate: 0.0003968071418218277\n"
     ]
    },
    {
     "name": "stderr",
     "output_type": "stream",
     "text": [
      " 40%|███▉      | 1188/3000 [02:50<04:29,  6.73it/s]"
     ]
    },
    {
     "name": "stdout",
     "output_type": "stream",
     "text": [
      "Step 1189: average-batch loss:15016.857111531648 rel loss: 0.24457044820025609\n",
      "New learning rate: 0.0003928390704036094\n"
     ]
    },
    {
     "name": "stderr",
     "output_type": "stream",
     "text": [
      " 41%|████      | 1229/3000 [02:55<04:21,  6.78it/s]"
     ]
    },
    {
     "name": "stdout",
     "output_type": "stream",
     "text": [
      "Step 1230: average-batch loss:16366.099548027643 rel loss: 0.306849038531463\n",
      "New learning rate: 0.00038891067969957333\n"
     ]
    },
    {
     "name": "stderr",
     "output_type": "stream",
     "text": [
      " 42%|████▏     | 1270/3000 [03:01<04:12,  6.84it/s]"
     ]
    },
    {
     "name": "stdout",
     "output_type": "stream",
     "text": [
      "Step 1271: average-batch loss:17407.47637290817 rel loss: 0.3483157814385739\n",
      "New learning rate: 0.0003850215729025776\n"
     ]
    },
    {
     "name": "stderr",
     "output_type": "stream",
     "text": [
      " 44%|████▎     | 1311/3000 [03:07<04:05,  6.88it/s]"
     ]
    },
    {
     "name": "stdout",
     "output_type": "stream",
     "text": [
      "Step 1312: average-batch loss:12191.121340606554 rel loss: 0.06947217403048717\n",
      "New learning rate: 0.0003811713571735518\n",
      "We are in a loss plateau\n",
      "Restoring from a checkpoint\n"
     ]
    },
    {
     "name": "stderr",
     "output_type": "stream",
     "text": [
      " 45%|████▌     | 1352/3000 [03:13<04:02,  6.79it/s]"
     ]
    },
    {
     "name": "stdout",
     "output_type": "stream",
     "text": [
      "Step 1353: average-batch loss:16002.770166481245 rel loss: 0.2911116313495394\n",
      "New learning rate: 0.0003773596436018163\n",
      "We are in a loss plateau\n",
      "Restoring from a checkpoint\n"
     ]
    },
    {
     "name": "stderr",
     "output_type": "stream",
     "text": [
      " 46%|████▋     | 1393/3000 [03:19<03:51,  6.94it/s]"
     ]
    },
    {
     "name": "stdout",
     "output_type": "stream",
     "text": [
      "Step 1394: average-batch loss:13314.468671269551 rel loss: 0.1479811987027291\n",
      "New learning rate: 0.0003735860471657981\n",
      "We are in a loss plateau\n",
      "Restoring from a checkpoint\n"
     ]
    },
    {
     "name": "stderr",
     "output_type": "stream",
     "text": [
      " 48%|████▊     | 1434/3000 [03:25<03:48,  6.85it/s]"
     ]
    },
    {
     "name": "stdout",
     "output_type": "stream",
     "text": [
      "Step 1435: average-batch loss:10364.292109954644 rel loss: 0.0945443757137403\n",
      "Saved a checkpoint: /var/folders/6s/m6kbjxb16sl9cg9rg6mj5czrv6ht9f/T/tfcheckpoints/23c1249c-4e89-4386-8bc8-c4df6e9d582d/23c1249c-4e89-4386-8bc8-c4df6e9d582d-7\n"
     ]
    },
    {
     "name": "stderr",
     "output_type": "stream",
     "text": [
      " 49%|████▉     | 1475/3000 [03:30<03:42,  6.85it/s]"
     ]
    },
    {
     "name": "stdout",
     "output_type": "stream",
     "text": [
      "Step 1476: average-batch loss:17307.59748069514 rel loss: 0.4011709527266882\n",
      "New learning rate: 0.0003698501866941401\n"
     ]
    },
    {
     "name": "stderr",
     "output_type": "stream",
     "text": [
      " 51%|█████     | 1516/3000 [03:36<03:33,  6.96it/s]"
     ]
    },
    {
     "name": "stdout",
     "output_type": "stream",
     "text": [
      "Step 1517: average-batch loss:12441.502659057049 rel loss: 0.16695817266013738\n",
      "New learning rate: 0.00036615168482719875\n"
     ]
    },
    {
     "name": "stderr",
     "output_type": "stream",
     "text": [
      " 52%|█████▏    | 1557/3000 [03:42<03:27,  6.95it/s]"
     ]
    },
    {
     "name": "stdout",
     "output_type": "stream",
     "text": [
      "Step 1558: average-batch loss:21594.13269951669 rel loss: 0.5200412883363168\n",
      "New learning rate: 0.0003624901679789267\n"
     ]
    },
    {
     "name": "stderr",
     "output_type": "stream",
     "text": [
      " 53%|█████▎    | 1598/3000 [03:48<03:19,  7.01it/s]"
     ]
    },
    {
     "name": "stdout",
     "output_type": "stream",
     "text": [
      "Step 1599: average-batch loss:11181.160101640107 rel loss: 0.07305753466186762\n",
      "New learning rate: 0.00035886526629913746\n"
     ]
    },
    {
     "name": "stderr",
     "output_type": "stream",
     "text": [
      " 55%|█████▍    | 1639/3000 [03:53<03:30,  6.46it/s]"
     ]
    },
    {
     "name": "stdout",
     "output_type": "stream",
     "text": [
      "Step 1640: average-batch loss:12453.86095378419 rel loss: 0.16778482203903328\n",
      "New learning rate: 0.00035527661363614604\n",
      "We are in a loss plateau\n",
      "Restoring from a checkpoint\n"
     ]
    },
    {
     "name": "stderr",
     "output_type": "stream",
     "text": [
      " 56%|█████▌    | 1680/3000 [03:59<03:12,  6.85it/s]"
     ]
    },
    {
     "name": "stdout",
     "output_type": "stream",
     "text": [
      "Step 1681: average-batch loss:15959.254316866543 rel loss: 0.3505779214884032\n",
      "New learning rate: 0.00035172384749978456\n",
      "We are in a loss plateau\n",
      "Restoring from a checkpoint\n"
     ]
    },
    {
     "name": "stderr",
     "output_type": "stream",
     "text": [
      " 57%|█████▋    | 1721/3000 [04:05<03:04,  6.93it/s]"
     ]
    },
    {
     "name": "stdout",
     "output_type": "stream",
     "text": [
      "Step 1722: average-batch loss:21700.985825320895 rel loss: 0.5224045491121653\n",
      "New learning rate: 0.00034820660902478676\n",
      "We are in a loss plateau\n",
      "Restoring from a checkpoint\n"
     ]
    },
    {
     "name": "stderr",
     "output_type": "stream",
     "text": [
      " 59%|█████▊    | 1762/3000 [04:11<03:00,  6.84it/s]"
     ]
    },
    {
     "name": "stdout",
     "output_type": "stream",
     "text": [
      "Step 1763: average-batch loss:19080.285460572275 rel loss: 0.4568062343002395\n",
      "New learning rate: 0.0003447245429345389\n",
      "We are in a loss plateau\n",
      "Restoring from a checkpoint\n"
     ]
    },
    {
     "name": "stderr",
     "output_type": "stream",
     "text": [
      " 60%|██████    | 1803/3000 [04:17<02:58,  6.72it/s]"
     ]
    },
    {
     "name": "stdout",
     "output_type": "stream",
     "text": [
      "Step 1804: average-batch loss:14820.788576518902 rel loss: 0.30069226367784796\n",
      "New learning rate: 0.00034127729750519346\n",
      "We are in a loss plateau\n",
      "Restoring from a checkpoint\n"
     ]
    },
    {
     "name": "stderr",
     "output_type": "stream",
     "text": [
      " 61%|██████▏   | 1844/3000 [04:23<02:48,  6.84it/s]"
     ]
    },
    {
     "name": "stdout",
     "output_type": "stream",
     "text": [
      "Step 1845: average-batch loss:9208.904929786862 rel loss: 0.12546412293068623\n",
      "Saved a checkpoint: /var/folders/6s/m6kbjxb16sl9cg9rg6mj5czrv6ht9f/T/tfcheckpoints/23c1249c-4e89-4386-8bc8-c4df6e9d582d/23c1249c-4e89-4386-8bc8-c4df6e9d582d-8\n"
     ]
    },
    {
     "name": "stderr",
     "output_type": "stream",
     "text": [
      " 63%|██████▎   | 1885/3000 [04:28<02:39,  7.01it/s]"
     ]
    },
    {
     "name": "stdout",
     "output_type": "stream",
     "text": [
      "Step 1886: average-batch loss:15196.449827167402 rel loss: 0.394009453884178\n",
      "New learning rate: 0.00033786452453014155\n"
     ]
    },
    {
     "name": "stderr",
     "output_type": "stream",
     "text": [
      " 64%|██████▍   | 1926/3000 [04:34<02:38,  6.77it/s]"
     ]
    },
    {
     "name": "stdout",
     "output_type": "stream",
     "text": [
      "Step 1927: average-batch loss:12112.667486787643 rel loss: 0.23972940396227096\n",
      "New learning rate: 0.0003344858792848401\n"
     ]
    },
    {
     "name": "stderr",
     "output_type": "stream",
     "text": [
      " 66%|██████▌   | 1967/3000 [04:40<02:28,  6.94it/s]"
     ]
    },
    {
     "name": "stdout",
     "output_type": "stream",
     "text": [
      "Step 1968: average-batch loss:14023.317389348525 rel loss: 0.3433148039007141\n",
      "New learning rate: 0.00033114102049199175\n"
     ]
    },
    {
     "name": "stderr",
     "output_type": "stream",
     "text": [
      " 67%|██████▋   | 2008/3000 [04:46<02:23,  6.91it/s]"
     ]
    },
    {
     "name": "stdout",
     "output_type": "stream",
     "text": [
      "Step 2009: average-batch loss:10617.243092688252 rel loss: 0.13264631417088546\n",
      "New learning rate: 0.0003278296102870718\n"
     ]
    },
    {
     "name": "stderr",
     "output_type": "stream",
     "text": [
      " 68%|██████▊   | 2049/3000 [04:51<02:17,  6.94it/s]"
     ]
    },
    {
     "name": "stdout",
     "output_type": "stream",
     "text": [
      "Step 2050: average-batch loss:10291.30003062273 rel loss: 0.10517574044242214\n",
      "New learning rate: 0.0003245513141842011\n",
      "We are in a loss plateau\n",
      "Restoring from a checkpoint\n"
     ]
    },
    {
     "name": "stderr",
     "output_type": "stream",
     "text": [
      " 70%|██████▉   | 2090/3000 [04:57<02:14,  6.75it/s]"
     ]
    },
    {
     "name": "stdout",
     "output_type": "stream",
     "text": [
      "Step 2091: average-batch loss:21637.18079975268 rel loss: 0.5743944178766522\n",
      "New learning rate: 0.00032130580104235905\n",
      "We are in a loss plateau\n",
      "Restoring from a checkpoint\n"
     ]
    },
    {
     "name": "stderr",
     "output_type": "stream",
     "text": [
      " 71%|███████   | 2131/3000 [05:03<02:06,  6.87it/s]"
     ]
    },
    {
     "name": "stdout",
     "output_type": "stream",
     "text": [
      "Step 2132: average-batch loss:9655.22275890963 rel loss: 0.04622553412461815\n",
      "New learning rate: 0.0003180927430319355\n",
      "We are in a loss plateau\n",
      "Restoring from a checkpoint\n"
     ]
    },
    {
     "name": "stderr",
     "output_type": "stream",
     "text": [
      " 72%|███████▏  | 2172/3000 [05:09<02:00,  6.89it/s]"
     ]
    },
    {
     "name": "stdout",
     "output_type": "stream",
     "text": [
      "Step 2173: average-batch loss:10939.824379201887 rel loss: 0.15822186804988767\n",
      "New learning rate: 0.00031491181560161616\n",
      "We are in a loss plateau\n",
      "Restoring from a checkpoint\n"
     ]
    },
    {
     "name": "stderr",
     "output_type": "stream",
     "text": [
      " 74%|███████▍  | 2213/3000 [05:15<02:00,  6.55it/s]"
     ]
    },
    {
     "name": "stdout",
     "output_type": "stream",
     "text": [
      "Step 2214: average-batch loss:9580.269116517089 rel loss: 0.03876343996328532\n",
      "New learning rate: 0.00031176269744559996\n",
      "We are in a loss plateau\n",
      "Restoring from a checkpoint\n"
     ]
    },
    {
     "name": "stderr",
     "output_type": "stream",
     "text": [
      " 75%|███████▌  | 2254/3000 [05:21<01:51,  6.69it/s]"
     ]
    },
    {
     "name": "stdout",
     "output_type": "stream",
     "text": [
      "Step 2255: average-batch loss:12941.173251208082 rel loss: 0.2884026238558243\n",
      "New learning rate: 0.00030864507047114397\n",
      "We are in a loss plateau\n",
      "Restoring from a checkpoint\n"
     ]
    },
    {
     "name": "stderr",
     "output_type": "stream",
     "text": [
      " 76%|███████▋  | 2295/3000 [05:27<01:43,  6.81it/s]"
     ]
    },
    {
     "name": "stdout",
     "output_type": "stream",
     "text": [
      "Step 2296: average-batch loss:13778.444017785467 rel loss: 0.33164405807362285\n",
      "New learning rate: 0.0003055586197664325\n",
      "We are in a loss plateau\n",
      "Restoring from a checkpoint\n"
     ]
    },
    {
     "name": "stderr",
     "output_type": "stream",
     "text": [
      " 78%|███████▊  | 2336/3000 [05:32<01:35,  6.92it/s]"
     ]
    },
    {
     "name": "stdout",
     "output_type": "stream",
     "text": [
      "Step 2337: average-batch loss:10849.002162667522 rel loss: 0.15117493832975673\n",
      "New learning rate: 0.0003025030335687682\n",
      "We are in a loss plateau\n",
      "Restoring from a checkpoint\n"
     ]
    },
    {
     "name": "stderr",
     "output_type": "stream",
     "text": [
      " 79%|███████▉  | 2377/3000 [05:38<01:29,  6.96it/s]"
     ]
    },
    {
     "name": "stdout",
     "output_type": "stream",
     "text": [
      "Step 2378: average-batch loss:9222.359449886393 rel loss: 0.0014589021575922769\n",
      "New learning rate: 0.0002994780032330805\n",
      "We are in a loss plateau\n",
      "Restoring from a checkpoint\n"
     ]
    },
    {
     "name": "stderr",
     "output_type": "stream",
     "text": [
      " 81%|████████  | 2418/3000 [05:44<01:29,  6.49it/s]"
     ]
    },
    {
     "name": "stdout",
     "output_type": "stream",
     "text": [
      "Step 2419: average-batch loss:10498.529020770842 rel loss: 0.12283855085150688\n",
      "New learning rate: 0.0002964832232007497\n",
      "We are in a loss plateau\n",
      "Restoring from a checkpoint\n"
     ]
    },
    {
     "name": "stderr",
     "output_type": "stream",
     "text": [
      " 82%|████████▏ | 2459/3000 [05:50<01:19,  6.78it/s]"
     ]
    },
    {
     "name": "stdout",
     "output_type": "stream",
     "text": [
      "Step 2460: average-batch loss:10146.810204003741 rel loss: 0.09243350918762616\n",
      "New learning rate: 0.00029351839096874223\n",
      "We are in a loss plateau\n",
      "Restoring from a checkpoint\n"
     ]
    },
    {
     "name": "stderr",
     "output_type": "stream",
     "text": [
      " 83%|████████▎ | 2500/3000 [05:56<01:12,  6.92it/s]"
     ]
    },
    {
     "name": "stdout",
     "output_type": "stream",
     "text": [
      "Step 2501: average-batch loss:11891.563907203825 rel loss: 0.22559345417904425\n",
      "New learning rate: 0.00029058320705905476\n",
      "We are in a loss plateau\n",
      "Restoring from a checkpoint\n"
     ]
    },
    {
     "name": "stderr",
     "output_type": "stream",
     "text": [
      " 85%|████████▍ | 2541/3000 [06:01<01:06,  6.89it/s]"
     ]
    },
    {
     "name": "stdout",
     "output_type": "stream",
     "text": [
      "Step 2542: average-batch loss:11423.948451179273 rel loss: 0.19389474058452666\n",
      "New learning rate: 0.00028767737498846423\n",
      "We are in a loss plateau\n",
      "Restoring from a checkpoint\n"
     ]
    },
    {
     "name": "stderr",
     "output_type": "stream",
     "text": [
      " 86%|████████▌ | 2582/3000 [06:07<01:00,  6.90it/s]"
     ]
    },
    {
     "name": "stdout",
     "output_type": "stream",
     "text": [
      "Step 2583: average-batch loss:10865.987067496715 rel loss: 0.15250175869127075\n",
      "New learning rate: 0.0002848006012385796\n",
      "We are in a loss plateau\n",
      "Restoring from a checkpoint\n"
     ]
    },
    {
     "name": "stderr",
     "output_type": "stream",
     "text": [
      " 87%|████████▋ | 2623/3000 [06:13<00:55,  6.78it/s]"
     ]
    },
    {
     "name": "stdout",
     "output_type": "stream",
     "text": [
      "Step 2624: average-batch loss:9097.025906860497 rel loss: 0.0122984175346793\n",
      "Saved a checkpoint: /var/folders/6s/m6kbjxb16sl9cg9rg6mj5czrv6ht9f/T/tfcheckpoints/23c1249c-4e89-4386-8bc8-c4df6e9d582d/23c1249c-4e89-4386-8bc8-c4df6e9d582d-9\n"
     ]
    },
    {
     "name": "stderr",
     "output_type": "stream",
     "text": [
      " 89%|████████▉ | 2664/3000 [06:19<00:51,  6.59it/s]"
     ]
    },
    {
     "name": "stdout",
     "output_type": "stream",
     "text": [
      "Step 2665: average-batch loss:14131.091590807366 rel loss: 0.35624039739588526\n",
      "New learning rate: 0.0002819525952261938\n"
     ]
    },
    {
     "name": "stderr",
     "output_type": "stream",
     "text": [
      " 90%|█████████ | 2705/3000 [06:25<00:43,  6.84it/s]"
     ]
    },
    {
     "name": "stdout",
     "output_type": "stream",
     "text": [
      "Step 2706: average-batch loss:14673.975110506897 rel loss: 0.3800571529968848\n",
      "New learning rate: 0.00027913306927393185\n"
     ]
    },
    {
     "name": "stderr",
     "output_type": "stream",
     "text": [
      " 92%|█████████▏| 2746/3000 [06:30<00:36,  6.95it/s]"
     ]
    },
    {
     "name": "stdout",
     "output_type": "stream",
     "text": [
      "Step 2747: average-batch loss:9665.22762135915 rel loss: 0.05878823932123297\n",
      "New learning rate: 0.00027634173858119256\n"
     ]
    },
    {
     "name": "stderr",
     "output_type": "stream",
     "text": [
      " 93%|█████████▎| 2787/3000 [06:36<00:30,  6.89it/s]"
     ]
    },
    {
     "name": "stdout",
     "output_type": "stream",
     "text": [
      "Step 2788: average-batch loss:10919.947351460683 rel loss: 0.16693500306632403\n",
      "New learning rate: 0.00027357832119538064\n"
     ]
    },
    {
     "name": "stderr",
     "output_type": "stream",
     "text": [
      " 94%|█████████▍| 2828/3000 [06:42<00:24,  6.91it/s]"
     ]
    },
    {
     "name": "stdout",
     "output_type": "stream",
     "text": [
      "Step 2829: average-batch loss:11126.9093316665 rel loss: 0.18243012181550536\n",
      "New learning rate: 0.0002708425379834268\n",
      "We are in a loss plateau\n",
      "Restoring from a checkpoint\n"
     ]
    },
    {
     "name": "stderr",
     "output_type": "stream",
     "text": [
      " 96%|█████████▌| 2869/3000 [06:48<00:19,  6.84it/s]"
     ]
    },
    {
     "name": "stdout",
     "output_type": "stream",
     "text": [
      "Step 2870: average-batch loss:12450.884855892255 rel loss: 0.26936711630134286\n",
      "New learning rate: 0.00026813411260359247\n",
      "We are in a loss plateau\n",
      "Restoring from a checkpoint\n"
     ]
    },
    {
     "name": "stderr",
     "output_type": "stream",
     "text": [
      " 97%|█████████▋| 2910/3000 [06:54<00:12,  6.92it/s]"
     ]
    },
    {
     "name": "stdout",
     "output_type": "stream",
     "text": [
      "Step 2911: average-batch loss:11349.711985727234 rel loss: 0.19847958095320736\n",
      "New learning rate: 0.0002654527714775566\n",
      "We are in a loss plateau\n",
      "Restoring from a checkpoint\n"
     ]
    },
    {
     "name": "stderr",
     "output_type": "stream",
     "text": [
      " 98%|█████████▊| 2951/3000 [07:00<00:07,  6.95it/s]"
     ]
    },
    {
     "name": "stdout",
     "output_type": "stream",
     "text": [
      "Step 2952: average-batch loss:8911.72388464475 rel loss: 0.020793061433942\n",
      "Saved a checkpoint: /var/folders/6s/m6kbjxb16sl9cg9rg6mj5czrv6ht9f/T/tfcheckpoints/23c1249c-4e89-4386-8bc8-c4df6e9d582d/23c1249c-4e89-4386-8bc8-c4df6e9d582d-10\n"
     ]
    },
    {
     "name": "stderr",
     "output_type": "stream",
     "text": [
      "100%|█████████▉| 2992/3000 [07:05<00:01,  5.45it/s]"
     ]
    },
    {
     "name": "stdout",
     "output_type": "stream",
     "text": [
      "Step 2993: average-batch loss:10535.894264536943 rel loss: 0.15415591112745233\n",
      "New learning rate: 0.000262798243762781\n"
     ]
    },
    {
     "name": "stderr",
     "output_type": "stream",
     "text": [
      "100%|██████████| 3000/3000 [07:07<00:00,  6.90it/s]"
     ]
    },
    {
     "name": "stdout",
     "output_type": "stream",
     "text": [
      "Terminating because we are out of iterations\n"
     ]
    },
    {
     "name": "stderr",
     "output_type": "stream",
     "text": [
      "100%|██████████| 3000/3000 [07:07<00:00,  7.02it/s]\n"
     ]
    }
   ],
   "source": [
    "losses = grm.fit(\n",
    "            data_factory_factory(shuffle=False, repeat=True),\n",
    "            dataset_size=num_people,\n",
    "            batches_per_step=1,\n",
    "            check_every=int(num_people/batch_size),\n",
    "            batch_size=batch_size,\n",
    "            num_steps=3000,\n",
    "            max_decay_steps=100,\n",
    "            max_plateau_epochs=100,\n",
    "            sample_size=32, \n",
    "            learning_rate=0.0005)"
   ]
  },
  {
   "cell_type": "code",
   "execution_count": 8,
   "metadata": {},
   "outputs": [
    {
     "data": {
      "text/plain": [
       "TensorShape([256, 1, 2, 22, 1])"
      ]
     },
     "execution_count": 8,
     "metadata": {},
     "output_type": "execute_result"
    }
   ],
   "source": [
    "params = grm.sample(256)\n",
    "discrim = params['discriminations']\n",
    "discrim.shape"
   ]
  },
  {
   "cell_type": "code",
   "execution_count": 9,
   "metadata": {},
   "outputs": [],
   "source": [
    "discrim_mean = np.mean(discrim, axis=0)"
   ]
  },
  {
   "cell_type": "code",
   "execution_count": null,
   "metadata": {},
   "outputs": [],
   "source": []
  },
  {
   "cell_type": "code",
   "execution_count": 10,
   "metadata": {},
   "outputs": [
    {
     "data": {
      "image/png": "[encoded data removed]",
      "text/plain": [
       "<Figure size 640x480 with 2 Axes>"
      ]
     },
     "metadata": {},
     "output_type": "display_data"
    }
   ],
   "source": [
    "plt.pcolormesh(discrim_mean[0, ..., 0], vmin=0, cmap='Reds')\n",
    "_ = plt.colorbar()\n",
    "_ = plt.title(\"IRT model\")"
   ]
  },
  {
   "cell_type": "code",
   "execution_count": 11,
   "metadata": {},
   "outputs": [
    {
     "data": {
      "image/png": "[encoded data removed]",
      "text/plain": [
       "<Figure size 640x480 with 2 Axes>"
      ]
     },
     "metadata": {},
     "output_type": "display_data"
    }
   ],
   "source": [
    "plt.pcolormesh(loadings.T, cmap=\"seismic_r\", vmin=-1, vmax=1)\n",
    "plt.colorbar()\n",
    "_ = plt.title(\"EFA loadings\")"
   ]
  },
  {
   "cell_type": "code",
   "execution_count": 12,
   "metadata": {},
   "outputs": [
    {
     "data": {
      "text/plain": [
       "array([[2.12253338e-03, 2.65561768e+00, 7.08433483e-03, 1.02577042e+00,\n",
       "        1.41793734e-03, 7.00419686e-01, 5.23817802e-03, 1.41498319e+00,\n",
       "        1.14751730e+00, 1.06846240e-02, 1.09325324e+00, 9.59392752e-03,\n",
       "        1.18344718e+00, 2.92055844e-03, 1.37441006e+00, 2.88462710e+00,\n",
       "        1.00256012e-02, 8.15916318e-01, 2.35247564e-03, 9.65113097e-01,\n",
       "        1.28114662e+00, 7.34065017e-03],\n",
       "       [2.72412926e+00, 5.76768282e-03, 5.26566462e+00, 1.91148275e-03,\n",
       "        3.53946885e+00, 6.69104360e-05, 4.89027250e+00, 3.72058083e-03,\n",
       "        4.98957100e-03, 5.19182312e+00, 2.32705116e-03, 4.39845598e+00,\n",
       "        2.32693794e-03, 3.72345931e+00, 3.78461892e-03, 6.36568432e-03,\n",
       "        4.86470435e+00, 3.78131627e-04, 4.27928497e+00, 1.41270750e-03,\n",
       "        2.78759645e-03, 4.87542257e+00]])"
      ]
     },
     "execution_count": 12,
     "metadata": {},
     "output_type": "execute_result"
    }
   ],
   "source": [
    "discrim_mean[0, ..., 0]"
   ]
  },
  {
   "cell_type": "code",
   "execution_count": 13,
   "metadata": {},
   "outputs": [
    {
     "data": {
      "text/plain": [
       "[[1, 3, 5, 7, 8, 10, 12, 14, 15, 17, 19, 20],\n",
       " [0, 2, 4, 6, 9, 11, 13, 16, 18, 21]]"
      ]
     },
     "execution_count": 13,
     "metadata": {},
     "output_type": "execute_result"
    }
   ],
   "source": [
    "scale_indices = [np.where(discrim_mean[0, ..., 0][0, :] > .5)[0].tolist()]\n",
    "scale_indices += [[i for i in range(22) if i not in scale_indices[0]]]\n",
    "scale_indices"
   ]
  },
  {
   "cell_type": "code",
   "execution_count": 14,
   "metadata": {},
   "outputs": [
    {
     "data": {
      "text/plain": [
       "dict_keys(['mu', 'kappa_a', 'kappa', 'eta', 'discriminations', 'difficulties0', 'ddifficulties', 'abilities'])"
      ]
     },
     "execution_count": 14,
     "metadata": {},
     "output_type": "execute_result"
    }
   ],
   "source": [
    "params.keys()"
   ]
  },
  {
   "cell_type": "markdown",
   "metadata": {},
   "source": [
    "# Build fully factorized model"
   ]
  },
  {
   "cell_type": "code",
   "execution_count": 15,
   "metadata": {},
   "outputs": [],
   "source": [
    "fgrm = FactorizedGRModel(\n",
    "    data=tfdata,\n",
    "    item_keys=item_names,\n",
    "    num_people=num_people,\n",
    "    dim=dim,\n",
    "    eta_scale=1e-3,\n",
    "    kappa_scale=1e-3,\n",
    "    weight_exponent=1,\n",
    "    response_cardinality=10,\n",
    "    scale_indices=scale_indices,\n",
    "    discrimination_guess=tf.cast(np.abs(loadings).T, tf.float64)[tf.newaxis, :, :, tf.newaxis]\n",
    ")"
   ]
  },
  {
   "cell_type": "code",
   "execution_count": 16,
   "metadata": {},
   "outputs": [],
   "source": [
    "fparams = fgrm.sample(5)"
   ]
  },
  {
   "cell_type": "code",
   "execution_count": 17,
   "metadata": {},
   "outputs": [],
   "source": [
    "fparams\n",
    "batch_shape = 5"
   ]
  },
  {
   "cell_type": "code",
   "execution_count": 18,
   "metadata": {},
   "outputs": [
    {
     "data": {
      "text/plain": [
       "22"
      ]
     },
     "execution_count": 18,
     "metadata": {},
     "output_type": "execute_result"
    }
   ],
   "source": [
    "fgrm.num_items"
   ]
  },
  {
   "cell_type": "code",
   "execution_count": 19,
   "metadata": {},
   "outputs": [
    {
     "data": {
      "text/plain": [
       "[5, 1, 1, 12, 1]"
      ]
     },
     "execution_count": 19,
     "metadata": {},
     "output_type": "execute_result"
    }
   ],
   "source": [
    "p_shape = fparams['discriminations_0'].shape.as_list()\n",
    "p_shape"
   ]
  },
  {
   "cell_type": "code",
   "execution_count": 20,
   "metadata": {},
   "outputs": [
    {
     "data": {
      "text/plain": [
       "<tf.Tensor: shape=(5, 1, 1, 12, 1), dtype=float64, numpy=\n",
       "array([[[[[0.50420097],\n",
       "          [0.88353521],\n",
       "          [0.71488519],\n",
       "          [0.53141086],\n",
       "          [0.45931452],\n",
       "          [0.78147849],\n",
       "          [0.76144546],\n",
       "          [0.47691672],\n",
       "          [0.57007654],\n",
       "          [0.7977078 ],\n",
       "          [0.72265439],\n",
       "          [0.69540304]]]],\n",
       "\n",
       "\n",
       "\n",
       "       [[[[0.54208099],\n",
       "          [0.87993931],\n",
       "          [0.72769808],\n",
       "          [0.51578078],\n",
       "          [0.50168164],\n",
       "          [0.79412181],\n",
       "          [0.698733  ],\n",
       "          [0.46524369],\n",
       "          [0.62835911],\n",
       "          [0.71712864],\n",
       "          [0.7840023 ],\n",
       "          [0.68616797]]]],\n",
       "\n",
       "\n",
       "\n",
       "       [[[[0.52954111],\n",
       "          [0.88447535],\n",
       "          [0.73304799],\n",
       "          [0.50289789],\n",
       "          [0.46502138],\n",
       "          [0.82865769],\n",
       "          [0.7491307 ],\n",
       "          [0.50335416],\n",
       "          [0.64937354],\n",
       "          [0.73926198],\n",
       "          [0.75218081],\n",
       "          [0.75938399]]]],\n",
       "\n",
       "\n",
       "\n",
       "       [[[[0.53663759],\n",
       "          [0.90275076],\n",
       "          [0.69785926],\n",
       "          [0.50172052],\n",
       "          [0.52996076],\n",
       "          [0.8315499 ],\n",
       "          [0.78807631],\n",
       "          [0.47188046],\n",
       "          [0.58469044],\n",
       "          [0.7429099 ],\n",
       "          [0.75298009],\n",
       "          [0.73892551]]]],\n",
       "\n",
       "\n",
       "\n",
       "       [[[[0.49906056],\n",
       "          [0.90155934],\n",
       "          [0.7231479 ],\n",
       "          [0.52513128],\n",
       "          [0.44832897],\n",
       "          [0.79657239],\n",
       "          [0.71788389],\n",
       "          [0.48386963],\n",
       "          [0.65459027],\n",
       "          [0.74785265],\n",
       "          [0.73455463],\n",
       "          [0.70303022]]]]])>"
      ]
     },
     "execution_count": 20,
     "metadata": {},
     "output_type": "execute_result"
    }
   ],
   "source": [
    "fparams['discriminations_0']"
   ]
  },
  {
   "cell_type": "code",
   "execution_count": 26,
   "metadata": {},
   "outputs": [
    {
     "data": {
      "text/plain": [
       "[5, 1, 2, 22, 1]"
      ]
     },
     "execution_count": 26,
     "metadata": {},
     "output_type": "execute_result"
    }
   ],
   "source": [
    "dis_shape = p_shape[:-3] + [fgrm.dim] + [fgrm.num_items, 1]\n",
    "dis_shape"
   ]
  },
  {
   "cell_type": "code",
   "execution_count": 36,
   "metadata": {},
   "outputs": [],
   "source": [
    "dis_shape =  [fgrm.dim] + [fgrm.num_items, 1] + p_shape[:-3]\n"
   ]
  },
  {
   "cell_type": "code",
   "execution_count": 37,
   "metadata": {},
   "outputs": [
    {
     "data": {
      "text/plain": [
       "[[0, 1],\n",
       " [0, 3],\n",
       " [0, 5],\n",
       " [0, 7],\n",
       " [0, 8],\n",
       " [0, 10],\n",
       " [0, 12],\n",
       " [0, 14],\n",
       " [0, 15],\n",
       " [0, 17],\n",
       " [0, 19],\n",
       " [0, 20]]"
      ]
     },
     "execution_count": 37,
     "metadata": {},
     "output_type": "execute_result"
    }
   ],
   "source": [
    "scatter_ndx = [[0, j] for j in fgrm.scale_indices[0]]\n",
    "scatter_ndx"
   ]
  },
  {
   "cell_type": "code",
   "execution_count": 38,
   "metadata": {},
   "outputs": [
    {
     "data": {
      "text/plain": [
       "TensorShape([5, 1, 1, 12, 1])"
      ]
     },
     "execution_count": 38,
     "metadata": {},
     "output_type": "execute_result"
    }
   ],
   "source": [
    "fparams['discriminations_0'].shape"
   ]
  },
  {
   "cell_type": "code",
   "execution_count": 39,
   "metadata": {},
   "outputs": [
    {
     "name": "stderr",
     "output_type": "stream",
     "text": [
      "2024-03-26 17:46:56.338784: W tensorflow/core/framework/local_rendezvous.cc:404] Local rendezvous is aborting with status: INVALID_ARGUMENT: Dimensions [0,1) of indices[shape=[12,2]] must match dimensions [0,1) of updates[shape=[1,12,1,5,1]]\n"
     ]
    },
    {
     "ename": "InvalidArgumentError",
     "evalue": "{{function_node __wrapped__ScatterNd_device_/job:localhost/replica:0/task:0/device:CPU:0}} Dimensions [0,1) of indices[shape=[12,2]] must match dimensions [0,1) of updates[shape=[1,12,1,5,1]] [Op:ScatterNd]",
     "output_type": "error",
     "traceback": [
      "\u001b[0;31m---------------------------------------------------------------------------\u001b[0m",
      "\u001b[0;31mInvalidArgumentError\u001b[0m                      Traceback (most recent call last)",
      "Cell \u001b[0;32mIn[39], line 1\u001b[0m\n\u001b[0;32m----> 1\u001b[0m \u001b[43mtf\u001b[49m\u001b[38;5;241;43m.\u001b[39;49m\u001b[43mscatter_nd\u001b[49m\u001b[43m(\u001b[49m\n\u001b[1;32m      2\u001b[0m \u001b[43m    \u001b[49m\u001b[43mscatter_ndx\u001b[49m\u001b[43m,\u001b[49m\n\u001b[1;32m      3\u001b[0m \u001b[43m    \u001b[49m\u001b[43mtf\u001b[49m\u001b[38;5;241;43m.\u001b[39;49m\u001b[43mtranspose\u001b[49m\u001b[43m(\u001b[49m\u001b[43mfparams\u001b[49m\u001b[43m[\u001b[49m\u001b[38;5;124;43m'\u001b[39;49m\u001b[38;5;124;43mdiscriminations_0\u001b[39;49m\u001b[38;5;124;43m'\u001b[39;49m\u001b[43m]\u001b[49m\u001b[43m,\u001b[49m\u001b[43m \u001b[49m\u001b[43m[\u001b[49m\u001b[38;5;241;43m2\u001b[39;49m\u001b[43m,\u001b[49m\u001b[43m \u001b[49m\u001b[38;5;241;43m3\u001b[39;49m\u001b[43m,\u001b[49m\u001b[43m \u001b[49m\u001b[38;5;241;43m4\u001b[39;49m\u001b[43m,\u001b[49m\u001b[43m \u001b[49m\u001b[38;5;241;43m0\u001b[39;49m\u001b[43m,\u001b[49m\u001b[43m \u001b[49m\u001b[38;5;241;43m1\u001b[39;49m\u001b[43m]\u001b[49m\u001b[43m)\u001b[49m\u001b[43m,\u001b[49m\n\u001b[1;32m      4\u001b[0m \u001b[43m    \u001b[49m\u001b[43mshape\u001b[49m\u001b[38;5;241;43m=\u001b[39;49m\u001b[43mdis_shape\u001b[49m\u001b[43m)\u001b[49m\n",
      "File \u001b[0;32m~/workspace/autoencirt/env/lib/python3.11/site-packages/tensorflow/python/ops/gen_array_ops.py:9395\u001b[0m, in \u001b[0;36mscatter_nd\u001b[0;34m(indices, updates, shape, name)\u001b[0m\n\u001b[1;32m   9393\u001b[0m   \u001b[38;5;28;01mif\u001b[39;00m _result \u001b[38;5;129;01mis\u001b[39;00m \u001b[38;5;129;01mnot\u001b[39;00m \u001b[38;5;28mNotImplemented\u001b[39m:\n\u001b[1;32m   9394\u001b[0m     \u001b[38;5;28;01mreturn\u001b[39;00m _result\n\u001b[0;32m-> 9395\u001b[0m   \u001b[38;5;28;01mreturn\u001b[39;00m \u001b[43mscatter_nd_eager_fallback\u001b[49m\u001b[43m(\u001b[49m\n\u001b[1;32m   9396\u001b[0m \u001b[43m      \u001b[49m\u001b[43mindices\u001b[49m\u001b[43m,\u001b[49m\u001b[43m \u001b[49m\u001b[43mupdates\u001b[49m\u001b[43m,\u001b[49m\u001b[43m \u001b[49m\u001b[43mshape\u001b[49m\u001b[43m,\u001b[49m\u001b[43m \u001b[49m\u001b[43mname\u001b[49m\u001b[38;5;241;43m=\u001b[39;49m\u001b[43mname\u001b[49m\u001b[43m,\u001b[49m\u001b[43m \u001b[49m\u001b[43mctx\u001b[49m\u001b[38;5;241;43m=\u001b[39;49m\u001b[43m_ctx\u001b[49m\u001b[43m)\u001b[49m\n\u001b[1;32m   9397\u001b[0m \u001b[38;5;28;01mexcept\u001b[39;00m _core\u001b[38;5;241m.\u001b[39m_SymbolicException:\n\u001b[1;32m   9398\u001b[0m   \u001b[38;5;28;01mpass\u001b[39;00m  \u001b[38;5;66;03m# Add nodes to the TensorFlow graph.\u001b[39;00m\n",
      "File \u001b[0;32m~/workspace/autoencirt/env/lib/python3.11/site-packages/tensorflow/python/ops/gen_array_ops.py:9444\u001b[0m, in \u001b[0;36mscatter_nd_eager_fallback\u001b[0;34m(indices, updates, shape, name, ctx)\u001b[0m\n\u001b[1;32m   9442\u001b[0m _inputs_flat \u001b[38;5;241m=\u001b[39m [indices, updates, shape]\n\u001b[1;32m   9443\u001b[0m _attrs \u001b[38;5;241m=\u001b[39m (\u001b[38;5;124m\"\u001b[39m\u001b[38;5;124mT\u001b[39m\u001b[38;5;124m\"\u001b[39m, _attr_T, \u001b[38;5;124m\"\u001b[39m\u001b[38;5;124mTindices\u001b[39m\u001b[38;5;124m\"\u001b[39m, _attr_Tindices)\n\u001b[0;32m-> 9444\u001b[0m _result \u001b[38;5;241m=\u001b[39m \u001b[43m_execute\u001b[49m\u001b[38;5;241;43m.\u001b[39;49m\u001b[43mexecute\u001b[49m\u001b[43m(\u001b[49m\u001b[38;5;124;43mb\u001b[39;49m\u001b[38;5;124;43m\"\u001b[39;49m\u001b[38;5;124;43mScatterNd\u001b[39;49m\u001b[38;5;124;43m\"\u001b[39;49m\u001b[43m,\u001b[49m\u001b[43m \u001b[49m\u001b[38;5;241;43m1\u001b[39;49m\u001b[43m,\u001b[49m\u001b[43m \u001b[49m\u001b[43minputs\u001b[49m\u001b[38;5;241;43m=\u001b[39;49m\u001b[43m_inputs_flat\u001b[49m\u001b[43m,\u001b[49m\n\u001b[1;32m   9445\u001b[0m \u001b[43m                           \u001b[49m\u001b[43mattrs\u001b[49m\u001b[38;5;241;43m=\u001b[39;49m\u001b[43m_attrs\u001b[49m\u001b[43m,\u001b[49m\u001b[43m \u001b[49m\u001b[43mctx\u001b[49m\u001b[38;5;241;43m=\u001b[39;49m\u001b[43mctx\u001b[49m\u001b[43m,\u001b[49m\u001b[43m \u001b[49m\u001b[43mname\u001b[49m\u001b[38;5;241;43m=\u001b[39;49m\u001b[43mname\u001b[49m\u001b[43m)\u001b[49m\n\u001b[1;32m   9446\u001b[0m \u001b[38;5;28;01mif\u001b[39;00m _execute\u001b[38;5;241m.\u001b[39mmust_record_gradient():\n\u001b[1;32m   9447\u001b[0m   _execute\u001b[38;5;241m.\u001b[39mrecord_gradient(\n\u001b[1;32m   9448\u001b[0m       \u001b[38;5;124m\"\u001b[39m\u001b[38;5;124mScatterNd\u001b[39m\u001b[38;5;124m\"\u001b[39m, _inputs_flat, _attrs, _result)\n",
      "File \u001b[0;32m~/workspace/autoencirt/env/lib/python3.11/site-packages/tensorflow/python/eager/execute.py:53\u001b[0m, in \u001b[0;36mquick_execute\u001b[0;34m(op_name, num_outputs, inputs, attrs, ctx, name)\u001b[0m\n\u001b[1;32m     51\u001b[0m \u001b[38;5;28;01mtry\u001b[39;00m:\n\u001b[1;32m     52\u001b[0m   ctx\u001b[38;5;241m.\u001b[39mensure_initialized()\n\u001b[0;32m---> 53\u001b[0m   tensors \u001b[38;5;241m=\u001b[39m \u001b[43mpywrap_tfe\u001b[49m\u001b[38;5;241;43m.\u001b[39;49m\u001b[43mTFE_Py_Execute\u001b[49m\u001b[43m(\u001b[49m\u001b[43mctx\u001b[49m\u001b[38;5;241;43m.\u001b[39;49m\u001b[43m_handle\u001b[49m\u001b[43m,\u001b[49m\u001b[43m \u001b[49m\u001b[43mdevice_name\u001b[49m\u001b[43m,\u001b[49m\u001b[43m \u001b[49m\u001b[43mop_name\u001b[49m\u001b[43m,\u001b[49m\n\u001b[1;32m     54\u001b[0m \u001b[43m                                      \u001b[49m\u001b[43minputs\u001b[49m\u001b[43m,\u001b[49m\u001b[43m \u001b[49m\u001b[43mattrs\u001b[49m\u001b[43m,\u001b[49m\u001b[43m \u001b[49m\u001b[43mnum_outputs\u001b[49m\u001b[43m)\u001b[49m\n\u001b[1;32m     55\u001b[0m \u001b[38;5;28;01mexcept\u001b[39;00m core\u001b[38;5;241m.\u001b[39m_NotOkStatusException \u001b[38;5;28;01mas\u001b[39;00m e:\n\u001b[1;32m     56\u001b[0m   \u001b[38;5;28;01mif\u001b[39;00m name \u001b[38;5;129;01mis\u001b[39;00m \u001b[38;5;129;01mnot\u001b[39;00m \u001b[38;5;28;01mNone\u001b[39;00m:\n",
      "\u001b[0;31mInvalidArgumentError\u001b[0m: {{function_node __wrapped__ScatterNd_device_/job:localhost/replica:0/task:0/device:CPU:0}} Dimensions [0,1) of indices[shape=[12,2]] must match dimensions [0,1) of updates[shape=[1,12,1,5,1]] [Op:ScatterNd]"
     ]
    }
   ],
   "source": [
    "tf.scatter_nd(\n",
    "    scatter_ndx,\n",
    "    tf.transpose(fparams['discriminations_0'], [2, 3, 4, 0, 1]),\n",
    "    shape=dis_shape)"
   ]
  },
  {
   "cell_type": "code",
   "execution_count": null,
   "metadata": {},
   "outputs": [],
   "source": []
  }
 ],
 "metadata": {
  "kernelspec": {
   "display_name": "Python 3.8.7 64-bit ('3.8.7')",
   "metadata": {
    "interpreter": {
     "hash": "b24fb63a86a0a9cc1cf2a9285a4ac90a6df732b2195d3b2b0752fb2dcb2673f7"
    }
   },
   "name": "python3"
  },
  "language_info": {
   "codemirror_mode": {
    "name": "ipython",
    "version": 3
   },
   "file_extension": ".py",
   "mimetype": "text/x-python",
   "name": "python",
   "nbconvert_exporter": "python",
   "pygments_lexer": "ipython3",
   "version": "3.11.6"
  }
 },
 "nbformat": 4,
 "nbformat_minor": 4
}
