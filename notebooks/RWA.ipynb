{
 "cells": [
  {
   "cell_type": "markdown",
   "metadata": {},
   "source": [
    "!pip install git+https://github.com/CC-RMD-EpiBio/autoencirt.git"
   ]
  },
  {
   "cell_type": "code",
   "execution_count": 1,
   "metadata": {},
   "outputs": [
    {
     "name": "stdout",
     "output_type": "stream",
     "text": [
      "%pylab is deprecated, use %matplotlib inline and import the required libraries.\n",
      "Populating the interactive namespace from numpy and matplotlib\n"
     ]
    }
   ],
   "source": [
    "%pylab inline\n",
    "import numpy as np\n",
    "import sys\n",
    "sys.path.append('../bayesianquilts')\n",
    "\n",
    "import matplotlib.pyplot as plt\n"
   ]
  },
  {
   "cell_type": "code",
   "execution_count": 2,
   "metadata": {},
   "outputs": [],
   "source": [
    "from factor_analyzer import FactorAnalyzer"
   ]
  },
  {
   "cell_type": "code",
   "execution_count": 3,
   "metadata": {},
   "outputs": [],
   "source": [
    "import tensorflow as tf\n",
    "import autoencirt\n",
    "from autoencirt.irt import GRModel, FactorizedGRModel\n",
    "from autoencirt.data.rwa import item_text, get_data\n",
    "\n",
    "dim = 2"
   ]
  },
  {
   "cell_type": "code",
   "execution_count": 4,
   "metadata": {},
   "outputs": [
    {
     "data": {
      "text/plain": [
       "(22, 2)"
      ]
     },
     "execution_count": 4,
     "metadata": {},
     "output_type": "execute_result"
    }
   ],
   "source": [
    "pd_data = get_data(reorient=True, pandas=True)\n",
    "responses = pd_data[0].iloc[:, :22]\n",
    "fa = FactorAnalyzer(n_factors=dim)\n",
    "fa.fit(responses)\n",
    "loadings = fa.loadings_\n",
    "loadings.shape\n"
   ]
  },
  {
   "cell_type": "code",
   "execution_count": 5,
   "metadata": {},
   "outputs": [],
   "source": [
    "tfdata, num_people = get_data(reorient=True)\n",
    "item_names = [f\"Q{j}\" for j in range(1, 23)]\n",
    "scale_indices = [\n",
    "    [1, 3, 5, 7, 8, 10, 12, 14, 15, 17, 19, 20],\n",
    "    [0, 2, 4, 6, 9, 11, 13, 16, 18, 21],\n",
    "]\n",
    "fgrm = FactorizedGRModel(\n",
    "    data=tfdata,\n",
    "    item_keys=item_names,\n",
    "    num_people=num_people,\n",
    "    dim=dim,\n",
    "    eta_scale=1e-3,\n",
    "    kappa_scale=1e-3,\n",
    "    weight_exponent=1,\n",
    "    response_cardinality=10,\n",
    "    scale_indices=scale_indices,\n",
    "    discrimination_guess=0.5*tf.cast(np.abs(loadings).T, tf.float64)[\n",
    "        tf.newaxis, :, :, tf.newaxis\n",
    "    ],\n",
    ")\n",
    "\n",
    "grm = GRModel(\n",
    "    data=tfdata,\n",
    "    item_keys=item_names,\n",
    "    num_people=num_people,\n",
    "    dim=dim,\n",
    "    eta_scale=1e-3,\n",
    "    kappa_scale=1e-3,\n",
    "    weight_exponent=1,\n",
    "    response_cardinality=10,\n",
    "    discrimination_guess=0.5*tf.cast(np.abs(loadings).T, tf.float64)[\n",
    "        tf.newaxis, :, :, tf.newaxis\n",
    "    ],\n",
    ")\n",
    "\n",
    "batch_size = 241\n",
    "\n",
    "\n",
    "def data_factory_factory(batch_size=batch_size, repeat=False, shuffle=False):\n",
    "    def data_factory(batch_size=batch_size):\n",
    "        if shuffle:\n",
    "            out = tfdata.shuffle(batch_size * 10)\n",
    "        else:\n",
    "            out = tfdata\n",
    "\n",
    "        if repeat:\n",
    "            out = out.repeat()\n",
    "        return out.batch(batch_size)\n",
    "\n",
    "    return data_factory"
   ]
  },
  {
   "cell_type": "code",
   "execution_count": 6,
   "metadata": {},
   "outputs": [
    {
     "name": "stdout",
     "output_type": "stream",
     "text": [
      "Running optimization for 2000 steps of 1 accumulated batches, checking every 41 steps\n",
      "Saved a checkpoint: /var/folders/6s/m6kbjxb16sl9cg9rg6mj5czrv6ht9f/T/tfcheckpoints/42316e4b-7805-47b3-bd5f-cc4e6f3b8a76/42316e4b-7805-47b3-bd5f-cc4e6f3b8a76-1\n"
     ]
    },
    {
     "name": "stderr",
     "output_type": "stream",
     "text": [
      "  2%|▏         | 40/2000 [00:07<03:57,  8.24it/s] "
     ]
    },
    {
     "name": "stdout",
     "output_type": "stream",
     "text": [
      "Step 41: average-batch loss:410191.3586411597 rel loss: 2.4378865593675557e+302\n",
      "Saved a checkpoint: /var/folders/6s/m6kbjxb16sl9cg9rg6mj5czrv6ht9f/T/tfcheckpoints/42316e4b-7805-47b3-bd5f-cc4e6f3b8a76/42316e4b-7805-47b3-bd5f-cc4e6f3b8a76-2\n"
     ]
    },
    {
     "name": "stderr",
     "output_type": "stream",
     "text": [
      "  4%|▍         | 81/2000 [00:13<04:21,  7.34it/s]"
     ]
    },
    {
     "name": "stdout",
     "output_type": "stream",
     "text": [
      "Step 82: average-batch loss:398760.1879591109 rel loss: 0.02866678025345146\n",
      "Saved a checkpoint: /var/folders/6s/m6kbjxb16sl9cg9rg6mj5czrv6ht9f/T/tfcheckpoints/42316e4b-7805-47b3-bd5f-cc4e6f3b8a76/42316e4b-7805-47b3-bd5f-cc4e6f3b8a76-3\n"
     ]
    },
    {
     "name": "stderr",
     "output_type": "stream",
     "text": [
      "  6%|▌         | 122/2000 [00:18<04:24,  7.09it/s]"
     ]
    },
    {
     "name": "stdout",
     "output_type": "stream",
     "text": [
      "Step 123: average-batch loss:383898.5392190019 rel loss: 0.03871243889164918\n",
      "Saved a checkpoint: /var/folders/6s/m6kbjxb16sl9cg9rg6mj5czrv6ht9f/T/tfcheckpoints/42316e4b-7805-47b3-bd5f-cc4e6f3b8a76/42316e4b-7805-47b3-bd5f-cc4e6f3b8a76-4\n"
     ]
    },
    {
     "name": "stderr",
     "output_type": "stream",
     "text": [
      "  8%|▊         | 163/2000 [00:24<03:58,  7.69it/s]"
     ]
    },
    {
     "name": "stdout",
     "output_type": "stream",
     "text": [
      "Step 164: average-batch loss:372439.038211279 rel loss: 0.03076879658684454\n",
      "Saved a checkpoint: /var/folders/6s/m6kbjxb16sl9cg9rg6mj5czrv6ht9f/T/tfcheckpoints/42316e4b-7805-47b3-bd5f-cc4e6f3b8a76/42316e4b-7805-47b3-bd5f-cc4e6f3b8a76-5\n"
     ]
    },
    {
     "name": "stderr",
     "output_type": "stream",
     "text": [
      " 10%|█         | 204/2000 [00:29<03:55,  7.62it/s]"
     ]
    },
    {
     "name": "stdout",
     "output_type": "stream",
     "text": [
      "Step 205: average-batch loss:340932.3224644819 rel loss: 0.09241340192987846\n",
      "Saved a checkpoint: /var/folders/6s/m6kbjxb16sl9cg9rg6mj5czrv6ht9f/T/tfcheckpoints/42316e4b-7805-47b3-bd5f-cc4e6f3b8a76/42316e4b-7805-47b3-bd5f-cc4e6f3b8a76-6\n"
     ]
    },
    {
     "name": "stderr",
     "output_type": "stream",
     "text": [
      " 12%|█▏        | 245/2000 [00:35<03:48,  7.67it/s]"
     ]
    },
    {
     "name": "stdout",
     "output_type": "stream",
     "text": [
      "Step 246: average-batch loss:319225.6335210001 rel loss: 0.06799795086647974\n",
      "Saved a checkpoint: /var/folders/6s/m6kbjxb16sl9cg9rg6mj5czrv6ht9f/T/tfcheckpoints/42316e4b-7805-47b3-bd5f-cc4e6f3b8a76/42316e4b-7805-47b3-bd5f-cc4e6f3b8a76-7\n"
     ]
    },
    {
     "name": "stderr",
     "output_type": "stream",
     "text": [
      " 14%|█▍        | 286/2000 [00:41<03:53,  7.34it/s]"
     ]
    },
    {
     "name": "stdout",
     "output_type": "stream",
     "text": [
      "Step 287: average-batch loss:326123.4750733271 rel loss: 0.021151012053873267\n",
      "New learning rate: 0.001485\n"
     ]
    },
    {
     "name": "stderr",
     "output_type": "stream",
     "text": [
      " 16%|█▋        | 327/2000 [00:47<03:37,  7.68it/s]"
     ]
    },
    {
     "name": "stdout",
     "output_type": "stream",
     "text": [
      "Step 328: average-batch loss:297387.95594480506 rel loss: 0.07343161395630997\n",
      "Saved a checkpoint: /var/folders/6s/m6kbjxb16sl9cg9rg6mj5czrv6ht9f/T/tfcheckpoints/42316e4b-7805-47b3-bd5f-cc4e6f3b8a76/42316e4b-7805-47b3-bd5f-cc4e6f3b8a76-8\n"
     ]
    },
    {
     "name": "stderr",
     "output_type": "stream",
     "text": [
      " 18%|█▊        | 368/2000 [00:53<03:20,  8.12it/s]"
     ]
    },
    {
     "name": "stdout",
     "output_type": "stream",
     "text": [
      "Step 369: average-batch loss:295973.14062486996 rel loss: 0.004780215248410987\n",
      "Saved a checkpoint: /var/folders/6s/m6kbjxb16sl9cg9rg6mj5czrv6ht9f/T/tfcheckpoints/42316e4b-7805-47b3-bd5f-cc4e6f3b8a76/42316e4b-7805-47b3-bd5f-cc4e6f3b8a76-9\n"
     ]
    },
    {
     "name": "stderr",
     "output_type": "stream",
     "text": [
      " 20%|██        | 409/2000 [00:59<03:28,  7.62it/s]"
     ]
    },
    {
     "name": "stdout",
     "output_type": "stream",
     "text": [
      "Step 410: average-batch loss:284459.0572492255 rel loss: 0.04047711993067787\n",
      "Saved a checkpoint: /var/folders/6s/m6kbjxb16sl9cg9rg6mj5czrv6ht9f/T/tfcheckpoints/42316e4b-7805-47b3-bd5f-cc4e6f3b8a76/42316e4b-7805-47b3-bd5f-cc4e6f3b8a76-10\n"
     ]
    },
    {
     "name": "stderr",
     "output_type": "stream",
     "text": [
      " 22%|██▎       | 450/2000 [01:04<03:08,  8.24it/s]"
     ]
    },
    {
     "name": "stdout",
     "output_type": "stream",
     "text": [
      "Step 451: average-batch loss:262549.2062106543 rel loss: 0.0834504562203552\n",
      "Saved a checkpoint: /var/folders/6s/m6kbjxb16sl9cg9rg6mj5czrv6ht9f/T/tfcheckpoints/42316e4b-7805-47b3-bd5f-cc4e6f3b8a76/42316e4b-7805-47b3-bd5f-cc4e6f3b8a76-11\n"
     ]
    },
    {
     "name": "stderr",
     "output_type": "stream",
     "text": [
      " 25%|██▍       | 491/2000 [01:09<03:21,  7.47it/s]"
     ]
    },
    {
     "name": "stdout",
     "output_type": "stream",
     "text": [
      "Step 492: average-batch loss:211710.06225415616 rel loss: 0.24013569981131155\n",
      "Saved a checkpoint: /var/folders/6s/m6kbjxb16sl9cg9rg6mj5czrv6ht9f/T/tfcheckpoints/42316e4b-7805-47b3-bd5f-cc4e6f3b8a76/42316e4b-7805-47b3-bd5f-cc4e6f3b8a76-12\n"
     ]
    },
    {
     "name": "stderr",
     "output_type": "stream",
     "text": [
      " 27%|██▋       | 532/2000 [01:15<03:03,  8.02it/s]"
     ]
    },
    {
     "name": "stdout",
     "output_type": "stream",
     "text": [
      "Step 533: average-batch loss:230209.05905483305 rel loss: 0.0803573798382567\n",
      "New learning rate: 0.00147015\n"
     ]
    },
    {
     "name": "stderr",
     "output_type": "stream",
     "text": [
      " 29%|██▊       | 573/2000 [01:21<03:10,  7.48it/s]"
     ]
    },
    {
     "name": "stdout",
     "output_type": "stream",
     "text": [
      "Step 574: average-batch loss:232253.3915091419 rel loss: 0.08845222505255476\n",
      "New learning rate: 0.0014554485\n"
     ]
    },
    {
     "name": "stderr",
     "output_type": "stream",
     "text": [
      " 31%|███       | 614/2000 [01:26<03:25,  6.75it/s]"
     ]
    },
    {
     "name": "stdout",
     "output_type": "stream",
     "text": [
      "Step 615: average-batch loss:274555.06967887806 rel loss: 0.228897639727527\n",
      "New learning rate: 0.001440894015\n"
     ]
    },
    {
     "name": "stderr",
     "output_type": "stream",
     "text": [
      " 33%|███▎      | 655/2000 [01:32<02:49,  7.96it/s]"
     ]
    },
    {
     "name": "stdout",
     "output_type": "stream",
     "text": [
      "Step 656: average-batch loss:225089.73707124568 rel loss: 0.05944151426528418\n",
      "New learning rate: 0.0014264850748499998\n"
     ]
    },
    {
     "name": "stderr",
     "output_type": "stream",
     "text": [
      " 35%|███▍      | 696/2000 [01:38<02:54,  7.48it/s]"
     ]
    },
    {
     "name": "stdout",
     "output_type": "stream",
     "text": [
      "Step 697: average-batch loss:192866.8884635059 rel loss: 0.09770040850851264\n",
      "Saved a checkpoint: /var/folders/6s/m6kbjxb16sl9cg9rg6mj5czrv6ht9f/T/tfcheckpoints/42316e4b-7805-47b3-bd5f-cc4e6f3b8a76/42316e4b-7805-47b3-bd5f-cc4e6f3b8a76-13\n"
     ]
    },
    {
     "name": "stderr",
     "output_type": "stream",
     "text": [
      " 37%|███▋      | 737/2000 [01:44<02:45,  7.62it/s]"
     ]
    },
    {
     "name": "stdout",
     "output_type": "stream",
     "text": [
      "Step 738: average-batch loss:226569.457629706 rel loss: 0.14875159926137063\n",
      "New learning rate: 0.0014122202241015\n"
     ]
    },
    {
     "name": "stderr",
     "output_type": "stream",
     "text": [
      " 39%|███▉      | 778/2000 [01:49<02:48,  7.27it/s]"
     ]
    },
    {
     "name": "stdout",
     "output_type": "stream",
     "text": [
      "Step 779: average-batch loss:177038.21971561102 rel loss: 0.08940820108404604\n",
      "Saved a checkpoint: /var/folders/6s/m6kbjxb16sl9cg9rg6mj5czrv6ht9f/T/tfcheckpoints/42316e4b-7805-47b3-bd5f-cc4e6f3b8a76/42316e4b-7805-47b3-bd5f-cc4e6f3b8a76-14\n"
     ]
    },
    {
     "name": "stderr",
     "output_type": "stream",
     "text": [
      " 41%|████      | 819/2000 [01:55<02:24,  8.15it/s]"
     ]
    },
    {
     "name": "stdout",
     "output_type": "stream",
     "text": [
      "Step 820: average-batch loss:178068.0765942455 rel loss: 0.00578350088534491\n",
      "New learning rate: 0.001398098021860485\n"
     ]
    },
    {
     "name": "stderr",
     "output_type": "stream",
     "text": [
      " 43%|████▎     | 860/2000 [02:00<02:24,  7.89it/s]"
     ]
    },
    {
     "name": "stdout",
     "output_type": "stream",
     "text": [
      "Step 861: average-batch loss:179072.6973989242 rel loss: 0.011361182988051718\n",
      "New learning rate: 0.00138411704164188\n"
     ]
    },
    {
     "name": "stderr",
     "output_type": "stream",
     "text": [
      " 45%|████▌     | 901/2000 [02:05<02:28,  7.42it/s]"
     ]
    },
    {
     "name": "stdout",
     "output_type": "stream",
     "text": [
      "Step 902: average-batch loss:194302.26749949623 rel loss: 0.08885149929570416\n",
      "New learning rate: 0.0013702758712254614\n"
     ]
    },
    {
     "name": "stderr",
     "output_type": "stream",
     "text": [
      " 47%|████▋     | 942/2000 [02:11<02:45,  6.39it/s]"
     ]
    },
    {
     "name": "stdout",
     "output_type": "stream",
     "text": [
      "Step 943: average-batch loss:138668.7436443807 rel loss: 0.2766988079853795\n",
      "Saved a checkpoint: /var/folders/6s/m6kbjxb16sl9cg9rg6mj5czrv6ht9f/T/tfcheckpoints/42316e4b-7805-47b3-bd5f-cc4e6f3b8a76/42316e4b-7805-47b3-bd5f-cc4e6f3b8a76-15\n"
     ]
    },
    {
     "name": "stderr",
     "output_type": "stream",
     "text": [
      " 49%|████▉     | 983/2000 [02:17<02:08,  7.89it/s]"
     ]
    },
    {
     "name": "stdout",
     "output_type": "stream",
     "text": [
      "Step 984: average-batch loss:160235.92254349653 rel loss: 0.13459640358273187\n",
      "New learning rate: 0.0013565731125132067\n"
     ]
    },
    {
     "name": "stderr",
     "output_type": "stream",
     "text": [
      " 51%|█████     | 1024/2000 [02:22<02:00,  8.07it/s]"
     ]
    },
    {
     "name": "stdout",
     "output_type": "stream",
     "text": [
      "Step 1025: average-batch loss:154160.1741915273 rel loss: 0.10048918683693345\n",
      "New learning rate: 0.0013430073813880746\n"
     ]
    },
    {
     "name": "stderr",
     "output_type": "stream",
     "text": [
      " 53%|█████▎    | 1065/2000 [02:28<02:19,  6.68it/s]"
     ]
    },
    {
     "name": "stdout",
     "output_type": "stream",
     "text": [
      "Step 1066: average-batch loss:144868.2591629243 rel loss: 0.04279416039348821\n",
      "New learning rate: 0.001329577307574194\n"
     ]
    },
    {
     "name": "stderr",
     "output_type": "stream",
     "text": [
      " 55%|█████▌    | 1106/2000 [02:34<02:02,  7.29it/s]"
     ]
    },
    {
     "name": "stdout",
     "output_type": "stream",
     "text": [
      "Step 1107: average-batch loss:140274.5464356889 rel loss: 0.01144757072548732\n",
      "New learning rate: 0.0013162815344984519\n"
     ]
    },
    {
     "name": "stderr",
     "output_type": "stream",
     "text": [
      " 57%|█████▋    | 1147/2000 [02:39<02:02,  6.94it/s]"
     ]
    },
    {
     "name": "stdout",
     "output_type": "stream",
     "text": [
      "Step 1148: average-batch loss:136237.1388798565 rel loss: 0.01784832524021638\n",
      "Saved a checkpoint: /var/folders/6s/m6kbjxb16sl9cg9rg6mj5czrv6ht9f/T/tfcheckpoints/42316e4b-7805-47b3-bd5f-cc4e6f3b8a76/42316e4b-7805-47b3-bd5f-cc4e6f3b8a76-16\n"
     ]
    },
    {
     "name": "stderr",
     "output_type": "stream",
     "text": [
      " 59%|█████▉    | 1188/2000 [02:45<01:42,  7.90it/s]"
     ]
    },
    {
     "name": "stdout",
     "output_type": "stream",
     "text": [
      "Step 1189: average-batch loss:111469.32759417634 rel loss: 0.2221939597218324\n",
      "Saved a checkpoint: /var/folders/6s/m6kbjxb16sl9cg9rg6mj5czrv6ht9f/T/tfcheckpoints/42316e4b-7805-47b3-bd5f-cc4e6f3b8a76/42316e4b-7805-47b3-bd5f-cc4e6f3b8a76-17\n"
     ]
    },
    {
     "name": "stderr",
     "output_type": "stream",
     "text": [
      " 61%|██████▏   | 1229/2000 [02:51<01:30,  8.56it/s]"
     ]
    },
    {
     "name": "stdout",
     "output_type": "stream",
     "text": [
      "Step 1230: average-batch loss:122032.85119681682 rel loss: 0.0865629500502568\n",
      "New learning rate: 0.0013031187191534673\n"
     ]
    },
    {
     "name": "stderr",
     "output_type": "stream",
     "text": [
      " 64%|██████▎   | 1270/2000 [02:56<01:28,  8.27it/s]"
     ]
    },
    {
     "name": "stdout",
     "output_type": "stream",
     "text": [
      "Step 1271: average-batch loss:141370.23370989418 rel loss: 0.21150779291401242\n",
      "New learning rate: 0.0012900875319619327\n"
     ]
    },
    {
     "name": "stderr",
     "output_type": "stream",
     "text": [
      " 66%|██████▌   | 1311/2000 [03:01<01:24,  8.18it/s]"
     ]
    },
    {
     "name": "stdout",
     "output_type": "stream",
     "text": [
      "Step 1312: average-batch loss:123707.68575817424 rel loss: 0.09892965088621603\n",
      "New learning rate: 0.0012771866566423133\n"
     ]
    },
    {
     "name": "stderr",
     "output_type": "stream",
     "text": [
      " 68%|██████▊   | 1352/2000 [03:06<01:22,  7.88it/s]"
     ]
    },
    {
     "name": "stdout",
     "output_type": "stream",
     "text": [
      "Step 1353: average-batch loss:87410.41886791779 rel loss: 0.27524074404234306\n",
      "Saved a checkpoint: /var/folders/6s/m6kbjxb16sl9cg9rg6mj5czrv6ht9f/T/tfcheckpoints/42316e4b-7805-47b3-bd5f-cc4e6f3b8a76/42316e4b-7805-47b3-bd5f-cc4e6f3b8a76-18\n"
     ]
    },
    {
     "name": "stderr",
     "output_type": "stream",
     "text": [
      " 70%|██████▉   | 1393/2000 [03:12<01:21,  7.49it/s]"
     ]
    },
    {
     "name": "stdout",
     "output_type": "stream",
     "text": [
      "Step 1394: average-batch loss:99170.70470941378 rel loss: 0.11858628892429002\n",
      "New learning rate: 0.00126441479007589\n"
     ]
    },
    {
     "name": "stderr",
     "output_type": "stream",
     "text": [
      " 72%|███████▏  | 1434/2000 [03:17<01:06,  8.53it/s]"
     ]
    },
    {
     "name": "stdout",
     "output_type": "stream",
     "text": [
      "Step 1435: average-batch loss:115526.0363987541 rel loss: 0.24337039863283608\n",
      "New learning rate: 0.0012517706421751314\n"
     ]
    },
    {
     "name": "stderr",
     "output_type": "stream",
     "text": [
      " 74%|███████▍  | 1475/2000 [03:22<01:08,  7.68it/s]"
     ]
    },
    {
     "name": "stdout",
     "output_type": "stream",
     "text": [
      "Step 1476: average-batch loss:81756.1789106704 rel loss: 0.06915978746298077\n",
      "Saved a checkpoint: /var/folders/6s/m6kbjxb16sl9cg9rg6mj5czrv6ht9f/T/tfcheckpoints/42316e4b-7805-47b3-bd5f-cc4e6f3b8a76/42316e4b-7805-47b3-bd5f-cc4e6f3b8a76-19\n"
     ]
    },
    {
     "name": "stderr",
     "output_type": "stream",
     "text": [
      " 76%|███████▌  | 1516/2000 [03:28<01:02,  7.75it/s]"
     ]
    },
    {
     "name": "stdout",
     "output_type": "stream",
     "text": [
      "Step 1517: average-batch loss:92024.42550850156 rel loss: 0.11158175170441621\n",
      "New learning rate: 0.00123925293575338\n"
     ]
    },
    {
     "name": "stderr",
     "output_type": "stream",
     "text": [
      " 78%|███████▊  | 1557/2000 [03:33<00:55,  8.03it/s]"
     ]
    },
    {
     "name": "stdout",
     "output_type": "stream",
     "text": [
      "Step 1558: average-batch loss:51759.627435308925 rel loss: 0.5795356914586036\n",
      "Saved a checkpoint: /var/folders/6s/m6kbjxb16sl9cg9rg6mj5czrv6ht9f/T/tfcheckpoints/42316e4b-7805-47b3-bd5f-cc4e6f3b8a76/42316e4b-7805-47b3-bd5f-cc4e6f3b8a76-20\n"
     ]
    },
    {
     "name": "stderr",
     "output_type": "stream",
     "text": [
      " 80%|███████▉  | 1598/2000 [03:38<01:09,  5.77it/s]"
     ]
    },
    {
     "name": "stdout",
     "output_type": "stream",
     "text": [
      "Step 1599: average-batch loss:90941.51037072059 rel loss: 0.4308470661603022\n",
      "New learning rate: 0.0012268604063958462\n"
     ]
    },
    {
     "name": "stderr",
     "output_type": "stream",
     "text": [
      " 82%|████████▏ | 1639/2000 [03:44<00:43,  8.34it/s]"
     ]
    },
    {
     "name": "stdout",
     "output_type": "stream",
     "text": [
      "Step 1640: average-batch loss:69161.48112159508 rel loss: 0.2516119291270148\n",
      "New learning rate: 0.0012145918023318877\n"
     ]
    },
    {
     "name": "stderr",
     "output_type": "stream",
     "text": [
      " 84%|████████▍ | 1680/2000 [03:49<00:39,  8.15it/s]"
     ]
    },
    {
     "name": "stdout",
     "output_type": "stream",
     "text": [
      "Step 1681: average-batch loss:68077.70111491317 rel loss: 0.23969777786796612\n",
      "New learning rate: 0.0012024458843085688\n"
     ]
    },
    {
     "name": "stderr",
     "output_type": "stream",
     "text": [
      " 86%|████████▌ | 1721/2000 [03:55<00:43,  6.48it/s]"
     ]
    },
    {
     "name": "stdout",
     "output_type": "stream",
     "text": [
      "Step 1722: average-batch loss:67307.62782910097 rel loss: 0.23099908428313\n",
      "New learning rate: 0.001190421425465483\n"
     ]
    },
    {
     "name": "stderr",
     "output_type": "stream",
     "text": [
      " 88%|████████▊ | 1762/2000 [04:01<00:29,  7.94it/s]"
     ]
    },
    {
     "name": "stdout",
     "output_type": "stream",
     "text": [
      "Step 1763: average-batch loss:55060.076675500546 rel loss: 0.05994269240929308\n",
      "New learning rate: 0.0011785172112108281\n",
      "We are in a loss plateau\n",
      "Restoring from a checkpoint\n"
     ]
    },
    {
     "name": "stderr",
     "output_type": "stream",
     "text": [
      " 90%|█████████ | 1803/2000 [04:06<00:25,  7.68it/s]"
     ]
    },
    {
     "name": "stdout",
     "output_type": "stream",
     "text": [
      "Step 1804: average-batch loss:71410.79170276434 rel loss: 0.2751847976878642\n",
      "New learning rate: 0.00116673203909872\n",
      "We are in a loss plateau\n",
      "Restoring from a checkpoint\n"
     ]
    },
    {
     "name": "stderr",
     "output_type": "stream",
     "text": [
      " 92%|█████████▏| 1844/2000 [04:11<00:18,  8.60it/s]"
     ]
    },
    {
     "name": "stdout",
     "output_type": "stream",
     "text": [
      "Step 1845: average-batch loss:61635.45844194584 rel loss: 0.16022969985595087\n",
      "New learning rate: 0.0011550647187077326\n",
      "We are in a loss plateau\n",
      "Restoring from a checkpoint\n"
     ]
    },
    {
     "name": "stderr",
     "output_type": "stream",
     "text": [
      " 94%|█████████▍| 1885/2000 [04:17<00:15,  7.21it/s]"
     ]
    },
    {
     "name": "stdout",
     "output_type": "stream",
     "text": [
      "Step 1886: average-batch loss:74840.21415691689 rel loss: 0.3083981918225819\n",
      "New learning rate: 0.0011435140715206553\n",
      "We are in a loss plateau\n",
      "Restoring from a checkpoint\n"
     ]
    },
    {
     "name": "stderr",
     "output_type": "stream",
     "text": [
      " 96%|█████████▋| 1926/2000 [04:21<00:09,  7.66it/s]"
     ]
    },
    {
     "name": "stdout",
     "output_type": "stream",
     "text": [
      "Step 1927: average-batch loss:67772.2996977909 rel loss: 0.2362716380274156\n",
      "New learning rate: 0.001132078930805449\n",
      "We are in a loss plateau\n",
      "Restoring from a checkpoint\n"
     ]
    },
    {
     "name": "stderr",
     "output_type": "stream",
     "text": [
      " 98%|█████████▊| 1967/2000 [04:27<00:04,  6.69it/s]"
     ]
    },
    {
     "name": "stdout",
     "output_type": "stream",
     "text": [
      "Step 1968: average-batch loss:57062.864903834365 rel loss: 0.09293675453314099\n",
      "New learning rate: 0.0011207581414973942\n",
      "We are in a loss plateau\n",
      "Restoring from a checkpoint\n"
     ]
    },
    {
     "name": "stderr",
     "output_type": "stream",
     "text": [
      "100%|██████████| 2000/2000 [04:31<00:00,  6.62it/s]"
     ]
    },
    {
     "name": "stdout",
     "output_type": "stream",
     "text": [
      "Terminating because we are out of iterations\n"
     ]
    },
    {
     "name": "stderr",
     "output_type": "stream",
     "text": [
      "100%|██████████| 2000/2000 [04:31<00:00,  7.36it/s]\n"
     ]
    }
   ],
   "source": [
    "losses = grm.fit(\n",
    "            data_factory_factory(shuffle=True, repeat=True),\n",
    "            dataset_size=num_people,\n",
    "            batches_per_step=1,\n",
    "            check_every=int(num_people/batch_size),\n",
    "            batch_size=batch_size,\n",
    "            num_steps=2000,\n",
    "            max_decay_steps=100,\n",
    "            max_plateau_epochs=100,\n",
    "            sample_size=32, \n",
    "            learning_rate=0.0015)"
   ]
  },
  {
   "cell_type": "code",
   "execution_count": 7,
   "metadata": {},
   "outputs": [
    {
     "name": "stdout",
     "output_type": "stream",
     "text": [
      "Running optimization for 1000 steps of 1 accumulated batches, checking every 41 steps\n",
      "Saved a checkpoint: /var/folders/6s/m6kbjxb16sl9cg9rg6mj5czrv6ht9f/T/tfcheckpoints/adc616fb-c5b1-47d7-b149-4bbefa4df81c/adc616fb-c5b1-47d7-b149-4bbefa4df81c-1\n"
     ]
    },
    {
     "name": "stderr",
     "output_type": "stream",
     "text": [
      "  4%|▍         | 40/1000 [00:07<02:03,  7.75it/s]"
     ]
    },
    {
     "name": "stdout",
     "output_type": "stream",
     "text": [
      "Step 41: average-batch loss:59731.799350261594 rel loss: 1.6741501359034826e+303\n",
      "Saved a checkpoint: /var/folders/6s/m6kbjxb16sl9cg9rg6mj5czrv6ht9f/T/tfcheckpoints/adc616fb-c5b1-47d7-b149-4bbefa4df81c/adc616fb-c5b1-47d7-b149-4bbefa4df81c-2\n"
     ]
    },
    {
     "name": "stderr",
     "output_type": "stream",
     "text": [
      "  8%|▊         | 81/1000 [00:12<01:56,  7.90it/s]"
     ]
    },
    {
     "name": "stdout",
     "output_type": "stream",
     "text": [
      "Step 82: average-batch loss:32543.919506337454 rel loss: 0.8354211863948869\n",
      "Saved a checkpoint: /var/folders/6s/m6kbjxb16sl9cg9rg6mj5czrv6ht9f/T/tfcheckpoints/adc616fb-c5b1-47d7-b149-4bbefa4df81c/adc616fb-c5b1-47d7-b149-4bbefa4df81c-3\n"
     ]
    },
    {
     "name": "stderr",
     "output_type": "stream",
     "text": [
      " 12%|█▏        | 122/1000 [00:17<01:52,  7.80it/s]"
     ]
    },
    {
     "name": "stdout",
     "output_type": "stream",
     "text": [
      "Step 123: average-batch loss:44356.41703460466 rel loss: 0.26630864975076063\n",
      "New learning rate: 0.000495\n"
     ]
    },
    {
     "name": "stderr",
     "output_type": "stream",
     "text": [
      " 16%|█▋        | 163/1000 [00:23<01:46,  7.88it/s]"
     ]
    },
    {
     "name": "stdout",
     "output_type": "stream",
     "text": [
      "Step 164: average-batch loss:46525.14781059361 rel loss: 0.30050905719148907\n",
      "New learning rate: 0.00049005\n"
     ]
    },
    {
     "name": "stderr",
     "output_type": "stream",
     "text": [
      " 20%|██        | 204/1000 [00:28<01:40,  7.92it/s]"
     ]
    },
    {
     "name": "stdout",
     "output_type": "stream",
     "text": [
      "Step 205: average-batch loss:42217.29076667966 rel loss: 0.22913292361188164\n",
      "New learning rate: 0.00048514950000000005\n"
     ]
    },
    {
     "name": "stderr",
     "output_type": "stream",
     "text": [
      " 24%|██▍       | 245/1000 [00:33<01:40,  7.55it/s]"
     ]
    },
    {
     "name": "stdout",
     "output_type": "stream",
     "text": [
      "Step 246: average-batch loss:34587.94390432434 rel loss: 0.05909644133924172\n",
      "New learning rate: 0.00048029800499999997\n"
     ]
    },
    {
     "name": "stderr",
     "output_type": "stream",
     "text": [
      " 29%|██▊       | 286/1000 [00:38<01:33,  7.62it/s]"
     ]
    },
    {
     "name": "stdout",
     "output_type": "stream",
     "text": [
      "Step 287: average-batch loss:46089.33951171006 rel loss: 0.2938948604792021\n",
      "New learning rate: 0.00047549502494999995\n",
      "We are in a loss plateau\n",
      "Restoring from a checkpoint\n"
     ]
    },
    {
     "name": "stderr",
     "output_type": "stream",
     "text": [
      " 33%|███▎      | 327/1000 [00:43<01:25,  7.89it/s]"
     ]
    },
    {
     "name": "stdout",
     "output_type": "stream",
     "text": [
      "Step 328: average-batch loss:36749.27799244972 rel loss: 0.11443377165059612\n",
      "New learning rate: 0.0004707400747005\n",
      "We are in a loss plateau\n",
      "Restoring from a checkpoint\n"
     ]
    },
    {
     "name": "stderr",
     "output_type": "stream",
     "text": [
      " 37%|███▋      | 368/1000 [00:48<01:20,  7.90it/s]"
     ]
    },
    {
     "name": "stdout",
     "output_type": "stream",
     "text": [
      "Step 369: average-batch loss:35463.22457001447 rel loss: 0.08231922221041914\n",
      "New learning rate: 0.00046603267395349497\n",
      "We are in a loss plateau\n",
      "Restoring from a checkpoint\n"
     ]
    },
    {
     "name": "stderr",
     "output_type": "stream",
     "text": [
      " 41%|████      | 409/1000 [00:53<01:12,  8.15it/s]"
     ]
    },
    {
     "name": "stdout",
     "output_type": "stream",
     "text": [
      "Step 410: average-batch loss:46459.8798764192 rel loss: 0.299526395830068\n",
      "New learning rate: 0.00046137234721396004\n",
      "We are in a loss plateau\n",
      "Restoring from a checkpoint\n"
     ]
    },
    {
     "name": "stderr",
     "output_type": "stream",
     "text": [
      " 45%|████▌     | 450/1000 [00:58<01:10,  7.81it/s]"
     ]
    },
    {
     "name": "stdout",
     "output_type": "stream",
     "text": [
      "Step 451: average-batch loss:33938.98785998974 rel loss: 0.04110518437990655\n",
      "New learning rate: 0.00045675862374182043\n",
      "We are in a loss plateau\n",
      "Restoring from a checkpoint\n"
     ]
    },
    {
     "name": "stderr",
     "output_type": "stream",
     "text": [
      " 49%|████▉     | 491/1000 [01:03<01:05,  7.82it/s]"
     ]
    },
    {
     "name": "stdout",
     "output_type": "stream",
     "text": [
      "Step 492: average-batch loss:57642.97227371846 rel loss: 0.435422598407969\n",
      "New learning rate: 0.0004521910375044022\n",
      "We are in a loss plateau\n",
      "Restoring from a checkpoint\n"
     ]
    },
    {
     "name": "stderr",
     "output_type": "stream",
     "text": [
      " 53%|█████▎    | 532/1000 [01:09<01:03,  7.36it/s]"
     ]
    },
    {
     "name": "stdout",
     "output_type": "stream",
     "text": [
      "Step 533: average-batch loss:44364.08327509086 rel loss: 0.2664354337146888\n",
      "New learning rate: 0.0004476691271293582\n",
      "We are in a loss plateau\n",
      "Restoring from a checkpoint\n"
     ]
    },
    {
     "name": "stderr",
     "output_type": "stream",
     "text": [
      " 57%|█████▋    | 573/1000 [01:14<00:55,  7.64it/s]"
     ]
    },
    {
     "name": "stdout",
     "output_type": "stream",
     "text": [
      "Step 574: average-batch loss:36604.927480292245 rel loss: 0.11094156589003489\n",
      "New learning rate: 0.0004431924358580646\n",
      "We are in a loss plateau\n",
      "Restoring from a checkpoint\n"
     ]
    },
    {
     "name": "stderr",
     "output_type": "stream",
     "text": [
      " 61%|██████▏   | 614/1000 [01:19<00:52,  7.34it/s]"
     ]
    },
    {
     "name": "stdout",
     "output_type": "stream",
     "text": [
      "Step 615: average-batch loss:30650.85990587656 rel loss: 0.06176203885548882\n",
      "Saved a checkpoint: /var/folders/6s/m6kbjxb16sl9cg9rg6mj5czrv6ht9f/T/tfcheckpoints/adc616fb-c5b1-47d7-b149-4bbefa4df81c/adc616fb-c5b1-47d7-b149-4bbefa4df81c-4\n"
     ]
    },
    {
     "name": "stderr",
     "output_type": "stream",
     "text": [
      " 66%|██████▌   | 655/1000 [01:24<00:44,  7.80it/s]"
     ]
    },
    {
     "name": "stdout",
     "output_type": "stream",
     "text": [
      "Step 656: average-batch loss:43152.91939216027 rel loss: 0.2897152652099593\n",
      "New learning rate: 0.00043876051149948394\n"
     ]
    },
    {
     "name": "stderr",
     "output_type": "stream",
     "text": [
      " 70%|██████▉   | 696/1000 [01:30<00:38,  7.87it/s]"
     ]
    },
    {
     "name": "stdout",
     "output_type": "stream",
     "text": [
      "Step 697: average-batch loss:38351.7391394585 rel loss: 0.20079608920938935\n",
      "New learning rate: 0.00043437290638448915\n"
     ]
    },
    {
     "name": "stderr",
     "output_type": "stream",
     "text": [
      " 74%|███████▎  | 737/1000 [01:35<00:32,  7.98it/s]"
     ]
    },
    {
     "name": "stdout",
     "output_type": "stream",
     "text": [
      "Step 738: average-batch loss:34615.336455408746 rel loss: 0.11452948188555664\n",
      "New learning rate: 0.00043002917732064424\n"
     ]
    },
    {
     "name": "stderr",
     "output_type": "stream",
     "text": [
      " 78%|███████▊  | 778/1000 [01:40<00:32,  6.79it/s]"
     ]
    },
    {
     "name": "stdout",
     "output_type": "stream",
     "text": [
      "Step 779: average-batch loss:41674.33331408788 rel loss: 0.26451469121606486\n",
      "New learning rate: 0.0004257288855474378\n"
     ]
    },
    {
     "name": "stderr",
     "output_type": "stream",
     "text": [
      " 82%|████████▏ | 819/1000 [01:45<00:23,  7.73it/s]"
     ]
    },
    {
     "name": "stdout",
     "output_type": "stream",
     "text": [
      "Step 820: average-batch loss:41405.359900199306 rel loss: 0.25973690411687445\n",
      "New learning rate: 0.0004214715966919634\n",
      "We are in a loss plateau\n",
      "Restoring from a checkpoint\n"
     ]
    },
    {
     "name": "stderr",
     "output_type": "stream",
     "text": [
      " 86%|████████▌ | 860/1000 [01:50<00:18,  7.59it/s]"
     ]
    },
    {
     "name": "stdout",
     "output_type": "stream",
     "text": [
      "Step 861: average-batch loss:43675.0143878325 rel loss: 0.2982060719271191\n",
      "New learning rate: 0.00041725688072504375\n",
      "We are in a loss plateau\n",
      "Restoring from a checkpoint\n"
     ]
    },
    {
     "name": "stderr",
     "output_type": "stream",
     "text": [
      " 90%|█████████ | 901/1000 [01:55<00:12,  7.88it/s]"
     ]
    },
    {
     "name": "stdout",
     "output_type": "stream",
     "text": [
      "Step 902: average-batch loss:43219.35251704755 rel loss: 0.29080705469184065\n",
      "New learning rate: 0.00041308431191779333\n",
      "We are in a loss plateau\n",
      "Restoring from a checkpoint\n"
     ]
    },
    {
     "name": "stderr",
     "output_type": "stream",
     "text": [
      " 94%|█████████▍| 942/1000 [02:01<00:07,  7.78it/s]"
     ]
    },
    {
     "name": "stdout",
     "output_type": "stream",
     "text": [
      "Step 943: average-batch loss:30170.717965119387 rel loss: 0.015914170200134775\n",
      "Saved a checkpoint: /var/folders/6s/m6kbjxb16sl9cg9rg6mj5czrv6ht9f/T/tfcheckpoints/adc616fb-c5b1-47d7-b149-4bbefa4df81c/adc616fb-c5b1-47d7-b149-4bbefa4df81c-5\n"
     ]
    },
    {
     "name": "stderr",
     "output_type": "stream",
     "text": [
      " 98%|█████████▊| 983/1000 [02:06<00:02,  7.81it/s]"
     ]
    },
    {
     "name": "stdout",
     "output_type": "stream",
     "text": [
      "Step 984: average-batch loss:32496.594918635965 rel loss: 0.07157294354500959\n",
      "New learning rate: 0.00040895346879861536\n"
     ]
    },
    {
     "name": "stderr",
     "output_type": "stream",
     "text": [
      "100%|██████████| 1000/1000 [02:08<00:00,  8.48it/s]"
     ]
    },
    {
     "name": "stdout",
     "output_type": "stream",
     "text": [
      "Terminating because we are out of iterations\n"
     ]
    },
    {
     "name": "stderr",
     "output_type": "stream",
     "text": [
      "100%|██████████| 1000/1000 [02:08<00:00,  7.79it/s]\n"
     ]
    }
   ],
   "source": [
    "losses = grm.fit(\n",
    "            data_factory_factory(shuffle=False, repeat=True),\n",
    "            dataset_size=num_people,\n",
    "            batches_per_step=1,\n",
    "            check_every=int(num_people/batch_size),\n",
    "            batch_size=batch_size,\n",
    "            num_steps=1000,\n",
    "            max_decay_steps=100,\n",
    "            max_plateau_epochs=100,\n",
    "            sample_size=32, \n",
    "            learning_rate=0.0005)"
   ]
  },
  {
   "cell_type": "code",
   "execution_count": 8,
   "metadata": {},
   "outputs": [
    {
     "data": {
      "text/plain": [
       "TensorShape([256, 1, 2, 22, 1])"
      ]
     },
     "execution_count": 8,
     "metadata": {},
     "output_type": "execute_result"
    }
   ],
   "source": [
    "params = grm.sample(256)\n",
    "discrim = params['discriminations']\n",
    "discrim.shape"
   ]
  },
  {
   "cell_type": "code",
   "execution_count": 9,
   "metadata": {},
   "outputs": [],
   "source": [
    "discrim_mean = np.mean(discrim, axis=0)"
   ]
  },
  {
   "cell_type": "code",
   "execution_count": null,
   "metadata": {},
   "outputs": [],
   "source": []
  },
  {
   "cell_type": "code",
   "execution_count": 10,
   "metadata": {},
   "outputs": [
    {
     "data": {
      "image/png": "[encoded data removed]",
      "text/plain": [
       "<Figure size 1200x200 with 2 Axes>"
      ]
     },
     "metadata": {},
     "output_type": "display_data"
    }
   ],
   "source": [
    "_ = plt.figure(figsize=(12, 2))\n",
    "plt.pcolormesh(discrim_mean[0, ..., 0], vmin=0, cmap=\"Reds\")\n",
    "_ = plt.colorbar()\n",
    "_ = plt.title(\"IRT model\")\n",
    "_ = plt.yticks([])\n",
    "_ = plt.xticks(\n",
    "    np.arange(grm.num_items) + 0.5, labels=[f\"Q{j+1}\" for j in range(grm.num_items)]\n",
    ")"
   ]
  },
  {
   "cell_type": "code",
   "execution_count": 11,
   "metadata": {},
   "outputs": [
    {
     "data": {
      "image/png": "[encoded data removed]",
      "text/plain": [
       "<Figure size 1200x200 with 2 Axes>"
      ]
     },
     "metadata": {},
     "output_type": "display_data"
    }
   ],
   "source": [
    "_ = plt.figure(figsize=(12, 2))\n",
    "\n",
    "plt.pcolormesh(loadings.T, cmap=\"seismic_r\", vmin=-1, vmax=1)\n",
    "plt.colorbar()\n",
    "_ = plt.yticks([])\n",
    "_ = plt.xticks(\n",
    "    np.arange(grm.num_items) + 0.5, labels=[f\"Q{j+1}\" for j in range(grm.num_items)]\n",
    ")\n",
    "_ = plt.title(\"EFA loadings\")"
   ]
  },
  {
   "cell_type": "code",
   "execution_count": 12,
   "metadata": {},
   "outputs": [
    {
     "data": {
      "text/plain": [
       "array([[6.03900059e-03, 1.48919172e+00, 7.51507758e-03, 7.60253983e-01,\n",
       "        1.63924677e-03, 5.83817840e-01, 5.15780241e-03, 7.27656996e-01,\n",
       "        6.84128965e-01, 1.26956633e-02, 7.77576647e-01, 3.95397958e-02,\n",
       "        8.53252887e-01, 4.37168702e-03, 1.82166759e-01, 1.55458881e+00,\n",
       "        1.02620435e-02, 6.76212704e-01, 3.89843042e-03, 7.60764528e-01,\n",
       "        1.07335591e+00, 9.70555957e-03],\n",
       "       [2.01951605e+00, 1.59461049e-02, 2.19293836e+00, 3.57898679e-03,\n",
       "        2.11273541e+00, 2.51038877e-05, 2.36311753e+00, 7.35161860e-03,\n",
       "        8.51908428e-03, 1.79404776e+00, 3.55459189e-03, 1.77493425e+00,\n",
       "        4.99169599e-03, 2.25707182e+00, 1.05377062e+00, 1.33856420e-02,\n",
       "        1.94989593e+00, 6.23533840e-04, 2.34946319e+00, 2.21818353e-03,\n",
       "        6.30823591e-03, 2.09934625e+00]])"
      ]
     },
     "execution_count": 12,
     "metadata": {},
     "output_type": "execute_result"
    }
   ],
   "source": [
    "discrim_mean[0, ..., 0]"
   ]
  },
  {
   "cell_type": "code",
   "execution_count": 13,
   "metadata": {},
   "outputs": [
    {
     "data": {
      "text/plain": [
       "[[1, 3, 5, 7, 8, 10, 12, 15, 17, 19, 20],\n",
       " [0, 2, 4, 6, 9, 11, 13, 14, 16, 18, 21]]"
      ]
     },
     "execution_count": 13,
     "metadata": {},
     "output_type": "execute_result"
    }
   ],
   "source": [
    "scale_indices = [np.where(discrim_mean[0, ..., 0][0, :] > .5)[0].tolist()]\n",
    "scale_indices += [[i for i in range(22) if i not in scale_indices[0]]]\n",
    "scale_indices"
   ]
  },
  {
   "cell_type": "code",
   "execution_count": 14,
   "metadata": {},
   "outputs": [],
   "source": [
    "difficulties = tf.cumsum(\n",
    "    tf.concat(\n",
    "        [params['difficulties0'], params['ddifficulties']], axis=-1\n",
    "    ), axis=-1\n",
    ")"
   ]
  },
  {
   "cell_type": "code",
   "execution_count": 15,
   "metadata": {},
   "outputs": [
    {
     "data": {
      "text/plain": [
       "TensorShape([2, 22, 9])"
      ]
     },
     "execution_count": 15,
     "metadata": {},
     "output_type": "execute_result"
    }
   ],
   "source": [
    "difficulties_mean = tf.reduce_mean(difficulties, axis=[0, 1])\n",
    "difficulties_mean.shape"
   ]
  },
  {
   "cell_type": "markdown",
   "metadata": {},
   "source": [
    "# Build fully factorized model"
   ]
  },
  {
   "cell_type": "code",
   "execution_count": 16,
   "metadata": {},
   "outputs": [],
   "source": [
    "fgrm = FactorizedGRModel(\n",
    "    data=tfdata,\n",
    "    item_keys=item_names,\n",
    "    num_people=num_people,\n",
    "    dim=dim,\n",
    "    eta_scale=1e-3,\n",
    "    kappa_scale=1e-3,\n",
    "    weight_exponent=1,\n",
    "    response_cardinality=10,\n",
    "    scale_indices=scale_indices,\n",
    "    discrimination_guess=tf.cast(np.abs(loadings).T, tf.float64)[tf.newaxis, :, :, tf.newaxis]\n",
    ")"
   ]
  },
  {
   "cell_type": "markdown",
   "metadata": {},
   "source": [
    "# Fit by projecting the original model"
   ]
  },
  {
   "cell_type": "code",
   "execution_count": 17,
   "metadata": {},
   "outputs": [
    {
     "name": "stdout",
     "output_type": "stream",
     "text": [
      "Running optimization for 500 steps of 1 accumulated batches, checking every 1 steps\n",
      "Saved a checkpoint: /var/folders/6s/m6kbjxb16sl9cg9rg6mj5czrv6ht9f/T/tfcheckpoints/78fab527-1c45-4d46-931b-843f8c666cc5/78fab527-1c45-4d46-931b-843f8c666cc5-1\n"
     ]
    },
    {
     "name": "stderr",
     "output_type": "stream",
     "text": [
      "  0%|          | 0/500 [00:00<?, ?it/s]"
     ]
    },
    {
     "name": "stderr",
     "output_type": "stream",
     "text": []
    },
    {
     "name": "stdout",
     "output_type": "stream",
     "text": [
      "Step 1: average-batch loss:0.7945366253467897 rel loss: 1.2585952215400166e+308\n",
      "Saved a checkpoint: /var/folders/6s/m6kbjxb16sl9cg9rg6mj5czrv6ht9f/T/tfcheckpoints/78fab527-1c45-4d46-931b-843f8c666cc5/78fab527-1c45-4d46-931b-843f8c666cc5-2\n"
     ]
    },
    {
     "name": "stderr",
     "output_type": "stream",
     "text": [
      "  0%|          | 1/500 [00:01<13:14,  1.59s/it]"
     ]
    },
    {
     "name": "stdout",
     "output_type": "stream",
     "text": [
      "Step 2: average-batch loss:0.7539278485943419 rel loss: 0.05386294832875675\n",
      "Saved a checkpoint: /var/folders/6s/m6kbjxb16sl9cg9rg6mj5czrv6ht9f/T/tfcheckpoints/78fab527-1c45-4d46-931b-843f8c666cc5/78fab527-1c45-4d46-931b-843f8c666cc5-3\n"
     ]
    },
    {
     "name": "stderr",
     "output_type": "stream",
     "text": [
      "  0%|          | 2/500 [00:01<06:17,  1.32it/s]"
     ]
    },
    {
     "name": "stdout",
     "output_type": "stream",
     "text": [
      "Step 3: average-batch loss:0.5147203145987882 rel loss: 0.46473303503089847\n",
      "Saved a checkpoint: /var/folders/6s/m6kbjxb16sl9cg9rg6mj5czrv6ht9f/T/tfcheckpoints/78fab527-1c45-4d46-931b-843f8c666cc5/78fab527-1c45-4d46-931b-843f8c666cc5-4\n"
     ]
    },
    {
     "name": "stderr",
     "output_type": "stream",
     "text": [
      "  1%|          | 3/500 [00:01<04:00,  2.07it/s]"
     ]
    },
    {
     "name": "stdout",
     "output_type": "stream",
     "text": [
      "Step 4: average-batch loss:0.3480448479719462 rel loss: 0.4788907739851869\n",
      "Saved a checkpoint: /var/folders/6s/m6kbjxb16sl9cg9rg6mj5czrv6ht9f/T/tfcheckpoints/78fab527-1c45-4d46-931b-843f8c666cc5/78fab527-1c45-4d46-931b-843f8c666cc5-5\n"
     ]
    },
    {
     "name": "stderr",
     "output_type": "stream",
     "text": [
      "  1%|          | 4/500 [00:02<02:56,  2.81it/s]"
     ]
    },
    {
     "name": "stdout",
     "output_type": "stream",
     "text": [
      "Step 5: average-batch loss:0.26688744357476896 rel loss: 0.30408850753760114\n",
      "Saved a checkpoint: /var/folders/6s/m6kbjxb16sl9cg9rg6mj5czrv6ht9f/T/tfcheckpoints/78fab527-1c45-4d46-931b-843f8c666cc5/78fab527-1c45-4d46-931b-843f8c666cc5-6\n"
     ]
    },
    {
     "name": "stderr",
     "output_type": "stream",
     "text": [
      "  1%|          | 5/500 [00:02<02:20,  3.52it/s]"
     ]
    },
    {
     "name": "stdout",
     "output_type": "stream",
     "text": [
      "Step 6: average-batch loss:0.20710418866250915 rel loss: 0.2886627030498201\n",
      "Saved a checkpoint: /var/folders/6s/m6kbjxb16sl9cg9rg6mj5czrv6ht9f/T/tfcheckpoints/78fab527-1c45-4d46-931b-843f8c666cc5/78fab527-1c45-4d46-931b-843f8c666cc5-7\n"
     ]
    },
    {
     "name": "stderr",
     "output_type": "stream",
     "text": [
      "  1%|          | 6/500 [00:02<01:58,  4.16it/s]"
     ]
    },
    {
     "name": "stdout",
     "output_type": "stream",
     "text": [
      "Step 7: average-batch loss:0.17185981000702555 rel loss: 0.2050763273510126\n",
      "Saved a checkpoint: /var/folders/6s/m6kbjxb16sl9cg9rg6mj5czrv6ht9f/T/tfcheckpoints/78fab527-1c45-4d46-931b-843f8c666cc5/78fab527-1c45-4d46-931b-843f8c666cc5-8\n"
     ]
    },
    {
     "name": "stderr",
     "output_type": "stream",
     "text": [
      "  1%|▏         | 7/500 [00:02<01:44,  4.71it/s]"
     ]
    },
    {
     "name": "stdout",
     "output_type": "stream",
     "text": [
      "Step 8: average-batch loss:0.15325671185329623 rel loss: 0.12138521000983622\n",
      "Saved a checkpoint: /var/folders/6s/m6kbjxb16sl9cg9rg6mj5czrv6ht9f/T/tfcheckpoints/78fab527-1c45-4d46-931b-843f8c666cc5/78fab527-1c45-4d46-931b-843f8c666cc5-9\n"
     ]
    },
    {
     "name": "stderr",
     "output_type": "stream",
     "text": [
      "  2%|▏         | 8/500 [00:02<01:35,  5.16it/s]"
     ]
    },
    {
     "name": "stdout",
     "output_type": "stream",
     "text": [
      "Step 9: average-batch loss:0.15219145630891825 rel loss: 0.006999443794109693\n",
      "Saved a checkpoint: /var/folders/6s/m6kbjxb16sl9cg9rg6mj5czrv6ht9f/T/tfcheckpoints/78fab527-1c45-4d46-931b-843f8c666cc5/78fab527-1c45-4d46-931b-843f8c666cc5-10\n"
     ]
    },
    {
     "name": "stderr",
     "output_type": "stream",
     "text": [
      "  2%|▏         | 9/500 [00:02<01:29,  5.49it/s]"
     ]
    },
    {
     "name": "stdout",
     "output_type": "stream",
     "text": [
      "Step 10: average-batch loss:0.13324323077283215 rel loss: 0.14220779116645066\n",
      "Saved a checkpoint: /var/folders/6s/m6kbjxb16sl9cg9rg6mj5czrv6ht9f/T/tfcheckpoints/78fab527-1c45-4d46-931b-843f8c666cc5/78fab527-1c45-4d46-931b-843f8c666cc5-11\n"
     ]
    },
    {
     "name": "stderr",
     "output_type": "stream",
     "text": [
      "  2%|▏         | 10/500 [00:03<01:25,  5.75it/s]"
     ]
    },
    {
     "name": "stdout",
     "output_type": "stream",
     "text": [
      "Step 11: average-batch loss:0.10232644587597757 rel loss: 0.3021387543775982\n",
      "Saved a checkpoint: /var/folders/6s/m6kbjxb16sl9cg9rg6mj5czrv6ht9f/T/tfcheckpoints/78fab527-1c45-4d46-931b-843f8c666cc5/78fab527-1c45-4d46-931b-843f8c666cc5-12\n"
     ]
    },
    {
     "name": "stderr",
     "output_type": "stream",
     "text": [
      "  2%|▏         | 11/500 [00:03<01:23,  5.88it/s]"
     ]
    },
    {
     "name": "stdout",
     "output_type": "stream",
     "text": [
      "Step 12: average-batch loss:0.08810263746984787 rel loss: 0.1614458864639284\n",
      "Saved a checkpoint: /var/folders/6s/m6kbjxb16sl9cg9rg6mj5czrv6ht9f/T/tfcheckpoints/78fab527-1c45-4d46-931b-843f8c666cc5/78fab527-1c45-4d46-931b-843f8c666cc5-13\n"
     ]
    },
    {
     "name": "stderr",
     "output_type": "stream",
     "text": [
      "  2%|▏         | 12/500 [00:03<01:20,  6.05it/s]"
     ]
    },
    {
     "name": "stdout",
     "output_type": "stream",
     "text": [
      "Step 13: average-batch loss:0.08640171635891591 rel loss: 0.01968619586058063\n",
      "Saved a checkpoint: /var/folders/6s/m6kbjxb16sl9cg9rg6mj5czrv6ht9f/T/tfcheckpoints/78fab527-1c45-4d46-931b-843f8c666cc5/78fab527-1c45-4d46-931b-843f8c666cc5-14\n"
     ]
    },
    {
     "name": "stderr",
     "output_type": "stream",
     "text": [
      "  3%|▎         | 13/500 [00:03<01:19,  6.12it/s]"
     ]
    },
    {
     "name": "stdout",
     "output_type": "stream",
     "text": [
      "Step 14: average-batch loss:0.0843337772419079 rel loss: 0.024520888126191985\n",
      "Saved a checkpoint: /var/folders/6s/m6kbjxb16sl9cg9rg6mj5czrv6ht9f/T/tfcheckpoints/78fab527-1c45-4d46-931b-843f8c666cc5/78fab527-1c45-4d46-931b-843f8c666cc5-15\n"
     ]
    },
    {
     "name": "stderr",
     "output_type": "stream",
     "text": [
      "  3%|▎         | 14/500 [00:03<01:18,  6.20it/s]"
     ]
    },
    {
     "name": "stdout",
     "output_type": "stream",
     "text": [
      "Step 15: average-batch loss:0.08627603774995639 rel loss: 0.022512166282804003\n",
      "New learning rate: 0.95\n"
     ]
    },
    {
     "name": "stderr",
     "output_type": "stream",
     "text": [
      "  3%|▎         | 15/500 [00:03<01:15,  6.41it/s]"
     ]
    },
    {
     "name": "stdout",
     "output_type": "stream",
     "text": [
      "Step 16: average-batch loss:0.07765760848478884 rel loss: 0.0859692808905743\n",
      "Saved a checkpoint: /var/folders/6s/m6kbjxb16sl9cg9rg6mj5czrv6ht9f/T/tfcheckpoints/78fab527-1c45-4d46-931b-843f8c666cc5/78fab527-1c45-4d46-931b-843f8c666cc5-16\n"
     ]
    },
    {
     "name": "stderr",
     "output_type": "stream",
     "text": [
      "  3%|▎         | 16/500 [00:03<01:15,  6.42it/s]"
     ]
    },
    {
     "name": "stdout",
     "output_type": "stream",
     "text": [
      "Step 17: average-batch loss:0.0684749169987455 rel loss: 0.13410299549850596\n",
      "Saved a checkpoint: /var/folders/6s/m6kbjxb16sl9cg9rg6mj5czrv6ht9f/T/tfcheckpoints/78fab527-1c45-4d46-931b-843f8c666cc5/78fab527-1c45-4d46-931b-843f8c666cc5-17\n"
     ]
    },
    {
     "name": "stderr",
     "output_type": "stream",
     "text": [
      "  3%|▎         | 17/500 [00:04<01:21,  5.89it/s]"
     ]
    },
    {
     "name": "stdout",
     "output_type": "stream",
     "text": [
      "Step 18: average-batch loss:0.05609790255530457 rel loss: 0.22063239229379294\n",
      "Saved a checkpoint: /var/folders/6s/m6kbjxb16sl9cg9rg6mj5czrv6ht9f/T/tfcheckpoints/78fab527-1c45-4d46-931b-843f8c666cc5/78fab527-1c45-4d46-931b-843f8c666cc5-18\n"
     ]
    },
    {
     "name": "stderr",
     "output_type": "stream",
     "text": [
      "  4%|▎         | 18/500 [00:04<01:19,  6.08it/s]"
     ]
    },
    {
     "name": "stdout",
     "output_type": "stream",
     "text": [
      "Step 19: average-batch loss:0.05878018531101383 rel loss: 0.04563243109079944\n",
      "New learning rate: 0.9025\n"
     ]
    },
    {
     "name": "stderr",
     "output_type": "stream",
     "text": [
      "  4%|▍         | 19/500 [00:04<01:15,  6.35it/s]"
     ]
    },
    {
     "name": "stdout",
     "output_type": "stream",
     "text": [
      "Step 20: average-batch loss:0.0626203189218675 rel loss: 0.10415814673031383\n",
      "New learning rate: 0.8573749999999999\n"
     ]
    },
    {
     "name": "stderr",
     "output_type": "stream",
     "text": [
      "  4%|▍         | 20/500 [00:04<01:12,  6.61it/s]"
     ]
    },
    {
     "name": "stdout",
     "output_type": "stream",
     "text": [
      "Step 21: average-batch loss:0.06083071492378873 rel loss: 0.07780300419637715\n",
      "New learning rate: 0.8145062499999999\n"
     ]
    },
    {
     "name": "stderr",
     "output_type": "stream",
     "text": [
      "  4%|▍         | 21/500 [00:04<01:10,  6.79it/s]"
     ]
    },
    {
     "name": "stdout",
     "output_type": "stream",
     "text": [
      "Step 22: average-batch loss:0.05509957291936873 rel loss: 0.0181186456271951\n",
      "Saved a checkpoint: /var/folders/6s/m6kbjxb16sl9cg9rg6mj5czrv6ht9f/T/tfcheckpoints/78fab527-1c45-4d46-931b-843f8c666cc5/78fab527-1c45-4d46-931b-843f8c666cc5-19\n"
     ]
    },
    {
     "name": "stderr",
     "output_type": "stream",
     "text": [
      "  4%|▍         | 22/500 [00:04<01:11,  6.68it/s]"
     ]
    },
    {
     "name": "stdout",
     "output_type": "stream",
     "text": [
      "Step 23: average-batch loss:0.05289136788599953 rel loss: 0.041749818952096306\n",
      "Saved a checkpoint: /var/folders/6s/m6kbjxb16sl9cg9rg6mj5czrv6ht9f/T/tfcheckpoints/78fab527-1c45-4d46-931b-843f8c666cc5/78fab527-1c45-4d46-931b-843f8c666cc5-20\n"
     ]
    },
    {
     "name": "stderr",
     "output_type": "stream",
     "text": [
      "  5%|▍         | 23/500 [00:05<01:12,  6.57it/s]"
     ]
    },
    {
     "name": "stdout",
     "output_type": "stream",
     "text": [
      "Step 24: average-batch loss:0.05218605020912841 rel loss: 0.013515444722194191\n",
      "Saved a checkpoint: /var/folders/6s/m6kbjxb16sl9cg9rg6mj5czrv6ht9f/T/tfcheckpoints/78fab527-1c45-4d46-931b-843f8c666cc5/78fab527-1c45-4d46-931b-843f8c666cc5-21\n"
     ]
    },
    {
     "name": "stderr",
     "output_type": "stream",
     "text": [
      "  5%|▍         | 24/500 [00:05<01:13,  6.50it/s]"
     ]
    },
    {
     "name": "stdout",
     "output_type": "stream",
     "text": [
      "Step 25: average-batch loss:0.050591910470687916 rel loss: 0.03150977544847032\n",
      "Saved a checkpoint: /var/folders/6s/m6kbjxb16sl9cg9rg6mj5czrv6ht9f/T/tfcheckpoints/78fab527-1c45-4d46-931b-843f8c666cc5/78fab527-1c45-4d46-931b-843f8c666cc5-22\n"
     ]
    },
    {
     "name": "stderr",
     "output_type": "stream",
     "text": [
      "  5%|▌         | 25/500 [00:05<01:13,  6.47it/s]"
     ]
    },
    {
     "name": "stdout",
     "output_type": "stream",
     "text": [
      "Step 26: average-batch loss:0.046442876806992314 rel loss: 0.08933627606528746\n",
      "Saved a checkpoint: /var/folders/6s/m6kbjxb16sl9cg9rg6mj5czrv6ht9f/T/tfcheckpoints/78fab527-1c45-4d46-931b-843f8c666cc5/78fab527-1c45-4d46-931b-843f8c666cc5-23\n"
     ]
    },
    {
     "name": "stderr",
     "output_type": "stream",
     "text": [
      "  5%|▌         | 26/500 [00:05<01:14,  6.39it/s]"
     ]
    },
    {
     "name": "stdout",
     "output_type": "stream",
     "text": [
      "Step 27: average-batch loss:0.046260049146698 rel loss: 0.00395217176952277\n",
      "Saved a checkpoint: /var/folders/6s/m6kbjxb16sl9cg9rg6mj5czrv6ht9f/T/tfcheckpoints/78fab527-1c45-4d46-931b-843f8c666cc5/78fab527-1c45-4d46-931b-843f8c666cc5-24\n"
     ]
    },
    {
     "name": "stderr",
     "output_type": "stream",
     "text": [
      "  5%|▌         | 27/500 [00:05<01:13,  6.41it/s]"
     ]
    },
    {
     "name": "stdout",
     "output_type": "stream",
     "text": [
      "Step 28: average-batch loss:0.04486103072154749 rel loss: 0.031185605917844757\n",
      "Saved a checkpoint: /var/folders/6s/m6kbjxb16sl9cg9rg6mj5czrv6ht9f/T/tfcheckpoints/78fab527-1c45-4d46-931b-843f8c666cc5/78fab527-1c45-4d46-931b-843f8c666cc5-25\n"
     ]
    },
    {
     "name": "stderr",
     "output_type": "stream",
     "text": [
      "  6%|▌         | 28/500 [00:05<01:13,  6.46it/s]"
     ]
    },
    {
     "name": "stdout",
     "output_type": "stream",
     "text": [
      "Step 29: average-batch loss:0.045605029576256326 rel loss: 0.01631396496442988\n",
      "New learning rate: 0.7737809374999998\n"
     ]
    },
    {
     "name": "stderr",
     "output_type": "stream",
     "text": [
      "  6%|▌         | 29/500 [00:05<01:11,  6.62it/s]"
     ]
    },
    {
     "name": "stdout",
     "output_type": "stream",
     "text": [
      "Step 30: average-batch loss:0.04655177576093137 rel loss: 0.0363196679771524\n",
      "New learning rate: 0.7350918906249998\n"
     ]
    },
    {
     "name": "stderr",
     "output_type": "stream",
     "text": [
      "  6%|▌         | 30/500 [00:06<01:12,  6.44it/s]"
     ]
    },
    {
     "name": "stdout",
     "output_type": "stream",
     "text": [
      "Step 31: average-batch loss:0.04165732007839156 rel loss: 0.07690630691381789\n",
      "Saved a checkpoint: /var/folders/6s/m6kbjxb16sl9cg9rg6mj5czrv6ht9f/T/tfcheckpoints/78fab527-1c45-4d46-931b-843f8c666cc5/78fab527-1c45-4d46-931b-843f8c666cc5-26\n"
     ]
    },
    {
     "name": "stderr",
     "output_type": "stream",
     "text": [
      "  6%|▌         | 31/500 [00:06<01:13,  6.41it/s]"
     ]
    },
    {
     "name": "stdout",
     "output_type": "stream",
     "text": [
      "Step 32: average-batch loss:0.04184757585892192 rel loss: 0.004546399083467897\n",
      "New learning rate: 0.6983372960937497\n"
     ]
    },
    {
     "name": "stderr",
     "output_type": "stream",
     "text": [
      "  6%|▋         | 32/500 [00:06<01:10,  6.63it/s]"
     ]
    },
    {
     "name": "stdout",
     "output_type": "stream",
     "text": [
      "Step 33: average-batch loss:0.043098555435109404 rel loss: 0.03344045623264132\n",
      "New learning rate: 0.6634204312890623\n"
     ]
    },
    {
     "name": "stderr",
     "output_type": "stream",
     "text": [
      "  7%|▋         | 33/500 [00:06<01:08,  6.79it/s]"
     ]
    },
    {
     "name": "stdout",
     "output_type": "stream",
     "text": [
      "Step 34: average-batch loss:0.04000602361761511 rel loss: 0.04127619571892095\n",
      "Saved a checkpoint: /var/folders/6s/m6kbjxb16sl9cg9rg6mj5czrv6ht9f/T/tfcheckpoints/78fab527-1c45-4d46-931b-843f8c666cc5/78fab527-1c45-4d46-931b-843f8c666cc5-27\n"
     ]
    },
    {
     "name": "stderr",
     "output_type": "stream",
     "text": [
      "  7%|▋         | 34/500 [00:06<01:09,  6.74it/s]"
     ]
    },
    {
     "name": "stdout",
     "output_type": "stream",
     "text": [
      "Step 35: average-batch loss:0.039563816487266666 rel loss: 0.011177059485420514\n",
      "Saved a checkpoint: /var/folders/6s/m6kbjxb16sl9cg9rg6mj5czrv6ht9f/T/tfcheckpoints/78fab527-1c45-4d46-931b-843f8c666cc5/78fab527-1c45-4d46-931b-843f8c666cc5-28\n"
     ]
    },
    {
     "name": "stderr",
     "output_type": "stream",
     "text": [
      "  7%|▋         | 35/500 [00:06<01:10,  6.61it/s]"
     ]
    },
    {
     "name": "stdout",
     "output_type": "stream",
     "text": [
      "Step 36: average-batch loss:0.03775385234215757 rel loss: 0.04794117772951111\n",
      "Saved a checkpoint: /var/folders/6s/m6kbjxb16sl9cg9rg6mj5czrv6ht9f/T/tfcheckpoints/78fab527-1c45-4d46-931b-843f8c666cc5/78fab527-1c45-4d46-931b-843f8c666cc5-29\n"
     ]
    },
    {
     "name": "stderr",
     "output_type": "stream",
     "text": [
      "  7%|▋         | 36/500 [00:07<01:10,  6.57it/s]"
     ]
    },
    {
     "name": "stdout",
     "output_type": "stream",
     "text": [
      "Step 37: average-batch loss:0.039148940481689445 rel loss: 0.0356353996395989\n"
     ]
    },
    {
     "name": "stderr",
     "output_type": "stream",
     "text": [
      "  7%|▋         | 37/500 [00:07<01:08,  6.72it/s]"
     ]
    },
    {
     "name": "stdout",
     "output_type": "stream",
     "text": [
      "Terminating because the loss converged\n"
     ]
    },
    {
     "name": "stderr",
     "output_type": "stream",
     "text": [
      "  7%|▋         | 37/500 [00:07<01:30,  5.10it/s]\n"
     ]
    },
    {
     "data": {
      "text/plain": [
       "<tf.Tensor: shape=(37,), dtype=float64, numpy=\n",
       "array([0.79453663, 0.75392785, 0.51472031, 0.34804485, 0.26688744,\n",
       "       0.20710419, 0.17185981, 0.15325671, 0.15219146, 0.13324323,\n",
       "       0.10232645, 0.08810264, 0.08640172, 0.08433378, 0.08627604,\n",
       "       0.07765761, 0.06847492, 0.0560979 , 0.05878019, 0.06262032,\n",
       "       0.06083071, 0.05509957, 0.05289137, 0.05218605, 0.05059191,\n",
       "       0.04644288, 0.04626005, 0.04486103, 0.04560503, 0.04655178,\n",
       "       0.04165732, 0.04184758, 0.04309856, 0.04000602, 0.03956382,\n",
       "       0.03775385, 0.03914894])>"
      ]
     },
     "execution_count": 17,
     "metadata": {},
     "output_type": "execute_result"
    }
   ],
   "source": [
    "fgrm.fit_projection(grm, data_factory_factory(shuffle=True, repeat=True), num_steps=500)"
   ]
  },
  {
   "cell_type": "code",
   "execution_count": 18,
   "metadata": {},
   "outputs": [
    {
     "data": {
      "image/png": "[encoded data removed]",
      "text/plain": [
       "<Figure size 1200x200 with 2 Axes>"
      ]
     },
     "metadata": {},
     "output_type": "display_data"
    }
   ],
   "source": [
    "_ = plt.figure(figsize=(12, 2))\n",
    "\n",
    "fparams = fgrm.sample(256)\n",
    "fdiscrim = fparams['discriminations']\n",
    "fdiscrim_mean = np.mean(fdiscrim, axis=0)\n",
    "plt.pcolormesh(fdiscrim_mean[0, ..., 0], vmin=0, cmap='Reds')\n",
    "_ = plt.colorbar()\n",
    "_ = plt.title(\"Factorized IRT model\")\n",
    "_ = plt.yticks([])\n",
    "_ = plt.xticks(\n",
    "    np.arange(grm.num_items) + 0.5, labels=[f\"Q{j+1}\" for j in range(grm.num_items)]\n",
    ")"
   ]
  },
  {
   "cell_type": "code",
   "execution_count": 19,
   "metadata": {},
   "outputs": [
    {
     "data": {
      "text/plain": [
       "['Q1',\n",
       " 'Q2',\n",
       " 'Q3',\n",
       " 'Q4',\n",
       " 'Q5',\n",
       " 'Q6',\n",
       " 'Q7',\n",
       " 'Q8',\n",
       " 'Q9',\n",
       " 'Q10',\n",
       " 'Q11',\n",
       " 'Q12',\n",
       " 'Q13',\n",
       " 'Q14',\n",
       " 'Q15',\n",
       " 'Q16',\n",
       " 'Q17',\n",
       " 'Q18',\n",
       " 'Q19',\n",
       " 'Q20',\n",
       " 'Q21',\n",
       " 'Q22']"
      ]
     },
     "execution_count": 19,
     "metadata": {},
     "output_type": "execute_result"
    }
   ],
   "source": [
    "item_names"
   ]
  },
  {
   "cell_type": "code",
   "execution_count": 20,
   "metadata": {},
   "outputs": [
    {
     "data": {
      "text/plain": [
       "['The established authorities generally turn out to be right about things, while the radicals and protestors are usually just \"loud mouths\" showing off their ignorance.',\n",
       " 'Women should have to promise to obey their husbands when they get married.',\n",
       " 'Our country desperately needs a mighty leader who will do what has to be done to destroy the radical new ways and sinfulness that are ruining us.',\n",
       " 'Gays and lesbians are just as healthy and moral as anybody else.',\n",
       " \"It is always better to trust the judgement of the proper authorities in government and religion than to listen to the noisy rabble-rousers in our society who are trying to create doubt in people's minds.\",\n",
       " 'Atheists and others who have rebelled against the established religions are no doubt every bit as good and virtuous as those who attend church regularly.',\n",
       " 'The only way our country can get through the crisis ahead is to get back to our traditional values, put some tough leaders in power, and silence the troublemakers spreading bad ideas.',\n",
       " 'There is absolutely nothing wrong with nudist camps.',\n",
       " 'Our country needs free thinkers who have the courage to defy traditional ways, even if this upsets many people.',\n",
       " 'Our country will be destroyed someday if we do not smash the perversions eating away at our moral fiber and traditional beliefs.',\n",
       " 'Everyone should have their own lifestyle, religious beliefs, and sexual preferences, even if it makes them different from everyone else.',\n",
       " 'The \"old-fashioned ways\" and the \"old-fashioned values\" still show the best way to live.',\n",
       " \"You have to admire those who challenged the law and the majority's view by protesting for women's abortion rights, for animal rights, or to abolish school prayer.\",\n",
       " 'What our country really needs is a strong, determined leader who will crush evil, and take us back to our true path.',\n",
       " 'Some of the best people in our country are those who are challenging our government, criticizing religion, and ignoring the \"normal way things are supposed to be done.\"',\n",
       " \"God's laws about abortion, pornography and marriage must be strictly followed before it is too late, and those who break them must be strongly punished.\",\n",
       " 'There are many radical, immoral people in our country today, who are trying to ruin it for their own godless purposes, whom the authorities should put out of action.',\n",
       " 'A \"woman\\'s place\" should be wherever she wants to be. The days when women are submissive to their husbands and social conventions belong strictly in the past.',\n",
       " 'Our country will be great if we honor the ways of our forefathers, do what the authorities tell us to do, and get rid of the \"rotten apples\" who are ruining everything.',\n",
       " 'There is no \"one right way\" to live life; everybody has to create their own way.',\n",
       " 'Homosexuals and feminists should be praised for being brave enough to defy \"traditional family values.\"',\n",
       " \"This country would work a lot better if certain groups of troublemakers would just shut up and accept their group's traditional place in society.\"]"
      ]
     },
     "execution_count": 20,
     "metadata": {},
     "output_type": "execute_result"
    }
   ],
   "source": [
    "item_text"
   ]
  },
  {
   "cell_type": "code",
   "execution_count": 21,
   "metadata": {},
   "outputs": [
    {
     "data": {
      "text/plain": [
       "{'Q1': 'The established authorities generally turn out to be right about things, while the radicals and protestors are usually just \"loud mouths\" showing off their ignorance.',\n",
       " 'Q2': 'Women should have to promise to obey their husbands when they get married.',\n",
       " 'Q3': 'Our country desperately needs a mighty leader who will do what has to be done to destroy the radical new ways and sinfulness that are ruining us.',\n",
       " 'Q4': 'Gays and lesbians are just as healthy and moral as anybody else.',\n",
       " 'Q5': \"It is always better to trust the judgement of the proper authorities in government and religion than to listen to the noisy rabble-rousers in our society who are trying to create doubt in people's minds.\",\n",
       " 'Q6': 'Atheists and others who have rebelled against the established religions are no doubt every bit as good and virtuous as those who attend church regularly.',\n",
       " 'Q7': 'The only way our country can get through the crisis ahead is to get back to our traditional values, put some tough leaders in power, and silence the troublemakers spreading bad ideas.',\n",
       " 'Q8': 'There is absolutely nothing wrong with nudist camps.',\n",
       " 'Q9': 'Our country needs free thinkers who have the courage to defy traditional ways, even if this upsets many people.',\n",
       " 'Q10': 'Our country will be destroyed someday if we do not smash the perversions eating away at our moral fiber and traditional beliefs.',\n",
       " 'Q11': 'Everyone should have their own lifestyle, religious beliefs, and sexual preferences, even if it makes them different from everyone else.',\n",
       " 'Q12': 'The \"old-fashioned ways\" and the \"old-fashioned values\" still show the best way to live.',\n",
       " 'Q13': \"You have to admire those who challenged the law and the majority's view by protesting for women's abortion rights, for animal rights, or to abolish school prayer.\",\n",
       " 'Q14': 'What our country really needs is a strong, determined leader who will crush evil, and take us back to our true path.',\n",
       " 'Q15': 'Some of the best people in our country are those who are challenging our government, criticizing religion, and ignoring the \"normal way things are supposed to be done.\"',\n",
       " 'Q16': \"God's laws about abortion, pornography and marriage must be strictly followed before it is too late, and those who break them must be strongly punished.\",\n",
       " 'Q17': 'There are many radical, immoral people in our country today, who are trying to ruin it for their own godless purposes, whom the authorities should put out of action.',\n",
       " 'Q18': 'A \"woman\\'s place\" should be wherever she wants to be. The days when women are submissive to their husbands and social conventions belong strictly in the past.',\n",
       " 'Q19': 'Our country will be great if we honor the ways of our forefathers, do what the authorities tell us to do, and get rid of the \"rotten apples\" who are ruining everything.',\n",
       " 'Q20': 'There is no \"one right way\" to live life; everybody has to create their own way.',\n",
       " 'Q21': 'Homosexuals and feminists should be praised for being brave enough to defy \"traditional family values.\"',\n",
       " 'Q22': \"This country would work a lot better if certain groups of troublemakers would just shut up and accept their group's traditional place in society.\"}"
      ]
     },
     "execution_count": 21,
     "metadata": {},
     "output_type": "execute_result"
    }
   ],
   "source": [
    "{name: text for j, (name, text) in enumerate(zip(item_names, item_text))}"
   ]
  },
  {
   "cell_type": "code",
   "execution_count": null,
   "metadata": {},
   "outputs": [],
   "source": []
  }
 ],
 "metadata": {
  "kernelspec": {
   "display_name": "Python 3.8.7 64-bit ('3.8.7')",
   "metadata": {
    "interpreter": {
     "hash": "b24fb63a86a0a9cc1cf2a9285a4ac90a6df732b2195d3b2b0752fb2dcb2673f7"
    }
   },
   "name": "python3"
  },
  "language_info": {
   "codemirror_mode": {
    "name": "ipython",
    "version": 3
   },
   "file_extension": ".py",
   "mimetype": "text/x-python",
   "name": "python",
   "nbconvert_exporter": "python",
   "pygments_lexer": "ipython3",
   "version": "3.11.6"
  }
 },
 "nbformat": 4,
 "nbformat_minor": 4
}
