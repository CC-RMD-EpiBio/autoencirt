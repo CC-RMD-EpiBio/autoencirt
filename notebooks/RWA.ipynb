{
 "cells": [
  {
   "cell_type": "markdown",
   "metadata": {},
   "source": [
    "!pip install git+https://github.com/CC-RMD-EpiBio/autoencirt.git"
   ]
  },
  {
   "cell_type": "code",
   "execution_count": 1,
   "metadata": {},
   "outputs": [
    {
     "name": "stdout",
     "output_type": "stream",
     "text": [
      "%pylab is deprecated, use %matplotlib inline and import the required libraries.\n",
      "Populating the interactive namespace from numpy and matplotlib\n"
     ]
    }
   ],
   "source": [
    "%pylab inline\n",
    "import numpy as np\n",
    "import sys\n",
    "sys.path.append('../bayesianquilts')\n",
    "\n",
    "import matplotlib.pyplot as plts\n"
   ]
  },
  {
   "cell_type": "code",
   "execution_count": 2,
   "metadata": {},
   "outputs": [],
   "source": [
    "from factor_analyzer import FactorAnalyzer"
   ]
  },
  {
   "cell_type": "code",
   "execution_count": 3,
   "metadata": {},
   "outputs": [],
   "source": [
    "import tensorflow as tf\n",
    "import autoencirt\n",
    "from autoencirt.irt import GRModel\n",
    "from autoencirt.data.rwa import item_text, get_data\n",
    "\n",
    "dim = 2"
   ]
  },
  {
   "cell_type": "code",
   "execution_count": 4,
   "metadata": {},
   "outputs": [
    {
     "data": {
      "text/plain": [
       "<matplotlib.colorbar.Colorbar at 0x2afca8e90>"
      ]
     },
     "execution_count": 4,
     "metadata": {},
     "output_type": "execute_result"
    },
    {
     "data": {
      "image/png": "[encoded data removed]",
      "text/plain": [
       "<Figure size 640x480 with 2 Axes>"
      ]
     },
     "metadata": {},
     "output_type": "display_data"
    }
   ],
   "source": [
    "pd_data = get_data(reorient=True, pandas=True)\n",
    "responses = pd_data[0].iloc[:, :22]\n",
    "fa = FactorAnalyzer(n_factors=dim)\n",
    "fa.fit(responses)\n",
    "loadings = fa.loadings_\n",
    "loadings.shape\n",
    "plt.pcolormesh(np.abs(loadings), cmap=\"Reds\")\n",
    "plt.colorbar()"
   ]
  },
  {
   "cell_type": "code",
   "execution_count": 7,
   "metadata": {},
   "outputs": [],
   "source": [
    "tfdata, num_people = get_data(reorient=True)\n",
    "item_names = [f\"Q{j}\" for j in range(1, 23)]\n",
    "grm = GRModel(\n",
    "    data=tfdata,\n",
    "    item_keys=item_names,\n",
    "    num_people=num_people,\n",
    "    dim=dim,\n",
    "    eta_scale=1e-3,\n",
    "    kappa_scale=1e-3,\n",
    "    weight_exponent=1,\n",
    "    response_cardinality=10,\n",
    "    discrimination_guess=tf.cast(np.abs(loadings).T, tf.float64)[tf.newaxis, :, :, tf.newaxis]\n",
    ")\n",
    "\n",
    "batch_size = 241\n",
    "\n",
    "def data_factory_factory(batch_size=batch_size, repeat=False, shuffle=False):\n",
    "    def data_factory(batch_size=batch_size):\n",
    "        if shuffle:\n",
    "            out = tfdata.shuffle(batch_size*10)\n",
    "        else:\n",
    "            out = tfdata\n",
    "        \n",
    "        if repeat:\n",
    "            out = out.repeat()\n",
    "        return out.batch(batch_size)\n",
    "    return data_factory"
   ]
  },
  {
   "cell_type": "code",
   "execution_count": 8,
   "metadata": {},
   "outputs": [
    {
     "name": "stdout",
     "output_type": "stream",
     "text": [
      "Running optimization for 3000 steps of 1 accumulated batches, checking every 41 steps\n",
      "Saved a checkpoint: /var/folders/6s/m6kbjxb16sl9cg9rg6mj5czrv6ht9f/T/tfcheckpoints/eb00e17c-7169-4f0a-b8f1-5d544bcef4ca/eb00e17c-7169-4f0a-b8f1-5d544bcef4ca-1\n"
     ]
    },
    {
     "name": "stderr",
     "output_type": "stream",
     "text": [
      "  1%|▏         | 40/3000 [00:08<06:22,  7.74it/s] "
     ]
    },
    {
     "name": "stdout",
     "output_type": "stream",
     "text": [
      "Step 41: average-batch loss:411696.3615870587 rel loss: 2.4289745873514032e+302\n",
      "Saved a checkpoint: /var/folders/6s/m6kbjxb16sl9cg9rg6mj5czrv6ht9f/T/tfcheckpoints/eb00e17c-7169-4f0a-b8f1-5d544bcef4ca/eb00e17c-7169-4f0a-b8f1-5d544bcef4ca-2\n"
     ]
    },
    {
     "name": "stderr",
     "output_type": "stream",
     "text": [
      "  3%|▎         | 81/3000 [00:13<06:20,  7.66it/s]"
     ]
    },
    {
     "name": "stdout",
     "output_type": "stream",
     "text": [
      "Step 82: average-batch loss:382381.2980715877 rel loss: 0.07666448035851055\n",
      "Saved a checkpoint: /var/folders/6s/m6kbjxb16sl9cg9rg6mj5czrv6ht9f/T/tfcheckpoints/eb00e17c-7169-4f0a-b8f1-5d544bcef4ca/eb00e17c-7169-4f0a-b8f1-5d544bcef4ca-3\n"
     ]
    },
    {
     "name": "stderr",
     "output_type": "stream",
     "text": [
      "  4%|▍         | 122/3000 [00:18<06:25,  7.47it/s]"
     ]
    },
    {
     "name": "stdout",
     "output_type": "stream",
     "text": [
      "Step 123: average-batch loss:341960.8068023393 rel loss: 0.11820211692450554\n",
      "Saved a checkpoint: /var/folders/6s/m6kbjxb16sl9cg9rg6mj5czrv6ht9f/T/tfcheckpoints/eb00e17c-7169-4f0a-b8f1-5d544bcef4ca/eb00e17c-7169-4f0a-b8f1-5d544bcef4ca-4\n"
     ]
    },
    {
     "name": "stderr",
     "output_type": "stream",
     "text": [
      "  5%|▌         | 163/3000 [00:24<06:33,  7.21it/s]"
     ]
    },
    {
     "name": "stdout",
     "output_type": "stream",
     "text": [
      "Step 164: average-batch loss:354064.3586989932 rel loss: 0.0341846096600299\n",
      "New learning rate: 0.001485\n"
     ]
    },
    {
     "name": "stderr",
     "output_type": "stream",
     "text": [
      "  7%|▋         | 204/3000 [00:30<06:18,  7.39it/s]"
     ]
    },
    {
     "name": "stdout",
     "output_type": "stream",
     "text": [
      "Step 205: average-batch loss:344478.6771475008 rel loss: 0.007309219734617581\n",
      "New learning rate: 0.00147015\n"
     ]
    },
    {
     "name": "stderr",
     "output_type": "stream",
     "text": [
      "  8%|▊         | 245/3000 [00:35<06:14,  7.35it/s]"
     ]
    },
    {
     "name": "stdout",
     "output_type": "stream",
     "text": [
      "Step 246: average-batch loss:336659.08608564356 rel loss: 0.015748039889073567\n",
      "Saved a checkpoint: /var/folders/6s/m6kbjxb16sl9cg9rg6mj5czrv6ht9f/T/tfcheckpoints/eb00e17c-7169-4f0a-b8f1-5d544bcef4ca/eb00e17c-7169-4f0a-b8f1-5d544bcef4ca-5\n"
     ]
    },
    {
     "name": "stderr",
     "output_type": "stream",
     "text": [
      " 10%|▉         | 286/3000 [00:41<06:05,  7.43it/s]"
     ]
    },
    {
     "name": "stdout",
     "output_type": "stream",
     "text": [
      "Step 287: average-batch loss:316189.9068579467 rel loss: 0.06473697858070133\n",
      "Saved a checkpoint: /var/folders/6s/m6kbjxb16sl9cg9rg6mj5czrv6ht9f/T/tfcheckpoints/eb00e17c-7169-4f0a-b8f1-5d544bcef4ca/eb00e17c-7169-4f0a-b8f1-5d544bcef4ca-6\n"
     ]
    },
    {
     "name": "stderr",
     "output_type": "stream",
     "text": [
      " 11%|█         | 327/3000 [00:46<06:08,  7.25it/s]"
     ]
    },
    {
     "name": "stdout",
     "output_type": "stream",
     "text": [
      "Step 328: average-batch loss:341205.75953888684 rel loss: 0.0733160328675199\n",
      "New learning rate: 0.0014554485\n"
     ]
    },
    {
     "name": "stderr",
     "output_type": "stream",
     "text": [
      " 12%|█▏        | 368/3000 [00:52<05:53,  7.44it/s]"
     ]
    },
    {
     "name": "stdout",
     "output_type": "stream",
     "text": [
      "Step 369: average-batch loss:314070.831202963 rel loss: 0.0067471265856404155\n",
      "Saved a checkpoint: /var/folders/6s/m6kbjxb16sl9cg9rg6mj5czrv6ht9f/T/tfcheckpoints/eb00e17c-7169-4f0a-b8f1-5d544bcef4ca/eb00e17c-7169-4f0a-b8f1-5d544bcef4ca-7\n"
     ]
    },
    {
     "name": "stderr",
     "output_type": "stream",
     "text": [
      " 14%|█▎        | 409/3000 [00:57<05:54,  7.30it/s]"
     ]
    },
    {
     "name": "stdout",
     "output_type": "stream",
     "text": [
      "Step 410: average-batch loss:259901.2213836204 rel loss: 0.20842383706764878\n",
      "Saved a checkpoint: /var/folders/6s/m6kbjxb16sl9cg9rg6mj5czrv6ht9f/T/tfcheckpoints/eb00e17c-7169-4f0a-b8f1-5d544bcef4ca/eb00e17c-7169-4f0a-b8f1-5d544bcef4ca-8\n"
     ]
    },
    {
     "name": "stderr",
     "output_type": "stream",
     "text": [
      " 15%|█▌        | 450/3000 [01:03<05:38,  7.54it/s]"
     ]
    },
    {
     "name": "stdout",
     "output_type": "stream",
     "text": [
      "Step 451: average-batch loss:231614.5797423803 rel loss: 0.12212807014438684\n",
      "Saved a checkpoint: /var/folders/6s/m6kbjxb16sl9cg9rg6mj5czrv6ht9f/T/tfcheckpoints/eb00e17c-7169-4f0a-b8f1-5d544bcef4ca/eb00e17c-7169-4f0a-b8f1-5d544bcef4ca-9\n"
     ]
    },
    {
     "name": "stderr",
     "output_type": "stream",
     "text": [
      " 16%|█▋        | 491/3000 [01:09<05:36,  7.47it/s]"
     ]
    },
    {
     "name": "stdout",
     "output_type": "stream",
     "text": [
      "Step 492: average-batch loss:234474.34358508448 rel loss: 0.01219648938548558\n",
      "New learning rate: 0.001440894015\n"
     ]
    },
    {
     "name": "stderr",
     "output_type": "stream",
     "text": [
      " 18%|█▊        | 532/3000 [01:14<05:34,  7.37it/s]"
     ]
    },
    {
     "name": "stdout",
     "output_type": "stream",
     "text": [
      "Step 533: average-batch loss:249508.32817949972 rel loss: 0.07171603676590069\n",
      "New learning rate: 0.0014264850748499998\n"
     ]
    },
    {
     "name": "stderr",
     "output_type": "stream",
     "text": [
      " 19%|█▉        | 573/3000 [01:20<05:29,  7.37it/s]"
     ]
    },
    {
     "name": "stdout",
     "output_type": "stream",
     "text": [
      "Step 574: average-batch loss:277429.9917892015 rel loss: 0.16514224634239597\n",
      "New learning rate: 0.0014122202241015\n"
     ]
    },
    {
     "name": "stderr",
     "output_type": "stream",
     "text": [
      " 20%|██        | 614/3000 [01:25<05:29,  7.24it/s]"
     ]
    },
    {
     "name": "stdout",
     "output_type": "stream",
     "text": [
      "Step 615: average-batch loss:250057.45116982042 rel loss: 0.07375453657213793\n",
      "New learning rate: 0.001398098021860485\n"
     ]
    },
    {
     "name": "stderr",
     "output_type": "stream",
     "text": [
      " 22%|██▏       | 655/3000 [01:31<05:17,  7.38it/s]"
     ]
    },
    {
     "name": "stdout",
     "output_type": "stream",
     "text": [
      "Step 656: average-batch loss:204256.8094501217 rel loss: 0.13393810647443405\n",
      "Saved a checkpoint: /var/folders/6s/m6kbjxb16sl9cg9rg6mj5czrv6ht9f/T/tfcheckpoints/eb00e17c-7169-4f0a-b8f1-5d544bcef4ca/eb00e17c-7169-4f0a-b8f1-5d544bcef4ca-10\n"
     ]
    },
    {
     "name": "stderr",
     "output_type": "stream",
     "text": [
      " 23%|██▎       | 696/3000 [01:36<05:12,  7.38it/s]"
     ]
    },
    {
     "name": "stdout",
     "output_type": "stream",
     "text": [
      "Step 697: average-batch loss:205784.164423602 rel loss: 0.007422121025485007\n",
      "New learning rate: 0.00138411704164188\n"
     ]
    },
    {
     "name": "stderr",
     "output_type": "stream",
     "text": [
      " 25%|██▍       | 737/3000 [01:42<05:06,  7.39it/s]"
     ]
    },
    {
     "name": "stdout",
     "output_type": "stream",
     "text": [
      "Step 738: average-batch loss:178951.5347333352 rel loss: 0.14140853697899375\n",
      "Saved a checkpoint: /var/folders/6s/m6kbjxb16sl9cg9rg6mj5czrv6ht9f/T/tfcheckpoints/eb00e17c-7169-4f0a-b8f1-5d544bcef4ca/eb00e17c-7169-4f0a-b8f1-5d544bcef4ca-11\n"
     ]
    },
    {
     "name": "stderr",
     "output_type": "stream",
     "text": [
      " 26%|██▌       | 778/3000 [01:48<05:02,  7.35it/s]"
     ]
    },
    {
     "name": "stdout",
     "output_type": "stream",
     "text": [
      "Step 779: average-batch loss:208636.4599261115 rel loss: 0.14228062153321241\n",
      "New learning rate: 0.0013702758712254614\n"
     ]
    },
    {
     "name": "stderr",
     "output_type": "stream",
     "text": [
      " 27%|██▋       | 819/3000 [01:53<04:56,  7.35it/s]"
     ]
    },
    {
     "name": "stdout",
     "output_type": "stream",
     "text": [
      "Step 820: average-batch loss:188746.8057688364 rel loss: 0.05189635393087265\n",
      "New learning rate: 0.0013565731125132067\n"
     ]
    },
    {
     "name": "stderr",
     "output_type": "stream",
     "text": [
      " 29%|██▊       | 860/3000 [01:59<06:24,  5.56it/s]"
     ]
    },
    {
     "name": "stdout",
     "output_type": "stream",
     "text": [
      "Step 861: average-batch loss:205827.161886785 rel loss: 0.13057376347749824\n",
      "New learning rate: 0.0013430073813880746\n"
     ]
    },
    {
     "name": "stderr",
     "output_type": "stream",
     "text": [
      " 30%|███       | 901/3000 [02:06<05:27,  6.41it/s]"
     ]
    },
    {
     "name": "stdout",
     "output_type": "stream",
     "text": [
      "Step 902: average-batch loss:174716.32876920956 rel loss: 0.024240470217984623\n",
      "Saved a checkpoint: /var/folders/6s/m6kbjxb16sl9cg9rg6mj5czrv6ht9f/T/tfcheckpoints/eb00e17c-7169-4f0a-b8f1-5d544bcef4ca/eb00e17c-7169-4f0a-b8f1-5d544bcef4ca-12\n"
     ]
    },
    {
     "name": "stderr",
     "output_type": "stream",
     "text": [
      " 31%|███▏      | 942/3000 [02:12<04:55,  6.96it/s]"
     ]
    },
    {
     "name": "stdout",
     "output_type": "stream",
     "text": [
      "Step 943: average-batch loss:182736.46573818868 rel loss: 0.043889088784664236\n",
      "New learning rate: 0.001329577307574194\n"
     ]
    },
    {
     "name": "stderr",
     "output_type": "stream",
     "text": [
      " 33%|███▎      | 983/3000 [02:18<04:37,  7.27it/s]"
     ]
    },
    {
     "name": "stdout",
     "output_type": "stream",
     "text": [
      "Step 984: average-batch loss:146094.69209632656 rel loss: 0.1959115438226292\n",
      "Saved a checkpoint: /var/folders/6s/m6kbjxb16sl9cg9rg6mj5czrv6ht9f/T/tfcheckpoints/eb00e17c-7169-4f0a-b8f1-5d544bcef4ca/eb00e17c-7169-4f0a-b8f1-5d544bcef4ca-13\n"
     ]
    },
    {
     "name": "stderr",
     "output_type": "stream",
     "text": [
      " 34%|███▍      | 1024/3000 [02:24<04:39,  7.08it/s]"
     ]
    },
    {
     "name": "stdout",
     "output_type": "stream",
     "text": [
      "Step 1025: average-batch loss:190868.66972261755 rel loss: 0.2345800266296159\n",
      "New learning rate: 0.0013162815344984519\n"
     ]
    },
    {
     "name": "stderr",
     "output_type": "stream",
     "text": [
      " 36%|███▌      | 1065/3000 [02:29<04:30,  7.16it/s]"
     ]
    },
    {
     "name": "stdout",
     "output_type": "stream",
     "text": [
      "Step 1066: average-batch loss:162350.20734391274 rel loss: 0.10012623644607668\n",
      "New learning rate: 0.0013031187191534673\n"
     ]
    },
    {
     "name": "stderr",
     "output_type": "stream",
     "text": [
      " 37%|███▋      | 1106/3000 [02:35<04:21,  7.25it/s]"
     ]
    },
    {
     "name": "stdout",
     "output_type": "stream",
     "text": [
      "Step 1107: average-batch loss:132006.45329200174 rel loss: 0.10672386427322055\n",
      "Saved a checkpoint: /var/folders/6s/m6kbjxb16sl9cg9rg6mj5czrv6ht9f/T/tfcheckpoints/eb00e17c-7169-4f0a-b8f1-5d544bcef4ca/eb00e17c-7169-4f0a-b8f1-5d544bcef4ca-14\n"
     ]
    },
    {
     "name": "stderr",
     "output_type": "stream",
     "text": [
      " 38%|███▊      | 1147/3000 [02:41<04:18,  7.16it/s]"
     ]
    },
    {
     "name": "stdout",
     "output_type": "stream",
     "text": [
      "Step 1148: average-batch loss:146013.09886378993 rel loss: 0.09592732214288842\n",
      "New learning rate: 0.0012900875319619327\n"
     ]
    },
    {
     "name": "stderr",
     "output_type": "stream",
     "text": [
      " 40%|███▉      | 1188/3000 [02:47<04:06,  7.36it/s]"
     ]
    },
    {
     "name": "stdout",
     "output_type": "stream",
     "text": [
      "Step 1189: average-batch loss:111090.54433846084 rel loss: 0.1882780310250003\n",
      "Saved a checkpoint: /var/folders/6s/m6kbjxb16sl9cg9rg6mj5czrv6ht9f/T/tfcheckpoints/eb00e17c-7169-4f0a-b8f1-5d544bcef4ca/eb00e17c-7169-4f0a-b8f1-5d544bcef4ca-15\n"
     ]
    },
    {
     "name": "stderr",
     "output_type": "stream",
     "text": [
      " 41%|████      | 1229/3000 [02:53<04:09,  7.10it/s]"
     ]
    },
    {
     "name": "stdout",
     "output_type": "stream",
     "text": [
      "Step 1230: average-batch loss:122864.44932195259 rel loss: 0.09582841129771842\n",
      "New learning rate: 0.0012771866566423133\n"
     ]
    },
    {
     "name": "stderr",
     "output_type": "stream",
     "text": [
      " 42%|████▏     | 1270/3000 [02:58<03:56,  7.31it/s]"
     ]
    },
    {
     "name": "stdout",
     "output_type": "stream",
     "text": [
      "Step 1271: average-batch loss:133667.5292271258 rel loss: 0.16890403390566533\n",
      "New learning rate: 0.00126441479007589\n"
     ]
    },
    {
     "name": "stderr",
     "output_type": "stream",
     "text": [
      " 44%|████▎     | 1311/3000 [03:04<03:53,  7.24it/s]"
     ]
    },
    {
     "name": "stdout",
     "output_type": "stream",
     "text": [
      "Step 1312: average-batch loss:110264.11104282446 rel loss: 0.007495034311893276\n",
      "Saved a checkpoint: /var/folders/6s/m6kbjxb16sl9cg9rg6mj5czrv6ht9f/T/tfcheckpoints/eb00e17c-7169-4f0a-b8f1-5d544bcef4ca/eb00e17c-7169-4f0a-b8f1-5d544bcef4ca-16\n"
     ]
    },
    {
     "name": "stderr",
     "output_type": "stream",
     "text": [
      " 45%|████▌     | 1352/3000 [03:10<04:01,  6.82it/s]"
     ]
    },
    {
     "name": "stdout",
     "output_type": "stream",
     "text": [
      "Step 1353: average-batch loss:106596.53041163116 rel loss: 0.034406191430721406\n",
      "Saved a checkpoint: /var/folders/6s/m6kbjxb16sl9cg9rg6mj5czrv6ht9f/T/tfcheckpoints/eb00e17c-7169-4f0a-b8f1-5d544bcef4ca/eb00e17c-7169-4f0a-b8f1-5d544bcef4ca-17\n"
     ]
    },
    {
     "name": "stderr",
     "output_type": "stream",
     "text": [
      " 46%|████▋     | 1393/3000 [03:16<03:43,  7.18it/s]"
     ]
    },
    {
     "name": "stdout",
     "output_type": "stream",
     "text": [
      "Step 1394: average-batch loss:81215.33208027578 rel loss: 0.3125173250078915\n",
      "Saved a checkpoint: /var/folders/6s/m6kbjxb16sl9cg9rg6mj5czrv6ht9f/T/tfcheckpoints/eb00e17c-7169-4f0a-b8f1-5d544bcef4ca/eb00e17c-7169-4f0a-b8f1-5d544bcef4ca-18\n"
     ]
    },
    {
     "name": "stderr",
     "output_type": "stream",
     "text": [
      " 48%|████▊     | 1434/3000 [03:22<03:36,  7.24it/s]"
     ]
    },
    {
     "name": "stdout",
     "output_type": "stream",
     "text": [
      "Step 1435: average-batch loss:107863.46366799451 rel loss: 0.24705429143034113\n",
      "New learning rate: 0.0012517706421751314\n"
     ]
    },
    {
     "name": "stderr",
     "output_type": "stream",
     "text": [
      " 49%|████▉     | 1475/3000 [03:27<03:28,  7.33it/s]"
     ]
    },
    {
     "name": "stdout",
     "output_type": "stream",
     "text": [
      "Step 1476: average-batch loss:88618.19088748228 rel loss: 0.0835365598537872\n",
      "New learning rate: 0.00123925293575338\n"
     ]
    },
    {
     "name": "stderr",
     "output_type": "stream",
     "text": [
      " 51%|█████     | 1516/3000 [03:33<03:28,  7.13it/s]"
     ]
    },
    {
     "name": "stdout",
     "output_type": "stream",
     "text": [
      "Step 1517: average-batch loss:95532.34662747069 rel loss: 0.14986562198690925\n",
      "New learning rate: 0.0012268604063958462\n"
     ]
    },
    {
     "name": "stderr",
     "output_type": "stream",
     "text": [
      " 52%|█████▏    | 1557/3000 [03:39<03:21,  7.15it/s]"
     ]
    },
    {
     "name": "stdout",
     "output_type": "stream",
     "text": [
      "Step 1558: average-batch loss:101893.08018544121 rel loss: 0.2029357446799408\n",
      "New learning rate: 0.0012145918023318877\n"
     ]
    },
    {
     "name": "stderr",
     "output_type": "stream",
     "text": [
      " 53%|█████▎    | 1598/3000 [03:45<03:13,  7.23it/s]"
     ]
    },
    {
     "name": "stdout",
     "output_type": "stream",
     "text": [
      "Step 1599: average-batch loss:97630.14979942256 rel loss: 0.1681326695992007\n",
      "New learning rate: 0.0012024458843085688\n",
      "We are in a loss plateau\n",
      "Restoring from a checkpoint\n"
     ]
    },
    {
     "name": "stderr",
     "output_type": "stream",
     "text": [
      " 55%|█████▍    | 1639/3000 [03:50<03:18,  6.86it/s]"
     ]
    },
    {
     "name": "stdout",
     "output_type": "stream",
     "text": [
      "Step 1640: average-batch loss:66468.33572889736 rel loss: 0.22186498563055046\n",
      "Saved a checkpoint: /var/folders/6s/m6kbjxb16sl9cg9rg6mj5czrv6ht9f/T/tfcheckpoints/eb00e17c-7169-4f0a-b8f1-5d544bcef4ca/eb00e17c-7169-4f0a-b8f1-5d544bcef4ca-19\n"
     ]
    },
    {
     "name": "stderr",
     "output_type": "stream",
     "text": [
      " 56%|█████▌    | 1680/3000 [03:56<03:02,  7.24it/s]"
     ]
    },
    {
     "name": "stdout",
     "output_type": "stream",
     "text": [
      "Step 1681: average-batch loss:56195.377338213206 rel loss: 0.1828078905646654\n",
      "Saved a checkpoint: /var/folders/6s/m6kbjxb16sl9cg9rg6mj5czrv6ht9f/T/tfcheckpoints/eb00e17c-7169-4f0a-b8f1-5d544bcef4ca/eb00e17c-7169-4f0a-b8f1-5d544bcef4ca-20\n"
     ]
    },
    {
     "name": "stderr",
     "output_type": "stream",
     "text": [
      " 57%|█████▋    | 1721/3000 [04:02<02:59,  7.12it/s]"
     ]
    },
    {
     "name": "stdout",
     "output_type": "stream",
     "text": [
      "Step 1722: average-batch loss:77245.50873258036 rel loss: 0.27250945381486885\n",
      "New learning rate: 0.001190421425465483\n"
     ]
    },
    {
     "name": "stderr",
     "output_type": "stream",
     "text": [
      " 59%|█████▊    | 1762/3000 [04:08<02:50,  7.25it/s]"
     ]
    },
    {
     "name": "stdout",
     "output_type": "stream",
     "text": [
      "Step 1763: average-batch loss:81566.71901321194 rel loss: 0.3110501682786721\n",
      "New learning rate: 0.0011785172112108281\n"
     ]
    },
    {
     "name": "stderr",
     "output_type": "stream",
     "text": [
      " 60%|██████    | 1803/3000 [04:14<02:47,  7.17it/s]"
     ]
    },
    {
     "name": "stdout",
     "output_type": "stream",
     "text": [
      "Step 1804: average-batch loss:48490.86497541399 rel loss: 0.15888585131870886\n",
      "Saved a checkpoint: /var/folders/6s/m6kbjxb16sl9cg9rg6mj5czrv6ht9f/T/tfcheckpoints/eb00e17c-7169-4f0a-b8f1-5d544bcef4ca/eb00e17c-7169-4f0a-b8f1-5d544bcef4ca-21\n"
     ]
    },
    {
     "name": "stderr",
     "output_type": "stream",
     "text": [
      " 61%|██████▏   | 1844/3000 [04:19<02:37,  7.32it/s]"
     ]
    },
    {
     "name": "stdout",
     "output_type": "stream",
     "text": [
      "Step 1845: average-batch loss:53489.45305565595 rel loss: 0.09344997555015022\n",
      "New learning rate: 0.00116673203909872\n"
     ]
    },
    {
     "name": "stderr",
     "output_type": "stream",
     "text": [
      " 63%|██████▎   | 1885/3000 [04:25<02:32,  7.30it/s]"
     ]
    },
    {
     "name": "stdout",
     "output_type": "stream",
     "text": [
      "Step 1886: average-batch loss:40748.09427819792 rel loss: 0.19001552917675485\n",
      "Saved a checkpoint: /var/folders/6s/m6kbjxb16sl9cg9rg6mj5czrv6ht9f/T/tfcheckpoints/eb00e17c-7169-4f0a-b8f1-5d544bcef4ca/eb00e17c-7169-4f0a-b8f1-5d544bcef4ca-22\n"
     ]
    },
    {
     "name": "stderr",
     "output_type": "stream",
     "text": [
      " 64%|██████▍   | 1926/3000 [04:31<02:17,  7.83it/s]"
     ]
    },
    {
     "name": "stdout",
     "output_type": "stream",
     "text": [
      "Step 1927: average-batch loss:48778.04149996663 rel loss: 0.16462217372491691\n",
      "New learning rate: 0.0011550647187077326\n"
     ]
    },
    {
     "name": "stderr",
     "output_type": "stream",
     "text": [
      " 66%|██████▌   | 1967/3000 [04:36<02:22,  7.23it/s]"
     ]
    },
    {
     "name": "stdout",
     "output_type": "stream",
     "text": [
      "Step 1968: average-batch loss:44436.183368186204 rel loss: 0.08299743160725073\n",
      "New learning rate: 0.0011435140715206553\n"
     ]
    },
    {
     "name": "stderr",
     "output_type": "stream",
     "text": [
      " 67%|██████▋   | 2008/3000 [04:42<02:16,  7.28it/s]"
     ]
    },
    {
     "name": "stdout",
     "output_type": "stream",
     "text": [
      "Step 2009: average-batch loss:55285.17436528199 rel loss: 0.2629471690011179\n",
      "New learning rate: 0.001132078930805449\n"
     ]
    },
    {
     "name": "stderr",
     "output_type": "stream",
     "text": [
      " 68%|██████▊   | 2049/3000 [04:48<02:10,  7.26it/s]"
     ]
    },
    {
     "name": "stdout",
     "output_type": "stream",
     "text": [
      "Step 2050: average-batch loss:51634.894798403504 rel loss: 0.21084192313571237\n",
      "New learning rate: 0.0011207581414973942\n"
     ]
    },
    {
     "name": "stderr",
     "output_type": "stream",
     "text": [
      " 70%|██████▉   | 2090/3000 [04:54<02:05,  7.24it/s]"
     ]
    },
    {
     "name": "stdout",
     "output_type": "stream",
     "text": [
      "Step 2091: average-batch loss:40913.096570098394 rel loss: 0.004032994462244392\n",
      "New learning rate: 0.0011095505600824203\n",
      "We are in a loss plateau\n",
      "Restoring from a checkpoint\n"
     ]
    },
    {
     "name": "stderr",
     "output_type": "stream",
     "text": [
      " 71%|███████   | 2131/3000 [04:59<02:00,  7.19it/s]"
     ]
    },
    {
     "name": "stdout",
     "output_type": "stream",
     "text": [
      "Step 2132: average-batch loss:45408.923476328266 rel loss: 0.10264126170178962\n",
      "New learning rate: 0.0010984550544815962\n",
      "We are in a loss plateau\n",
      "Restoring from a checkpoint\n"
     ]
    },
    {
     "name": "stderr",
     "output_type": "stream",
     "text": [
      " 72%|███████▏  | 2172/3000 [05:05<01:56,  7.09it/s]"
     ]
    },
    {
     "name": "stdout",
     "output_type": "stream",
     "text": [
      "Step 2173: average-batch loss:30783.56868477313 rel loss: 0.32369624508004713\n",
      "Saved a checkpoint: /var/folders/6s/m6kbjxb16sl9cg9rg6mj5czrv6ht9f/T/tfcheckpoints/eb00e17c-7169-4f0a-b8f1-5d544bcef4ca/eb00e17c-7169-4f0a-b8f1-5d544bcef4ca-23\n"
     ]
    },
    {
     "name": "stderr",
     "output_type": "stream",
     "text": [
      " 74%|███████▍  | 2213/3000 [05:11<01:51,  7.08it/s]"
     ]
    },
    {
     "name": "stdout",
     "output_type": "stream",
     "text": [
      "Step 2214: average-batch loss:52076.58218242764 rel loss: 0.4088788588902341\n",
      "New learning rate: 0.00108747050393678\n"
     ]
    },
    {
     "name": "stderr",
     "output_type": "stream",
     "text": [
      " 75%|███████▌  | 2254/3000 [05:17<01:44,  7.13it/s]"
     ]
    },
    {
     "name": "stdout",
     "output_type": "stream",
     "text": [
      "Step 2255: average-batch loss:48858.145234652286 rel loss: 0.36993988337199285\n",
      "New learning rate: 0.0010765957988974125\n"
     ]
    },
    {
     "name": "stderr",
     "output_type": "stream",
     "text": [
      " 76%|███████▋  | 2295/3000 [05:22<01:37,  7.24it/s]"
     ]
    },
    {
     "name": "stdout",
     "output_type": "stream",
     "text": [
      "Step 2296: average-batch loss:35032.57636794924 rel loss: 0.12128733092732108\n",
      "New learning rate: 0.001065829840908438\n"
     ]
    },
    {
     "name": "stderr",
     "output_type": "stream",
     "text": [
      " 78%|███████▊  | 2336/3000 [05:28<01:38,  6.76it/s]"
     ]
    },
    {
     "name": "stdout",
     "output_type": "stream",
     "text": [
      "Step 2337: average-batch loss:36493.162547522355 rel loss: 0.1564565377230335\n",
      "New learning rate: 0.0010551715424993537\n"
     ]
    },
    {
     "name": "stderr",
     "output_type": "stream",
     "text": [
      " 79%|███████▉  | 2377/3000 [05:34<01:25,  7.29it/s]"
     ]
    },
    {
     "name": "stdout",
     "output_type": "stream",
     "text": [
      "Step 2378: average-batch loss:46721.243829024614 rel loss: 0.34112266365542543\n",
      "New learning rate: 0.0010446198270743603\n",
      "We are in a loss plateau\n",
      "Restoring from a checkpoint\n"
     ]
    },
    {
     "name": "stderr",
     "output_type": "stream",
     "text": [
      " 81%|████████  | 2418/3000 [05:40<01:20,  7.27it/s]"
     ]
    },
    {
     "name": "stdout",
     "output_type": "stream",
     "text": [
      "Step 2419: average-batch loss:31546.604540395077 rel loss: 0.024187574756100554\n",
      "New learning rate: 0.0010341736288036166\n",
      "We are in a loss plateau\n",
      "Restoring from a checkpoint\n"
     ]
    },
    {
     "name": "stderr",
     "output_type": "stream",
     "text": [
      " 82%|████████▏ | 2459/3000 [05:45<01:14,  7.23it/s]"
     ]
    },
    {
     "name": "stdout",
     "output_type": "stream",
     "text": [
      "Step 2460: average-batch loss:32359.79722586022 rel loss: 0.04870946903917718\n",
      "New learning rate: 0.0010238318925155805\n",
      "We are in a loss plateau\n",
      "Restoring from a checkpoint\n"
     ]
    },
    {
     "name": "stderr",
     "output_type": "stream",
     "text": [
      " 83%|████████▎ | 2500/3000 [05:51<01:12,  6.90it/s]"
     ]
    },
    {
     "name": "stdout",
     "output_type": "stream",
     "text": [
      "Step 2501: average-batch loss:19420.46564885947 rel loss: 0.585109710620198\n",
      "Saved a checkpoint: /var/folders/6s/m6kbjxb16sl9cg9rg6mj5czrv6ht9f/T/tfcheckpoints/eb00e17c-7169-4f0a-b8f1-5d544bcef4ca/eb00e17c-7169-4f0a-b8f1-5d544bcef4ca-24\n"
     ]
    },
    {
     "name": "stderr",
     "output_type": "stream",
     "text": [
      " 85%|████████▍ | 2541/3000 [05:57<01:04,  7.17it/s]"
     ]
    },
    {
     "name": "stdout",
     "output_type": "stream",
     "text": [
      "Step 2542: average-batch loss:35808.33163094716 rel loss: 0.4576551108548315\n",
      "New learning rate: 0.0010135935735904246\n"
     ]
    },
    {
     "name": "stderr",
     "output_type": "stream",
     "text": [
      " 86%|████████▌ | 2582/3000 [06:02<00:57,  7.26it/s]"
     ]
    },
    {
     "name": "stdout",
     "output_type": "stream",
     "text": [
      "Step 2583: average-batch loss:36545.67987841206 rel loss: 0.4685975000746571\n",
      "New learning rate: 0.0010034576378545204\n"
     ]
    },
    {
     "name": "stderr",
     "output_type": "stream",
     "text": [
      " 87%|████████▋ | 2623/3000 [06:08<00:51,  7.37it/s]"
     ]
    },
    {
     "name": "stdout",
     "output_type": "stream",
     "text": [
      "Step 2624: average-batch loss:26967.24264416872 rel loss: 0.2798497827489653\n",
      "New learning rate: 0.0009934230614759751\n"
     ]
    },
    {
     "name": "stderr",
     "output_type": "stream",
     "text": [
      " 89%|████████▉ | 2664/3000 [06:14<00:45,  7.37it/s]"
     ]
    },
    {
     "name": "stdout",
     "output_type": "stream",
     "text": [
      "Step 2665: average-batch loss:28803.843578384483 rel loss: 0.32576825741987653\n",
      "New learning rate: 0.0009834888308612154\n"
     ]
    },
    {
     "name": "stderr",
     "output_type": "stream",
     "text": [
      " 90%|█████████ | 2705/3000 [06:20<00:40,  7.33it/s]"
     ]
    },
    {
     "name": "stdout",
     "output_type": "stream",
     "text": [
      "Step 2706: average-batch loss:21915.373910065122 rel loss: 0.11384283341201903\n",
      "New learning rate: 0.0009736539425526032\n",
      "We are in a loss plateau\n",
      "Restoring from a checkpoint\n"
     ]
    },
    {
     "name": "stderr",
     "output_type": "stream",
     "text": [
      " 92%|█████████▏| 2746/3000 [06:25<00:36,  6.91it/s]"
     ]
    },
    {
     "name": "stdout",
     "output_type": "stream",
     "text": [
      "Step 2747: average-batch loss:15406.775944804704 rel loss: 0.26051457608223455\n",
      "Saved a checkpoint: /var/folders/6s/m6kbjxb16sl9cg9rg6mj5czrv6ht9f/T/tfcheckpoints/eb00e17c-7169-4f0a-b8f1-5d544bcef4ca/eb00e17c-7169-4f0a-b8f1-5d544bcef4ca-25\n"
     ]
    },
    {
     "name": "stderr",
     "output_type": "stream",
     "text": [
      " 93%|█████████▎| 2787/3000 [06:31<00:29,  7.34it/s]"
     ]
    },
    {
     "name": "stdout",
     "output_type": "stream",
     "text": [
      "Step 2788: average-batch loss:26194.664335032074 rel loss: 0.4118353360917064\n",
      "New learning rate: 0.0009639174031270772\n"
     ]
    },
    {
     "name": "stderr",
     "output_type": "stream",
     "text": [
      " 94%|█████████▍| 2828/3000 [06:37<00:23,  7.37it/s]"
     ]
    },
    {
     "name": "stdout",
     "output_type": "stream",
     "text": [
      "Step 2829: average-batch loss:15338.778341779587 rel loss: 0.004433052066467726\n",
      "Saved a checkpoint: /var/folders/6s/m6kbjxb16sl9cg9rg6mj5czrv6ht9f/T/tfcheckpoints/eb00e17c-7169-4f0a-b8f1-5d544bcef4ca/eb00e17c-7169-4f0a-b8f1-5d544bcef4ca-26\n"
     ]
    },
    {
     "name": "stderr",
     "output_type": "stream",
     "text": [
      " 96%|█████████▌| 2869/3000 [06:42<00:17,  7.32it/s]"
     ]
    },
    {
     "name": "stdout",
     "output_type": "stream",
     "text": [
      "Step 2870: average-batch loss:28471.78276641781 rel loss: 0.46126386016573834\n",
      "New learning rate: 0.0009542782290958064\n"
     ]
    },
    {
     "name": "stderr",
     "output_type": "stream",
     "text": [
      " 97%|█████████▋| 2910/3000 [06:48<00:12,  7.27it/s]"
     ]
    },
    {
     "name": "stdout",
     "output_type": "stream",
     "text": [
      "Step 2911: average-batch loss:30829.31859994035 rel loss: 0.5024613245325096\n",
      "New learning rate: 0.0009447354468048484\n"
     ]
    },
    {
     "name": "stderr",
     "output_type": "stream",
     "text": [
      " 98%|█████████▊| 2951/3000 [06:54<00:06,  7.38it/s]"
     ]
    },
    {
     "name": "stdout",
     "output_type": "stream",
     "text": [
      "Step 2952: average-batch loss:35147.08221381374 rel loss: 0.5635831660657441\n",
      "New learning rate: 0.0009352880923367999\n"
     ]
    },
    {
     "name": "stderr",
     "output_type": "stream",
     "text": [
      "100%|█████████▉| 2992/3000 [06:59<00:01,  7.07it/s]"
     ]
    },
    {
     "name": "stdout",
     "output_type": "stream",
     "text": [
      "Step 2993: average-batch loss:20814.11507631752 rel loss: 0.2630588288025667\n",
      "New learning rate: 0.0009259352114134319\n"
     ]
    },
    {
     "name": "stderr",
     "output_type": "stream",
     "text": [
      "100%|██████████| 3000/3000 [07:01<00:00,  5.60it/s]"
     ]
    },
    {
     "name": "stdout",
     "output_type": "stream",
     "text": [
      "Terminating because we are out of iterations\n"
     ]
    },
    {
     "name": "stderr",
     "output_type": "stream",
     "text": [
      "100%|██████████| 3000/3000 [07:01<00:00,  7.12it/s]\n"
     ]
    }
   ],
   "source": [
    "losses = grm.fit(\n",
    "            data_factory_factory(shuffle=True, repeat=True),\n",
    "            dataset_size=num_people,\n",
    "            batches_per_step=1,\n",
    "            check_every=int(num_people/batch_size),\n",
    "            batch_size=batch_size,\n",
    "            num_steps=3000,\n",
    "            max_decay_steps=100,\n",
    "            max_plateau_epochs=100,\n",
    "            sample_size=32, \n",
    "            learning_rate=0.0015)"
   ]
  },
  {
   "cell_type": "code",
   "execution_count": 9,
   "metadata": {},
   "outputs": [
    {
     "name": "stdout",
     "output_type": "stream",
     "text": [
      "Running optimization for 3000 steps of 1 accumulated batches, checking every 41 steps\n",
      "Saved a checkpoint: /var/folders/6s/m6kbjxb16sl9cg9rg6mj5czrv6ht9f/T/tfcheckpoints/cb207367-4cad-4f7a-a763-151af7dbcdae/cb207367-4cad-4f7a-a763-151af7dbcdae-1\n"
     ]
    },
    {
     "name": "stderr",
     "output_type": "stream",
     "text": [
      "  1%|▏         | 40/3000 [00:07<07:05,  6.96it/s] "
     ]
    },
    {
     "name": "stdout",
     "output_type": "stream",
     "text": [
      "Step 41: average-batch loss:15783.510817227781 rel loss: 6.335726009123996e+303\n",
      "Saved a checkpoint: /var/folders/6s/m6kbjxb16sl9cg9rg6mj5czrv6ht9f/T/tfcheckpoints/cb207367-4cad-4f7a-a763-151af7dbcdae/cb207367-4cad-4f7a-a763-151af7dbcdae-2\n"
     ]
    },
    {
     "name": "stderr",
     "output_type": "stream",
     "text": [
      "  3%|▎         | 81/3000 [00:13<07:06,  6.84it/s]"
     ]
    },
    {
     "name": "stdout",
     "output_type": "stream",
     "text": [
      "Step 82: average-batch loss:21811.071539349534 rel loss: 0.2763532599142312\n",
      "New learning rate: 0.000495\n"
     ]
    },
    {
     "name": "stderr",
     "output_type": "stream",
     "text": [
      "  4%|▍         | 122/3000 [00:19<07:20,  6.53it/s]"
     ]
    },
    {
     "name": "stdout",
     "output_type": "stream",
     "text": [
      "Step 123: average-batch loss:23198.43622608175 rel loss: 0.3196303982126799\n",
      "New learning rate: 0.00049005\n"
     ]
    },
    {
     "name": "stderr",
     "output_type": "stream",
     "text": [
      "  5%|▌         | 163/3000 [00:25<07:02,  6.72it/s]"
     ]
    },
    {
     "name": "stdout",
     "output_type": "stream",
     "text": [
      "Step 164: average-batch loss:17957.762287414887 rel loss: 0.12107585763683147\n",
      "New learning rate: 0.00048514950000000005\n"
     ]
    },
    {
     "name": "stderr",
     "output_type": "stream",
     "text": [
      "  7%|▋         | 204/3000 [00:30<06:55,  6.73it/s]"
     ]
    },
    {
     "name": "stdout",
     "output_type": "stream",
     "text": [
      "Step 205: average-batch loss:12811.270518345627 rel loss: 0.23200199344990272\n",
      "Saved a checkpoint: /var/folders/6s/m6kbjxb16sl9cg9rg6mj5czrv6ht9f/T/tfcheckpoints/cb207367-4cad-4f7a-a763-151af7dbcdae/cb207367-4cad-4f7a-a763-151af7dbcdae-3\n"
     ]
    },
    {
     "name": "stderr",
     "output_type": "stream",
     "text": [
      "  8%|▊         | 245/3000 [00:36<06:41,  6.87it/s]"
     ]
    },
    {
     "name": "stdout",
     "output_type": "stream",
     "text": [
      "Step 246: average-batch loss:17776.072310371244 rel loss: 0.2792968944623926\n",
      "New learning rate: 0.00048029800499999997\n"
     ]
    },
    {
     "name": "stderr",
     "output_type": "stream",
     "text": [
      " 10%|▉         | 286/3000 [00:42<06:32,  6.91it/s]"
     ]
    },
    {
     "name": "stdout",
     "output_type": "stream",
     "text": [
      "Step 287: average-batch loss:13673.645278695147 rel loss: 0.06306838760057511\n",
      "New learning rate: 0.00047549502494999995\n"
     ]
    },
    {
     "name": "stderr",
     "output_type": "stream",
     "text": [
      " 11%|█         | 327/3000 [00:48<06:20,  7.02it/s]"
     ]
    },
    {
     "name": "stdout",
     "output_type": "stream",
     "text": [
      "Step 328: average-batch loss:19233.488345901766 rel loss: 0.33390811443336393\n",
      "New learning rate: 0.0004707400747005\n"
     ]
    },
    {
     "name": "stderr",
     "output_type": "stream",
     "text": [
      " 12%|█▏        | 368/3000 [00:54<06:25,  6.82it/s]"
     ]
    },
    {
     "name": "stdout",
     "output_type": "stream",
     "text": [
      "Step 369: average-batch loss:12425.453932622593 rel loss: 0.031050502284676002\n",
      "Saved a checkpoint: /var/folders/6s/m6kbjxb16sl9cg9rg6mj5czrv6ht9f/T/tfcheckpoints/cb207367-4cad-4f7a-a763-151af7dbcdae/cb207367-4cad-4f7a-a763-151af7dbcdae-4\n"
     ]
    },
    {
     "name": "stderr",
     "output_type": "stream",
     "text": [
      " 14%|█▎        | 409/3000 [00:59<06:50,  6.31it/s]"
     ]
    },
    {
     "name": "stdout",
     "output_type": "stream",
     "text": [
      "Step 410: average-batch loss:16041.101650758603 rel loss: 0.22539896553582536\n",
      "New learning rate: 0.00046603267395349497\n"
     ]
    },
    {
     "name": "stderr",
     "output_type": "stream",
     "text": [
      " 15%|█▌        | 450/3000 [01:06<07:07,  5.96it/s]"
     ]
    },
    {
     "name": "stdout",
     "output_type": "stream",
     "text": [
      "Step 451: average-batch loss:23740.28084002946 rel loss: 0.4766088060899631\n",
      "New learning rate: 0.00046137234721396004\n"
     ]
    },
    {
     "name": "stderr",
     "output_type": "stream",
     "text": [
      " 16%|█▋        | 491/3000 [01:12<06:57,  6.01it/s]"
     ]
    },
    {
     "name": "stdout",
     "output_type": "stream",
     "text": [
      "Step 492: average-batch loss:20540.256907156207 rel loss: 0.39506823167856403\n",
      "New learning rate: 0.00045675862374182043\n"
     ]
    },
    {
     "name": "stderr",
     "output_type": "stream",
     "text": [
      " 18%|█▊        | 532/3000 [01:18<05:46,  7.12it/s]"
     ]
    },
    {
     "name": "stdout",
     "output_type": "stream",
     "text": [
      "Step 533: average-batch loss:20937.726373669062 rel loss: 0.40655190010274284\n",
      "New learning rate: 0.0004521910375044022\n"
     ]
    },
    {
     "name": "stderr",
     "output_type": "stream",
     "text": [
      " 19%|█▉        | 573/3000 [01:24<05:41,  7.10it/s]"
     ]
    },
    {
     "name": "stdout",
     "output_type": "stream",
     "text": [
      "Step 574: average-batch loss:22841.532888118432 rel loss: 0.45601488334935747\n",
      "New learning rate: 0.0004476691271293582\n",
      "We are in a loss plateau\n",
      "Restoring from a checkpoint\n"
     ]
    },
    {
     "name": "stderr",
     "output_type": "stream",
     "text": [
      " 20%|██        | 614/3000 [01:29<05:39,  7.04it/s]"
     ]
    },
    {
     "name": "stdout",
     "output_type": "stream",
     "text": [
      "Step 615: average-batch loss:14191.486646178779 rel loss: 0.12444310857535917\n",
      "New learning rate: 0.0004431924358580646\n",
      "We are in a loss plateau\n",
      "Restoring from a checkpoint\n"
     ]
    },
    {
     "name": "stderr",
     "output_type": "stream",
     "text": [
      " 22%|██▏       | 655/3000 [01:35<05:31,  7.06it/s]"
     ]
    },
    {
     "name": "stdout",
     "output_type": "stream",
     "text": [
      "Step 656: average-batch loss:20169.51249227908 rel loss: 0.3839487227378908\n",
      "New learning rate: 0.00043876051149948394\n",
      "We are in a loss plateau\n",
      "Restoring from a checkpoint\n"
     ]
    },
    {
     "name": "stderr",
     "output_type": "stream",
     "text": [
      " 23%|██▎       | 696/3000 [01:41<05:32,  6.94it/s]"
     ]
    },
    {
     "name": "stdout",
     "output_type": "stream",
     "text": [
      "Step 697: average-batch loss:27077.156038213845 rel loss: 0.5411093426840464\n",
      "New learning rate: 0.00043437290638448915\n",
      "We are in a loss plateau\n",
      "Restoring from a checkpoint\n"
     ]
    },
    {
     "name": "stderr",
     "output_type": "stream",
     "text": [
      " 25%|██▍       | 737/3000 [01:47<05:31,  6.82it/s]"
     ]
    },
    {
     "name": "stdout",
     "output_type": "stream",
     "text": [
      "Step 738: average-batch loss:15843.146720733654 rel loss: 0.21572057927345864\n",
      "New learning rate: 0.00043002917732064424\n",
      "We are in a loss plateau\n",
      "Restoring from a checkpoint\n"
     ]
    },
    {
     "name": "stderr",
     "output_type": "stream",
     "text": [
      " 26%|██▌       | 778/3000 [01:53<05:18,  6.98it/s]"
     ]
    },
    {
     "name": "stdout",
     "output_type": "stream",
     "text": [
      "Step 779: average-batch loss:15515.3221620869 rel loss: 0.1991494728362574\n",
      "New learning rate: 0.0004257288855474378\n",
      "We are in a loss plateau\n",
      "Restoring from a checkpoint\n"
     ]
    },
    {
     "name": "stderr",
     "output_type": "stream",
     "text": [
      " 27%|██▋       | 819/3000 [01:58<05:10,  7.02it/s]"
     ]
    },
    {
     "name": "stdout",
     "output_type": "stream",
     "text": [
      "Step 820: average-batch loss:12986.199953416573 rel loss: 0.04318014683321214\n",
      "New learning rate: 0.0004214715966919634\n",
      "We are in a loss plateau\n",
      "Restoring from a checkpoint\n"
     ]
    },
    {
     "name": "stderr",
     "output_type": "stream",
     "text": [
      " 29%|██▊       | 860/3000 [02:04<05:06,  6.99it/s]"
     ]
    },
    {
     "name": "stdout",
     "output_type": "stream",
     "text": [
      "Step 861: average-batch loss:28054.9577566253 rel loss: 0.5571030959870803\n",
      "New learning rate: 0.00041725688072504375\n",
      "We are in a loss plateau\n",
      "Restoring from a checkpoint\n"
     ]
    },
    {
     "name": "stderr",
     "output_type": "stream",
     "text": [
      " 30%|███       | 901/3000 [02:10<05:05,  6.87it/s]"
     ]
    },
    {
     "name": "stdout",
     "output_type": "stream",
     "text": [
      "Step 902: average-batch loss:18599.066910508565 rel loss: 0.33193132793117974\n",
      "New learning rate: 0.00041308431191779333\n",
      "We are in a loss plateau\n",
      "Restoring from a checkpoint\n"
     ]
    },
    {
     "name": "stderr",
     "output_type": "stream",
     "text": [
      " 31%|███▏      | 942/3000 [02:15<04:57,  6.93it/s]"
     ]
    },
    {
     "name": "stdout",
     "output_type": "stream",
     "text": [
      "Step 943: average-batch loss:15065.264617433946 rel loss: 0.17522497957032165\n",
      "New learning rate: 0.00040895346879861536\n",
      "We are in a loss plateau\n",
      "Restoring from a checkpoint\n"
     ]
    },
    {
     "name": "stderr",
     "output_type": "stream",
     "text": [
      " 33%|███▎      | 983/3000 [02:21<06:15,  5.38it/s]"
     ]
    },
    {
     "name": "stdout",
     "output_type": "stream",
     "text": [
      "Step 984: average-batch loss:21240.102837902545 rel loss: 0.4150002931977516\n",
      "New learning rate: 0.0004048639341106292\n",
      "We are in a loss plateau\n",
      "Restoring from a checkpoint\n"
     ]
    },
    {
     "name": "stderr",
     "output_type": "stream",
     "text": [
      " 34%|███▍      | 1024/3000 [02:27<04:39,  7.07it/s]"
     ]
    },
    {
     "name": "stdout",
     "output_type": "stream",
     "text": [
      "Step 1025: average-batch loss:17937.422724533542 rel loss: 0.30728878259484105\n",
      "New learning rate: 0.0004008152947695229\n",
      "We are in a loss plateau\n",
      "Restoring from a checkpoint\n"
     ]
    },
    {
     "name": "stderr",
     "output_type": "stream",
     "text": [
      " 36%|███▌      | 1065/3000 [02:33<04:30,  7.15it/s]"
     ]
    },
    {
     "name": "stdout",
     "output_type": "stream",
     "text": [
      "Step 1066: average-batch loss:18459.036498653135 rel loss: 0.3268633531588056\n",
      "New learning rate: 0.0003968071418218277\n",
      "We are in a loss plateau\n",
      "Restoring from a checkpoint\n"
     ]
    },
    {
     "name": "stderr",
     "output_type": "stream",
     "text": [
      " 37%|███▋      | 1106/3000 [02:39<04:33,  6.91it/s]"
     ]
    },
    {
     "name": "stdout",
     "output_type": "stream",
     "text": [
      "Step 1107: average-batch loss:23797.896011834742 rel loss: 0.4778759464095738\n",
      "New learning rate: 0.0003928390704036094\n",
      "We are in a loss plateau\n",
      "Restoring from a checkpoint\n"
     ]
    },
    {
     "name": "stderr",
     "output_type": "stream",
     "text": [
      " 38%|███▊      | 1147/3000 [02:44<04:22,  7.06it/s]"
     ]
    },
    {
     "name": "stdout",
     "output_type": "stream",
     "text": [
      "Step 1148: average-batch loss:15626.061379884359 rel loss: 0.20482496321062396\n",
      "New learning rate: 0.00038891067969957333\n",
      "We are in a loss plateau\n",
      "Restoring from a checkpoint\n"
     ]
    },
    {
     "name": "stderr",
     "output_type": "stream",
     "text": [
      " 40%|███▉      | 1188/3000 [02:50<04:28,  6.74it/s]"
     ]
    },
    {
     "name": "stdout",
     "output_type": "stream",
     "text": [
      "Step 1189: average-batch loss:14470.3515415883 rel loss: 0.14131637390346727\n",
      "New learning rate: 0.0003850215729025776\n",
      "We are in a loss plateau\n",
      "Restoring from a checkpoint\n"
     ]
    },
    {
     "name": "stderr",
     "output_type": "stream",
     "text": [
      " 41%|████      | 1229/3000 [02:56<04:15,  6.93it/s]"
     ]
    },
    {
     "name": "stdout",
     "output_type": "stream",
     "text": [
      "Step 1230: average-batch loss:15218.523354670699 rel loss: 0.18353090881126044\n",
      "New learning rate: 0.0003811713571735518\n",
      "We are in a loss plateau\n",
      "Restoring from a checkpoint\n"
     ]
    },
    {
     "name": "stderr",
     "output_type": "stream",
     "text": [
      " 42%|████▏     | 1270/3000 [03:01<04:07,  7.00it/s]"
     ]
    },
    {
     "name": "stdout",
     "output_type": "stream",
     "text": [
      "Step 1271: average-batch loss:19968.67899725311 rel loss: 0.3777528331076965\n",
      "New learning rate: 0.0003773596436018163\n",
      "We are in a loss plateau\n",
      "Restoring from a checkpoint\n"
     ]
    },
    {
     "name": "stderr",
     "output_type": "stream",
     "text": [
      " 44%|████▎     | 1311/3000 [03:07<04:01,  6.99it/s]"
     ]
    },
    {
     "name": "stdout",
     "output_type": "stream",
     "text": [
      "Step 1312: average-batch loss:14141.363068957697 rel loss: 0.12133972715132166\n",
      "New learning rate: 0.0003735860471657981\n",
      "We are in a loss plateau\n",
      "Restoring from a checkpoint\n"
     ]
    },
    {
     "name": "stderr",
     "output_type": "stream",
     "text": [
      " 45%|████▌     | 1352/3000 [03:13<04:16,  6.42it/s]"
     ]
    },
    {
     "name": "stdout",
     "output_type": "stream",
     "text": [
      "Step 1353: average-batch loss:12191.640935127174 rel loss: 0.01917814006658818\n",
      "Saved a checkpoint: /var/folders/6s/m6kbjxb16sl9cg9rg6mj5czrv6ht9f/T/tfcheckpoints/cb207367-4cad-4f7a-a763-151af7dbcdae/cb207367-4cad-4f7a-a763-151af7dbcdae-5\n"
     ]
    },
    {
     "name": "stderr",
     "output_type": "stream",
     "text": [
      " 46%|████▋     | 1393/3000 [03:19<03:44,  7.15it/s]"
     ]
    },
    {
     "name": "stdout",
     "output_type": "stream",
     "text": [
      "Step 1394: average-batch loss:12715.666048387571 rel loss: 0.041210984250946645\n",
      "New learning rate: 0.0003698501866941401\n"
     ]
    },
    {
     "name": "stderr",
     "output_type": "stream",
     "text": [
      " 48%|████▊     | 1434/3000 [03:24<03:47,  6.88it/s]"
     ]
    },
    {
     "name": "stdout",
     "output_type": "stream",
     "text": [
      "Step 1435: average-batch loss:13850.878225996636 rel loss: 0.11979293036850533\n",
      "New learning rate: 0.00036615168482719875\n"
     ]
    },
    {
     "name": "stderr",
     "output_type": "stream",
     "text": [
      " 49%|████▉     | 1475/3000 [03:30<03:34,  7.10it/s]"
     ]
    },
    {
     "name": "stdout",
     "output_type": "stream",
     "text": [
      "Step 1476: average-batch loss:14484.37832836196 rel loss: 0.15829035539242722\n",
      "New learning rate: 0.0003624901679789267\n"
     ]
    },
    {
     "name": "stderr",
     "output_type": "stream",
     "text": [
      " 51%|█████     | 1516/3000 [03:36<03:28,  7.10it/s]"
     ]
    },
    {
     "name": "stdout",
     "output_type": "stream",
     "text": [
      "Step 1517: average-batch loss:12442.994361999736 rel loss: 0.020200397071639127\n",
      "New learning rate: 0.00035886526629913746\n"
     ]
    },
    {
     "name": "stderr",
     "output_type": "stream",
     "text": [
      " 52%|█████▏    | 1557/3000 [03:41<03:29,  6.90it/s]"
     ]
    },
    {
     "name": "stdout",
     "output_type": "stream",
     "text": [
      "Step 1558: average-batch loss:16687.518670601363 rel loss: 0.2694155928283478\n",
      "New learning rate: 0.00035527661363614604\n",
      "We are in a loss plateau\n",
      "Restoring from a checkpoint\n"
     ]
    },
    {
     "name": "stderr",
     "output_type": "stream",
     "text": [
      " 53%|█████▎    | 1598/3000 [03:47<03:21,  6.95it/s]"
     ]
    },
    {
     "name": "stdout",
     "output_type": "stream",
     "text": [
      "Step 1599: average-batch loss:15199.977239562191 rel loss: 0.19791715849448646\n",
      "New learning rate: 0.00035172384749978456\n",
      "We are in a loss plateau\n",
      "Restoring from a checkpoint\n"
     ]
    },
    {
     "name": "stderr",
     "output_type": "stream",
     "text": [
      " 55%|█████▍    | 1639/3000 [03:53<03:19,  6.81it/s]"
     ]
    },
    {
     "name": "stdout",
     "output_type": "stream",
     "text": [
      "Step 1640: average-batch loss:13319.392202863248 rel loss: 0.08466987461287032\n",
      "New learning rate: 0.00034820660902478676\n",
      "We are in a loss plateau\n",
      "Restoring from a checkpoint\n"
     ]
    },
    {
     "name": "stderr",
     "output_type": "stream",
     "text": [
      " 56%|█████▌    | 1680/3000 [03:59<03:08,  6.99it/s]"
     ]
    },
    {
     "name": "stdout",
     "output_type": "stream",
     "text": [
      "Step 1681: average-batch loss:9762.296958794785 rel loss: 0.24884962899472246\n",
      "Saved a checkpoint: /var/folders/6s/m6kbjxb16sl9cg9rg6mj5czrv6ht9f/T/tfcheckpoints/cb207367-4cad-4f7a-a763-151af7dbcdae/cb207367-4cad-4f7a-a763-151af7dbcdae-6\n"
     ]
    },
    {
     "name": "stderr",
     "output_type": "stream",
     "text": [
      " 57%|█████▋    | 1721/3000 [04:04<03:11,  6.69it/s]"
     ]
    },
    {
     "name": "stdout",
     "output_type": "stream",
     "text": [
      "Step 1722: average-batch loss:9542.237870207799 rel loss: 0.023061580687905644\n",
      "Saved a checkpoint: /var/folders/6s/m6kbjxb16sl9cg9rg6mj5czrv6ht9f/T/tfcheckpoints/cb207367-4cad-4f7a-a763-151af7dbcdae/cb207367-4cad-4f7a-a763-151af7dbcdae-7\n"
     ]
    },
    {
     "name": "stderr",
     "output_type": "stream",
     "text": [
      " 59%|█████▊    | 1762/3000 [04:10<02:51,  7.23it/s]"
     ]
    },
    {
     "name": "stdout",
     "output_type": "stream",
     "text": [
      "Step 1763: average-batch loss:13361.26406851528 rel loss: 0.28582821046900064\n",
      "New learning rate: 0.0003447245429345389\n"
     ]
    },
    {
     "name": "stderr",
     "output_type": "stream",
     "text": [
      " 60%|██████    | 1803/3000 [04:16<02:58,  6.71it/s]"
     ]
    },
    {
     "name": "stdout",
     "output_type": "stream",
     "text": [
      "Step 1804: average-batch loss:13900.303471264204 rel loss: 0.3135230543754487\n",
      "New learning rate: 0.00034127729750519346\n"
     ]
    },
    {
     "name": "stderr",
     "output_type": "stream",
     "text": [
      " 61%|██████▏   | 1844/3000 [04:22<02:50,  6.77it/s]"
     ]
    },
    {
     "name": "stdout",
     "output_type": "stream",
     "text": [
      "Step 1845: average-batch loss:15964.944351028907 rel loss: 0.40230058681082587\n",
      "New learning rate: 0.00033786452453014155\n"
     ]
    },
    {
     "name": "stderr",
     "output_type": "stream",
     "text": [
      " 63%|██████▎   | 1885/3000 [04:27<02:38,  7.02it/s]"
     ]
    },
    {
     "name": "stdout",
     "output_type": "stream",
     "text": [
      "Step 1886: average-batch loss:14170.180111812959 rel loss: 0.32659727717554415\n",
      "New learning rate: 0.0003344858792848401\n"
     ]
    },
    {
     "name": "stderr",
     "output_type": "stream",
     "text": [
      " 64%|██████▍   | 1926/3000 [04:33<02:30,  7.12it/s]"
     ]
    },
    {
     "name": "stdout",
     "output_type": "stream",
     "text": [
      "Step 1927: average-batch loss:10491.767925311573 rel loss: 0.09050238833562231\n",
      "New learning rate: 0.00033114102049199175\n",
      "We are in a loss plateau\n",
      "Restoring from a checkpoint\n"
     ]
    },
    {
     "name": "stderr",
     "output_type": "stream",
     "text": [
      " 66%|██████▌   | 1967/3000 [04:39<02:25,  7.10it/s]"
     ]
    },
    {
     "name": "stdout",
     "output_type": "stream",
     "text": [
      "Step 1968: average-batch loss:13274.959403227971 rel loss: 0.28118515617550704\n",
      "New learning rate: 0.0003278296102870718\n",
      "We are in a loss plateau\n",
      "Restoring from a checkpoint\n"
     ]
    },
    {
     "name": "stderr",
     "output_type": "stream",
     "text": [
      " 67%|██████▋   | 2008/3000 [04:44<02:22,  6.97it/s]"
     ]
    },
    {
     "name": "stdout",
     "output_type": "stream",
     "text": [
      "Step 2009: average-batch loss:12549.83555626656 rel loss: 0.23965235819818895\n",
      "New learning rate: 0.0003245513141842011\n",
      "We are in a loss plateau\n",
      "Restoring from a checkpoint\n"
     ]
    },
    {
     "name": "stderr",
     "output_type": "stream",
     "text": [
      " 68%|██████▊   | 2049/3000 [04:50<02:15,  7.02it/s]"
     ]
    },
    {
     "name": "stdout",
     "output_type": "stream",
     "text": [
      "Step 2050: average-batch loss:12596.783682259016 rel loss: 0.24248616862042022\n",
      "New learning rate: 0.00032130580104235905\n",
      "We are in a loss plateau\n",
      "Restoring from a checkpoint\n"
     ]
    },
    {
     "name": "stderr",
     "output_type": "stream",
     "text": [
      " 70%|██████▉   | 2090/3000 [04:56<02:07,  7.16it/s]"
     ]
    },
    {
     "name": "stdout",
     "output_type": "stream",
     "text": [
      "Step 2091: average-batch loss:16869.163972855757 rel loss: 0.4343384245027048\n",
      "New learning rate: 0.0003180927430319355\n",
      "We are in a loss plateau\n",
      "Restoring from a checkpoint\n"
     ]
    },
    {
     "name": "stderr",
     "output_type": "stream",
     "text": [
      " 71%|███████   | 2131/3000 [05:02<02:01,  7.14it/s]"
     ]
    },
    {
     "name": "stdout",
     "output_type": "stream",
     "text": [
      "Step 2132: average-batch loss:10658.201835841393 rel loss: 0.10470471312344941\n",
      "New learning rate: 0.00031491181560161616\n",
      "We are in a loss plateau\n",
      "Restoring from a checkpoint\n"
     ]
    },
    {
     "name": "stderr",
     "output_type": "stream",
     "text": [
      " 72%|███████▏  | 2172/3000 [05:07<02:00,  6.86it/s]"
     ]
    },
    {
     "name": "stdout",
     "output_type": "stream",
     "text": [
      "Step 2173: average-batch loss:14276.343268830706 rel loss: 0.33160490116252656\n",
      "New learning rate: 0.00031176269744559996\n",
      "We are in a loss plateau\n",
      "Restoring from a checkpoint\n"
     ]
    },
    {
     "name": "stderr",
     "output_type": "stream",
     "text": [
      " 74%|███████▍  | 2213/3000 [05:13<01:56,  6.75it/s]"
     ]
    },
    {
     "name": "stdout",
     "output_type": "stream",
     "text": [
      "Step 2214: average-batch loss:13361.411179370767 rel loss: 0.28583607359225255\n",
      "New learning rate: 0.00030864507047114397\n",
      "We are in a loss plateau\n",
      "Restoring from a checkpoint\n"
     ]
    },
    {
     "name": "stderr",
     "output_type": "stream",
     "text": [
      " 75%|███████▌  | 2254/3000 [05:19<01:48,  6.86it/s]"
     ]
    },
    {
     "name": "stdout",
     "output_type": "stream",
     "text": [
      "Step 2255: average-batch loss:13048.276591045407 rel loss: 0.26869745566580683\n",
      "New learning rate: 0.0003055586197664325\n",
      "We are in a loss plateau\n",
      "Restoring from a checkpoint\n"
     ]
    },
    {
     "name": "stderr",
     "output_type": "stream",
     "text": [
      " 76%|███████▋  | 2295/3000 [05:24<01:41,  6.94it/s]"
     ]
    },
    {
     "name": "stdout",
     "output_type": "stream",
     "text": [
      "Step 2296: average-batch loss:12546.949469707939 rel loss: 0.23947746077677337\n",
      "New learning rate: 0.0003025030335687682\n",
      "We are in a loss plateau\n",
      "Restoring from a checkpoint\n"
     ]
    },
    {
     "name": "stderr",
     "output_type": "stream",
     "text": [
      " 78%|███████▊  | 2336/3000 [05:30<01:47,  6.20it/s]"
     ]
    },
    {
     "name": "stdout",
     "output_type": "stream",
     "text": [
      "Step 2337: average-batch loss:13153.51791427825 rel loss: 0.2745486087908375\n",
      "New learning rate: 0.0002994780032330805\n",
      "We are in a loss plateau\n",
      "Restoring from a checkpoint\n"
     ]
    },
    {
     "name": "stderr",
     "output_type": "stream",
     "text": [
      " 79%|███████▉  | 2377/3000 [05:37<01:52,  5.52it/s]"
     ]
    },
    {
     "name": "stdout",
     "output_type": "stream",
     "text": [
      "Step 2378: average-batch loss:14533.793616687857 rel loss: 0.34344479343292045\n",
      "New learning rate: 0.0002964832232007497\n",
      "We are in a loss plateau\n",
      "Restoring from a checkpoint\n"
     ]
    },
    {
     "name": "stderr",
     "output_type": "stream",
     "text": [
      " 81%|████████  | 2418/3000 [05:44<02:00,  4.84it/s]"
     ]
    },
    {
     "name": "stdout",
     "output_type": "stream",
     "text": [
      "Step 2419: average-batch loss:21543.939068619828 rel loss: 0.5570801681245608\n",
      "New learning rate: 0.00029351839096874223\n",
      "We are in a loss plateau\n",
      "Restoring from a checkpoint\n"
     ]
    },
    {
     "name": "stderr",
     "output_type": "stream",
     "text": [
      " 82%|████████▏ | 2459/3000 [05:51<01:26,  6.28it/s]"
     ]
    },
    {
     "name": "stdout",
     "output_type": "stream",
     "text": [
      "Step 2460: average-batch loss:16152.547700251693 rel loss: 0.4092425512503449\n",
      "New learning rate: 0.00029058320705905476\n",
      "We are in a loss plateau\n",
      "Restoring from a checkpoint\n"
     ]
    },
    {
     "name": "stderr",
     "output_type": "stream",
     "text": [
      " 83%|████████▎ | 2500/3000 [05:57<01:15,  6.62it/s]"
     ]
    },
    {
     "name": "stdout",
     "output_type": "stream",
     "text": [
      "Step 2501: average-batch loss:11417.097234514416 rel loss: 0.16421506498506738\n",
      "New learning rate: 0.00028767737498846423\n",
      "We are in a loss plateau\n",
      "Restoring from a checkpoint\n"
     ]
    },
    {
     "name": "stderr",
     "output_type": "stream",
     "text": [
      " 85%|████████▍ | 2541/3000 [06:03<01:08,  6.73it/s]"
     ]
    },
    {
     "name": "stdout",
     "output_type": "stream",
     "text": [
      "Step 2542: average-batch loss:15600.619404963894 rel loss: 0.38834237138228017\n",
      "New learning rate: 0.0002848006012385796\n",
      "We are in a loss plateau\n",
      "Restoring from a checkpoint\n"
     ]
    },
    {
     "name": "stderr",
     "output_type": "stream",
     "text": [
      " 86%|████████▌ | 2582/3000 [06:09<01:00,  6.94it/s]"
     ]
    },
    {
     "name": "stdout",
     "output_type": "stream",
     "text": [
      "Step 2583: average-batch loss:16005.217178758687 rel loss: 0.4038045367561914\n",
      "New learning rate: 0.0002819525952261938\n",
      "We are in a loss plateau\n",
      "Restoring from a checkpoint\n"
     ]
    },
    {
     "name": "stderr",
     "output_type": "stream",
     "text": [
      " 87%|████████▋ | 2623/3000 [06:15<00:57,  6.54it/s]"
     ]
    },
    {
     "name": "stdout",
     "output_type": "stream",
     "text": [
      "Step 2624: average-batch loss:10193.913815432978 rel loss: 0.06392794338113596\n",
      "New learning rate: 0.00027913306927393185\n",
      "We are in a loss plateau\n",
      "Restoring from a checkpoint\n"
     ]
    },
    {
     "name": "stderr",
     "output_type": "stream",
     "text": [
      " 89%|████████▉ | 2664/3000 [06:22<00:49,  6.73it/s]"
     ]
    },
    {
     "name": "stdout",
     "output_type": "stream",
     "text": [
      "Step 2665: average-batch loss:9647.294426986295 rel loss: 0.01088974298168223\n",
      "New learning rate: 0.00027634173858119256\n",
      "We are in a loss plateau\n",
      "Restoring from a checkpoint\n"
     ]
    },
    {
     "name": "stderr",
     "output_type": "stream",
     "text": [
      " 90%|█████████ | 2705/3000 [06:28<00:42,  6.87it/s]"
     ]
    },
    {
     "name": "stdout",
     "output_type": "stream",
     "text": [
      "Step 2706: average-batch loss:13473.587998383511 rel loss: 0.2917819758662188\n",
      "New learning rate: 0.00027357832119538064\n",
      "We are in a loss plateau\n",
      "Restoring from a checkpoint\n"
     ]
    },
    {
     "name": "stderr",
     "output_type": "stream",
     "text": [
      " 92%|█████████▏| 2746/3000 [06:33<00:36,  6.98it/s]"
     ]
    },
    {
     "name": "stdout",
     "output_type": "stream",
     "text": [
      "Step 2747: average-batch loss:11394.125561501376 rel loss: 0.1625300407036728\n",
      "New learning rate: 0.0002708425379834268\n",
      "We are in a loss plateau\n",
      "Restoring from a checkpoint\n"
     ]
    },
    {
     "name": "stderr",
     "output_type": "stream",
     "text": [
      " 93%|█████████▎| 2787/3000 [06:39<00:30,  6.95it/s]"
     ]
    },
    {
     "name": "stdout",
     "output_type": "stream",
     "text": [
      "Step 2788: average-batch loss:23932.022880481636 rel loss: 0.6012774215592861\n",
      "New learning rate: 0.00026813411260359247\n",
      "We are in a loss plateau\n",
      "Restoring from a checkpoint\n"
     ]
    },
    {
     "name": "stderr",
     "output_type": "stream",
     "text": [
      " 94%|█████████▍| 2828/3000 [06:45<00:24,  6.92it/s]"
     ]
    },
    {
     "name": "stdout",
     "output_type": "stream",
     "text": [
      "Step 2829: average-batch loss:8491.193914985586 rel loss: 0.12378046782882787\n",
      "Saved a checkpoint: /var/folders/6s/m6kbjxb16sl9cg9rg6mj5czrv6ht9f/T/tfcheckpoints/cb207367-4cad-4f7a-a763-151af7dbcdae/cb207367-4cad-4f7a-a763-151af7dbcdae-8\n"
     ]
    },
    {
     "name": "stderr",
     "output_type": "stream",
     "text": [
      " 96%|█████████▌| 2869/3000 [06:51<00:19,  6.89it/s]"
     ]
    },
    {
     "name": "stdout",
     "output_type": "stream",
     "text": [
      "Step 2870: average-batch loss:11543.293253642354 rel loss: 0.26440455696589993\n",
      "New learning rate: 0.0002654527714775566\n"
     ]
    },
    {
     "name": "stderr",
     "output_type": "stream",
     "text": [
      " 97%|█████████▋| 2910/3000 [06:57<00:12,  7.01it/s]"
     ]
    },
    {
     "name": "stdout",
     "output_type": "stream",
     "text": [
      "Step 2911: average-batch loss:10101.780471230184 rel loss: 0.1594359094252285\n",
      "New learning rate: 0.000262798243762781\n"
     ]
    },
    {
     "name": "stderr",
     "output_type": "stream",
     "text": [
      " 98%|█████████▊| 2951/3000 [07:03<00:07,  6.81it/s]"
     ]
    },
    {
     "name": "stdout",
     "output_type": "stream",
     "text": [
      "Step 2952: average-batch loss:11189.77644958078 rel loss: 0.2411650086804277\n",
      "New learning rate: 0.0002601702613251532\n"
     ]
    },
    {
     "name": "stderr",
     "output_type": "stream",
     "text": [
      "100%|█████████▉| 2992/3000 [07:09<00:01,  7.07it/s]"
     ]
    },
    {
     "name": "stdout",
     "output_type": "stream",
     "text": [
      "Step 2993: average-batch loss:13702.085044355063 rel loss: 0.38029913786852765\n",
      "New learning rate: 0.0002575685587119017\n"
     ]
    },
    {
     "name": "stderr",
     "output_type": "stream",
     "text": [
      "100%|██████████| 3000/3000 [07:10<00:00,  7.13it/s]"
     ]
    },
    {
     "name": "stdout",
     "output_type": "stream",
     "text": [
      "Terminating because we are out of iterations\n"
     ]
    },
    {
     "name": "stderr",
     "output_type": "stream",
     "text": [
      "100%|██████████| 3000/3000 [07:10<00:00,  6.97it/s]\n"
     ]
    }
   ],
   "source": [
    "losses = grm.fit(\n",
    "            data_factory_factory(shuffle=False, repeat=True),\n",
    "            dataset_size=num_people,\n",
    "            batches_per_step=1,\n",
    "            check_every=int(num_people/batch_size),\n",
    "            batch_size=batch_size,\n",
    "            num_steps=3000,\n",
    "            max_decay_steps=100,\n",
    "            max_plateau_epochs=100,\n",
    "            sample_size=32, \n",
    "            learning_rate=0.0005)"
   ]
  },
  {
   "cell_type": "code",
   "execution_count": 10,
   "metadata": {},
   "outputs": [
    {
     "data": {
      "text/plain": [
       "TensorShape([100, 1, 2, 22, 1])"
      ]
     },
     "execution_count": 10,
     "metadata": {},
     "output_type": "execute_result"
    }
   ],
   "source": [
    "discrim = grm.sample(100)['discriminations']\n",
    "discrim.shape"
   ]
  },
  {
   "cell_type": "code",
   "execution_count": 11,
   "metadata": {},
   "outputs": [],
   "source": [
    "discrim_mean = np.mean(discrim, axis=0)"
   ]
  },
  {
   "cell_type": "code",
   "execution_count": null,
   "metadata": {},
   "outputs": [],
   "source": []
  },
  {
   "cell_type": "code",
   "execution_count": 12,
   "metadata": {},
   "outputs": [
    {
     "data": {
      "text/plain": [
       "<matplotlib.collections.QuadMesh at 0x28ad91050>"
      ]
     },
     "execution_count": 12,
     "metadata": {},
     "output_type": "execute_result"
    },
    {
     "data": {
      "image/png": "[encoded data removed]",
      "text/plain": [
       "<Figure size 640x480 with 1 Axes>"
      ]
     },
     "metadata": {},
     "output_type": "display_data"
    }
   ],
   "source": [
    "plt.pcolormesh(discrim_mean[0, ..., 0], vmin=0, cmap='Reds')"
   ]
  },
  {
   "cell_type": "code",
   "execution_count": 13,
   "metadata": {},
   "outputs": [
    {
     "data": {
      "text/plain": [
       "<matplotlib.colorbar.Colorbar at 0x28b4c1d10>"
      ]
     },
     "execution_count": 13,
     "metadata": {},
     "output_type": "execute_result"
    },
    {
     "data": {
      "image/png": "[encoded data removed]",
      "text/plain": [
       "<Figure size 640x480 with 2 Axes>"
      ]
     },
     "metadata": {},
     "output_type": "display_data"
    }
   ],
   "source": [
    "plt.pcolormesh(np.abs(loadings), cmap=\"Reds\")\n",
    "plt.colorbar()"
   ]
  }
 ],
 "metadata": {
  "kernelspec": {
   "display_name": "Python 3.8.7 64-bit ('3.8.7')",
   "metadata": {
    "interpreter": {
     "hash": "b24fb63a86a0a9cc1cf2a9285a4ac90a6df732b2195d3b2b0752fb2dcb2673f7"
    }
   },
   "name": "python3"
  },
  "language_info": {
   "codemirror_mode": {
    "name": "ipython",
    "version": 3
   },
   "file_extension": ".py",
   "mimetype": "text/x-python",
   "name": "python",
   "nbconvert_exporter": "python",
   "pygments_lexer": "ipython3",
   "version": "3.11.6"
  }
 },
 "nbformat": 4,
 "nbformat_minor": 4
}
