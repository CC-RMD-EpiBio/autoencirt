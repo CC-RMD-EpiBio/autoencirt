{
 "cells": [
  {
   "source": [
    "!pip install git+https://github.com/CC-RMD-EpiBio/autoencirt.git"
   ],
   "cell_type": "markdown",
   "metadata": {}
  },
  {
   "cell_type": "code",
   "execution_count": 3,
   "metadata": {},
   "outputs": [],
   "source": [
    "import numpy as np"
   ]
  },
  {
   "cell_type": "code",
   "execution_count": 5,
   "metadata": {},
   "outputs": [],
   "source": [
    "import autoencirt\n",
    "from autoencirt.irt import GRModel\n",
    "from autoencirt.data.rwa import item_text, get_data"
   ]
  },
  {
   "cell_type": "code",
   "execution_count": 6,
   "metadata": {},
   "outputs": [],
   "source": [
    "import tensorflow as tf"
   ]
  },
  {
   "cell_type": "code",
   "execution_count": 8,
   "metadata": {},
   "outputs": [
    {
     "output_type": "execute_result",
     "data": {
      "text/plain": [
       "<tf.Tensor: shape=(13,), dtype=float64, numpy=\n",
       "array([-53691.05925421, -53827.05020257, -53774.83789856, -53433.51825225,\n",
       "       -53481.36674761, -53453.67849794, -53490.83676653, -53669.40667065,\n",
       "       -53586.8227933 , -53599.54033082, -53716.75874963, -53800.52287867,\n",
       "       -53795.5294934 ])>"
      ]
     },
     "metadata": {},
     "execution_count": 8
    }
   ],
   "source": [
    "data, num_people = get_data(reorient=True)\n",
    "item_names = [f\"Q{j}\" for j in range(1, 23)]\n",
    "grm = GRModel(\n",
    "    data=data,\n",
    "    item_keys=item_names,\n",
    "    num_people=num_people,\n",
    "    dim=3,\n",
    "    xi_scale=1e-2,\n",
    "    eta_scale=1e-1,\n",
    "    kappa_scale=1e-1,\n",
    "    weight_exponent=1,\n",
    "    response_cardinality=10\n",
    ")\n",
    "ds = next(iter(data.batch(121)))\n",
    "p = grm.surrogate_distribution.sample(13)\n",
    "grm.log_likelihood(**p, responses=ds)\n",
    "grm.unormalized_log_prob(**p, data=ds)"
   ]
  },
  {
   "cell_type": "code",
   "execution_count": null,
   "metadata": {},
   "outputs": [],
   "source": [
    "    losses = grm.calibrate_advi(\n",
    "        num_epochs=50, rel_tol=1e-4, learning_rate=.01)\n",
    "    \n",
    "    print(\n",
    "        grm.calibrated_expectations['discriminations'][0, ..., 0]\n",
    "        )\n",
    "    \n",
    "    losses = grm.calibrate_advi(\n",
    "        num_epochs=50, rel_tol=1e-4, learning_rate=.01)\n",
    "    \n",
    "    print(\n",
    "        grm.calibrated_expectations['discriminations'][0, ..., 0]\n",
    "        )\n",
    "    \n",
    "    losses = grm.calibrate_advi(\n",
    "        num_epochs=50, rel_tol=1e-4, learning_rate=.005)\n",
    "    \n",
    "    print(\n",
    "        grm.calibrated_expectations['discriminations'][0, ..., 0]\n",
    "        )"
   ]
  },
  {
   "cell_type": "code",
   "execution_count": null,
   "metadata": {},
   "outputs": [],
   "source": []
  }
 ],
 "metadata": {
  "kernelspec": {
   "name": "python3",
   "display_name": "Python 3.8.7 64-bit ('3.8.7')",
   "metadata": {
    "interpreter": {
     "hash": "b24fb63a86a0a9cc1cf2a9285a4ac90a6df732b2195d3b2b0752fb2dcb2673f7"
    }
   }
  },
  "language_info": {
   "codemirror_mode": {
    "name": "ipython",
    "version": 3
   },
   "file_extension": ".py",
   "mimetype": "text/x-python",
   "name": "python",
   "nbconvert_exporter": "python",
   "pygments_lexer": "ipython3",
   "version": "3.8.7-final"
  }
 },
 "nbformat": 4,
 "nbformat_minor": 4
}