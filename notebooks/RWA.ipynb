{
 "cells": [
  {
   "cell_type": "markdown",
   "metadata": {},
   "source": [
    "!pip install git+https://github.com/CC-RMD-EpiBio/autoencirt.git"
   ]
  },
  {
   "cell_type": "code",
   "execution_count": 1,
   "metadata": {},
   "outputs": [],
   "source": [
    "%matplotlib inline\n",
    "import numpy as np\n",
    "import sys\n",
    "sys.path.append('../bayesianquilts')\n",
    "import json\n",
    "import matplotlib.pyplot as plt\n"
   ]
  },
  {
   "cell_type": "code",
   "execution_count": 2,
   "metadata": {},
   "outputs": [],
   "source": [
    "from factor_analyzer import FactorAnalyzer"
   ]
  },
  {
   "cell_type": "code",
   "execution_count": 3,
   "metadata": {},
   "outputs": [],
   "source": [
    "import tensorflow as tf\n",
    "import autoencirt\n",
    "from autoencirt.irt import GRModel, FactorizedGRModel\n",
    "from autoencirt.data.rwa import item_text, get_data, to_reverse\n",
    "\n",
    "dim = 2"
   ]
  },
  {
   "cell_type": "code",
   "execution_count": 4,
   "metadata": {},
   "outputs": [
    {
     "data": {
      "text/plain": [
       "(22, 2)"
      ]
     },
     "execution_count": 4,
     "metadata": {},
     "output_type": "execute_result"
    }
   ],
   "source": [
    "pd_data = get_data(reorient=True, pandas=True)\n",
    "responses = pd_data[0].iloc[:, :22]\n",
    "fa = FactorAnalyzer(n_factors=dim)\n",
    "fa.fit(responses)\n",
    "loadings = fa.loadings_\n",
    "loadings.shape\n"
   ]
  },
  {
   "cell_type": "code",
   "execution_count": 5,
   "metadata": {},
   "outputs": [
    {
     "data": {
      "text/html": [
       "<div>\n",
       "<style scoped>\n",
       "    .dataframe tbody tr th:only-of-type {\n",
       "        vertical-align: middle;\n",
       "    }\n",
       "\n",
       "    .dataframe tbody tr th {\n",
       "        vertical-align: top;\n",
       "    }\n",
       "\n",
       "    .dataframe thead th {\n",
       "        text-align: right;\n",
       "    }\n",
       "</style>\n",
       "<table border=\"1\" class=\"dataframe\">\n",
       "  <thead>\n",
       "    <tr style=\"text-align: right;\">\n",
       "      <th></th>\n",
       "      <th>Q1</th>\n",
       "      <th>Q2</th>\n",
       "      <th>Q3</th>\n",
       "      <th>Q4</th>\n",
       "      <th>Q5</th>\n",
       "      <th>Q6</th>\n",
       "      <th>Q7</th>\n",
       "      <th>Q8</th>\n",
       "      <th>Q9</th>\n",
       "      <th>Q10</th>\n",
       "      <th>...</th>\n",
       "      <th>Q14</th>\n",
       "      <th>Q15</th>\n",
       "      <th>Q16</th>\n",
       "      <th>Q17</th>\n",
       "      <th>Q18</th>\n",
       "      <th>Q19</th>\n",
       "      <th>Q20</th>\n",
       "      <th>Q21</th>\n",
       "      <th>Q22</th>\n",
       "      <th>person</th>\n",
       "    </tr>\n",
       "  </thead>\n",
       "  <tbody>\n",
       "    <tr>\n",
       "      <th>count</th>\n",
       "      <td>9881.000000</td>\n",
       "      <td>9881.000000</td>\n",
       "      <td>9881.000000</td>\n",
       "      <td>9881.000000</td>\n",
       "      <td>9881.000000</td>\n",
       "      <td>9881.000000</td>\n",
       "      <td>9881.00000</td>\n",
       "      <td>9881.000000</td>\n",
       "      <td>9881.000000</td>\n",
       "      <td>9881.000000</td>\n",
       "      <td>...</td>\n",
       "      <td>9881.000000</td>\n",
       "      <td>9881.000000</td>\n",
       "      <td>9881.000000</td>\n",
       "      <td>9881.000000</td>\n",
       "      <td>9881.000000</td>\n",
       "      <td>9881.000000</td>\n",
       "      <td>9881.000000</td>\n",
       "      <td>9881.000000</td>\n",
       "      <td>9881.000000</td>\n",
       "      <td>9881.000000</td>\n",
       "    </tr>\n",
       "    <tr>\n",
       "      <th>mean</th>\n",
       "      <td>2.383463</td>\n",
       "      <td>1.105556</td>\n",
       "      <td>1.723307</td>\n",
       "      <td>1.436191</td>\n",
       "      <td>1.953142</td>\n",
       "      <td>1.544682</td>\n",
       "      <td>1.86641</td>\n",
       "      <td>2.314037</td>\n",
       "      <td>1.461492</td>\n",
       "      <td>2.207165</td>\n",
       "      <td>...</td>\n",
       "      <td>2.545188</td>\n",
       "      <td>2.145835</td>\n",
       "      <td>1.139864</td>\n",
       "      <td>1.997875</td>\n",
       "      <td>1.129744</td>\n",
       "      <td>1.809027</td>\n",
       "      <td>1.439024</td>\n",
       "      <td>2.719664</td>\n",
       "      <td>1.896164</td>\n",
       "      <td>4940.000000</td>\n",
       "    </tr>\n",
       "    <tr>\n",
       "      <th>std</th>\n",
       "      <td>2.187470</td>\n",
       "      <td>2.082531</td>\n",
       "      <td>2.542981</td>\n",
       "      <td>2.382205</td>\n",
       "      <td>2.117866</td>\n",
       "      <td>2.280318</td>\n",
       "      <td>2.53573</td>\n",
       "      <td>2.410221</td>\n",
       "      <td>1.996039</td>\n",
       "      <td>2.639795</td>\n",
       "      <td>...</td>\n",
       "      <td>2.738134</td>\n",
       "      <td>2.309873</td>\n",
       "      <td>2.091691</td>\n",
       "      <td>2.554249</td>\n",
       "      <td>2.093746</td>\n",
       "      <td>2.313021</td>\n",
       "      <td>2.040717</td>\n",
       "      <td>2.673257</td>\n",
       "      <td>2.493584</td>\n",
       "      <td>2852.543339</td>\n",
       "    </tr>\n",
       "    <tr>\n",
       "      <th>min</th>\n",
       "      <td>-1.000000</td>\n",
       "      <td>-1.000000</td>\n",
       "      <td>-1.000000</td>\n",
       "      <td>-1.000000</td>\n",
       "      <td>-1.000000</td>\n",
       "      <td>-1.000000</td>\n",
       "      <td>-1.00000</td>\n",
       "      <td>-1.000000</td>\n",
       "      <td>-1.000000</td>\n",
       "      <td>-1.000000</td>\n",
       "      <td>...</td>\n",
       "      <td>-1.000000</td>\n",
       "      <td>-1.000000</td>\n",
       "      <td>-1.000000</td>\n",
       "      <td>-1.000000</td>\n",
       "      <td>-1.000000</td>\n",
       "      <td>-1.000000</td>\n",
       "      <td>-1.000000</td>\n",
       "      <td>-1.000000</td>\n",
       "      <td>-1.000000</td>\n",
       "      <td>0.000000</td>\n",
       "    </tr>\n",
       "    <tr>\n",
       "      <th>25%</th>\n",
       "      <td>1.000000</td>\n",
       "      <td>0.000000</td>\n",
       "      <td>0.000000</td>\n",
       "      <td>0.000000</td>\n",
       "      <td>0.000000</td>\n",
       "      <td>0.000000</td>\n",
       "      <td>0.00000</td>\n",
       "      <td>0.000000</td>\n",
       "      <td>0.000000</td>\n",
       "      <td>0.000000</td>\n",
       "      <td>...</td>\n",
       "      <td>0.000000</td>\n",
       "      <td>0.000000</td>\n",
       "      <td>0.000000</td>\n",
       "      <td>0.000000</td>\n",
       "      <td>0.000000</td>\n",
       "      <td>0.000000</td>\n",
       "      <td>0.000000</td>\n",
       "      <td>0.000000</td>\n",
       "      <td>0.000000</td>\n",
       "      <td>2470.000000</td>\n",
       "    </tr>\n",
       "    <tr>\n",
       "      <th>50%</th>\n",
       "      <td>2.000000</td>\n",
       "      <td>0.000000</td>\n",
       "      <td>0.000000</td>\n",
       "      <td>0.000000</td>\n",
       "      <td>1.000000</td>\n",
       "      <td>0.000000</td>\n",
       "      <td>1.00000</td>\n",
       "      <td>2.000000</td>\n",
       "      <td>1.000000</td>\n",
       "      <td>1.000000</td>\n",
       "      <td>...</td>\n",
       "      <td>1.000000</td>\n",
       "      <td>1.000000</td>\n",
       "      <td>0.000000</td>\n",
       "      <td>1.000000</td>\n",
       "      <td>0.000000</td>\n",
       "      <td>1.000000</td>\n",
       "      <td>1.000000</td>\n",
       "      <td>2.000000</td>\n",
       "      <td>1.000000</td>\n",
       "      <td>4940.000000</td>\n",
       "    </tr>\n",
       "    <tr>\n",
       "      <th>75%</th>\n",
       "      <td>4.000000</td>\n",
       "      <td>1.000000</td>\n",
       "      <td>2.000000</td>\n",
       "      <td>2.000000</td>\n",
       "      <td>3.000000</td>\n",
       "      <td>2.000000</td>\n",
       "      <td>3.00000</td>\n",
       "      <td>4.000000</td>\n",
       "      <td>2.000000</td>\n",
       "      <td>4.000000</td>\n",
       "      <td>...</td>\n",
       "      <td>5.000000</td>\n",
       "      <td>3.000000</td>\n",
       "      <td>1.000000</td>\n",
       "      <td>4.000000</td>\n",
       "      <td>1.000000</td>\n",
       "      <td>3.000000</td>\n",
       "      <td>2.000000</td>\n",
       "      <td>4.000000</td>\n",
       "      <td>3.000000</td>\n",
       "      <td>7410.000000</td>\n",
       "    </tr>\n",
       "    <tr>\n",
       "      <th>max</th>\n",
       "      <td>8.000000</td>\n",
       "      <td>8.000000</td>\n",
       "      <td>8.000000</td>\n",
       "      <td>8.000000</td>\n",
       "      <td>8.000000</td>\n",
       "      <td>8.000000</td>\n",
       "      <td>8.00000</td>\n",
       "      <td>8.000000</td>\n",
       "      <td>8.000000</td>\n",
       "      <td>8.000000</td>\n",
       "      <td>...</td>\n",
       "      <td>8.000000</td>\n",
       "      <td>8.000000</td>\n",
       "      <td>8.000000</td>\n",
       "      <td>8.000000</td>\n",
       "      <td>8.000000</td>\n",
       "      <td>8.000000</td>\n",
       "      <td>8.000000</td>\n",
       "      <td>8.000000</td>\n",
       "      <td>8.000000</td>\n",
       "      <td>9880.000000</td>\n",
       "    </tr>\n",
       "  </tbody>\n",
       "</table>\n",
       "<p>8 rows × 23 columns</p>\n",
       "</div>"
      ],
      "text/plain": [
       "                Q1           Q2           Q3           Q4           Q5  \\\n",
       "count  9881.000000  9881.000000  9881.000000  9881.000000  9881.000000   \n",
       "mean      2.383463     1.105556     1.723307     1.436191     1.953142   \n",
       "std       2.187470     2.082531     2.542981     2.382205     2.117866   \n",
       "min      -1.000000    -1.000000    -1.000000    -1.000000    -1.000000   \n",
       "25%       1.000000     0.000000     0.000000     0.000000     0.000000   \n",
       "50%       2.000000     0.000000     0.000000     0.000000     1.000000   \n",
       "75%       4.000000     1.000000     2.000000     2.000000     3.000000   \n",
       "max       8.000000     8.000000     8.000000     8.000000     8.000000   \n",
       "\n",
       "                Q6          Q7           Q8           Q9          Q10  ...  \\\n",
       "count  9881.000000  9881.00000  9881.000000  9881.000000  9881.000000  ...   \n",
       "mean      1.544682     1.86641     2.314037     1.461492     2.207165  ...   \n",
       "std       2.280318     2.53573     2.410221     1.996039     2.639795  ...   \n",
       "min      -1.000000    -1.00000    -1.000000    -1.000000    -1.000000  ...   \n",
       "25%       0.000000     0.00000     0.000000     0.000000     0.000000  ...   \n",
       "50%       0.000000     1.00000     2.000000     1.000000     1.000000  ...   \n",
       "75%       2.000000     3.00000     4.000000     2.000000     4.000000  ...   \n",
       "max       8.000000     8.00000     8.000000     8.000000     8.000000  ...   \n",
       "\n",
       "               Q14          Q15          Q16          Q17          Q18  \\\n",
       "count  9881.000000  9881.000000  9881.000000  9881.000000  9881.000000   \n",
       "mean      2.545188     2.145835     1.139864     1.997875     1.129744   \n",
       "std       2.738134     2.309873     2.091691     2.554249     2.093746   \n",
       "min      -1.000000    -1.000000    -1.000000    -1.000000    -1.000000   \n",
       "25%       0.000000     0.000000     0.000000     0.000000     0.000000   \n",
       "50%       1.000000     1.000000     0.000000     1.000000     0.000000   \n",
       "75%       5.000000     3.000000     1.000000     4.000000     1.000000   \n",
       "max       8.000000     8.000000     8.000000     8.000000     8.000000   \n",
       "\n",
       "               Q19          Q20          Q21          Q22       person  \n",
       "count  9881.000000  9881.000000  9881.000000  9881.000000  9881.000000  \n",
       "mean      1.809027     1.439024     2.719664     1.896164  4940.000000  \n",
       "std       2.313021     2.040717     2.673257     2.493584  2852.543339  \n",
       "min      -1.000000    -1.000000    -1.000000    -1.000000     0.000000  \n",
       "25%       0.000000     0.000000     0.000000     0.000000  2470.000000  \n",
       "50%       1.000000     1.000000     2.000000     1.000000  4940.000000  \n",
       "75%       3.000000     2.000000     4.000000     3.000000  7410.000000  \n",
       "max       8.000000     8.000000     8.000000     8.000000  9880.000000  \n",
       "\n",
       "[8 rows x 23 columns]"
      ]
     },
     "execution_count": 5,
     "metadata": {},
     "output_type": "execute_result"
    }
   ],
   "source": [
    "pd_data[0].describe()"
   ]
  },
  {
   "cell_type": "code",
   "execution_count": 6,
   "metadata": {},
   "outputs": [],
   "source": [
    "tfdata, num_people = get_data(reorient=True)\n",
    "item_names = [f\"Q{j}\" for j in range(1, 23)]\n",
    "scale_indices = [\n",
    "    [1, 3, 5, 7, 8, 10, 12, 14, 15, 17, 19, 20],\n",
    "    [0, 2, 4, 6, 9, 11, 13, 16, 18, 21],\n",
    "]\n",
    "fgrm = FactorizedGRModel(\n",
    "    data=tfdata,\n",
    "    item_keys=item_names,\n",
    "    num_people=num_people,\n",
    "    dim=dim,\n",
    "    eta_scale=1e-3,\n",
    "    kappa_scale=1e-3,\n",
    "    weight_exponent=1,\n",
    "    response_cardinality=9,\n",
    "    scale_indices=scale_indices,\n",
    "    discrimination_guess=0.5*tf.cast(np.abs(loadings).T, tf.float64)[\n",
    "        tf.newaxis, :, :, tf.newaxis\n",
    "    ],\n",
    ")\n",
    "\n",
    "grm = GRModel(\n",
    "    data=tfdata,\n",
    "    item_keys=item_names,\n",
    "    num_people=num_people,\n",
    "    dim=dim,\n",
    "    eta_scale=1e-3,\n",
    "    kappa_scale=1e-3,\n",
    "    weight_exponent=1,\n",
    "    response_cardinality=9,\n",
    "    discrimination_guess=0.5*tf.cast(np.abs(loadings).T, tf.float64)[\n",
    "        tf.newaxis, :, :, tf.newaxis\n",
    "    ],\n",
    ")\n",
    "\n",
    "batch_size = 241\n",
    "\n",
    "\n",
    "def data_factory_factory(batch_size=batch_size, repeat=False, shuffle=False):\n",
    "    def data_factory(batch_size=batch_size):\n",
    "        if shuffle:\n",
    "            out = tfdata.shuffle(batch_size * 10)\n",
    "        else:\n",
    "            out = tfdata\n",
    "\n",
    "        if repeat:\n",
    "            out = out.repeat()\n",
    "        return out.batch(batch_size)\n",
    "\n",
    "    return data_factory"
   ]
  },
  {
   "cell_type": "code",
   "execution_count": 7,
   "metadata": {},
   "outputs": [
    {
     "name": "stdout",
     "output_type": "stream",
     "text": [
      "Running optimization for 10000 steps of 1 accumulated batches, checking every 41 steps\n",
      "Saved a checkpoint: /var/folders/6s/m6kbjxb16sl9cg9rg6mj5czrv6ht9f/T/tfcheckpoints/2bf98465-fa0a-4bd5-90aa-3c0cb25399e1/2bf98465-fa0a-4bd5-90aa-3c0cb25399e1-1\n"
     ]
    },
    {
     "name": "stderr",
     "output_type": "stream",
     "text": [
      "  0%|          | 40/10000 [00:08<24:29,  6.78it/s] "
     ]
    },
    {
     "name": "stdout",
     "output_type": "stream",
     "text": [
      "Step 41: average-batch loss:369113.51782159245 rel loss: 2.709193653761932e+302\n",
      "Saved a checkpoint: /var/folders/6s/m6kbjxb16sl9cg9rg6mj5czrv6ht9f/T/tfcheckpoints/2bf98465-fa0a-4bd5-90aa-3c0cb25399e1/2bf98465-fa0a-4bd5-90aa-3c0cb25399e1-2\n"
     ]
    },
    {
     "name": "stderr",
     "output_type": "stream",
     "text": [
      "  1%|          | 81/10000 [00:14<25:25,  6.50it/s]"
     ]
    },
    {
     "name": "stdout",
     "output_type": "stream",
     "text": [
      "Step 82: average-batch loss:383286.10663302825 rel loss: 0.03697652632372907\n",
      "New learning rate: 0.001485\n"
     ]
    },
    {
     "name": "stderr",
     "output_type": "stream",
     "text": [
      "  1%|          | 122/10000 [00:20<22:09,  7.43it/s]"
     ]
    },
    {
     "name": "stdout",
     "output_type": "stream",
     "text": [
      "Step 123: average-batch loss:335971.17944334203 rel loss: 0.09864637327869229\n",
      "Saved a checkpoint: /var/folders/6s/m6kbjxb16sl9cg9rg6mj5czrv6ht9f/T/tfcheckpoints/2bf98465-fa0a-4bd5-90aa-3c0cb25399e1/2bf98465-fa0a-4bd5-90aa-3c0cb25399e1-3\n"
     ]
    },
    {
     "name": "stderr",
     "output_type": "stream",
     "text": [
      "  2%|▏         | 163/10000 [00:26<22:57,  7.14it/s]"
     ]
    },
    {
     "name": "stdout",
     "output_type": "stream",
     "text": [
      "Step 164: average-batch loss:350596.6247619817 rel loss: 0.041715875983029865\n",
      "New learning rate: 0.00147015\n"
     ]
    },
    {
     "name": "stderr",
     "output_type": "stream",
     "text": [
      "  2%|▏         | 204/10000 [00:31<22:36,  7.22it/s]"
     ]
    },
    {
     "name": "stdout",
     "output_type": "stream",
     "text": [
      "Step 205: average-batch loss:350986.2490609522 rel loss: 0.04277965207406936\n",
      "New learning rate: 0.0014554485\n"
     ]
    },
    {
     "name": "stderr",
     "output_type": "stream",
     "text": [
      "  2%|▏         | 245/10000 [00:37<22:08,  7.34it/s]"
     ]
    },
    {
     "name": "stdout",
     "output_type": "stream",
     "text": [
      "Step 246: average-batch loss:339812.1485052716 rel loss: 0.01130321290402592\n",
      "New learning rate: 0.001440894015\n"
     ]
    },
    {
     "name": "stderr",
     "output_type": "stream",
     "text": [
      "  3%|▎         | 286/10000 [00:43<23:16,  6.96it/s]"
     ]
    },
    {
     "name": "stdout",
     "output_type": "stream",
     "text": [
      "Step 287: average-batch loss:290440.15278881614 rel loss: 0.15676560633003198\n",
      "Saved a checkpoint: /var/folders/6s/m6kbjxb16sl9cg9rg6mj5czrv6ht9f/T/tfcheckpoints/2bf98465-fa0a-4bd5-90aa-3c0cb25399e1/2bf98465-fa0a-4bd5-90aa-3c0cb25399e1-4\n"
     ]
    },
    {
     "name": "stderr",
     "output_type": "stream",
     "text": [
      "  3%|▎         | 327/10000 [00:49<23:04,  6.98it/s]"
     ]
    },
    {
     "name": "stdout",
     "output_type": "stream",
     "text": [
      "Step 328: average-batch loss:293459.1599227428 rel loss: 0.010287656840295829\n",
      "New learning rate: 0.0014264850748499998\n"
     ]
    },
    {
     "name": "stderr",
     "output_type": "stream",
     "text": [
      "  4%|▎         | 368/10000 [00:55<22:32,  7.12it/s]"
     ]
    },
    {
     "name": "stdout",
     "output_type": "stream",
     "text": [
      "Step 369: average-batch loss:311702.7148233844 rel loss: 0.06821423434382334\n",
      "New learning rate: 0.0014122202241015\n"
     ]
    },
    {
     "name": "stderr",
     "output_type": "stream",
     "text": [
      "  4%|▍         | 409/10000 [01:01<22:44,  7.03it/s]"
     ]
    },
    {
     "name": "stdout",
     "output_type": "stream",
     "text": [
      "Step 410: average-batch loss:285698.92203086766 rel loss: 0.016595200024717705\n",
      "Saved a checkpoint: /var/folders/6s/m6kbjxb16sl9cg9rg6mj5czrv6ht9f/T/tfcheckpoints/2bf98465-fa0a-4bd5-90aa-3c0cb25399e1/2bf98465-fa0a-4bd5-90aa-3c0cb25399e1-5\n"
     ]
    },
    {
     "name": "stderr",
     "output_type": "stream",
     "text": [
      "  4%|▍         | 450/10000 [01:06<22:03,  7.22it/s]"
     ]
    },
    {
     "name": "stdout",
     "output_type": "stream",
     "text": [
      "Step 451: average-batch loss:293735.9183924782 rel loss: 0.0273612992431924\n",
      "New learning rate: 0.001398098021860485\n"
     ]
    },
    {
     "name": "stderr",
     "output_type": "stream",
     "text": [
      "  5%|▍         | 491/10000 [01:12<22:26,  7.06it/s]"
     ]
    },
    {
     "name": "stdout",
     "output_type": "stream",
     "text": [
      "Step 492: average-batch loss:239230.04654338965 rel loss: 0.1942434746759532\n",
      "Saved a checkpoint: /var/folders/6s/m6kbjxb16sl9cg9rg6mj5czrv6ht9f/T/tfcheckpoints/2bf98465-fa0a-4bd5-90aa-3c0cb25399e1/2bf98465-fa0a-4bd5-90aa-3c0cb25399e1-6\n"
     ]
    },
    {
     "name": "stderr",
     "output_type": "stream",
     "text": [
      "  5%|▌         | 532/10000 [01:18<21:29,  7.34it/s]"
     ]
    },
    {
     "name": "stdout",
     "output_type": "stream",
     "text": [
      "Step 533: average-batch loss:262079.44626849302 rel loss: 0.08718501221837445\n",
      "New learning rate: 0.00138411704164188\n"
     ]
    },
    {
     "name": "stderr",
     "output_type": "stream",
     "text": [
      "  6%|▌         | 573/10000 [01:24<22:17,  7.05it/s]"
     ]
    },
    {
     "name": "stdout",
     "output_type": "stream",
     "text": [
      "Step 574: average-batch loss:237025.50101762277 rel loss: 0.009300879088123826\n",
      "Saved a checkpoint: /var/folders/6s/m6kbjxb16sl9cg9rg6mj5czrv6ht9f/T/tfcheckpoints/2bf98465-fa0a-4bd5-90aa-3c0cb25399e1/2bf98465-fa0a-4bd5-90aa-3c0cb25399e1-7\n"
     ]
    },
    {
     "name": "stderr",
     "output_type": "stream",
     "text": [
      "  6%|▌         | 614/10000 [01:30<21:32,  7.26it/s]"
     ]
    },
    {
     "name": "stdout",
     "output_type": "stream",
     "text": [
      "Step 615: average-batch loss:207417.85810848768 rel loss: 0.14274394297162749\n",
      "Saved a checkpoint: /var/folders/6s/m6kbjxb16sl9cg9rg6mj5czrv6ht9f/T/tfcheckpoints/2bf98465-fa0a-4bd5-90aa-3c0cb25399e1/2bf98465-fa0a-4bd5-90aa-3c0cb25399e1-8\n"
     ]
    },
    {
     "name": "stderr",
     "output_type": "stream",
     "text": [
      "  7%|▋         | 655/10000 [01:36<22:19,  6.98it/s]"
     ]
    },
    {
     "name": "stdout",
     "output_type": "stream",
     "text": [
      "Step 656: average-batch loss:229376.80867083895 rel loss: 0.09573308953767366\n",
      "New learning rate: 0.0013702758712254614\n"
     ]
    },
    {
     "name": "stderr",
     "output_type": "stream",
     "text": [
      "  7%|▋         | 696/10000 [01:42<22:08,  7.00it/s]"
     ]
    },
    {
     "name": "stdout",
     "output_type": "stream",
     "text": [
      "Step 697: average-batch loss:177047.17366249248 rel loss: 0.17154006933706414\n",
      "Saved a checkpoint: /var/folders/6s/m6kbjxb16sl9cg9rg6mj5czrv6ht9f/T/tfcheckpoints/2bf98465-fa0a-4bd5-90aa-3c0cb25399e1/2bf98465-fa0a-4bd5-90aa-3c0cb25399e1-9\n"
     ]
    },
    {
     "name": "stderr",
     "output_type": "stream",
     "text": [
      "  7%|▋         | 737/10000 [01:47<21:32,  7.17it/s]"
     ]
    },
    {
     "name": "stdout",
     "output_type": "stream",
     "text": [
      "Step 738: average-batch loss:203544.36369617982 rel loss: 0.1301789425780334\n",
      "New learning rate: 0.0013565731125132067\n"
     ]
    },
    {
     "name": "stderr",
     "output_type": "stream",
     "text": [
      "  8%|▊         | 778/10000 [01:53<21:27,  7.16it/s]"
     ]
    },
    {
     "name": "stdout",
     "output_type": "stream",
     "text": [
      "Step 779: average-batch loss:184602.3329434882 rel loss: 0.0409266728135476\n",
      "New learning rate: 0.0013430073813880746\n"
     ]
    },
    {
     "name": "stderr",
     "output_type": "stream",
     "text": [
      "  8%|▊         | 819/10000 [01:59<21:31,  7.11it/s]"
     ]
    },
    {
     "name": "stdout",
     "output_type": "stream",
     "text": [
      "Step 820: average-batch loss:175904.40174514105 rel loss: 0.006496551001646556\n",
      "Saved a checkpoint: /var/folders/6s/m6kbjxb16sl9cg9rg6mj5czrv6ht9f/T/tfcheckpoints/2bf98465-fa0a-4bd5-90aa-3c0cb25399e1/2bf98465-fa0a-4bd5-90aa-3c0cb25399e1-10\n"
     ]
    },
    {
     "name": "stderr",
     "output_type": "stream",
     "text": [
      "  9%|▊         | 860/10000 [02:05<21:49,  6.98it/s]"
     ]
    },
    {
     "name": "stdout",
     "output_type": "stream",
     "text": [
      "Step 861: average-batch loss:163182.5464511812 rel loss: 0.07796088227956291\n",
      "Saved a checkpoint: /var/folders/6s/m6kbjxb16sl9cg9rg6mj5czrv6ht9f/T/tfcheckpoints/2bf98465-fa0a-4bd5-90aa-3c0cb25399e1/2bf98465-fa0a-4bd5-90aa-3c0cb25399e1-11\n"
     ]
    },
    {
     "name": "stderr",
     "output_type": "stream",
     "text": [
      "  9%|▉         | 901/10000 [02:11<20:49,  7.28it/s]"
     ]
    },
    {
     "name": "stdout",
     "output_type": "stream",
     "text": [
      "Step 902: average-batch loss:130521.8647063048 rel loss: 0.2502314981353369\n",
      "Saved a checkpoint: /var/folders/6s/m6kbjxb16sl9cg9rg6mj5czrv6ht9f/T/tfcheckpoints/2bf98465-fa0a-4bd5-90aa-3c0cb25399e1/2bf98465-fa0a-4bd5-90aa-3c0cb25399e1-12\n"
     ]
    },
    {
     "name": "stderr",
     "output_type": "stream",
     "text": [
      "  9%|▉         | 942/10000 [02:16<21:27,  7.03it/s]"
     ]
    },
    {
     "name": "stdout",
     "output_type": "stream",
     "text": [
      "Step 943: average-batch loss:161483.22989440087 rel loss: 0.19173114885268713\n",
      "New learning rate: 0.001329577307574194\n"
     ]
    },
    {
     "name": "stderr",
     "output_type": "stream",
     "text": [
      " 10%|▉         | 983/10000 [02:22<20:40,  7.27it/s]"
     ]
    },
    {
     "name": "stdout",
     "output_type": "stream",
     "text": [
      "Step 984: average-batch loss:155503.89253556976 rel loss: 0.1606521060143276\n",
      "New learning rate: 0.0013162815344984519\n"
     ]
    },
    {
     "name": "stderr",
     "output_type": "stream",
     "text": [
      " 10%|█         | 1024/10000 [02:28<20:49,  7.18it/s]"
     ]
    },
    {
     "name": "stdout",
     "output_type": "stream",
     "text": [
      "Step 1025: average-batch loss:141427.9700559269 rel loss: 0.07711420410905534\n",
      "New learning rate: 0.0013031187191534673\n"
     ]
    },
    {
     "name": "stderr",
     "output_type": "stream",
     "text": [
      " 11%|█         | 1065/10000 [02:34<20:21,  7.32it/s]"
     ]
    },
    {
     "name": "stdout",
     "output_type": "stream",
     "text": [
      "Step 1066: average-batch loss:171280.3289163843 rel loss: 0.2379634863381012\n",
      "New learning rate: 0.0012900875319619327\n"
     ]
    },
    {
     "name": "stderr",
     "output_type": "stream",
     "text": [
      " 11%|█         | 1106/10000 [02:40<20:34,  7.21it/s]"
     ]
    },
    {
     "name": "stdout",
     "output_type": "stream",
     "text": [
      "Step 1107: average-batch loss:140909.99797389572 rel loss: 0.07372176152834362\n",
      "New learning rate: 0.0012771866566423133\n",
      "We are in a loss plateau\n",
      "Restoring from a checkpoint\n"
     ]
    },
    {
     "name": "stderr",
     "output_type": "stream",
     "text": [
      " 11%|█▏        | 1147/10000 [02:45<21:03,  7.01it/s]"
     ]
    },
    {
     "name": "stdout",
     "output_type": "stream",
     "text": [
      "Step 1148: average-batch loss:149984.31396487268 rel loss: 0.12976323152783908\n",
      "New learning rate: 0.00126441479007589\n",
      "We are in a loss plateau\n",
      "Restoring from a checkpoint\n"
     ]
    },
    {
     "name": "stderr",
     "output_type": "stream",
     "text": [
      " 12%|█▏        | 1188/10000 [02:51<20:48,  7.06it/s]"
     ]
    },
    {
     "name": "stdout",
     "output_type": "stream",
     "text": [
      "Step 1189: average-batch loss:113493.46470980978 rel loss: 0.15003859508593514\n",
      "Saved a checkpoint: /var/folders/6s/m6kbjxb16sl9cg9rg6mj5czrv6ht9f/T/tfcheckpoints/2bf98465-fa0a-4bd5-90aa-3c0cb25399e1/2bf98465-fa0a-4bd5-90aa-3c0cb25399e1-13\n"
     ]
    },
    {
     "name": "stderr",
     "output_type": "stream",
     "text": [
      " 12%|█▏        | 1229/10000 [02:57<21:10,  6.90it/s]"
     ]
    },
    {
     "name": "stdout",
     "output_type": "stream",
     "text": [
      "Step 1230: average-batch loss:138067.8522104551 rel loss: 0.1779877582450323\n",
      "New learning rate: 0.0012517706421751314\n"
     ]
    },
    {
     "name": "stderr",
     "output_type": "stream",
     "text": [
      " 13%|█▎        | 1270/10000 [03:03<20:48,  6.99it/s]"
     ]
    },
    {
     "name": "stdout",
     "output_type": "stream",
     "text": [
      "Step 1271: average-batch loss:154580.49993750092 rel loss: 0.2657970134933139\n",
      "New learning rate: 0.00123925293575338\n"
     ]
    },
    {
     "name": "stderr",
     "output_type": "stream",
     "text": [
      " 13%|█▎        | 1311/10000 [03:09<20:11,  7.17it/s]"
     ]
    },
    {
     "name": "stdout",
     "output_type": "stream",
     "text": [
      "Step 1312: average-batch loss:114557.43084657709 rel loss: 0.009287622190063294\n",
      "New learning rate: 0.0012268604063958462\n"
     ]
    },
    {
     "name": "stderr",
     "output_type": "stream",
     "text": [
      " 14%|█▎        | 1352/10000 [03:15<20:10,  7.14it/s]"
     ]
    },
    {
     "name": "stdout",
     "output_type": "stream",
     "text": [
      "Step 1353: average-batch loss:128049.43418892995 rel loss: 0.11367460989826506\n",
      "New learning rate: 0.0012145918023318877\n"
     ]
    },
    {
     "name": "stderr",
     "output_type": "stream",
     "text": [
      " 14%|█▍        | 1393/10000 [03:20<20:11,  7.11it/s]"
     ]
    },
    {
     "name": "stdout",
     "output_type": "stream",
     "text": [
      "Step 1394: average-batch loss:113237.24788061072 rel loss: 0.0022626550361696325\n",
      "Saved a checkpoint: /var/folders/6s/m6kbjxb16sl9cg9rg6mj5czrv6ht9f/T/tfcheckpoints/2bf98465-fa0a-4bd5-90aa-3c0cb25399e1/2bf98465-fa0a-4bd5-90aa-3c0cb25399e1-14\n"
     ]
    },
    {
     "name": "stderr",
     "output_type": "stream",
     "text": [
      " 14%|█▍        | 1434/10000 [03:26<20:19,  7.03it/s]"
     ]
    },
    {
     "name": "stdout",
     "output_type": "stream",
     "text": [
      "Step 1435: average-batch loss:89678.36901752434 rel loss: 0.262704140599197\n",
      "Saved a checkpoint: /var/folders/6s/m6kbjxb16sl9cg9rg6mj5czrv6ht9f/T/tfcheckpoints/2bf98465-fa0a-4bd5-90aa-3c0cb25399e1/2bf98465-fa0a-4bd5-90aa-3c0cb25399e1-15\n"
     ]
    },
    {
     "name": "stderr",
     "output_type": "stream",
     "text": [
      " 15%|█▍        | 1475/10000 [03:32<20:10,  7.04it/s]"
     ]
    },
    {
     "name": "stdout",
     "output_type": "stream",
     "text": [
      "Step 1476: average-batch loss:105024.641016775 rel loss: 0.1461206803534752\n",
      "New learning rate: 0.0012024458843085688\n"
     ]
    },
    {
     "name": "stderr",
     "output_type": "stream",
     "text": [
      " 15%|█▌        | 1516/10000 [03:38<20:04,  7.05it/s]"
     ]
    },
    {
     "name": "stdout",
     "output_type": "stream",
     "text": [
      "Step 1517: average-batch loss:107162.52484722118 rel loss: 0.16315550473100132\n",
      "New learning rate: 0.001190421425465483\n"
     ]
    },
    {
     "name": "stderr",
     "output_type": "stream",
     "text": [
      " 16%|█▌        | 1557/10000 [03:44<19:52,  7.08it/s]"
     ]
    },
    {
     "name": "stdout",
     "output_type": "stream",
     "text": [
      "Step 1558: average-batch loss:82197.84848979447 rel loss: 0.0910062813707178\n",
      "Saved a checkpoint: /var/folders/6s/m6kbjxb16sl9cg9rg6mj5czrv6ht9f/T/tfcheckpoints/2bf98465-fa0a-4bd5-90aa-3c0cb25399e1/2bf98465-fa0a-4bd5-90aa-3c0cb25399e1-16\n"
     ]
    },
    {
     "name": "stderr",
     "output_type": "stream",
     "text": [
      " 16%|█▌        | 1598/10000 [03:50<19:43,  7.10it/s]"
     ]
    },
    {
     "name": "stdout",
     "output_type": "stream",
     "text": [
      "Step 1599: average-batch loss:58654.21794653364 rel loss: 0.4013970583449271\n",
      "Saved a checkpoint: /var/folders/6s/m6kbjxb16sl9cg9rg6mj5czrv6ht9f/T/tfcheckpoints/2bf98465-fa0a-4bd5-90aa-3c0cb25399e1/2bf98465-fa0a-4bd5-90aa-3c0cb25399e1-17\n"
     ]
    },
    {
     "name": "stderr",
     "output_type": "stream",
     "text": [
      " 16%|█▋        | 1639/10000 [03:55<19:36,  7.11it/s]"
     ]
    },
    {
     "name": "stdout",
     "output_type": "stream",
     "text": [
      "Step 1640: average-batch loss:76718.12505409043 rel loss: 0.23545814101714244\n",
      "New learning rate: 0.0011785172112108281\n"
     ]
    },
    {
     "name": "stderr",
     "output_type": "stream",
     "text": [
      " 17%|█▋        | 1680/10000 [04:01<19:03,  7.28it/s]"
     ]
    },
    {
     "name": "stdout",
     "output_type": "stream",
     "text": [
      "Step 1681: average-batch loss:69417.85600250497 rel loss: 0.15505575475541797\n",
      "New learning rate: 0.00116673203909872\n"
     ]
    },
    {
     "name": "stderr",
     "output_type": "stream",
     "text": [
      " 17%|█▋        | 1721/10000 [04:07<19:46,  6.98it/s]"
     ]
    },
    {
     "name": "stdout",
     "output_type": "stream",
     "text": [
      "Step 1722: average-batch loss:63705.804332656815 rel loss: 0.07929554361710864\n",
      "New learning rate: 0.0011550647187077326\n"
     ]
    },
    {
     "name": "stderr",
     "output_type": "stream",
     "text": [
      " 18%|█▊        | 1762/10000 [04:13<19:15,  7.13it/s]"
     ]
    },
    {
     "name": "stdout",
     "output_type": "stream",
     "text": [
      "Step 1763: average-batch loss:56709.43729183488 rel loss: 0.0342937745033624\n",
      "Saved a checkpoint: /var/folders/6s/m6kbjxb16sl9cg9rg6mj5czrv6ht9f/T/tfcheckpoints/2bf98465-fa0a-4bd5-90aa-3c0cb25399e1/2bf98465-fa0a-4bd5-90aa-3c0cb25399e1-18\n"
     ]
    },
    {
     "name": "stderr",
     "output_type": "stream",
     "text": [
      " 18%|█▊        | 1803/10000 [04:19<19:49,  6.89it/s]"
     ]
    },
    {
     "name": "stdout",
     "output_type": "stream",
     "text": [
      "Step 1804: average-batch loss:88185.76522111666 rel loss: 0.35693207231754637\n",
      "New learning rate: 0.0011435140715206553\n"
     ]
    },
    {
     "name": "stderr",
     "output_type": "stream",
     "text": [
      " 18%|█▊        | 1844/10000 [04:25<19:50,  6.85it/s]"
     ]
    },
    {
     "name": "stdout",
     "output_type": "stream",
     "text": [
      "Step 1845: average-batch loss:76329.98471257577 rel loss: 0.2570490154638836\n",
      "New learning rate: 0.001132078930805449\n"
     ]
    },
    {
     "name": "stderr",
     "output_type": "stream",
     "text": [
      " 19%|█▉        | 1885/10000 [04:31<19:20,  6.99it/s]"
     ]
    },
    {
     "name": "stdout",
     "output_type": "stream",
     "text": [
      "Step 1886: average-batch loss:66821.50305483057 rel loss: 0.15132951670809022\n",
      "New learning rate: 0.0011207581414973942\n"
     ]
    },
    {
     "name": "stderr",
     "output_type": "stream",
     "text": [
      " 19%|█▉        | 1926/10000 [04:36<19:02,  7.06it/s]"
     ]
    },
    {
     "name": "stdout",
     "output_type": "stream",
     "text": [
      "Step 1927: average-batch loss:66351.99497283972 rel loss: 0.1453243069021796\n",
      "New learning rate: 0.0011095505600824203\n"
     ]
    },
    {
     "name": "stderr",
     "output_type": "stream",
     "text": [
      " 20%|█▉        | 1967/10000 [04:42<18:16,  7.33it/s]"
     ]
    },
    {
     "name": "stdout",
     "output_type": "stream",
     "text": [
      "Step 1968: average-batch loss:50456.96826085041 rel loss: 0.12391685918703459\n",
      "Saved a checkpoint: /var/folders/6s/m6kbjxb16sl9cg9rg6mj5czrv6ht9f/T/tfcheckpoints/2bf98465-fa0a-4bd5-90aa-3c0cb25399e1/2bf98465-fa0a-4bd5-90aa-3c0cb25399e1-19\n"
     ]
    },
    {
     "name": "stderr",
     "output_type": "stream",
     "text": [
      " 20%|██        | 2008/10000 [04:48<19:01,  7.00it/s]"
     ]
    },
    {
     "name": "stdout",
     "output_type": "stream",
     "text": [
      "Step 2009: average-batch loss:63477.698821459526 rel loss: 0.2051229140683228\n",
      "New learning rate: 0.0010984550544815962\n"
     ]
    },
    {
     "name": "stderr",
     "output_type": "stream",
     "text": [
      " 20%|██        | 2049/10000 [04:54<19:03,  6.95it/s]"
     ]
    },
    {
     "name": "stdout",
     "output_type": "stream",
     "text": [
      "Step 2050: average-batch loss:52215.16097901882 rel loss: 0.03367207311445223\n",
      "New learning rate: 0.00108747050393678\n"
     ]
    },
    {
     "name": "stderr",
     "output_type": "stream",
     "text": [
      " 21%|██        | 2090/10000 [05:00<18:43,  7.04it/s]"
     ]
    },
    {
     "name": "stdout",
     "output_type": "stream",
     "text": [
      "Step 2091: average-batch loss:46143.85271982332 rel loss: 0.09347107549114946\n",
      "Saved a checkpoint: /var/folders/6s/m6kbjxb16sl9cg9rg6mj5czrv6ht9f/T/tfcheckpoints/2bf98465-fa0a-4bd5-90aa-3c0cb25399e1/2bf98465-fa0a-4bd5-90aa-3c0cb25399e1-20\n"
     ]
    },
    {
     "name": "stderr",
     "output_type": "stream",
     "text": [
      " 21%|██▏       | 2131/10000 [05:06<18:51,  6.95it/s]"
     ]
    },
    {
     "name": "stdout",
     "output_type": "stream",
     "text": [
      "Step 2132: average-batch loss:66170.23246713432 rel loss: 0.30264937874077713\n",
      "New learning rate: 0.0010765957988974125\n"
     ]
    },
    {
     "name": "stderr",
     "output_type": "stream",
     "text": [
      " 22%|██▏       | 2172/10000 [05:12<18:25,  7.08it/s]"
     ]
    },
    {
     "name": "stdout",
     "output_type": "stream",
     "text": [
      "Step 2173: average-batch loss:38810.75495711251 rel loss: 0.18894499142864352\n",
      "Saved a checkpoint: /var/folders/6s/m6kbjxb16sl9cg9rg6mj5czrv6ht9f/T/tfcheckpoints/2bf98465-fa0a-4bd5-90aa-3c0cb25399e1/2bf98465-fa0a-4bd5-90aa-3c0cb25399e1-21\n"
     ]
    },
    {
     "name": "stderr",
     "output_type": "stream",
     "text": [
      " 22%|██▏       | 2213/10000 [05:18<18:21,  7.07it/s]"
     ]
    },
    {
     "name": "stdout",
     "output_type": "stream",
     "text": [
      "Step 2214: average-batch loss:51692.67305703896 rel loss: 0.24920201138974232\n",
      "New learning rate: 0.001065829840908438\n"
     ]
    },
    {
     "name": "stderr",
     "output_type": "stream",
     "text": [
      " 23%|██▎       | 2254/10000 [05:23<17:57,  7.19it/s]"
     ]
    },
    {
     "name": "stdout",
     "output_type": "stream",
     "text": [
      "Step 2255: average-batch loss:30152.97132036923 rel loss: 0.28712870598244133\n",
      "Saved a checkpoint: /var/folders/6s/m6kbjxb16sl9cg9rg6mj5czrv6ht9f/T/tfcheckpoints/2bf98465-fa0a-4bd5-90aa-3c0cb25399e1/2bf98465-fa0a-4bd5-90aa-3c0cb25399e1-22\n"
     ]
    },
    {
     "name": "stderr",
     "output_type": "stream",
     "text": [
      " 23%|██▎       | 2295/10000 [05:29<18:03,  7.11it/s]"
     ]
    },
    {
     "name": "stdout",
     "output_type": "stream",
     "text": [
      "Step 2296: average-batch loss:48249.329400365204 rel loss: 0.37505926620938695\n",
      "New learning rate: 0.0010551715424993537\n"
     ]
    },
    {
     "name": "stderr",
     "output_type": "stream",
     "text": [
      " 23%|██▎       | 2336/10000 [05:35<17:50,  7.16it/s]"
     ]
    },
    {
     "name": "stdout",
     "output_type": "stream",
     "text": [
      "Step 2337: average-batch loss:38999.83116394619 rel loss: 0.22684354212680627\n",
      "New learning rate: 0.0010446198270743603\n"
     ]
    },
    {
     "name": "stderr",
     "output_type": "stream",
     "text": [
      " 24%|██▍       | 2377/10000 [05:41<17:38,  7.20it/s]"
     ]
    },
    {
     "name": "stdout",
     "output_type": "stream",
     "text": [
      "Step 2378: average-batch loss:28993.758959778006 rel loss: 0.03998144435839993\n",
      "Saved a checkpoint: /var/folders/6s/m6kbjxb16sl9cg9rg6mj5czrv6ht9f/T/tfcheckpoints/2bf98465-fa0a-4bd5-90aa-3c0cb25399e1/2bf98465-fa0a-4bd5-90aa-3c0cb25399e1-23\n"
     ]
    },
    {
     "name": "stderr",
     "output_type": "stream",
     "text": [
      " 24%|██▍       | 2418/10000 [05:46<17:42,  7.14it/s]"
     ]
    },
    {
     "name": "stdout",
     "output_type": "stream",
     "text": [
      "Step 2419: average-batch loss:45234.701768732564 rel loss: 0.35903724737676357\n",
      "New learning rate: 0.0010341736288036166\n"
     ]
    },
    {
     "name": "stderr",
     "output_type": "stream",
     "text": [
      " 25%|██▍       | 2459/10000 [05:52<17:43,  7.09it/s]"
     ]
    },
    {
     "name": "stdout",
     "output_type": "stream",
     "text": [
      "Step 2460: average-batch loss:35544.54320221374 rel loss: 0.1842978880096494\n",
      "New learning rate: 0.0010238318925155805\n"
     ]
    },
    {
     "name": "stderr",
     "output_type": "stream",
     "text": [
      " 25%|██▌       | 2500/10000 [05:58<16:57,  7.37it/s]"
     ]
    },
    {
     "name": "stdout",
     "output_type": "stream",
     "text": [
      "Step 2501: average-batch loss:24498.69312744305 rel loss: 0.18348186203041394\n",
      "Saved a checkpoint: /var/folders/6s/m6kbjxb16sl9cg9rg6mj5czrv6ht9f/T/tfcheckpoints/2bf98465-fa0a-4bd5-90aa-3c0cb25399e1/2bf98465-fa0a-4bd5-90aa-3c0cb25399e1-24\n"
     ]
    },
    {
     "name": "stderr",
     "output_type": "stream",
     "text": [
      " 25%|██▌       | 2541/10000 [06:03<16:45,  7.42it/s]"
     ]
    },
    {
     "name": "stdout",
     "output_type": "stream",
     "text": [
      "Step 2542: average-batch loss:23875.214821644164 rel loss: 0.026114039620438078\n",
      "Saved a checkpoint: /var/folders/6s/m6kbjxb16sl9cg9rg6mj5czrv6ht9f/T/tfcheckpoints/2bf98465-fa0a-4bd5-90aa-3c0cb25399e1/2bf98465-fa0a-4bd5-90aa-3c0cb25399e1-25\n"
     ]
    },
    {
     "name": "stderr",
     "output_type": "stream",
     "text": [
      " 26%|██▌       | 2582/10000 [06:09<17:19,  7.14it/s]"
     ]
    },
    {
     "name": "stdout",
     "output_type": "stream",
     "text": [
      "Step 2583: average-batch loss:27722.89208701399 rel loss: 0.13879061583088442\n",
      "New learning rate: 0.0010135935735904246\n"
     ]
    },
    {
     "name": "stderr",
     "output_type": "stream",
     "text": [
      " 26%|██▌       | 2623/10000 [06:15<16:06,  7.63it/s]"
     ]
    },
    {
     "name": "stdout",
     "output_type": "stream",
     "text": [
      "Step 2624: average-batch loss:29070.33969345031 rel loss: 0.17870877762658666\n",
      "New learning rate: 0.0010034576378545204\n"
     ]
    },
    {
     "name": "stderr",
     "output_type": "stream",
     "text": [
      " 27%|██▋       | 2664/10000 [06:21<17:45,  6.88it/s]"
     ]
    },
    {
     "name": "stdout",
     "output_type": "stream",
     "text": [
      "Step 2665: average-batch loss:19419.07733006694 rel loss: 0.22947215337969223\n",
      "Saved a checkpoint: /var/folders/6s/m6kbjxb16sl9cg9rg6mj5czrv6ht9f/T/tfcheckpoints/2bf98465-fa0a-4bd5-90aa-3c0cb25399e1/2bf98465-fa0a-4bd5-90aa-3c0cb25399e1-26\n"
     ]
    },
    {
     "name": "stderr",
     "output_type": "stream",
     "text": [
      " 27%|██▋       | 2705/10000 [06:27<18:14,  6.66it/s]"
     ]
    },
    {
     "name": "stdout",
     "output_type": "stream",
     "text": [
      "Step 2706: average-batch loss:24959.95903127228 rel loss: 0.221990817142896\n",
      "New learning rate: 0.0009934230614759751\n"
     ]
    },
    {
     "name": "stderr",
     "output_type": "stream",
     "text": [
      " 27%|██▋       | 2746/10000 [06:33<17:23,  6.95it/s]"
     ]
    },
    {
     "name": "stdout",
     "output_type": "stream",
     "text": [
      "Step 2747: average-batch loss:22619.21590644105 rel loss: 0.14147875813249747\n",
      "New learning rate: 0.0009834888308612154\n"
     ]
    },
    {
     "name": "stderr",
     "output_type": "stream",
     "text": [
      " 28%|██▊       | 2787/10000 [06:38<16:38,  7.22it/s]"
     ]
    },
    {
     "name": "stdout",
     "output_type": "stream",
     "text": [
      "Step 2788: average-batch loss:44789.59290087615 rel loss: 0.5664377353676043\n",
      "New learning rate: 0.0009736539425526032\n"
     ]
    },
    {
     "name": "stderr",
     "output_type": "stream",
     "text": [
      " 28%|██▊       | 2828/10000 [06:44<16:38,  7.18it/s]"
     ]
    },
    {
     "name": "stdout",
     "output_type": "stream",
     "text": [
      "Step 2829: average-batch loss:35479.292658548264 rel loss: 0.45266447341677285\n",
      "New learning rate: 0.0009639174031270772\n"
     ]
    },
    {
     "name": "stderr",
     "output_type": "stream",
     "text": [
      " 29%|██▊       | 2869/10000 [06:50<17:06,  6.94it/s]"
     ]
    },
    {
     "name": "stdout",
     "output_type": "stream",
     "text": [
      "Step 2870: average-batch loss:23717.148575422198 rel loss: 0.1812220904923326\n",
      "New learning rate: 0.0009542782290958064\n",
      "We are in a loss plateau\n",
      "Restoring from a checkpoint\n"
     ]
    },
    {
     "name": "stderr",
     "output_type": "stream",
     "text": [
      " 29%|██▉       | 2910/10000 [06:56<16:51,  7.01it/s]"
     ]
    },
    {
     "name": "stdout",
     "output_type": "stream",
     "text": [
      "Step 2911: average-batch loss:23749.385511980643 rel loss: 0.18233348310124622\n",
      "New learning rate: 0.0009447354468048484\n",
      "We are in a loss plateau\n",
      "Restoring from a checkpoint\n"
     ]
    },
    {
     "name": "stderr",
     "output_type": "stream",
     "text": [
      " 30%|██▉       | 2951/10000 [07:02<17:06,  6.87it/s]"
     ]
    },
    {
     "name": "stdout",
     "output_type": "stream",
     "text": [
      "Step 2952: average-batch loss:26952.91092472968 rel loss: 0.27951836503679245\n",
      "New learning rate: 0.0009352880923367999\n",
      "We are in a loss plateau\n",
      "Restoring from a checkpoint\n"
     ]
    },
    {
     "name": "stderr",
     "output_type": "stream",
     "text": [
      " 30%|██▉       | 2992/10000 [07:07<16:17,  7.17it/s]"
     ]
    },
    {
     "name": "stdout",
     "output_type": "stream",
     "text": [
      "Step 2993: average-batch loss:11782.861673347827 rel loss: 0.6480781891882686\n",
      "Saved a checkpoint: /var/folders/6s/m6kbjxb16sl9cg9rg6mj5czrv6ht9f/T/tfcheckpoints/2bf98465-fa0a-4bd5-90aa-3c0cb25399e1/2bf98465-fa0a-4bd5-90aa-3c0cb25399e1-27\n"
     ]
    },
    {
     "name": "stderr",
     "output_type": "stream",
     "text": [
      " 30%|███       | 3033/10000 [07:13<16:30,  7.04it/s]"
     ]
    },
    {
     "name": "stdout",
     "output_type": "stream",
     "text": [
      "Step 3034: average-batch loss:16619.55005250932 rel loss: 0.2910240267564416\n",
      "New learning rate: 0.0009259352114134319\n"
     ]
    },
    {
     "name": "stderr",
     "output_type": "stream",
     "text": [
      " 31%|███       | 3074/10000 [07:19<16:07,  7.16it/s]"
     ]
    },
    {
     "name": "stdout",
     "output_type": "stream",
     "text": [
      "Step 3075: average-batch loss:18484.97954215326 rel loss: 0.362571019000691\n",
      "New learning rate: 0.0009166758592992976\n"
     ]
    },
    {
     "name": "stderr",
     "output_type": "stream",
     "text": [
      " 31%|███       | 3115/10000 [07:25<16:10,  7.10it/s]"
     ]
    },
    {
     "name": "stdout",
     "output_type": "stream",
     "text": [
      "Step 3116: average-batch loss:20850.78924800585 rel loss: 0.43489613111528963\n",
      "New learning rate: 0.0009075091007063045\n"
     ]
    },
    {
     "name": "stderr",
     "output_type": "stream",
     "text": [
      " 32%|███▏      | 3156/10000 [07:31<16:21,  6.97it/s]"
     ]
    },
    {
     "name": "stdout",
     "output_type": "stream",
     "text": [
      "Step 3157: average-batch loss:20231.142983542748 rel loss: 0.41758793939953226\n",
      "New learning rate: 0.0008984340096992414\n"
     ]
    },
    {
     "name": "stderr",
     "output_type": "stream",
     "text": [
      " 32%|███▏      | 3197/10000 [07:37<16:05,  7.04it/s]"
     ]
    },
    {
     "name": "stdout",
     "output_type": "stream",
     "text": [
      "Step 3198: average-batch loss:26256.475157955952 rel loss: 0.5512397759995019\n",
      "New learning rate: 0.0008894496696022491\n",
      "We are in a loss plateau\n",
      "Restoring from a checkpoint\n"
     ]
    },
    {
     "name": "stderr",
     "output_type": "stream",
     "text": [
      " 32%|███▏      | 3238/10000 [07:42<15:39,  7.20it/s]"
     ]
    },
    {
     "name": "stdout",
     "output_type": "stream",
     "text": [
      "Step 3239: average-batch loss:20522.14658679325 rel loss: 0.4258465300637445\n",
      "New learning rate: 0.0008805551729062267\n",
      "We are in a loss plateau\n",
      "Restoring from a checkpoint\n"
     ]
    },
    {
     "name": "stderr",
     "output_type": "stream",
     "text": [
      " 33%|███▎      | 3279/10000 [07:48<15:41,  7.14it/s]"
     ]
    },
    {
     "name": "stdout",
     "output_type": "stream",
     "text": [
      "Step 3280: average-batch loss:15551.895951257062 rel loss: 0.24235207653923274\n",
      "New learning rate: 0.0008717496211771643\n",
      "We are in a loss plateau\n",
      "Restoring from a checkpoint\n"
     ]
    },
    {
     "name": "stderr",
     "output_type": "stream",
     "text": [
      " 33%|███▎      | 3320/10000 [07:54<15:46,  7.06it/s]"
     ]
    },
    {
     "name": "stdout",
     "output_type": "stream",
     "text": [
      "Step 3321: average-batch loss:17198.319157621532 rel loss: 0.31488295074892914\n",
      "New learning rate: 0.0008630321249653928\n",
      "We are in a loss plateau\n",
      "Restoring from a checkpoint\n"
     ]
    },
    {
     "name": "stderr",
     "output_type": "stream",
     "text": [
      " 34%|███▎      | 3361/10000 [08:00<15:38,  7.08it/s]"
     ]
    },
    {
     "name": "stdout",
     "output_type": "stream",
     "text": [
      "Step 3362: average-batch loss:21568.876513409446 rel loss: 0.45370999430487813\n",
      "New learning rate: 0.0008544018037157388\n",
      "We are in a loss plateau\n",
      "Restoring from a checkpoint\n"
     ]
    },
    {
     "name": "stderr",
     "output_type": "stream",
     "text": [
      " 34%|███▍      | 3402/10000 [08:06<15:32,  7.07it/s]"
     ]
    },
    {
     "name": "stdout",
     "output_type": "stream",
     "text": [
      "Step 3403: average-batch loss:15047.927835758352 rel loss: 0.21697779242745682\n",
      "New learning rate: 0.0008458577856785813\n",
      "We are in a loss plateau\n",
      "Restoring from a checkpoint\n"
     ]
    },
    {
     "name": "stderr",
     "output_type": "stream",
     "text": [
      " 34%|███▍      | 3443/10000 [08:12<15:34,  7.02it/s]"
     ]
    },
    {
     "name": "stdout",
     "output_type": "stream",
     "text": [
      "Step 3444: average-batch loss:18422.002240926115 rel loss: 0.3603919096714063\n",
      "New learning rate: 0.0008373992078217955\n",
      "We are in a loss plateau\n",
      "Restoring from a checkpoint\n"
     ]
    },
    {
     "name": "stderr",
     "output_type": "stream",
     "text": [
      " 35%|███▍      | 3484/10000 [08:18<15:15,  7.12it/s]"
     ]
    },
    {
     "name": "stdout",
     "output_type": "stream",
     "text": [
      "Step 3485: average-batch loss:19602.33652260929 rel loss: 0.39890524480296\n",
      "New learning rate: 0.0008290252157435777\n",
      "We are in a loss plateau\n",
      "Restoring from a checkpoint\n"
     ]
    },
    {
     "name": "stderr",
     "output_type": "stream",
     "text": [
      " 35%|███▌      | 3525/10000 [08:24<15:25,  7.00it/s]"
     ]
    },
    {
     "name": "stdout",
     "output_type": "stream",
     "text": [
      "Step 3526: average-batch loss:19384.208830003354 rel loss: 0.39214121263953655\n",
      "New learning rate: 0.0008207349635861418\n",
      "We are in a loss plateau\n",
      "Restoring from a checkpoint\n"
     ]
    },
    {
     "name": "stderr",
     "output_type": "stream",
     "text": [
      " 36%|███▌      | 3566/10000 [08:30<15:24,  6.96it/s]"
     ]
    },
    {
     "name": "stdout",
     "output_type": "stream",
     "text": [
      "Step 3567: average-batch loss:16003.146659017004 rel loss: 0.26371594759404704\n",
      "New learning rate: 0.0008125276139502803\n",
      "We are in a loss plateau\n",
      "Restoring from a checkpoint\n"
     ]
    },
    {
     "name": "stderr",
     "output_type": "stream",
     "text": [
      " 36%|███▌      | 3607/10000 [08:35<15:41,  6.79it/s]"
     ]
    },
    {
     "name": "stdout",
     "output_type": "stream",
     "text": [
      "Step 3608: average-batch loss:14312.27297782824 rel loss: 0.1767302306488168\n",
      "New learning rate: 0.0008044023378107775\n",
      "We are in a loss plateau\n",
      "Restoring from a checkpoint\n"
     ]
    },
    {
     "name": "stderr",
     "output_type": "stream",
     "text": [
      " 36%|███▋      | 3648/10000 [08:41<15:02,  7.04it/s]"
     ]
    },
    {
     "name": "stdout",
     "output_type": "stream",
     "text": [
      "Step 3649: average-batch loss:12956.230416368597 rel loss: 0.09056405337916526\n",
      "New learning rate: 0.0007963583144326697\n",
      "We are in a loss plateau\n",
      "Restoring from a checkpoint\n"
     ]
    },
    {
     "name": "stderr",
     "output_type": "stream",
     "text": [
      " 37%|███▋      | 3689/10000 [08:47<14:48,  7.11it/s]"
     ]
    },
    {
     "name": "stdout",
     "output_type": "stream",
     "text": [
      "Step 3690: average-batch loss:16092.70630867386 rel loss: 0.267813539417112\n",
      "New learning rate: 0.000788394731288343\n",
      "We are in a loss plateau\n",
      "Restoring from a checkpoint\n"
     ]
    },
    {
     "name": "stderr",
     "output_type": "stream",
     "text": [
      " 37%|███▋      | 3730/10000 [08:53<14:46,  7.07it/s]"
     ]
    },
    {
     "name": "stdout",
     "output_type": "stream",
     "text": [
      "Step 3731: average-batch loss:16553.433497961 rel loss: 0.2881922850145136\n",
      "New learning rate: 0.0007805107839754596\n",
      "We are in a loss plateau\n",
      "Restoring from a checkpoint\n"
     ]
    },
    {
     "name": "stderr",
     "output_type": "stream",
     "text": [
      " 38%|███▊      | 3771/10000 [08:59<15:00,  6.91it/s]"
     ]
    },
    {
     "name": "stdout",
     "output_type": "stream",
     "text": [
      "Step 3772: average-batch loss:12120.779592554343 rel loss: 0.027879223165983135\n",
      "New learning rate: 0.000772705676135705\n",
      "We are in a loss plateau\n",
      "Restoring from a checkpoint\n"
     ]
    },
    {
     "name": "stderr",
     "output_type": "stream",
     "text": [
      " 38%|███▊      | 3812/10000 [09:05<14:53,  6.93it/s]"
     ]
    },
    {
     "name": "stdout",
     "output_type": "stream",
     "text": [
      "Step 3813: average-batch loss:15810.098285789336 rel loss: 0.2547255899137154\n",
      "New learning rate: 0.000764978619374348\n",
      "We are in a loss plateau\n",
      "Restoring from a checkpoint\n"
     ]
    },
    {
     "name": "stderr",
     "output_type": "stream",
     "text": [
      " 39%|███▊      | 3853/10000 [09:11<14:46,  6.93it/s]"
     ]
    },
    {
     "name": "stdout",
     "output_type": "stream",
     "text": [
      "Step 3854: average-batch loss:21367.804817213444 rel loss: 0.44856938866009266\n",
      "New learning rate: 0.0007573288331806045\n",
      "We are in a loss plateau\n",
      "Restoring from a checkpoint\n"
     ]
    },
    {
     "name": "stderr",
     "output_type": "stream",
     "text": [
      " 39%|███▉      | 3894/10000 [09:16<14:08,  7.20it/s]"
     ]
    },
    {
     "name": "stdout",
     "output_type": "stream",
     "text": [
      "Step 3895: average-batch loss:14020.638744955024 rel loss: 0.15960592896756615\n",
      "New learning rate: 0.0007497555448487984\n",
      "We are in a loss plateau\n",
      "Restoring from a checkpoint\n"
     ]
    },
    {
     "name": "stderr",
     "output_type": "stream",
     "text": [
      " 39%|███▉      | 3935/10000 [09:22<14:17,  7.07it/s]"
     ]
    },
    {
     "name": "stdout",
     "output_type": "stream",
     "text": [
      "Step 3936: average-batch loss:17780.134489510776 rel loss: 0.33730188147344914\n",
      "New learning rate: 0.0007422579894003105\n",
      "We are in a loss plateau\n",
      "Restoring from a checkpoint\n"
     ]
    },
    {
     "name": "stderr",
     "output_type": "stream",
     "text": [
      " 40%|███▉      | 3976/10000 [09:28<14:10,  7.08it/s]"
     ]
    },
    {
     "name": "stdout",
     "output_type": "stream",
     "text": [
      "Step 3977: average-batch loss:16991.692409931016 rel loss: 0.3065516142193594\n",
      "New learning rate: 0.0007348354095063073\n",
      "We are in a loss plateau\n",
      "Restoring from a checkpoint\n"
     ]
    },
    {
     "name": "stderr",
     "output_type": "stream",
     "text": [
      " 40%|████      | 4017/10000 [09:34<14:04,  7.08it/s]"
     ]
    },
    {
     "name": "stdout",
     "output_type": "stream",
     "text": [
      "Step 4018: average-batch loss:14123.560070990061 rel loss: 0.16573005572795016\n",
      "New learning rate: 0.0007274870554112442\n",
      "We are in a loss plateau\n",
      "Restoring from a checkpoint\n"
     ]
    },
    {
     "name": "stderr",
     "output_type": "stream",
     "text": [
      " 41%|████      | 4058/10000 [09:39<14:58,  6.61it/s]"
     ]
    },
    {
     "name": "stdout",
     "output_type": "stream",
     "text": [
      "Step 4059: average-batch loss:9433.310707966024 rel loss: 0.24906960431163452\n",
      "Saved a checkpoint: /var/folders/6s/m6kbjxb16sl9cg9rg6mj5czrv6ht9f/T/tfcheckpoints/2bf98465-fa0a-4bd5-90aa-3c0cb25399e1/2bf98465-fa0a-4bd5-90aa-3c0cb25399e1-28\n"
     ]
    },
    {
     "name": "stderr",
     "output_type": "stream",
     "text": [
      " 41%|████      | 4099/10000 [09:45<14:04,  6.99it/s]"
     ]
    },
    {
     "name": "stdout",
     "output_type": "stream",
     "text": [
      "Step 4100: average-batch loss:11373.887400541866 rel loss: 0.17061683699131663\n",
      "New learning rate: 0.0007202121848571318\n"
     ]
    },
    {
     "name": "stderr",
     "output_type": "stream",
     "text": [
      " 41%|████▏     | 4140/10000 [09:51<14:07,  6.92it/s]"
     ]
    },
    {
     "name": "stdout",
     "output_type": "stream",
     "text": [
      "Step 4141: average-batch loss:13725.373337917024 rel loss: 0.31271008258070215\n",
      "New learning rate: 0.0007130100630085604\n"
     ]
    },
    {
     "name": "stderr",
     "output_type": "stream",
     "text": [
      " 42%|████▏     | 4181/10000 [09:57<13:58,  6.94it/s]"
     ]
    },
    {
     "name": "stdout",
     "output_type": "stream",
     "text": [
      "Step 4182: average-batch loss:12973.882695893402 rel loss: 0.27289995377005133\n",
      "New learning rate: 0.0007058799623784748\n"
     ]
    },
    {
     "name": "stderr",
     "output_type": "stream",
     "text": [
      " 42%|████▏     | 4222/10000 [10:03<14:11,  6.78it/s]"
     ]
    },
    {
     "name": "stdout",
     "output_type": "stream",
     "text": [
      "Step 4223: average-batch loss:13870.678697817479 rel loss: 0.3199099399908719\n",
      "New learning rate: 0.0006988211627546901\n"
     ]
    },
    {
     "name": "stderr",
     "output_type": "stream",
     "text": [
      " 43%|████▎     | 4263/10000 [10:09<13:45,  6.95it/s]"
     ]
    },
    {
     "name": "stdout",
     "output_type": "stream",
     "text": [
      "Step 4264: average-batch loss:9224.205285403736 rel loss: 0.022669207383445175\n",
      "Saved a checkpoint: /var/folders/6s/m6kbjxb16sl9cg9rg6mj5czrv6ht9f/T/tfcheckpoints/2bf98465-fa0a-4bd5-90aa-3c0cb25399e1/2bf98465-fa0a-4bd5-90aa-3c0cb25399e1-29\n"
     ]
    },
    {
     "name": "stderr",
     "output_type": "stream",
     "text": [
      " 43%|████▎     | 4304/10000 [10:15<13:05,  7.25it/s]"
     ]
    },
    {
     "name": "stdout",
     "output_type": "stream",
     "text": [
      "Step 4305: average-batch loss:8833.53739259164 rel loss: 0.04422553224710806\n",
      "Saved a checkpoint: /var/folders/6s/m6kbjxb16sl9cg9rg6mj5czrv6ht9f/T/tfcheckpoints/2bf98465-fa0a-4bd5-90aa-3c0cb25399e1/2bf98465-fa0a-4bd5-90aa-3c0cb25399e1-30\n"
     ]
    },
    {
     "name": "stderr",
     "output_type": "stream",
     "text": [
      " 43%|████▎     | 4345/10000 [10:21<13:12,  7.14it/s]"
     ]
    },
    {
     "name": "stdout",
     "output_type": "stream",
     "text": [
      "Step 4346: average-batch loss:8507.398625687112 rel loss: 0.03833589811106165\n",
      "Saved a checkpoint: /var/folders/6s/m6kbjxb16sl9cg9rg6mj5czrv6ht9f/T/tfcheckpoints/2bf98465-fa0a-4bd5-90aa-3c0cb25399e1/2bf98465-fa0a-4bd5-90aa-3c0cb25399e1-31\n"
     ]
    },
    {
     "name": "stderr",
     "output_type": "stream",
     "text": [
      " 44%|████▍     | 4386/10000 [10:27<13:24,  6.98it/s]"
     ]
    },
    {
     "name": "stdout",
     "output_type": "stream",
     "text": [
      "Step 4387: average-batch loss:11591.443344705895 rel loss: 0.2660621828796967\n",
      "New learning rate: 0.0006918329511271432\n"
     ]
    },
    {
     "name": "stderr",
     "output_type": "stream",
     "text": [
      " 44%|████▍     | 4427/10000 [10:33<13:14,  7.02it/s]"
     ]
    },
    {
     "name": "stdout",
     "output_type": "stream",
     "text": [
      "Step 4428: average-batch loss:11240.140743767728 rel loss: 0.24312347864468045\n",
      "New learning rate: 0.0006849146216158717\n"
     ]
    },
    {
     "name": "stderr",
     "output_type": "stream",
     "text": [
      " 45%|████▍     | 4468/10000 [10:39<12:57,  7.12it/s]"
     ]
    },
    {
     "name": "stdout",
     "output_type": "stream",
     "text": [
      "Step 4469: average-batch loss:9606.095192118624 rel loss: 0.11437494054118306\n",
      "New learning rate: 0.000678065475399713\n"
     ]
    },
    {
     "name": "stderr",
     "output_type": "stream",
     "text": [
      " 45%|████▌     | 4509/10000 [10:45<12:47,  7.15it/s]"
     ]
    },
    {
     "name": "stdout",
     "output_type": "stream",
     "text": [
      "Step 4510: average-batch loss:9513.594078707658 rel loss: 0.10576396729733385\n",
      "New learning rate: 0.000671284820645716\n"
     ]
    },
    {
     "name": "stderr",
     "output_type": "stream",
     "text": [
      " 46%|████▌     | 4550/10000 [10:50<12:45,  7.12it/s]"
     ]
    },
    {
     "name": "stdout",
     "output_type": "stream",
     "text": [
      "Step 4551: average-batch loss:10018.40751046504 rel loss: 0.15082326040336816\n",
      "New learning rate: 0.0006645719724392588\n",
      "We are in a loss plateau\n",
      "Restoring from a checkpoint\n"
     ]
    },
    {
     "name": "stderr",
     "output_type": "stream",
     "text": [
      " 46%|████▌     | 4591/10000 [10:56<12:53,  6.99it/s]"
     ]
    },
    {
     "name": "stdout",
     "output_type": "stream",
     "text": [
      "Step 4592: average-batch loss:8539.314199035922 rel loss: 0.003737486712037468\n",
      "New learning rate: 0.0006579262527148662\n",
      "We are in a loss plateau\n",
      "Restoring from a checkpoint\n"
     ]
    },
    {
     "name": "stderr",
     "output_type": "stream",
     "text": [
      " 46%|████▋     | 4632/10000 [11:02<12:23,  7.22it/s]"
     ]
    },
    {
     "name": "stdout",
     "output_type": "stream",
     "text": [
      "Step 4633: average-batch loss:11930.47104905661 rel loss: 0.28691846359580025\n",
      "New learning rate: 0.0006513469901877174\n",
      "We are in a loss plateau\n",
      "Restoring from a checkpoint\n"
     ]
    },
    {
     "name": "stderr",
     "output_type": "stream",
     "text": [
      " 47%|████▋     | 4673/10000 [11:08<12:36,  7.05it/s]"
     ]
    },
    {
     "name": "stdout",
     "output_type": "stream",
     "text": [
      "Step 4674: average-batch loss:10580.313965594594 rel loss: 0.19592191183061816\n",
      "New learning rate: 0.0006448335202858403\n",
      "We are in a loss plateau\n",
      "Restoring from a checkpoint\n"
     ]
    },
    {
     "name": "stderr",
     "output_type": "stream",
     "text": [
      " 47%|████▋     | 4714/10000 [11:14<12:29,  7.05it/s]"
     ]
    },
    {
     "name": "stdout",
     "output_type": "stream",
     "text": [
      "Step 4715: average-batch loss:13214.241464424758 rel loss: 0.35619470488785593\n",
      "New learning rate: 0.0006383851850829819\n",
      "We are in a loss plateau\n",
      "Restoring from a checkpoint\n"
     ]
    },
    {
     "name": "stderr",
     "output_type": "stream",
     "text": [
      " 48%|████▊     | 4755/10000 [11:20<12:22,  7.06it/s]"
     ]
    },
    {
     "name": "stdout",
     "output_type": "stream",
     "text": [
      "Step 4756: average-batch loss:12981.294698918047 rel loss: 0.344641746219953\n",
      "New learning rate: 0.000632001333232152\n",
      "We are in a loss plateau\n",
      "Restoring from a checkpoint\n"
     ]
    },
    {
     "name": "stderr",
     "output_type": "stream",
     "text": [
      " 48%|████▊     | 4796/10000 [11:25<12:20,  7.02it/s]"
     ]
    },
    {
     "name": "stdout",
     "output_type": "stream",
     "text": [
      "Step 4797: average-batch loss:9450.470837894387 rel loss: 0.09979102929197506\n",
      "New learning rate: 0.0006256813198998305\n",
      "We are in a loss plateau\n",
      "Restoring from a checkpoint\n"
     ]
    },
    {
     "name": "stderr",
     "output_type": "stream",
     "text": [
      " 48%|████▊     | 4837/10000 [11:31<12:10,  7.07it/s]"
     ]
    },
    {
     "name": "stdout",
     "output_type": "stream",
     "text": [
      "Step 4838: average-batch loss:9336.134082443385 rel loss: 0.08876644759362559\n",
      "New learning rate: 0.0006194245067008323\n",
      "We are in a loss plateau\n",
      "Restoring from a checkpoint\n"
     ]
    },
    {
     "name": "stderr",
     "output_type": "stream",
     "text": [
      " 49%|████▉     | 4878/10000 [11:37<11:56,  7.15it/s]"
     ]
    },
    {
     "name": "stdout",
     "output_type": "stream",
     "text": [
      "Step 4879: average-batch loss:8506.478631369831 rel loss: 0.00010815219283429564\n",
      "Saved a checkpoint: /var/folders/6s/m6kbjxb16sl9cg9rg6mj5czrv6ht9f/T/tfcheckpoints/2bf98465-fa0a-4bd5-90aa-3c0cb25399e1/2bf98465-fa0a-4bd5-90aa-3c0cb25399e1-32\n"
     ]
    },
    {
     "name": "stderr",
     "output_type": "stream",
     "text": [
      " 49%|████▉     | 4919/10000 [11:43<11:59,  7.06it/s]"
     ]
    },
    {
     "name": "stdout",
     "output_type": "stream",
     "text": [
      "Step 4920: average-batch loss:16384.084941631583 rel loss: 0.48080843930715567\n",
      "New learning rate: 0.0006132302616338239\n"
     ]
    },
    {
     "name": "stderr",
     "output_type": "stream",
     "text": [
      " 50%|████▉     | 4960/10000 [11:50<12:51,  6.53it/s]"
     ]
    },
    {
     "name": "stdout",
     "output_type": "stream",
     "text": [
      "Step 4961: average-batch loss:12856.184072908265 rel loss: 0.33833565363337736\n",
      "New learning rate: 0.0006070979590174857\n"
     ]
    },
    {
     "name": "stderr",
     "output_type": "stream",
     "text": [
      " 50%|█████     | 5001/10000 [11:56<12:22,  6.74it/s]"
     ]
    },
    {
     "name": "stdout",
     "output_type": "stream",
     "text": [
      "Step 5002: average-batch loss:10079.970811417268 rel loss: 0.1561008667073908\n",
      "New learning rate: 0.0006010269794273108\n"
     ]
    },
    {
     "name": "stderr",
     "output_type": "stream",
     "text": [
      " 50%|█████     | 5042/10000 [12:03<12:49,  6.44it/s]"
     ]
    },
    {
     "name": "stdout",
     "output_type": "stream",
     "text": [
      "Step 5043: average-batch loss:8178.698199248791 rel loss: 0.040077335553370466\n",
      "Saved a checkpoint: /var/folders/6s/m6kbjxb16sl9cg9rg6mj5czrv6ht9f/T/tfcheckpoints/2bf98465-fa0a-4bd5-90aa-3c0cb25399e1/2bf98465-fa0a-4bd5-90aa-3c0cb25399e1-33\n"
     ]
    },
    {
     "name": "stderr",
     "output_type": "stream",
     "text": [
      " 51%|█████     | 5083/10000 [12:09<12:30,  6.55it/s]"
     ]
    },
    {
     "name": "stdout",
     "output_type": "stream",
     "text": [
      "Step 5084: average-batch loss:7987.466190932171 rel loss: 0.023941510830270196\n",
      "Saved a checkpoint: /var/folders/6s/m6kbjxb16sl9cg9rg6mj5czrv6ht9f/T/tfcheckpoints/2bf98465-fa0a-4bd5-90aa-3c0cb25399e1/2bf98465-fa0a-4bd5-90aa-3c0cb25399e1-34\n"
     ]
    },
    {
     "name": "stderr",
     "output_type": "stream",
     "text": [
      " 51%|█████     | 5124/10000 [12:15<12:21,  6.57it/s]"
     ]
    },
    {
     "name": "stdout",
     "output_type": "stream",
     "text": [
      "Step 5125: average-batch loss:8440.549919069534 rel loss: 0.053679408626412024\n",
      "New learning rate: 0.0005950167096330376\n"
     ]
    },
    {
     "name": "stderr",
     "output_type": "stream",
     "text": [
      " 52%|█████▏    | 5165/10000 [12:22<11:21,  7.09it/s]"
     ]
    },
    {
     "name": "stdout",
     "output_type": "stream",
     "text": [
      "Step 5166: average-batch loss:9432.61711656471 rel loss: 0.15320784335608145\n",
      "New learning rate: 0.0005890665425367073\n"
     ]
    },
    {
     "name": "stderr",
     "output_type": "stream",
     "text": [
      " 52%|█████▏    | 5206/10000 [12:28<11:17,  7.08it/s]"
     ]
    },
    {
     "name": "stdout",
     "output_type": "stream",
     "text": [
      "Step 5207: average-batch loss:11917.814779454788 rel loss: 0.3297876885365071\n",
      "New learning rate: 0.0005831758771113402\n"
     ]
    },
    {
     "name": "stderr",
     "output_type": "stream",
     "text": [
      " 52%|█████▏    | 5247/10000 [12:34<11:19,  6.99it/s]"
     ]
    },
    {
     "name": "stdout",
     "output_type": "stream",
     "text": [
      "Step 5248: average-batch loss:9042.973766606661 rel loss: 0.1167212913491139\n",
      "New learning rate: 0.0005773441183402269\n"
     ]
    },
    {
     "name": "stderr",
     "output_type": "stream",
     "text": [
      " 53%|█████▎    | 5288/10000 [12:40<11:13,  6.99it/s]"
     ]
    },
    {
     "name": "stdout",
     "output_type": "stream",
     "text": [
      "Step 5289: average-batch loss:8867.716713474594 rel loss: 0.09926461917811069\n",
      "New learning rate: 0.0005715706771568245\n",
      "We are in a loss plateau\n",
      "Restoring from a checkpoint\n"
     ]
    },
    {
     "name": "stderr",
     "output_type": "stream",
     "text": [
      " 53%|█████▎    | 5329/10000 [12:46<11:03,  7.04it/s]"
     ]
    },
    {
     "name": "stdout",
     "output_type": "stream",
     "text": [
      "Step 5330: average-batch loss:13374.168852025987 rel loss: 0.4027691530362136\n",
      "New learning rate: 0.0005658549703852563\n",
      "We are in a loss plateau\n",
      "Restoring from a checkpoint\n"
     ]
    },
    {
     "name": "stderr",
     "output_type": "stream",
     "text": [
      " 54%|█████▎    | 5370/10000 [12:52<11:13,  6.87it/s]"
     ]
    },
    {
     "name": "stdout",
     "output_type": "stream",
     "text": [
      "Step 5371: average-batch loss:10039.982613374379 rel loss: 0.20443426064384082\n",
      "New learning rate: 0.0005601964206814038\n",
      "We are in a loss plateau\n",
      "Restoring from a checkpoint\n"
     ]
    },
    {
     "name": "stderr",
     "output_type": "stream",
     "text": [
      " 54%|█████▍    | 5411/10000 [12:57<10:45,  7.11it/s]"
     ]
    },
    {
     "name": "stdout",
     "output_type": "stream",
     "text": [
      "Step 5412: average-batch loss:8167.838926800574 rel loss: 0.022083287572745584\n",
      "New learning rate: 0.0005545944564745896\n",
      "We are in a loss plateau\n",
      "Restoring from a checkpoint\n"
     ]
    },
    {
     "name": "stderr",
     "output_type": "stream",
     "text": [
      " 55%|█████▍    | 5452/10000 [13:03<10:53,  6.96it/s]"
     ]
    },
    {
     "name": "stdout",
     "output_type": "stream",
     "text": [
      "Step 5453: average-batch loss:9009.421376325985 rel loss: 0.11343183348924057\n",
      "New learning rate: 0.0005490485119098438\n",
      "We are in a loss plateau\n",
      "Restoring from a checkpoint\n"
     ]
    },
    {
     "name": "stderr",
     "output_type": "stream",
     "text": [
      " 55%|█████▍    | 5493/10000 [13:09<10:35,  7.09it/s]"
     ]
    },
    {
     "name": "stdout",
     "output_type": "stream",
     "text": [
      "Step 5494: average-batch loss:9673.375807285458 rel loss: 0.17428348178963043\n"
     ]
    },
    {
     "name": "stderr",
     "output_type": "stream",
     "text": [
      " 55%|█████▍    | 5494/10000 [13:09<10:49,  6.94it/s]"
     ]
    },
    {
     "name": "stdout",
     "output_type": "stream",
     "text": [
      "Terminating because the loss converged\n"
     ]
    },
    {
     "name": "stderr",
     "output_type": "stream",
     "text": [
      " 55%|█████▍    | 5494/10000 [13:09<10:47,  6.96it/s]\n"
     ]
    }
   ],
   "source": [
    "losses = grm.fit(\n",
    "            data_factory_factory(shuffle=True, repeat=True),\n",
    "            dataset_size=num_people,\n",
    "            batches_per_step=1,\n",
    "            check_every=int(num_people/batch_size),\n",
    "            batch_size=batch_size,\n",
    "            num_steps=10000,\n",
    "            max_decay_steps=100,\n",
    "            max_plateau_epochs=100,\n",
    "            sample_size=32, \n",
    "            learning_rate=0.0015)"
   ]
  },
  {
   "cell_type": "code",
   "execution_count": 8,
   "metadata": {},
   "outputs": [
    {
     "name": "stdout",
     "output_type": "stream",
     "text": [
      "Running optimization for 1000 steps of 1 accumulated batches, checking every 41 steps\n",
      "Saved a checkpoint: /var/folders/6s/m6kbjxb16sl9cg9rg6mj5czrv6ht9f/T/tfcheckpoints/d6bc9b74-c67f-446a-a852-6838f6b5ca29/d6bc9b74-c67f-446a-a852-6838f6b5ca29-1\n"
     ]
    },
    {
     "name": "stderr",
     "output_type": "stream",
     "text": [
      "  4%|▍         | 40/1000 [00:07<02:16,  7.05it/s]"
     ]
    },
    {
     "name": "stdout",
     "output_type": "stream",
     "text": [
      "Step 41: average-batch loss:8552.77456321269 rel loss: 1.1692112221701874e+304\n",
      "Saved a checkpoint: /var/folders/6s/m6kbjxb16sl9cg9rg6mj5czrv6ht9f/T/tfcheckpoints/d6bc9b74-c67f-446a-a852-6838f6b5ca29/d6bc9b74-c67f-446a-a852-6838f6b5ca29-2\n"
     ]
    },
    {
     "name": "stderr",
     "output_type": "stream",
     "text": [
      "  8%|▊         | 81/1000 [00:13<02:48,  5.46it/s]"
     ]
    },
    {
     "name": "stdout",
     "output_type": "stream",
     "text": [
      "Step 82: average-batch loss:8760.420917621625 rel loss: 0.02370278281848914\n",
      "New learning rate: 0.000495\n"
     ]
    },
    {
     "name": "stderr",
     "output_type": "stream",
     "text": [
      " 12%|█▏        | 122/1000 [00:19<02:04,  7.07it/s]"
     ]
    },
    {
     "name": "stdout",
     "output_type": "stream",
     "text": [
      "Step 123: average-batch loss:9844.487808030106 rel loss: 0.13121182838621337\n",
      "New learning rate: 0.00049005\n"
     ]
    },
    {
     "name": "stderr",
     "output_type": "stream",
     "text": [
      " 16%|█▋        | 163/1000 [00:24<02:16,  6.15it/s]"
     ]
    },
    {
     "name": "stdout",
     "output_type": "stream",
     "text": [
      "Step 164: average-batch loss:8258.267295927797 rel loss: 0.03566211370151656\n",
      "Saved a checkpoint: /var/folders/6s/m6kbjxb16sl9cg9rg6mj5czrv6ht9f/T/tfcheckpoints/d6bc9b74-c67f-446a-a852-6838f6b5ca29/d6bc9b74-c67f-446a-a852-6838f6b5ca29-3\n"
     ]
    },
    {
     "name": "stderr",
     "output_type": "stream",
     "text": [
      " 20%|██        | 204/1000 [00:30<01:53,  7.02it/s]"
     ]
    },
    {
     "name": "stdout",
     "output_type": "stream",
     "text": [
      "Step 205: average-batch loss:8165.109559258292 rel loss: 0.011409245153835628\n",
      "Saved a checkpoint: /var/folders/6s/m6kbjxb16sl9cg9rg6mj5czrv6ht9f/T/tfcheckpoints/d6bc9b74-c67f-446a-a852-6838f6b5ca29/d6bc9b74-c67f-446a-a852-6838f6b5ca29-4\n"
     ]
    },
    {
     "name": "stderr",
     "output_type": "stream",
     "text": [
      " 24%|██▍       | 245/1000 [00:36<01:50,  6.81it/s]"
     ]
    },
    {
     "name": "stdout",
     "output_type": "stream",
     "text": [
      "Step 246: average-batch loss:14336.997370006457 rel loss: 0.43048677847008526\n",
      "New learning rate: 0.00048514950000000005\n"
     ]
    },
    {
     "name": "stderr",
     "output_type": "stream",
     "text": [
      " 29%|██▊       | 286/1000 [00:42<01:46,  6.72it/s]"
     ]
    },
    {
     "name": "stdout",
     "output_type": "stream",
     "text": [
      "Step 287: average-batch loss:9645.681361447136 rel loss: 0.15349582333359538\n",
      "New learning rate: 0.00048029800499999997\n"
     ]
    },
    {
     "name": "stderr",
     "output_type": "stream",
     "text": [
      " 33%|███▎      | 327/1000 [00:48<01:35,  7.08it/s]"
     ]
    },
    {
     "name": "stdout",
     "output_type": "stream",
     "text": [
      "Step 328: average-batch loss:8924.242357820542 rel loss: 0.08506411728016348\n",
      "New learning rate: 0.00047549502494999995\n"
     ]
    },
    {
     "name": "stderr",
     "output_type": "stream",
     "text": [
      " 37%|███▋      | 368/1000 [00:54<01:40,  6.28it/s]"
     ]
    },
    {
     "name": "stdout",
     "output_type": "stream",
     "text": [
      "Step 369: average-batch loss:11634.352879701477 rel loss: 0.2981896248390397\n",
      "New learning rate: 0.0004707400747005\n"
     ]
    },
    {
     "name": "stderr",
     "output_type": "stream",
     "text": [
      " 41%|████      | 409/1000 [01:00<01:25,  6.90it/s]"
     ]
    },
    {
     "name": "stdout",
     "output_type": "stream",
     "text": [
      "Step 410: average-batch loss:8249.296300506929 rel loss: 0.010205323967265294\n",
      "New learning rate: 0.00046603267395349497\n",
      "We are in a loss plateau\n",
      "Restoring from a checkpoint\n"
     ]
    },
    {
     "name": "stderr",
     "output_type": "stream",
     "text": [
      " 45%|████▌     | 450/1000 [01:06<01:21,  6.71it/s]"
     ]
    },
    {
     "name": "stdout",
     "output_type": "stream",
     "text": [
      "Step 451: average-batch loss:9070.938462207021 rel loss: 0.09986054990040516\n",
      "New learning rate: 0.00046137234721396004\n",
      "We are in a loss plateau\n",
      "Restoring from a checkpoint\n"
     ]
    },
    {
     "name": "stderr",
     "output_type": "stream",
     "text": [
      " 49%|████▉     | 491/1000 [01:11<01:14,  6.87it/s]"
     ]
    },
    {
     "name": "stdout",
     "output_type": "stream",
     "text": [
      "Step 492: average-batch loss:10525.283625909495 rel loss: 0.22423852416112527\n",
      "New learning rate: 0.00045675862374182043\n",
      "We are in a loss plateau\n",
      "Restoring from a checkpoint\n"
     ]
    },
    {
     "name": "stderr",
     "output_type": "stream",
     "text": [
      " 53%|█████▎    | 532/1000 [01:17<01:08,  6.82it/s]"
     ]
    },
    {
     "name": "stdout",
     "output_type": "stream",
     "text": [
      "Step 533: average-batch loss:10241.537617048423 rel loss: 0.20274573364195195\n",
      "New learning rate: 0.0004521910375044022\n",
      "We are in a loss plateau\n",
      "Restoring from a checkpoint\n"
     ]
    },
    {
     "name": "stderr",
     "output_type": "stream",
     "text": [
      " 57%|█████▋    | 573/1000 [01:23<01:01,  6.91it/s]"
     ]
    },
    {
     "name": "stdout",
     "output_type": "stream",
     "text": [
      "Step 574: average-batch loss:10632.722776638726 rel loss: 0.23207726461203843\n",
      "New learning rate: 0.0004476691271293582\n",
      "We are in a loss plateau\n",
      "Restoring from a checkpoint\n"
     ]
    },
    {
     "name": "stderr",
     "output_type": "stream",
     "text": [
      " 61%|██████▏   | 614/1000 [01:29<00:56,  6.88it/s]"
     ]
    },
    {
     "name": "stdout",
     "output_type": "stream",
     "text": [
      "Step 615: average-batch loss:8283.120092207533 rel loss: 0.01424711118944912\n",
      "New learning rate: 0.0004431924358580646\n",
      "We are in a loss plateau\n",
      "Restoring from a checkpoint\n"
     ]
    },
    {
     "name": "stderr",
     "output_type": "stream",
     "text": [
      " 66%|██████▌   | 655/1000 [01:34<00:48,  7.09it/s]"
     ]
    },
    {
     "name": "stdout",
     "output_type": "stream",
     "text": [
      "Step 656: average-batch loss:8732.872951822457 rel loss: 0.06501450275257682\n",
      "New learning rate: 0.00043876051149948394\n",
      "We are in a loss plateau\n",
      "Restoring from a checkpoint\n"
     ]
    },
    {
     "name": "stderr",
     "output_type": "stream",
     "text": [
      " 70%|██████▉   | 696/1000 [01:40<00:44,  6.81it/s]"
     ]
    },
    {
     "name": "stdout",
     "output_type": "stream",
     "text": [
      "Step 697: average-batch loss:9529.964902945809 rel loss: 0.14321724765907853\n",
      "New learning rate: 0.00043437290638448915\n",
      "We are in a loss plateau\n",
      "Restoring from a checkpoint\n"
     ]
    },
    {
     "name": "stderr",
     "output_type": "stream",
     "text": [
      " 74%|███████▎  | 737/1000 [01:46<00:37,  7.02it/s]"
     ]
    },
    {
     "name": "stdout",
     "output_type": "stream",
     "text": [
      "Step 738: average-batch loss:8731.86607397563 rel loss: 0.06490668889282371\n",
      "New learning rate: 0.00043002917732064424\n",
      "We are in a loss plateau\n",
      "Restoring from a checkpoint\n"
     ]
    },
    {
     "name": "stderr",
     "output_type": "stream",
     "text": [
      " 78%|███████▊  | 778/1000 [01:52<00:33,  6.69it/s]"
     ]
    },
    {
     "name": "stdout",
     "output_type": "stream",
     "text": [
      "Step 779: average-batch loss:8809.768019102907 rel loss: 0.07317541829100961\n",
      "New learning rate: 0.0004257288855474378\n",
      "We are in a loss plateau\n",
      "Restoring from a checkpoint\n"
     ]
    },
    {
     "name": "stderr",
     "output_type": "stream",
     "text": [
      " 82%|████████▏ | 819/1000 [01:58<00:26,  6.81it/s]"
     ]
    },
    {
     "name": "stdout",
     "output_type": "stream",
     "text": [
      "Step 820: average-batch loss:8295.788012320396 rel loss: 0.01575238577312099\n",
      "New learning rate: 0.0004214715966919634\n",
      "We are in a loss plateau\n",
      "Restoring from a checkpoint\n"
     ]
    },
    {
     "name": "stderr",
     "output_type": "stream",
     "text": [
      " 86%|████████▌ | 860/1000 [02:04<00:26,  5.23it/s]"
     ]
    },
    {
     "name": "stdout",
     "output_type": "stream",
     "text": [
      "Step 861: average-batch loss:8469.603676633506 rel loss: 0.03595140091563804\n",
      "New learning rate: 0.00041725688072504375\n",
      "We are in a loss plateau\n",
      "Restoring from a checkpoint\n"
     ]
    },
    {
     "name": "stderr",
     "output_type": "stream",
     "text": [
      " 90%|█████████ | 901/1000 [02:09<00:14,  6.75it/s]"
     ]
    },
    {
     "name": "stdout",
     "output_type": "stream",
     "text": [
      "Step 902: average-batch loss:9145.453694811575 rel loss: 0.10719469676058324\n",
      "New learning rate: 0.00041308431191779333\n",
      "We are in a loss plateau\n",
      "Restoring from a checkpoint\n"
     ]
    },
    {
     "name": "stderr",
     "output_type": "stream",
     "text": [
      " 94%|█████████▍| 942/1000 [02:15<00:08,  6.95it/s]"
     ]
    },
    {
     "name": "stdout",
     "output_type": "stream",
     "text": [
      "Step 943: average-batch loss:9040.596482722172 rel loss: 0.09683950889048708\n",
      "New learning rate: 0.00040895346879861536\n",
      "We are in a loss plateau\n",
      "Restoring from a checkpoint\n"
     ]
    },
    {
     "name": "stderr",
     "output_type": "stream",
     "text": [
      " 98%|█████████▊| 983/1000 [02:21<00:02,  6.93it/s]"
     ]
    },
    {
     "name": "stdout",
     "output_type": "stream",
     "text": [
      "Step 984: average-batch loss:12305.937250254874 rel loss: 0.33649023286794505\n",
      "New learning rate: 0.0004048639341106292\n",
      "We are in a loss plateau\n",
      "Restoring from a checkpoint\n"
     ]
    },
    {
     "name": "stderr",
     "output_type": "stream",
     "text": [
      "100%|██████████| 1000/1000 [02:23<00:00,  6.99it/s]"
     ]
    },
    {
     "name": "stdout",
     "output_type": "stream",
     "text": [
      "Terminating because we are out of iterations\n"
     ]
    },
    {
     "name": "stderr",
     "output_type": "stream",
     "text": [
      "100%|██████████| 1000/1000 [02:23<00:00,  6.95it/s]\n"
     ]
    }
   ],
   "source": [
    "losses = grm.fit(\n",
    "            data_factory_factory(shuffle=False, repeat=True),\n",
    "            dataset_size=num_people,\n",
    "            batches_per_step=1,\n",
    "            check_every=int(num_people/batch_size),\n",
    "            batch_size=batch_size,\n",
    "            num_steps=1000,\n",
    "            max_decay_steps=100,\n",
    "            max_plateau_epochs=100,\n",
    "            sample_size=32, \n",
    "            learning_rate=0.0005)"
   ]
  },
  {
   "cell_type": "code",
   "execution_count": 9,
   "metadata": {},
   "outputs": [
    {
     "data": {
      "text/plain": [
       "TensorShape([256, 1, 2, 22, 1])"
      ]
     },
     "execution_count": 9,
     "metadata": {},
     "output_type": "execute_result"
    }
   ],
   "source": [
    "params = grm.sample(256)\n",
    "discrim = params['discriminations']\n",
    "discrim.shape"
   ]
  },
  {
   "cell_type": "code",
   "execution_count": 10,
   "metadata": {},
   "outputs": [],
   "source": [
    "discrim_mean = np.mean(discrim, axis=0)"
   ]
  },
  {
   "cell_type": "code",
   "execution_count": 11,
   "metadata": {},
   "outputs": [
    {
     "data": {
      "text/plain": [
       "dict_keys(['mu', 'kappa_a', 'kappa', 'eta', 'discriminations', 'difficulties0', 'ddifficulties', 'abilities'])"
      ]
     },
     "execution_count": 11,
     "metadata": {},
     "output_type": "execute_result"
    }
   ],
   "source": [
    "params.keys()"
   ]
  },
  {
   "cell_type": "code",
   "execution_count": 12,
   "metadata": {},
   "outputs": [
    {
     "data": {
      "image/png": "[encoded data removed]",
      "text/plain": [
       "<Figure size 1200x200 with 2 Axes>"
      ]
     },
     "metadata": {},
     "output_type": "display_data"
    }
   ],
   "source": [
    "_ = plt.figure(figsize=(12, 2))\n",
    "plt.pcolormesh(discrim_mean[0, ..., 0], vmin=0, cmap=\"Reds\")\n",
    "_ = plt.colorbar()\n",
    "_ = plt.title(\"IRT model\")\n",
    "_ = plt.yticks([])\n",
    "_ = plt.xticks(\n",
    "    np.arange(grm.num_items) + 0.5, labels=[f\"Q{j+1}\" for j in range(grm.num_items)]\n",
    ")"
   ]
  },
  {
   "cell_type": "code",
   "execution_count": 13,
   "metadata": {},
   "outputs": [
    {
     "data": {
      "image/png": "[encoded data removed]",
      "text/plain": [
       "<Figure size 1200x200 with 2 Axes>"
      ]
     },
     "metadata": {},
     "output_type": "display_data"
    }
   ],
   "source": [
    "_ = plt.figure(figsize=(12, 2))\n",
    "\n",
    "plt.pcolormesh(loadings.T, cmap=\"seismic_r\", vmin=-1, vmax=1)\n",
    "plt.colorbar()\n",
    "_ = plt.yticks([])\n",
    "_ = plt.xticks(\n",
    "    np.arange(grm.num_items) + 0.5, labels=[f\"Q{j+1}\" for j in range(grm.num_items)]\n",
    ")\n",
    "_ = plt.title(\"EFA loadings\")"
   ]
  },
  {
   "cell_type": "code",
   "execution_count": 14,
   "metadata": {},
   "outputs": [
    {
     "data": {
      "text/plain": [
       "[[1, 3, 5, 7, 8, 10, 12, 15, 17, 19, 20],\n",
       " [0, 2, 4, 6, 9, 11, 13, 14, 16, 18, 21]]"
      ]
     },
     "execution_count": 14,
     "metadata": {},
     "output_type": "execute_result"
    }
   ],
   "source": [
    "scale_indices = [np.where(discrim_mean[0, ..., 0][0, :] > .5)[0].tolist()]\n",
    "scale_indices += [[i for i in range(22) if i not in scale_indices[0]]]\n",
    "scale_indices"
   ]
  },
  {
   "cell_type": "code",
   "execution_count": 15,
   "metadata": {},
   "outputs": [],
   "source": [
    "difficulties = tf.cumsum(\n",
    "    tf.concat(\n",
    "        [params['difficulties0'], params['ddifficulties']], axis=-1\n",
    "    ), axis=-1\n",
    ")"
   ]
  },
  {
   "cell_type": "code",
   "execution_count": 16,
   "metadata": {},
   "outputs": [
    {
     "data": {
      "text/plain": [
       "TensorShape([22, 2, 8])"
      ]
     },
     "execution_count": 16,
     "metadata": {},
     "output_type": "execute_result"
    }
   ],
   "source": [
    "difficulties_mean = tf.reduce_mean(difficulties, axis=[0, 1])\n",
    "difficulties_mean = tf.transpose(difficulties_mean, (1, 0, 2))\n",
    "difficulties_mean.shape\n"
   ]
  },
  {
   "cell_type": "markdown",
   "metadata": {},
   "source": [
    "# Build fully factorized model"
   ]
  },
  {
   "cell_type": "code",
   "execution_count": 17,
   "metadata": {},
   "outputs": [
    {
     "data": {
      "text/plain": [
       "[[1, 3, 5, 7, 8, 10, 12, 15, 17, 19, 20],\n",
       " [0, 2, 4, 6, 9, 11, 13, 14, 16, 18, 21]]"
      ]
     },
     "execution_count": 17,
     "metadata": {},
     "output_type": "execute_result"
    }
   ],
   "source": [
    "scale_indices"
   ]
  },
  {
   "cell_type": "code",
   "execution_count": 18,
   "metadata": {},
   "outputs": [],
   "source": [
    "fgrm = FactorizedGRModel(\n",
    "    data=tfdata,\n",
    "    item_keys=item_names,\n",
    "    num_people=num_people,\n",
    "    dim=dim,\n",
    "    eta_scale=1e-3,\n",
    "    kappa_scale=1e-3,\n",
    "    weight_exponent=1,\n",
    "    response_cardinality=9,\n",
    "    scale_indices=scale_indices,\n",
    "    discrimination_guess=tf.cast(np.abs(loadings).T, tf.float64)[tf.newaxis, :, :, tf.newaxis]\n",
    ")"
   ]
  },
  {
   "cell_type": "markdown",
   "metadata": {},
   "source": [
    "# Fit by projecting the original model"
   ]
  },
  {
   "cell_type": "code",
   "execution_count": 19,
   "metadata": {},
   "outputs": [
    {
     "name": "stdout",
     "output_type": "stream",
     "text": [
      "Running optimization for 500 steps of 1 accumulated batches, checking every 1 steps\n",
      "Saved a checkpoint: /var/folders/6s/m6kbjxb16sl9cg9rg6mj5czrv6ht9f/T/tfcheckpoints/08e48859-48d1-45b1-8571-43a86f7c2f7f/08e48859-48d1-45b1-8571-43a86f7c2f7f-1\n"
     ]
    },
    {
     "name": "stderr",
     "output_type": "stream",
     "text": [
      "  0%|          | 0/500 [00:00<?, ?it/s]"
     ]
    },
    {
     "name": "stdout",
     "output_type": "stream",
     "text": [
      "Step 1: average-batch loss:0.5216333906500874 rel loss: inf\n",
      "Saved a checkpoint: /var/folders/6s/m6kbjxb16sl9cg9rg6mj5czrv6ht9f/T/tfcheckpoints/08e48859-48d1-45b1-8571-43a86f7c2f7f/08e48859-48d1-45b1-8571-43a86f7c2f7f-2\n"
     ]
    },
    {
     "name": "stderr",
     "output_type": "stream",
     "text": [
      "/Users/changjc/workspace/autoencirt/../bayesianquilts/bayesianquilts/util.py:248: RuntimeWarning: overflow encountered in scalar divide\n",
      "  rel = np.abs(deviation / loss)\n",
      "  0%|          | 1/500 [00:01<15:25,  1.85s/it]"
     ]
    },
    {
     "name": "stdout",
     "output_type": "stream",
     "text": [
      "Step 2: average-batch loss:0.5770581201188363 rel loss: 0.09604704887843014\n",
      "New learning rate: 0.95\n"
     ]
    },
    {
     "name": "stderr",
     "output_type": "stream",
     "text": [
      "  0%|          | 2/500 [00:02<07:16,  1.14it/s]"
     ]
    },
    {
     "name": "stdout",
     "output_type": "stream",
     "text": [
      "Step 3: average-batch loss:0.5022008858983994 rel loss: 0.038694684333192134\n",
      "Saved a checkpoint: /var/folders/6s/m6kbjxb16sl9cg9rg6mj5czrv6ht9f/T/tfcheckpoints/08e48859-48d1-45b1-8571-43a86f7c2f7f/08e48859-48d1-45b1-8571-43a86f7c2f7f-3\n"
     ]
    },
    {
     "name": "stderr",
     "output_type": "stream",
     "text": [
      "  1%|          | 3/500 [00:02<04:39,  1.78it/s]"
     ]
    },
    {
     "name": "stdout",
     "output_type": "stream",
     "text": [
      "Step 4: average-batch loss:0.37764042819825305 rel loss: 0.3298387788998979\n",
      "Saved a checkpoint: /var/folders/6s/m6kbjxb16sl9cg9rg6mj5czrv6ht9f/T/tfcheckpoints/08e48859-48d1-45b1-8571-43a86f7c2f7f/08e48859-48d1-45b1-8571-43a86f7c2f7f-4\n"
     ]
    },
    {
     "name": "stderr",
     "output_type": "stream",
     "text": [
      "  1%|          | 4/500 [00:02<03:23,  2.43it/s]"
     ]
    },
    {
     "name": "stdout",
     "output_type": "stream",
     "text": [
      "Step 5: average-batch loss:0.3138495123487285 rel loss: 0.2032531940933666\n",
      "Saved a checkpoint: /var/folders/6s/m6kbjxb16sl9cg9rg6mj5czrv6ht9f/T/tfcheckpoints/08e48859-48d1-45b1-8571-43a86f7c2f7f/08e48859-48d1-45b1-8571-43a86f7c2f7f-5\n"
     ]
    },
    {
     "name": "stderr",
     "output_type": "stream",
     "text": [
      "  1%|          | 5/500 [00:02<02:43,  3.03it/s]"
     ]
    },
    {
     "name": "stdout",
     "output_type": "stream",
     "text": [
      "Step 6: average-batch loss:0.3506936387912075 rel loss: 0.10506072071759169\n",
      "New learning rate: 0.9025\n"
     ]
    },
    {
     "name": "stderr",
     "output_type": "stream",
     "text": [
      "  1%|          | 6/500 [00:02<02:13,  3.69it/s]"
     ]
    },
    {
     "name": "stdout",
     "output_type": "stream",
     "text": [
      "Step 7: average-batch loss:0.35806747893969154 rel loss: 0.12349059658224527\n",
      "New learning rate: 0.8573749999999999\n"
     ]
    },
    {
     "name": "stderr",
     "output_type": "stream",
     "text": [
      "  1%|▏         | 7/500 [00:02<01:54,  4.29it/s]"
     ]
    },
    {
     "name": "stdout",
     "output_type": "stream",
     "text": [
      "Step 8: average-batch loss:0.34181324687250214 rel loss: 0.08180997892748215\n",
      "New learning rate: 0.8145062499999999\n"
     ]
    },
    {
     "name": "stderr",
     "output_type": "stream",
     "text": [
      "  2%|▏         | 8/500 [00:03<01:43,  4.75it/s]"
     ]
    },
    {
     "name": "stdout",
     "output_type": "stream",
     "text": [
      "Step 9: average-batch loss:0.31302513388878317 rel loss: 0.002633585519807549\n",
      "Saved a checkpoint: /var/folders/6s/m6kbjxb16sl9cg9rg6mj5czrv6ht9f/T/tfcheckpoints/08e48859-48d1-45b1-8571-43a86f7c2f7f/08e48859-48d1-45b1-8571-43a86f7c2f7f-6\n"
     ]
    },
    {
     "name": "stderr",
     "output_type": "stream",
     "text": [
      "  2%|▏         | 9/500 [00:03<01:40,  4.89it/s]"
     ]
    },
    {
     "name": "stdout",
     "output_type": "stream",
     "text": [
      "Step 10: average-batch loss:0.2850610197011339 rel loss: 0.09809869555987571\n",
      "Saved a checkpoint: /var/folders/6s/m6kbjxb16sl9cg9rg6mj5czrv6ht9f/T/tfcheckpoints/08e48859-48d1-45b1-8571-43a86f7c2f7f/08e48859-48d1-45b1-8571-43a86f7c2f7f-7\n"
     ]
    },
    {
     "name": "stderr",
     "output_type": "stream",
     "text": [
      "  2%|▏         | 10/500 [00:03<01:36,  5.09it/s]"
     ]
    },
    {
     "name": "stdout",
     "output_type": "stream",
     "text": [
      "Step 11: average-batch loss:0.3070477939771986 rel loss: 0.07160700942113739\n",
      "New learning rate: 0.7737809374999998\n"
     ]
    },
    {
     "name": "stderr",
     "output_type": "stream",
     "text": [
      "  2%|▏         | 11/500 [00:03<01:29,  5.48it/s]"
     ]
    },
    {
     "name": "stdout",
     "output_type": "stream",
     "text": [
      "Step 12: average-batch loss:0.3132257212960191 rel loss: 0.08991822727185197\n",
      "New learning rate: 0.7350918906249998\n"
     ]
    },
    {
     "name": "stderr",
     "output_type": "stream",
     "text": [
      "  2%|▏         | 12/500 [00:03<01:25,  5.72it/s]"
     ]
    },
    {
     "name": "stdout",
     "output_type": "stream",
     "text": [
      "Step 13: average-batch loss:0.3106311436078275 rel loss: 0.08231667826255035\n",
      "New learning rate: 0.6983372960937497\n"
     ]
    },
    {
     "name": "stderr",
     "output_type": "stream",
     "text": [
      "  3%|▎         | 13/500 [00:03<01:21,  5.96it/s]"
     ]
    },
    {
     "name": "stdout",
     "output_type": "stream",
     "text": [
      "Step 14: average-batch loss:0.285726449684842 rel loss: 0.0023289057923831812\n",
      "New learning rate: 0.6634204312890623\n"
     ]
    },
    {
     "name": "stderr",
     "output_type": "stream",
     "text": [
      "  3%|▎         | 14/500 [00:04<01:19,  6.11it/s]"
     ]
    },
    {
     "name": "stdout",
     "output_type": "stream",
     "text": [
      "Step 15: average-batch loss:0.26483250613576537 rel loss: 0.07638229105832825\n",
      "Saved a checkpoint: /var/folders/6s/m6kbjxb16sl9cg9rg6mj5czrv6ht9f/T/tfcheckpoints/08e48859-48d1-45b1-8571-43a86f7c2f7f/08e48859-48d1-45b1-8571-43a86f7c2f7f-8\n"
     ]
    },
    {
     "name": "stderr",
     "output_type": "stream",
     "text": [
      "  3%|▎         | 15/500 [00:04<01:22,  5.91it/s]"
     ]
    },
    {
     "name": "stdout",
     "output_type": "stream",
     "text": [
      "Step 16: average-batch loss:0.2611960224482163 rel loss: 0.0139224313351479\n",
      "Saved a checkpoint: /var/folders/6s/m6kbjxb16sl9cg9rg6mj5czrv6ht9f/T/tfcheckpoints/08e48859-48d1-45b1-8571-43a86f7c2f7f/08e48859-48d1-45b1-8571-43a86f7c2f7f-9\n"
     ]
    },
    {
     "name": "stderr",
     "output_type": "stream",
     "text": [
      "  3%|▎         | 16/500 [00:04<01:22,  5.86it/s]"
     ]
    },
    {
     "name": "stdout",
     "output_type": "stream",
     "text": [
      "Step 17: average-batch loss:0.2567203141047192 rel loss: 0.017434180692344623\n",
      "Saved a checkpoint: /var/folders/6s/m6kbjxb16sl9cg9rg6mj5czrv6ht9f/T/tfcheckpoints/08e48859-48d1-45b1-8571-43a86f7c2f7f/08e48859-48d1-45b1-8571-43a86f7c2f7f-10\n"
     ]
    },
    {
     "name": "stderr",
     "output_type": "stream",
     "text": [
      "  3%|▎         | 17/500 [00:04<01:21,  5.90it/s]"
     ]
    },
    {
     "name": "stdout",
     "output_type": "stream",
     "text": [
      "Step 18: average-batch loss:0.23039180552702462 rel loss: 0.11427710511434082\n",
      "Saved a checkpoint: /var/folders/6s/m6kbjxb16sl9cg9rg6mj5czrv6ht9f/T/tfcheckpoints/08e48859-48d1-45b1-8571-43a86f7c2f7f/08e48859-48d1-45b1-8571-43a86f7c2f7f-11\n"
     ]
    },
    {
     "name": "stderr",
     "output_type": "stream",
     "text": [
      "  4%|▎         | 18/500 [00:04<01:24,  5.72it/s]"
     ]
    },
    {
     "name": "stdout",
     "output_type": "stream",
     "text": [
      "Step 19: average-batch loss:0.27776778315166134 rel loss: 0.17055965629667502\n"
     ]
    },
    {
     "name": "stderr",
     "output_type": "stream",
     "text": [
      "  4%|▍         | 19/500 [00:04<01:19,  6.04it/s]"
     ]
    },
    {
     "name": "stdout",
     "output_type": "stream",
     "text": [
      "Terminating because the loss converged\n"
     ]
    },
    {
     "name": "stderr",
     "output_type": "stream",
     "text": [
      "  4%|▍         | 19/500 [00:05<02:08,  3.76it/s]\n"
     ]
    },
    {
     "data": {
      "text/plain": [
       "<tf.Tensor: shape=(19,), dtype=float64, numpy=\n",
       "array([0.52163339, 0.57705812, 0.50220089, 0.37764043, 0.31384951,\n",
       "       0.35069364, 0.35806748, 0.34181325, 0.31302513, 0.28506102,\n",
       "       0.30704779, 0.31322572, 0.31063114, 0.28572645, 0.26483251,\n",
       "       0.26119602, 0.25672031, 0.23039181, 0.27776778])>"
      ]
     },
     "execution_count": 19,
     "metadata": {},
     "output_type": "execute_result"
    }
   ],
   "source": [
    "fgrm.fit_projection(grm, data_factory_factory(shuffle=True, repeat=True), num_steps=500)"
   ]
  },
  {
   "cell_type": "code",
   "execution_count": null,
   "metadata": {},
   "outputs": [],
   "source": []
  },
  {
   "cell_type": "code",
   "execution_count": 20,
   "metadata": {},
   "outputs": [
    {
     "data": {
      "image/png": "[encoded data removed]",
      "text/plain": [
       "<Figure size 1200x200 with 2 Axes>"
      ]
     },
     "metadata": {},
     "output_type": "display_data"
    }
   ],
   "source": [
    "_ = plt.figure(figsize=(12, 2))\n",
    "\n",
    "fparams = fgrm.sample(256)\n",
    "fdiscrim = fparams['discriminations']\n",
    "fdiscrim_mean = np.mean(fdiscrim, axis=0)\n",
    "plt.pcolormesh(fdiscrim_mean[0, ..., 0], vmin=0, cmap='Reds')\n",
    "_ = plt.colorbar()\n",
    "_ = plt.title(\"Factorized IRT model\")\n",
    "_ = plt.yticks([])\n",
    "_ = plt.xticks(\n",
    "    np.arange(grm.num_items) + 0.5, labels=[f\"Q{j+1}\" for j in range(grm.num_items)]\n",
    ")"
   ]
  },
  {
   "cell_type": "code",
   "execution_count": 21,
   "metadata": {},
   "outputs": [
    {
     "data": {
      "text/plain": [
       "TensorShape([22, 2, 8])"
      ]
     },
     "execution_count": 21,
     "metadata": {},
     "output_type": "execute_result"
    }
   ],
   "source": [
    "\n",
    "fdifficulties = tf.cumsum(\n",
    "    tf.concat(\n",
    "        [fparams['difficulties0'], fparams['ddifficulties']], axis=-1\n",
    "    ), axis=-1\n",
    ")\n",
    "\n",
    "fdifficulties_mean = tf.reduce_mean(fdifficulties, axis=[0, 1])\n",
    "fdifficulties_mean = tf.transpose(fdifficulties_mean, (1, 0, 2))\n",
    "fdifficulties_mean.shape\n"
   ]
  },
  {
   "cell_type": "code",
   "execution_count": 22,
   "metadata": {},
   "outputs": [
    {
     "data": {
      "text/plain": [
       "['The established authorities generally turn out to be right about things, while the radicals and protestors are usually just \"loud mouths\" showing off their ignorance.',\n",
       " 'Women should have to promise to obey their husbands when they get married.',\n",
       " 'Our country desperately needs a mighty leader who will do what has to be done to destroy the radical new ways and sinfulness that are ruining us.',\n",
       " 'Gays and lesbians are just as healthy and moral as anybody else.',\n",
       " \"It is always better to trust the judgement of the proper authorities in government and religion than to listen to the noisy rabble-rousers in our society who are trying to create doubt in people's minds.\",\n",
       " 'Atheists and others who have rebelled against the established religions are no doubt every bit as good and virtuous as those who attend church regularly.',\n",
       " 'The only way our country can get through the crisis ahead is to get back to our traditional values, put some tough leaders in power, and silence the troublemakers spreading bad ideas.',\n",
       " 'There is absolutely nothing wrong with nudist camps.',\n",
       " 'Our country needs free thinkers who have the courage to defy traditional ways, even if this upsets many people.',\n",
       " 'Our country will be destroyed someday if we do not smash the perversions eating away at our moral fiber and traditional beliefs.',\n",
       " 'Everyone should have their own lifestyle, religious beliefs, and sexual preferences, even if it makes them different from everyone else.',\n",
       " 'The \"old-fashioned ways\" and the \"old-fashioned values\" still show the best way to live.',\n",
       " \"You have to admire those who challenged the law and the majority's view by protesting for women's abortion rights, for animal rights, or to abolish school prayer.\",\n",
       " 'What our country really needs is a strong, determined leader who will crush evil, and take us back to our true path.',\n",
       " 'Some of the best people in our country are those who are challenging our government, criticizing religion, and ignoring the \"normal way things are supposed to be done.\"',\n",
       " \"God's laws about abortion, pornography and marriage must be strictly followed before it is too late, and those who break them must be strongly punished.\",\n",
       " 'There are many radical, immoral people in our country today, who are trying to ruin it for their own godless purposes, whom the authorities should put out of action.',\n",
       " 'A \"woman\\'s place\" should be wherever she wants to be. The days when women are submissive to their husbands and social conventions belong strictly in the past.',\n",
       " 'Our country will be great if we honor the ways of our forefathers, do what the authorities tell us to do, and get rid of the \"rotten apples\" who are ruining everything.',\n",
       " 'There is no \"one right way\" to live life; everybody has to create their own way.',\n",
       " 'Homosexuals and feminists should be praised for being brave enough to defy \"traditional family values.\"',\n",
       " \"This country would work a lot better if certain groups of troublemakers would just shut up and accept their group's traditional place in society.\"]"
      ]
     },
     "execution_count": 22,
     "metadata": {},
     "output_type": "execute_result"
    }
   ],
   "source": [
    "item_text"
   ]
  },
  {
   "cell_type": "code",
   "execution_count": 23,
   "metadata": {},
   "outputs": [
    {
     "data": {
      "text/plain": [
       "{'Q1': 'The established authorities generally turn out to be right about things, while the radicals and protestors are usually just \"loud mouths\" showing off their ignorance.',\n",
       " 'Q2': 'Women should have to promise to obey their husbands when they get married.',\n",
       " 'Q3': 'Our country desperately needs a mighty leader who will do what has to be done to destroy the radical new ways and sinfulness that are ruining us.',\n",
       " 'Q4': 'Gays and lesbians are just as healthy and moral as anybody else.',\n",
       " 'Q5': \"It is always better to trust the judgement of the proper authorities in government and religion than to listen to the noisy rabble-rousers in our society who are trying to create doubt in people's minds.\",\n",
       " 'Q6': 'Atheists and others who have rebelled against the established religions are no doubt every bit as good and virtuous as those who attend church regularly.',\n",
       " 'Q7': 'The only way our country can get through the crisis ahead is to get back to our traditional values, put some tough leaders in power, and silence the troublemakers spreading bad ideas.',\n",
       " 'Q8': 'There is absolutely nothing wrong with nudist camps.',\n",
       " 'Q9': 'Our country needs free thinkers who have the courage to defy traditional ways, even if this upsets many people.',\n",
       " 'Q10': 'Our country will be destroyed someday if we do not smash the perversions eating away at our moral fiber and traditional beliefs.',\n",
       " 'Q11': 'Everyone should have their own lifestyle, religious beliefs, and sexual preferences, even if it makes them different from everyone else.',\n",
       " 'Q12': 'The \"old-fashioned ways\" and the \"old-fashioned values\" still show the best way to live.',\n",
       " 'Q13': \"You have to admire those who challenged the law and the majority's view by protesting for women's abortion rights, for animal rights, or to abolish school prayer.\",\n",
       " 'Q14': 'What our country really needs is a strong, determined leader who will crush evil, and take us back to our true path.',\n",
       " 'Q15': 'Some of the best people in our country are those who are challenging our government, criticizing religion, and ignoring the \"normal way things are supposed to be done.\"',\n",
       " 'Q16': \"God's laws about abortion, pornography and marriage must be strictly followed before it is too late, and those who break them must be strongly punished.\",\n",
       " 'Q17': 'There are many radical, immoral people in our country today, who are trying to ruin it for their own godless purposes, whom the authorities should put out of action.',\n",
       " 'Q18': 'A \"woman\\'s place\" should be wherever she wants to be. The days when women are submissive to their husbands and social conventions belong strictly in the past.',\n",
       " 'Q19': 'Our country will be great if we honor the ways of our forefathers, do what the authorities tell us to do, and get rid of the \"rotten apples\" who are ruining everything.',\n",
       " 'Q20': 'There is no \"one right way\" to live life; everybody has to create their own way.',\n",
       " 'Q21': 'Homosexuals and feminists should be praised for being brave enough to defy \"traditional family values.\"',\n",
       " 'Q22': \"This country would work a lot better if certain groups of troublemakers would just shut up and accept their group's traditional place in society.\"}"
      ]
     },
     "execution_count": 23,
     "metadata": {},
     "output_type": "execute_result"
    }
   ],
   "source": [
    "{name: text for j, (name, text) in enumerate(zip(item_names, item_text))}"
   ]
  },
  {
   "cell_type": "markdown",
   "metadata": {},
   "source": [
    "# create JSON"
   ]
  },
  {
   "cell_type": "code",
   "execution_count": 24,
   "metadata": {},
   "outputs": [],
   "source": [
    "discrim_mean[0, ..., 0].T.tolist()[0]\n",
    "scale_names = ['A', 'B']"
   ]
  },
  {
   "cell_type": "code",
   "execution_count": 25,
   "metadata": {},
   "outputs": [
    {
     "data": {
      "text/plain": [
       "{'name': 'Q1',\n",
       " 'question': 'The established authorities generally turn out to be right about things, while the radicals and protestors are usually just \"loud mouths\" showing off their ignorance.',\n",
       " 'responses': {'1': {'text': 'very strongly disagree', 'value': 1},\n",
       "  '2': {'text': 'strongly disagree', 'value': 2},\n",
       "  '3': {'text': 'moderately disagree', 'value': 3},\n",
       "  '4': {'text': 'slightly disagree', 'value': 4},\n",
       "  '5': {'text': 'feel neutral', 'value': 5},\n",
       "  '6': {'text': 'slightly agree', 'value': 6},\n",
       "  '7': {'text': 'moderately agree', 'value': 7},\n",
       "  '8': {'text': 'strongly agree', 'value': 8},\n",
       "  '9': {'text': 'very strongly agree', 'value': 9},\n",
       "  '0': {'text': 'skip', 'value': 0}},\n",
       " 'scales': {'A': {'discrimination': 0.001989677781471193,\n",
       "   'difficulties': [0.04676731191833739,\n",
       "    0.8590733947810055,\n",
       "    1.6652428918799254,\n",
       "    2.4843189008673305,\n",
       "    3.3055562984801163,\n",
       "    4.139653477301024,\n",
       "    4.949959935576636,\n",
       "    5.752094861718265]},\n",
       "  'B': {'discrimination': 2.588416020036226,\n",
       "   'difficulties': [-0.8490122201642472,\n",
       "    -0.3085505763870042,\n",
       "    0.14656796720226292,\n",
       "    0.34232885232367133,\n",
       "    0.6118938035246015,\n",
       "    0.9074140074057024,\n",
       "    1.3554411888233322,\n",
       "    1.7960511438648539]}}}"
      ]
     },
     "execution_count": 25,
     "metadata": {},
     "output_type": "execute_result"
    }
   ],
   "source": [
    "responses = [\n",
    "    \"very strongly disagree\",\n",
    "    \"strongly disagree\",\n",
    "    \"moderately disagree\",\n",
    "    \"slightly disagree\",\n",
    "    \"feel neutral\",\n",
    "    \"slightly agree\",\n",
    "    \"moderately agree\",\n",
    "    \"strongly agree\",\n",
    "    \"very strongly agree\",\n",
    "]\n",
    "\n",
    "mixed_model = [\n",
    "    {\n",
    "        \"name\": name,\n",
    "        \"question\": text,\n",
    "        \"responses\": {\n",
    "            **{str(k + 1): {\"text\": r, \"value\": k + 1 if j not in to_reverse else 9-k} for k, r in enumerate(responses)},\n",
    "            \"0\": {'text': 'skip', 'value': 0}\n",
    "        },\n",
    "        \"scales\": {\n",
    "            scale_names[k]: {\"discrimination\": lam, 'difficulties': dif} for k, (lam, dif) in enumerate(zip(dis, diff))\n",
    "        },\n",
    "    }\n",
    "    for j, (name, text, dis, diff) in enumerate(\n",
    "        zip(item_names, item_text, discrim_mean[0, ..., 0].T.tolist(), difficulties_mean.numpy().tolist())\n",
    "    )\n",
    "]\n",
    "\n",
    "mixed_model[0]"
   ]
  },
  {
   "cell_type": "code",
   "execution_count": 28,
   "metadata": {},
   "outputs": [
    {
     "name": "stdout",
     "output_type": "stream",
     "text": [
      "/Users/changjc/workspace/autoencirt\n"
     ]
    }
   ],
   "source": [
    "!pwd"
   ]
  },
  {
   "cell_type": "code",
   "execution_count": 26,
   "metadata": {},
   "outputs": [
    {
     "data": {
      "text/plain": [
       "{'name': 'Q1',\n",
       " 'question': 'The established authorities generally turn out to be right about things, while the radicals and protestors are usually just \"loud mouths\" showing off their ignorance.',\n",
       " 'responses': {'1': {'text': 'very strongly disagree', 'value': 1},\n",
       "  '2': {'text': 'strongly disagree', 'value': 2},\n",
       "  '3': {'text': 'moderately disagree', 'value': 3},\n",
       "  '4': {'text': 'slightly disagree', 'value': 4},\n",
       "  '5': {'text': 'feel neutral', 'value': 5},\n",
       "  '6': {'text': 'slightly agree', 'value': 6},\n",
       "  '7': {'text': 'moderately agree', 'value': 7},\n",
       "  '8': {'text': 'strongly agree', 'value': 8},\n",
       "  '9': {'text': 'very strongly agree', 'value': 9},\n",
       "  '0': {'text': 'skip', 'value': 0}},\n",
       " 'scales': {'B': {'discrimination': 0.42070160978320503,\n",
       "   'difficulties': [-3.1287935603188393,\n",
       "    0.009203221746713678,\n",
       "    2.2110445052354017,\n",
       "    3.3545900861346407,\n",
       "    4.809857037763789,\n",
       "    6.207513059272409,\n",
       "    8.44565386574049,\n",
       "    10.590827677580418]}}}"
      ]
     },
     "execution_count": 26,
     "metadata": {},
     "output_type": "execute_result"
    }
   ],
   "source": [
    "factorized_model = [\n",
    "    {\n",
    "        \"name\": name,\n",
    "        \"question\": text,\n",
    "        \"responses\": {\n",
    "            **{str(k + 1): {\"text\": r, \"value\": k + 1 if j not in to_reverse else 9-k} for k, r in enumerate(responses)},\n",
    "            \"0\": {'text': 'skip', 'value': 0}\n",
    "        },\n",
    "        \"scales\": {\n",
    "            scale_names[k]: {\"discrimination\": lam, 'difficulties': dif} for k, (lam, dif) in enumerate(zip(dis, diff)) if lam > 0\n",
    "        },\n",
    "    }\n",
    "    for j, (name, text, dis, diff) in enumerate(\n",
    "        zip(item_names, item_text, fdiscrim_mean[0, ..., 0].T.tolist(), fdifficulties_mean.numpy().tolist())\n",
    "    )\n",
    "]\n",
    "factorized_model[0]"
   ]
  },
  {
   "cell_type": "code",
   "execution_count": null,
   "metadata": {},
   "outputs": [],
   "source": []
  },
  {
   "cell_type": "code",
   "execution_count": 33,
   "metadata": {},
   "outputs": [],
   "source": [
    "for x in factorized_model:\n",
    "    with open(f\"RWAS/factorized/{x['name']}.json\", 'w') as f:\n",
    "        json.dump(x, f, indent=2)"
   ]
  },
  {
   "cell_type": "code",
   "execution_count": 34,
   "metadata": {},
   "outputs": [],
   "source": [
    "for x in mixed_model:\n",
    "    with open(f\"RWAS/autoencoded/{x['name']}.json\", 'w') as f:\n",
    "        json.dump(x, f, indent=2)"
   ]
  },
  {
   "cell_type": "code",
   "execution_count": null,
   "metadata": {},
   "outputs": [],
   "source": []
  }
 ],
 "metadata": {
  "kernelspec": {
   "display_name": "env",
   "language": "python",
   "name": "python3"
  },
  "language_info": {
   "codemirror_mode": {
    "name": "ipython",
    "version": 3
   },
   "file_extension": ".py",
   "mimetype": "text/x-python",
   "name": "python",
   "nbconvert_exporter": "python",
   "pygments_lexer": "ipython3",
   "version": "3.11.6"
  }
 },
 "nbformat": 4,
 "nbformat_minor": 4
}
