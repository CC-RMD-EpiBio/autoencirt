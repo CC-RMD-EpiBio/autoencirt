{
 "cells": [
  {
   "cell_type": "markdown",
   "metadata": {},
   "source": [
    "!pip install git+https://github.com/CC-RMD-EpiBio/autoencirt.git"
   ]
  },
  {
   "cell_type": "code",
   "execution_count": 1,
   "metadata": {},
   "outputs": [
    {
     "name": "stdout",
     "output_type": "stream",
     "text": [
      "%pylab is deprecated, use %matplotlib inline and import the required libraries.\n",
      "Populating the interactive namespace from numpy and matplotlib\n"
     ]
    }
   ],
   "source": [
    "%pylab inline\n",
    "import numpy as np\n",
    "import sys\n",
    "sys.path.append('../bayesianquilts')\n",
    "\n",
    "import matplotlib.pyplot as plt\n"
   ]
  },
  {
   "cell_type": "code",
   "execution_count": 2,
   "metadata": {},
   "outputs": [
    {
     "name": "stdout",
     "output_type": "stream",
     "text": [
      "/Users/changjc/workspace/autoencirt\n"
     ]
    }
   ],
   "source": [
    "!pwd"
   ]
  },
  {
   "cell_type": "code",
   "execution_count": 3,
   "metadata": {},
   "outputs": [],
   "source": [
    "import tensorflow as tf\n",
    "import autoencirt\n",
    "from autoencirt.irt import GRModel\n",
    "from autoencirt.data.rwa import item_text, get_data"
   ]
  },
  {
   "cell_type": "code",
   "execution_count": 4,
   "metadata": {},
   "outputs": [],
   "source": [
    "tfdata, num_people = get_data(reorient=True)\n",
    "item_names = [f\"Q{j}\" for j in range(1, 23)]\n",
    "grm = GRModel(\n",
    "    data=tfdata,\n",
    "    item_keys=item_names,\n",
    "    num_people=num_people,\n",
    "    dim=2,\n",
    "    eta_scale=1e-6,\n",
    "    kappa_scale=1e-6,\n",
    "    weight_exponent=1,\n",
    "    response_cardinality=10\n",
    ")\n",
    "\n",
    "batch_size = 121\n",
    "\n",
    "def data_factory_factory(batch_size=batch_size, repeat=False, shuffle=False):\n",
    "    def data_factory(batch_size=batch_size):\n",
    "        if shuffle:\n",
    "            out = tfdata.shuffle(batch_size*10)\n",
    "        else:\n",
    "            out = tfdata\n",
    "        \n",
    "        if repeat:\n",
    "            out = out.repeat()\n",
    "        return out.batch(batch_size)\n",
    "    return data_factory"
   ]
  },
  {
   "cell_type": "code",
   "execution_count": 5,
   "metadata": {},
   "outputs": [
    {
     "data": {
      "text/plain": [
       "81.66115702479338"
      ]
     },
     "execution_count": 5,
     "metadata": {},
     "output_type": "execute_result"
    }
   ],
   "source": [
    "num_people/batch_size"
   ]
  },
  {
   "cell_type": "code",
   "execution_count": 6,
   "metadata": {},
   "outputs": [
    {
     "name": "stdout",
     "output_type": "stream",
     "text": [
      "Running optimization for 3000 steps of 1 accumulated batches, checking every 81 steps\n",
      "Saved a checkpoint: /var/folders/6s/m6kbjxb16sl9cg9rg6mj5czrv6ht9f/T/tfcheckpoints/2e57efb0-23f0-4fac-a648-38da9df6a480/2e57efb0-23f0-4fac-a648-38da9df6a480-1\n"
     ]
    },
    {
     "name": "stderr",
     "output_type": "stream",
     "text": [
      "  3%|▎         | 79/3000 [00:09<04:27, 10.91it/s] "
     ]
    },
    {
     "name": "stdout",
     "output_type": "stream",
     "text": [
      "Step 81: average-batch loss:165329294663.98114 rel loss: 6.0485348469696295e+296\n",
      "Saved a checkpoint: /var/folders/6s/m6kbjxb16sl9cg9rg6mj5czrv6ht9f/T/tfcheckpoints/2e57efb0-23f0-4fac-a648-38da9df6a480/2e57efb0-23f0-4fac-a648-38da9df6a480-2\n"
     ]
    },
    {
     "name": "stderr",
     "output_type": "stream",
     "text": [
      "  5%|▌         | 153/3000 [00:16<04:26, 10.67it/s]"
     ]
    }
   ],
   "source": [
    "losses = grm.fit(\n",
    "            data_factory_factory(shuffle=False, repeat=True),\n",
    "            dataset_size=num_people,\n",
    "            batches_per_step=1,\n",
    "            check_every=int(num_people/batch_size),\n",
    "            batch_size=batch_size,\n",
    "            num_steps=3000,\n",
    "            max_decay_steps=100,\n",
    "            max_plateau_epochs=100,\n",
    "            sample_size=32, \n",
    "            learning_rate=0.0015)"
   ]
  },
  {
   "cell_type": "code",
   "execution_count": null,
   "metadata": {},
   "outputs": [],
   "source": [
    "losses = grm.fit(\n",
    "            data_factory_factory(shuffle=False, repeat=True),\n",
    "            dataset_size=num_people,\n",
    "            batches_per_step=1,\n",
    "            check_every=int(num_people/batch_size),\n",
    "            batch_size=batch_size,\n",
    "            num_steps=3000,\n",
    "            max_decay_steps=100,\n",
    "            max_plateau_epochs=100,\n",
    "            sample_size=32, \n",
    "            learning_rate=0.0005)"
   ]
  },
  {
   "cell_type": "code",
   "execution_count": null,
   "metadata": {},
   "outputs": [
    {
     "data": {
      "text/plain": [
       "TensorShape([100, 1, 2, 22, 1])"
      ]
     },
     "execution_count": 7,
     "metadata": {},
     "output_type": "execute_result"
    }
   ],
   "source": [
    "discrim = grm.sample(100)['discriminations']\n",
    "discrim.shape"
   ]
  },
  {
   "cell_type": "code",
   "execution_count": null,
   "metadata": {},
   "outputs": [],
   "source": [
    "discrim_mean = np.mean(discrim, axis=0)"
   ]
  },
  {
   "cell_type": "code",
   "execution_count": null,
   "metadata": {},
   "outputs": [],
   "source": []
  },
  {
   "cell_type": "code",
   "execution_count": null,
   "metadata": {},
   "outputs": [
    {
     "data": {
      "text/plain": [
       "<matplotlib.collections.QuadMesh at 0x17f0612d0>"
      ]
     },
     "execution_count": 9,
     "metadata": {},
     "output_type": "execute_result"
    },
    {
     "data": {
      "image/png": "[encoded data removed]",
      "text/plain": [
       "<Figure size 640x480 with 1 Axes>"
      ]
     },
     "metadata": {},
     "output_type": "display_data"
    }
   ],
   "source": [
    "plt.pcolormesh(discrim_mean[0, ..., 0], vmin=0, cmap='Reds')"
   ]
  },
  {
   "cell_type": "code",
   "execution_count": null,
   "metadata": {},
   "outputs": [],
   "source": []
  }
 ],
 "metadata": {
  "kernelspec": {
   "display_name": "Python 3.8.7 64-bit ('3.8.7')",
   "metadata": {
    "interpreter": {
     "hash": "b24fb63a86a0a9cc1cf2a9285a4ac90a6df732b2195d3b2b0752fb2dcb2673f7"
    }
   },
   "name": "python3"
  },
  "language_info": {
   "codemirror_mode": {
    "name": "ipython",
    "version": 3
   },
   "file_extension": ".py",
   "mimetype": "text/x-python",
   "name": "python",
   "nbconvert_exporter": "python",
   "pygments_lexer": "ipython3",
   "version": "3.11.6"
  }
 },
 "nbformat": 4,
 "nbformat_minor": 4
}
